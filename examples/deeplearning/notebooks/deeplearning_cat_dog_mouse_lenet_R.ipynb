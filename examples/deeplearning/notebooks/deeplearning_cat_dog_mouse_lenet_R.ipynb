{
 "cells": [
  {
   "cell_type": "code",
   "execution_count": 4,
   "metadata": {
    "collapsed": false
   },
   "outputs": [
    {
     "name": "stderr",
     "output_type": "stream",
     "text": [
      "Loading required package: statmod\n",
      "\n",
      "----------------------------------------------------------------------\n",
      "\n",
      "Your next step is to start H2O:\n",
      "    > h2o.init()\n",
      "\n",
      "For H2O package documentation, ask for help:\n",
      "    > ??h2o\n",
      "\n",
      "After starting H2O, you can use the Web UI at http://localhost:54321\n",
      "For more information visit http://docs.h2o.ai\n",
      "\n",
      "----------------------------------------------------------------------\n",
      "\n",
      "\n",
      "Attaching package: ‘h2o’\n",
      "\n",
      "The following objects are masked from ‘package:stats’:\n",
      "\n",
      "    cor, sd, var\n",
      "\n",
      "The following objects are masked from ‘package:base’:\n",
      "\n",
      "    &&, %*%, %in%, ||, apply, as.factor, as.numeric, colnames,\n",
      "    colnames<-, ifelse, is.character, is.factor, is.numeric, log,\n",
      "    log10, log1p, log2, round, signif, trunc\n",
      "\n"
     ]
    },
    {
     "name": "stdout",
     "output_type": "stream",
     "text": [
      " Connection successful!\n",
      "\n",
      "R is connected to the H2O cluster: \n",
      "    H2O cluster uptime:         1 hours 51 minutes \n",
      "    H2O cluster version:        3.11.0.99999 \n",
      "    H2O cluster version age:    21 hours and 23 minutes  \n",
      "    H2O cluster name:           arno \n",
      "    H2O cluster total nodes:    1 \n",
      "    H2O cluster total memory:   13.57 GB \n",
      "    H2O cluster total cores:    12 \n",
      "    H2O cluster allowed cores:  12 \n",
      "    H2O cluster healthy:        TRUE \n",
      "    H2O Connection ip:          localhost \n",
      "    H2O Connection port:        54321 \n",
      "    H2O Connection proxy:       NA \n",
      "    R Version:                  R version 3.3.1 (2016-06-21) \n",
      "\n"
     ]
    },
    {
     "ename": "ERROR",
     "evalue": "Error in eval(expr, envir, enclos): could not find function \"h2o.deepwater_available\"\n",
     "output_type": "error",
     "traceback": [
      "Error in eval(expr, envir, enclos): could not find function \"h2o.deepwater_available\"\nTraceback:\n"
     ]
    }
   ],
   "source": [
    "library(h2o)\n",
    "h2o.init(nthreads=-1)\n",
    "if (!h2o.deepwater_available()) return()"
   ]
  },
  {
   "cell_type": "markdown",
   "metadata": {},
   "source": [
    "## Data Ingest\n",
    "#### Image dataset\n",
    "For simplicity, H2O Deep Water allows you to specify a list of URIs (file paths) or URLs (links) to images, together with a response column (either a class membership (enum) or regression target (numeric)).\n",
    "\n",
    "For this example, we use this simple cat/dog/mouse dataset that has a few hundred images, and a label of cardinality 3."
   ]
  },
  {
   "cell_type": "code",
   "execution_count": 15,
   "metadata": {
    "collapsed": false,
    "scrolled": true
   },
   "outputs": [
    {
     "name": "stdout",
     "output_type": "stream",
     "text": [
      "  |======================================================================| 100%\n",
      "                                                               C1  C2\n",
      "1  bigdata/laptop/deepwater/imagenet/cat/102194502_49f003abd9.jpg cat\n",
      "2   bigdata/laptop/deepwater/imagenet/cat/11146807_00a5f35255.jpg cat\n",
      "3 bigdata/laptop/deepwater/imagenet/cat/1140846215_70e326f868.jpg cat\n",
      "4  bigdata/laptop/deepwater/imagenet/cat/114170569_6cbdf4bbdb.jpg cat\n",
      "5 bigdata/laptop/deepwater/imagenet/cat/1217664848_de4c7fc296.jpg cat\n",
      "6 bigdata/laptop/deepwater/imagenet/cat/1241603780_5e8c8f1ced.jpg cat\n"
     ]
    }
   ],
   "source": [
    "df <- h2o.importFile(\"/home/arno/h2o-3/bigdata/laptop/deepwater/imagenet/cat_dog_mouse.csv\")\n",
    "print(head(df))\n",
    "path = 1 ## must be the first column\n",
    "response = 2"
   ]
  },
  {
   "cell_type": "markdown",
   "metadata": {},
   "source": [
    "Let's look at a random subset of 10 images"
   ]
  },
  {
   "cell_type": "markdown",
   "metadata": {},
   "source": [
    "Now, we build a classic convolutional neural network, called [LeNet](http://yann.lecun.com/exdb/lenet/)\n",
    "![LeNet](images/lenet.gif)\n",
    "![LeNet](images/lenet.jpg)"
   ]
  },
  {
   "cell_type": "markdown",
   "metadata": {},
   "source": [
    "We'll use a GPU to train such a LeNet model in seconds"
   ]
  },
  {
   "cell_type": "markdown",
   "metadata": {},
   "source": [
    "To build a LeNet image classification model in H2O, simply specify network = \"lenet\":"
   ]
  },
  {
   "cell_type": "code",
   "execution_count": 18,
   "metadata": {
    "collapsed": false,
    "scrolled": true
   },
   "outputs": [
    {
     "name": "stdout",
     "output_type": "stream",
     "text": [
      "\r",
      "  |                                                                            \r",
      "  |                                                                      |   0%\r",
      "  |                                                                            \r",
      "  |======================================================================| 100%\n"
     ]
    },
    {
     "data": {
      "text/plain": [
       "Model Details:\n",
       "==============\n",
       "\n",
       "H2OMultinomialModel: deepwater\n",
       "Model ID:  DeepWater_model_R_1477286246751_11 \n",
       "Status of Deep Learning Model: lenet, 1.6 MB, predicting C2, 3-class classification, 14,336 training samples, mini-batch size 32\n",
       "  input_neurons     rate momentum\n",
       "1          2352 0.000986 0.990000\n",
       "\n",
       "\n",
       "H2OMultinomialMetrics: deepwater\n",
       "** Reported on training data. **\n",
       "** Metrics reported on full training frame **\n",
       "\n",
       "Training Set Metrics: \n",
       "=====================\n",
       "\n",
       "Extract training frame with `h2o.getFrame(\"cat_dog_mouse.hex_sid_8d65_2\")`\n",
       "MSE: (Extract with `h2o.mse`) 0.1528063\n",
       "RMSE: (Extract with `h2o.rmse`) 0.3909044\n",
       "Logloss: (Extract with `h2o.logloss`) 0.4724447\n",
       "Mean Per-Class Error: 0.1418395\n",
       "Confusion Matrix: Extract with `h2o.confusionMatrix(<model>,train = TRUE)`)\n",
       "=========================================================================\n",
       "Confusion Matrix: vertical: actual; across: predicted\n",
       "       cat dog mouse  Error       Rate\n",
       "cat     68   9    13 0.2444 =  22 / 90\n",
       "dog      0  77     8 0.0941 =   8 / 85\n",
       "mouse    3   5    84 0.0870 =   8 / 92\n",
       "Totals  71  91   105 0.1423 = 38 / 267\n",
       "\n",
       "Hit Ratio Table: Extract with `h2o.hit_ratio_table(<model>,train = TRUE)`\n",
       "=======================================================================\n",
       "Top-3 Hit Ratios: \n",
       "  k hit_ratio\n",
       "1 1  0.857678\n",
       "2 2  0.958801\n",
       "3 3  1.000000\n",
       "\n",
       "\n",
       "\n"
      ]
     },
     "metadata": {},
     "output_type": "display_data"
    }
   ],
   "source": [
    "model <- h2o.deepwater(x=path, y=response, \n",
    "                       training_frame=df, epochs=50, \n",
    "                       learning_rate=1e-3, network = \"lenet\")\n",
    "model"
   ]
  },
  {
   "cell_type": "markdown",
   "metadata": {},
   "source": [
    "If you'd like to build your own LeNet network architecture, then this is easy as well.\n",
    "In this example script, we are using the 'mxnet' backend. Models can easily be imported/exported between H2O and MXNet since H2O uses MXNet's format for model definition."
   ]
  },
  {
   "cell_type": "code",
   "execution_count": 19,
   "metadata": {
    "collapsed": true
   },
   "outputs": [],
   "source": [
    "get_symbol <- function(num_classes = 1000) {\n",
    "  library(mxnet)\n",
    "  data <- mx.symbol.Variable('data')\n",
    "  # first conv\n",
    "  conv1 <- mx.symbol.Convolution(data = data, kernel = c(5, 5), num_filter = 20)\n",
    "\n",
    "  tanh1 <- mx.symbol.Activation(data = conv1, act_type = \"tanh\")\n",
    "  pool1 <- mx.symbol.Pooling(data = tanh1, pool_type = \"max\", kernel = c(2, 2), stride = c(2, 2))\n",
    "\n",
    "  # second conv\n",
    "  conv2 <- mx.symbol.Convolution(data = pool1, kernel = c(5, 5), num_filter = 50)\n",
    "  tanh2 <- mx.symbol.Activation(data = conv2, act_type = \"tanh\")\n",
    "  pool2 <- mx.symbol.Pooling(data = tanh2, pool_type = \"max\", kernel = c(2, 2), stride = c(2, 2))\n",
    "  # first fullc\n",
    "  flatten <- mx.symbol.Flatten(data = pool2)\n",
    "  fc1 <- mx.symbol.FullyConnected(data = flatten, num_hidden = 500)\n",
    "  tanh3 <- mx.symbol.Activation(data = fc1, act_type = \"tanh\")\n",
    "  # second fullc\n",
    "  fc2 <- mx.symbol.FullyConnected(data = tanh3, num_hidden = num_classes)\n",
    "  # loss\n",
    "  lenet <- mx.symbol.SoftmaxOutput(data = fc2, name = 'softmax')\n",
    "  return(lenet)\n",
    "}"
   ]
  },
  {
   "cell_type": "code",
   "execution_count": null,
   "metadata": {
    "collapsed": false
   },
   "outputs": [],
   "source": [
    "nclasses = nlevels(df[,response])\n",
    "network <- get_symbol(nclasses)\n",
    "cat(network$as.json(), file = \"/tmp/symbol_lenet-R.json\", sep = '')"
   ]
  },
  {
   "cell_type": "code",
   "execution_count": 23,
   "metadata": {
    "collapsed": false
   },
   "outputs": [
    {
     "data": {
      "image/svg+xml": [
       "<?xml version=\"1.0\" encoding=\"UTF-8\" standalone=\"no\"?>\n",
       "<!DOCTYPE svg PUBLIC \"-//W3C//DTD SVG 1.1//EN\"\n",
       " \"http://www.w3.org/Graphics/SVG/1.1/DTD/svg11.dtd\">\n",
       "<!-- Generated by graphviz version 2.38.0 (20140413.2041)\n",
       " -->\n",
       "<!-- Title: plot Pages: 1 -->\n",
       "<svg width=\"115pt\" height=\"1156pt\"\n",
       " viewBox=\"0.00 0.00 114.50 1156.00\" xmlns=\"http://www.w3.org/2000/svg\" xmlns:xlink=\"http://www.w3.org/1999/xlink\">\n",
       "<g id=\"graph0\" class=\"graph\" transform=\"scale(1 1) rotate(0) translate(4 1152)\">\n",
       "<title>plot</title>\n",
       "<polygon fill=\"white\" stroke=\"none\" points=\"-4,4 -4,-1152 110.5,-1152 110.5,4 -4,4\"/>\n",
       "<!-- convolution20 -->\n",
       "<g id=\"node1\" class=\"node\"><title>convolution20</title>\n",
       "<polygon fill=\"#fb8072\" stroke=\"black\" points=\"98.5,-58 4.5,-58 4.5,-0 98.5,-0 98.5,-58\"/>\n",
       "<text text-anchor=\"middle\" x=\"51.5\" y=\"-32.8\" font-family=\"Times,serif\" font-size=\"14.00\">Convolution</text>\n",
       "<text text-anchor=\"middle\" x=\"51.5\" y=\"-17.8\" font-family=\"Times,serif\" font-size=\"14.00\">5x5/1, 20</text>\n",
       "</g>\n",
       "<!-- activation30 -->\n",
       "<g id=\"node2\" class=\"node\"><title>activation30</title>\n",
       "<polygon fill=\"#ffffb3\" stroke=\"black\" points=\"98.5,-167 4.5,-167 4.5,-109 98.5,-109 98.5,-167\"/>\n",
       "<text text-anchor=\"middle\" x=\"51.5\" y=\"-141.8\" font-family=\"Times,serif\" font-size=\"14.00\">Activation</text>\n",
       "<text text-anchor=\"middle\" x=\"51.5\" y=\"-126.8\" font-family=\"Times,serif\" font-size=\"14.00\">tanh</text>\n",
       "</g>\n",
       "<!-- activation30&#45;&gt;convolution20 -->\n",
       "<g id=\"edge1\" class=\"edge\"><title>activation30&#45;&gt;convolution20</title>\n",
       "<path fill=\"none\" stroke=\"black\" d=\"M51.5,-98.5824C51.5,-85.2841 51.5,-70.632 51.5,-58.2967\"/>\n",
       "<polygon fill=\"black\" stroke=\"black\" points=\"51.5,-108.887 47.0001,-98.887 51.5,-103.887 51.5001,-98.887 51.5001,-98.887 51.5001,-98.887 51.5,-103.887 56.0001,-98.8871 51.5,-108.887 51.5,-108.887\"/>\n",
       "<text text-anchor=\"middle\" x=\"79\" y=\"-79.8\" font-family=\"Times,serif\" font-size=\"14.00\">20x24x24</text>\n",
       "</g>\n",
       "<!-- pooling20 -->\n",
       "<g id=\"node3\" class=\"node\"><title>pooling20</title>\n",
       "<polygon fill=\"#80b1d3\" stroke=\"black\" points=\"98.5,-276 4.5,-276 4.5,-218 98.5,-218 98.5,-276\"/>\n",
       "<text text-anchor=\"middle\" x=\"51.5\" y=\"-250.8\" font-family=\"Times,serif\" font-size=\"14.00\">Pooling</text>\n",
       "<text text-anchor=\"middle\" x=\"51.5\" y=\"-235.8\" font-family=\"Times,serif\" font-size=\"14.00\">max, 2x2/2</text>\n",
       "</g>\n",
       "<!-- pooling20&#45;&gt;activation30 -->\n",
       "<g id=\"edge2\" class=\"edge\"><title>pooling20&#45;&gt;activation30</title>\n",
       "<path fill=\"none\" stroke=\"black\" d=\"M51.5,-207.582C51.5,-194.284 51.5,-179.632 51.5,-167.297\"/>\n",
       "<polygon fill=\"black\" stroke=\"black\" points=\"51.5,-217.887 47.0001,-207.887 51.5,-212.887 51.5001,-207.887 51.5001,-207.887 51.5001,-207.887 51.5,-212.887 56.0001,-207.887 51.5,-217.887 51.5,-217.887\"/>\n",
       "<text text-anchor=\"middle\" x=\"79\" y=\"-188.8\" font-family=\"Times,serif\" font-size=\"14.00\">20x24x24</text>\n",
       "</g>\n",
       "<!-- convolution21 -->\n",
       "<g id=\"node4\" class=\"node\"><title>convolution21</title>\n",
       "<polygon fill=\"#fb8072\" stroke=\"black\" points=\"98.5,-385 4.5,-385 4.5,-327 98.5,-327 98.5,-385\"/>\n",
       "<text text-anchor=\"middle\" x=\"51.5\" y=\"-359.8\" font-family=\"Times,serif\" font-size=\"14.00\">Convolution</text>\n",
       "<text text-anchor=\"middle\" x=\"51.5\" y=\"-344.8\" font-family=\"Times,serif\" font-size=\"14.00\">5x5/1, 50</text>\n",
       "</g>\n",
       "<!-- convolution21&#45;&gt;pooling20 -->\n",
       "<g id=\"edge3\" class=\"edge\"><title>convolution21&#45;&gt;pooling20</title>\n",
       "<path fill=\"none\" stroke=\"black\" d=\"M51.5,-316.582C51.5,-303.284 51.5,-288.632 51.5,-276.297\"/>\n",
       "<polygon fill=\"black\" stroke=\"black\" points=\"51.5,-326.887 47.0001,-316.887 51.5,-321.887 51.5001,-316.887 51.5001,-316.887 51.5001,-316.887 51.5,-321.887 56.0001,-316.887 51.5,-326.887 51.5,-326.887\"/>\n",
       "<text text-anchor=\"middle\" x=\"79\" y=\"-297.8\" font-family=\"Times,serif\" font-size=\"14.00\">20x12x12</text>\n",
       "</g>\n",
       "<!-- activation31 -->\n",
       "<g id=\"node5\" class=\"node\"><title>activation31</title>\n",
       "<polygon fill=\"#ffffb3\" stroke=\"black\" points=\"98.5,-494 4.5,-494 4.5,-436 98.5,-436 98.5,-494\"/>\n",
       "<text text-anchor=\"middle\" x=\"51.5\" y=\"-468.8\" font-family=\"Times,serif\" font-size=\"14.00\">Activation</text>\n",
       "<text text-anchor=\"middle\" x=\"51.5\" y=\"-453.8\" font-family=\"Times,serif\" font-size=\"14.00\">tanh</text>\n",
       "</g>\n",
       "<!-- activation31&#45;&gt;convolution21 -->\n",
       "<g id=\"edge4\" class=\"edge\"><title>activation31&#45;&gt;convolution21</title>\n",
       "<path fill=\"none\" stroke=\"black\" d=\"M51.5,-425.582C51.5,-412.284 51.5,-397.632 51.5,-385.297\"/>\n",
       "<polygon fill=\"black\" stroke=\"black\" points=\"51.5,-435.887 47.0001,-425.887 51.5,-430.887 51.5001,-425.887 51.5001,-425.887 51.5001,-425.887 51.5,-430.887 56.0001,-425.887 51.5,-435.887 51.5,-435.887\"/>\n",
       "<text text-anchor=\"middle\" x=\"72\" y=\"-406.8\" font-family=\"Times,serif\" font-size=\"14.00\">50x8x8</text>\n",
       "</g>\n",
       "<!-- pooling21 -->\n",
       "<g id=\"node6\" class=\"node\"><title>pooling21</title>\n",
       "<polygon fill=\"#80b1d3\" stroke=\"black\" points=\"98.5,-603 4.5,-603 4.5,-545 98.5,-545 98.5,-603\"/>\n",
       "<text text-anchor=\"middle\" x=\"51.5\" y=\"-577.8\" font-family=\"Times,serif\" font-size=\"14.00\">Pooling</text>\n",
       "<text text-anchor=\"middle\" x=\"51.5\" y=\"-562.8\" font-family=\"Times,serif\" font-size=\"14.00\">max, 2x2/2</text>\n",
       "</g>\n",
       "<!-- pooling21&#45;&gt;activation31 -->\n",
       "<g id=\"edge5\" class=\"edge\"><title>pooling21&#45;&gt;activation31</title>\n",
       "<path fill=\"none\" stroke=\"black\" d=\"M51.5,-534.582C51.5,-521.284 51.5,-506.632 51.5,-494.297\"/>\n",
       "<polygon fill=\"black\" stroke=\"black\" points=\"51.5,-544.887 47.0001,-534.887 51.5,-539.887 51.5001,-534.887 51.5001,-534.887 51.5001,-534.887 51.5,-539.887 56.0001,-534.887 51.5,-544.887 51.5,-544.887\"/>\n",
       "<text text-anchor=\"middle\" x=\"72\" y=\"-515.8\" font-family=\"Times,serif\" font-size=\"14.00\">50x8x8</text>\n",
       "</g>\n",
       "<!-- flatten10 -->\n",
       "<g id=\"node7\" class=\"node\"><title>flatten10</title>\n",
       "<polygon fill=\"#fdb462\" stroke=\"black\" points=\"98.5,-712 4.5,-712 4.5,-654 98.5,-654 98.5,-712\"/>\n",
       "<text text-anchor=\"middle\" x=\"51.5\" y=\"-679.3\" font-family=\"Times,serif\" font-size=\"14.00\">Flatten</text>\n",
       "</g>\n",
       "<!-- flatten10&#45;&gt;pooling21 -->\n",
       "<g id=\"edge6\" class=\"edge\"><title>flatten10&#45;&gt;pooling21</title>\n",
       "<path fill=\"none\" stroke=\"black\" d=\"M51.5,-643.582C51.5,-630.284 51.5,-615.632 51.5,-603.297\"/>\n",
       "<polygon fill=\"black\" stroke=\"black\" points=\"51.5,-653.887 47.0001,-643.887 51.5,-648.887 51.5001,-643.887 51.5001,-643.887 51.5001,-643.887 51.5,-648.887 56.0001,-643.887 51.5,-653.887 51.5,-653.887\"/>\n",
       "<text text-anchor=\"middle\" x=\"72\" y=\"-624.8\" font-family=\"Times,serif\" font-size=\"14.00\">50x4x4</text>\n",
       "</g>\n",
       "<!-- fullyconnected20 -->\n",
       "<g id=\"node8\" class=\"node\"><title>fullyconnected20</title>\n",
       "<polygon fill=\"#fb8072\" stroke=\"black\" points=\"103,-821 0,-821 0,-763 103,-763 103,-821\"/>\n",
       "<text text-anchor=\"middle\" x=\"51.5\" y=\"-795.8\" font-family=\"Times,serif\" font-size=\"14.00\">FullyConnected</text>\n",
       "<text text-anchor=\"middle\" x=\"51.5\" y=\"-780.8\" font-family=\"Times,serif\" font-size=\"14.00\">500</text>\n",
       "</g>\n",
       "<!-- fullyconnected20&#45;&gt;flatten10 -->\n",
       "<g id=\"edge7\" class=\"edge\"><title>fullyconnected20&#45;&gt;flatten10</title>\n",
       "<path fill=\"none\" stroke=\"black\" d=\"M51.5,-752.582C51.5,-739.284 51.5,-724.632 51.5,-712.297\"/>\n",
       "<polygon fill=\"black\" stroke=\"black\" points=\"51.5,-762.887 47.0001,-752.887 51.5,-757.887 51.5001,-752.887 51.5001,-752.887 51.5001,-752.887 51.5,-757.887 56.0001,-752.887 51.5,-762.887 51.5,-762.887\"/>\n",
       "<text text-anchor=\"middle\" x=\"62\" y=\"-733.8\" font-family=\"Times,serif\" font-size=\"14.00\">800</text>\n",
       "</g>\n",
       "<!-- activation32 -->\n",
       "<g id=\"node9\" class=\"node\"><title>activation32</title>\n",
       "<polygon fill=\"#ffffb3\" stroke=\"black\" points=\"98.5,-930 4.5,-930 4.5,-872 98.5,-872 98.5,-930\"/>\n",
       "<text text-anchor=\"middle\" x=\"51.5\" y=\"-904.8\" font-family=\"Times,serif\" font-size=\"14.00\">Activation</text>\n",
       "<text text-anchor=\"middle\" x=\"51.5\" y=\"-889.8\" font-family=\"Times,serif\" font-size=\"14.00\">tanh</text>\n",
       "</g>\n",
       "<!-- activation32&#45;&gt;fullyconnected20 -->\n",
       "<g id=\"edge8\" class=\"edge\"><title>activation32&#45;&gt;fullyconnected20</title>\n",
       "<path fill=\"none\" stroke=\"black\" d=\"M51.5,-861.582C51.5,-848.284 51.5,-833.632 51.5,-821.297\"/>\n",
       "<polygon fill=\"black\" stroke=\"black\" points=\"51.5,-871.887 47.0001,-861.887 51.5,-866.887 51.5001,-861.887 51.5001,-861.887 51.5001,-861.887 51.5,-866.887 56.0001,-861.887 51.5,-871.887 51.5,-871.887\"/>\n",
       "<text text-anchor=\"middle\" x=\"62\" y=\"-842.8\" font-family=\"Times,serif\" font-size=\"14.00\">500</text>\n",
       "</g>\n",
       "<!-- fullyconnected21 -->\n",
       "<g id=\"node10\" class=\"node\"><title>fullyconnected21</title>\n",
       "<polygon fill=\"#fb8072\" stroke=\"black\" points=\"103,-1039 0,-1039 0,-981 103,-981 103,-1039\"/>\n",
       "<text text-anchor=\"middle\" x=\"51.5\" y=\"-1013.8\" font-family=\"Times,serif\" font-size=\"14.00\">FullyConnected</text>\n",
       "<text text-anchor=\"middle\" x=\"51.5\" y=\"-998.8\" font-family=\"Times,serif\" font-size=\"14.00\">3</text>\n",
       "</g>\n",
       "<!-- fullyconnected21&#45;&gt;activation32 -->\n",
       "<g id=\"edge9\" class=\"edge\"><title>fullyconnected21&#45;&gt;activation32</title>\n",
       "<path fill=\"none\" stroke=\"black\" d=\"M51.5,-970.582C51.5,-957.284 51.5,-942.632 51.5,-930.297\"/>\n",
       "<polygon fill=\"black\" stroke=\"black\" points=\"51.5,-980.887 47.0001,-970.887 51.5,-975.887 51.5001,-970.887 51.5001,-970.887 51.5001,-970.887 51.5,-975.887 56.0001,-970.887 51.5,-980.887 51.5,-980.887\"/>\n",
       "<text text-anchor=\"middle\" x=\"62\" y=\"-951.8\" font-family=\"Times,serif\" font-size=\"14.00\">500</text>\n",
       "</g>\n",
       "<!-- softmax -->\n",
       "<g id=\"node11\" class=\"node\"><title>softmax</title>\n",
       "<polygon fill=\"#fccde5\" stroke=\"black\" points=\"102,-1148 1,-1148 1,-1090 102,-1090 102,-1148\"/>\n",
       "<text text-anchor=\"middle\" x=\"51.5\" y=\"-1115.3\" font-family=\"Times,serif\" font-size=\"14.00\">SoftmaxOutput</text>\n",
       "</g>\n",
       "<!-- softmax&#45;&gt;fullyconnected21 -->\n",
       "<g id=\"edge10\" class=\"edge\"><title>softmax&#45;&gt;fullyconnected21</title>\n",
       "<path fill=\"none\" stroke=\"black\" d=\"M51.5,-1079.58C51.5,-1066.28 51.5,-1051.63 51.5,-1039.3\"/>\n",
       "<polygon fill=\"black\" stroke=\"black\" points=\"51.5,-1089.89 47.0001,-1079.89 51.5,-1084.89 51.5001,-1079.89 51.5001,-1079.89 51.5001,-1079.89 51.5,-1084.89 56.0001,-1079.89 51.5,-1089.89 51.5,-1089.89\"/>\n",
       "<text text-anchor=\"middle\" x=\"55\" y=\"-1060.8\" font-family=\"Times,serif\" font-size=\"14.00\">3</text>\n",
       "</g>\n",
       "</g>\n",
       "</svg>\n"
      ],
      "text/plain": [
       "<graphviz.dot.Digraph at 0x7f1338e8e850>"
      ]
     },
     "execution_count": 23,
     "metadata": {},
     "output_type": "execute_result"
    }
   ],
   "source": [
    "# sudo apt-get install graphviz\n",
    "graph.viz(network$as.json())"
   ]
  },
  {
   "cell_type": "code",
   "execution_count": 35,
   "metadata": {
    "collapsed": false
   },
   "outputs": [
    {
     "name": "stdout",
     "output_type": "stream",
     "text": [
      "\r",
      "  |                                                                            \r",
      "  |                                                                      |   0%\r",
      "  |                                                                            \r",
      "  |=                                                                     |   1%\r",
      "  |                                                                            \r",
      "  |========                                                              |  12%\r",
      "  |                                                                            \r",
      "  |================                                                      |  22%\r",
      "  |                                                                            \r",
      "  |=======================                                               |  33%\r",
      "  |                                                                            \r",
      "  |===============================                                       |  44%\r",
      "  |                                                                            \r",
      "  |======================================                                |  54%\r",
      "  |                                                                            \r",
      "  |=============================================                         |  64%\r",
      "  |                                                                            \r",
      "  |=====================================================                 |  75%\r",
      "  |                                                                            \r",
      "  |============================================================          |  86%\r",
      "  |                                                                            \r",
      "  |====================================================================  |  97%\r",
      "  |                                                                            \r",
      "  |======================================================================| 100%\n"
     ]
    }
   ],
   "source": [
    "model = h2o.deepwater(x=path, y=response, training_frame = df,\n",
    "                      epochs=500, ## early stopping is on by default and might trigger before\n",
    "                      network_definition_file=\"/tmp/symbol_lenet-R.json\",  ## specify the model\n",
    "                      image_shape=c(28,28),                                ## provide expected (or matching) image size\n",
    "                      channels=3)                                          ## 3 for color, 1 for monochrome"
   ]
  },
  {
   "cell_type": "code",
   "execution_count": 36,
   "metadata": {
    "collapsed": false
   },
   "outputs": [
    {
     "name": "stdout",
     "output_type": "stream",
     "text": [
      "Model Details:\n",
      "==============\n",
      "\n",
      "H2OMultinomialModel: deepwater\n",
      "Model Key:  DeepWater_model_R_1477286246751_19 \n",
      "Status of Deep Learning Model: user, 1.6 MB, predicting C2, 3-class classification, 134,144 training samples, mini-batch size 32\n",
      "  input_neurons     rate momentum\n",
      "1          2352 0.004409 0.990000\n",
      "\n",
      "H2OMultinomialMetrics: deepwater\n",
      "** Reported on training data. **\n",
      "** Metrics reported on full training frame **\n",
      "\n",
      "Training Set Metrics: \n",
      "=====================\n",
      "\n",
      "Extract training frame with `h2o.getFrame(\"cat_dog_mouse.hex_sid_8d65_2\")`\n",
      "MSE: (Extract with `h2o.mse`) 2.377149e-06\n",
      "RMSE: (Extract with `h2o.rmse`) 0.001541801\n",
      "Logloss: (Extract with `h2o.logloss`) 0.0007533561\n",
      "Mean Per-Class Error: 0\n",
      "Confusion Matrix: Extract with `h2o.confusionMatrix(<model>,train = TRUE)`)\n",
      "=========================================================================\n",
      "Confusion Matrix: vertical: actual; across: predicted\n",
      "       cat dog mouse  Error      Rate\n",
      "cat     90   0     0 0.0000 =  0 / 90\n",
      "dog      0  85     0 0.0000 =  0 / 85\n",
      "mouse    0   0    92 0.0000 =  0 / 92\n",
      "Totals  90  85    92 0.0000 = 0 / 267\n",
      "\n",
      "Hit Ratio Table: Extract with `h2o.hit_ratio_table(<model>,train = TRUE)`\n",
      "=======================================================================\n",
      "Top-3 Hit Ratios: \n",
      "  k hit_ratio\n",
      "1 1  1.000000\n",
      "2 2  1.000000\n",
      "3 3  1.000000\n",
      "\n",
      "\n",
      "\n",
      "\n",
      "\n",
      "Scoring History: \n",
      "            timestamp   duration training_speed    epochs iterations\n",
      "1 2016-10-24 00:21:57  0.000 sec                  0.00000          0\n",
      "2 2016-10-24 00:21:58  1.087 sec   1053 obs/sec   3.83521          1\n",
      "3 2016-10-24 00:22:03  6.104 sec  11980 obs/sec 268.46442         70\n",
      "4 2016-10-24 00:22:07 10.528 sec  12895 obs/sec 502.41199        131\n",
      "        samples training_rmse training_logloss training_classification_error\n",
      "1      0.000000                                                             \n",
      "2   1024.000000       0.64327          1.09553                       0.55056\n",
      "3  71680.000000       0.48197          0.67111                       0.31086\n",
      "4 134144.000000       0.00154          0.00075                       0.00000\n",
      "\n"
     ]
    }
   ],
   "source": [
    "summary(model)"
   ]
  },
  {
   "cell_type": "markdown",
   "metadata": {},
   "source": [
    "To see how much slower training a convolutional neural net is trained without a GPU, disable the 'gpu' flag. Note that using MKL or other optimized implementations of BLAS can make this difference shrink a lot, but generally a GPU is at least 5x faster than the best CPU implementations for realistic workloads, and often 50x faster or even more.\n",
    "\n",
    "Instead of training for 500 epochs on the GPU, we'll train for 10 epochs on the CPU."
   ]
  },
  {
   "cell_type": "code",
   "execution_count": 37,
   "metadata": {
    "collapsed": false
   },
   "outputs": [
    {
     "name": "stdout",
     "output_type": "stream",
     "text": [
      "\r",
      "  |                                                                            \r",
      "  |                                                                      |   0%\r",
      "  |                                                                            \r",
      "  |===========================                                           |  38%\r",
      "  |                                                                            \r",
      "  |======================================================                |  77%\r",
      "  |                                                                            \r",
      "  |======================================================================| 100%\n"
     ]
    }
   ],
   "source": [
    "model = h2o.deepwater(x=path, y=response, training_frame = df,\n",
    "                      epochs=10,\n",
    "                      network_definition_file=\"/tmp/symbol_lenet-R.json\",\n",
    "                      image_shape=c(28,28),\n",
    "                      channels=3,\n",
    "                      gpu=FALSE)                                 "
   ]
  },
  {
   "cell_type": "code",
   "execution_count": 38,
   "metadata": {
    "collapsed": false
   },
   "outputs": [
    {
     "name": "stdout",
     "output_type": "stream",
     "text": [
      "Model Details:\n",
      "==============\n",
      "\n",
      "H2OMultinomialModel: deepwater\n",
      "Model Key:  DeepWater_model_R_1477286246751_20 \n",
      "Status of Deep Learning Model: user, 1.6 MB, predicting C2, 3-class classification, 3,072 training samples, mini-batch size 32\n",
      "  input_neurons     rate momentum\n",
      "1          2352 0.004985 0.927648\n",
      "\n",
      "H2OMultinomialMetrics: deepwater\n",
      "** Reported on training data. **\n",
      "** Metrics reported on full training frame **\n",
      "\n",
      "Training Set Metrics: \n",
      "=====================\n",
      "\n",
      "Extract training frame with `h2o.getFrame(\"cat_dog_mouse.hex_sid_8d65_2\")`\n",
      "MSE: (Extract with `h2o.mse`) 0.3368704\n",
      "RMSE: (Extract with `h2o.rmse`) 0.5804054\n",
      "Logloss: (Extract with `h2o.logloss`) 0.8992756\n",
      "Mean Per-Class Error: 0.4280998\n",
      "Confusion Matrix: Extract with `h2o.confusionMatrix(<model>,train = TRUE)`)\n",
      "=========================================================================\n",
      "Confusion Matrix: vertical: actual; across: predicted\n",
      "       cat dog mouse  Error        Rate\n",
      "cat     47  11    32 0.4778 =   43 / 90\n",
      "dog     20  34    31 0.6000 =   51 / 85\n",
      "mouse   12   7    73 0.2065 =   19 / 92\n",
      "Totals  79  52   136 0.4232 = 113 / 267\n",
      "\n",
      "Hit Ratio Table: Extract with `h2o.hit_ratio_table(<model>,train = TRUE)`\n",
      "=======================================================================\n",
      "Top-3 Hit Ratios: \n",
      "  k hit_ratio\n",
      "1 1  0.576779\n",
      "2 2  0.861423\n",
      "3 3  1.000000\n",
      "\n",
      "\n",
      "\n",
      "\n",
      "\n",
      "Scoring History: \n",
      "            timestamp   duration training_speed   epochs iterations     samples\n",
      "1 2016-10-24 00:22:14  0.000 sec                 0.00000          0    0.000000\n",
      "2 2016-10-24 00:22:19  5.627 sec    196 obs/sec  3.83521          1 1024.000000\n",
      "3 2016-10-24 00:22:28 14.014 sec    230 obs/sec 11.50562          3 3072.000000\n",
      "  training_rmse training_logloss training_classification_error\n",
      "1                                                             \n",
      "2       0.64186          1.09820                       0.56554\n",
      "3       0.58041          0.89928                       0.42322\n",
      "\n"
     ]
    }
   ],
   "source": [
    "summary(model)"
   ]
  }
 ],
 "metadata": {
  "anaconda-cloud": {},
  "kernelspec": {
   "display_name": "R",
   "language": "R",
   "name": "ir"
  },
  "language_info": {
   "codemirror_mode": "r",
   "file_extension": ".r",
   "mimetype": "text/x-r-source",
   "name": "R",
   "pygments_lexer": "r",
   "version": "3.3.1"
  }
 },
 "nbformat": 4,
 "nbformat_minor": 1
}
