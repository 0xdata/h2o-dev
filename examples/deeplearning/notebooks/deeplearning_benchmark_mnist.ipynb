{
 "cells": [
  {
   "cell_type": "markdown",
   "metadata": {},
   "source": [
    "# MNIST GPU Deep Learning Benchmark with H2O Deep Water\n",
    "In reference to [Szilard's Benchmark-DL](https://github.com/szilard/benchm-dl)"
   ]
  },
  {
   "cell_type": "code",
   "execution_count": 28,
   "metadata": {
    "collapsed": false
   },
   "outputs": [
    {
     "name": "stdout",
     "output_type": "stream",
     "text": [
      "Checking whether there is an H2O instance running at http://localhost:54321. connected.\n"
     ]
    },
    {
     "data": {
      "text/html": [
       "<div style=\"overflow:auto\"><table style=\"width:50%\"><tr><td>H2O cluster uptime:</td>\n",
       "<td>2 mins 09 secs</td></tr>\n",
       "<tr><td>H2O cluster version:</td>\n",
       "<td>3.11.0.99999</td></tr>\n",
       "<tr><td>H2O cluster version age:</td>\n",
       "<td>33 minutes </td></tr>\n",
       "<tr><td>H2O cluster name:</td>\n",
       "<td>arno</td></tr>\n",
       "<tr><td>H2O cluster total nodes:</td>\n",
       "<td>1</td></tr>\n",
       "<tr><td>H2O cluster free memory:</td>\n",
       "<td>13.62 Gb</td></tr>\n",
       "<tr><td>H2O cluster total cores:</td>\n",
       "<td>40</td></tr>\n",
       "<tr><td>H2O cluster allowed cores:</td>\n",
       "<td>4</td></tr>\n",
       "<tr><td>H2O cluster status:</td>\n",
       "<td>locked, healthy</td></tr>\n",
       "<tr><td>H2O connection url:</td>\n",
       "<td>http://localhost:54321</td></tr>\n",
       "<tr><td>H2O connection proxy:</td>\n",
       "<td>None</td></tr>\n",
       "<tr><td>Python version:</td>\n",
       "<td>2.7.12 final</td></tr></table></div>"
      ],
      "text/plain": [
       "--------------------------  ----------------------\n",
       "H2O cluster uptime:         2 mins 09 secs\n",
       "H2O cluster version:        3.11.0.99999\n",
       "H2O cluster version age:    33 minutes\n",
       "H2O cluster name:           arno\n",
       "H2O cluster total nodes:    1\n",
       "H2O cluster free memory:    13.62 Gb\n",
       "H2O cluster total cores:    40\n",
       "H2O cluster allowed cores:  4\n",
       "H2O cluster status:         locked, healthy\n",
       "H2O connection url:         http://localhost:54321\n",
       "H2O connection proxy:\n",
       "Python version:             2.7.12 final\n",
       "--------------------------  ----------------------"
      ]
     },
     "metadata": {},
     "output_type": "display_data"
    }
   ],
   "source": [
    "import sys, os\n",
    "import os.path\n",
    "import h2o\n",
    "from h2o.estimators.deepwater import H2ODeepWaterEstimator\n",
    "PATH = os.path.expanduser(\"~/h2o-3/\")\n",
    "#h2o.shutdown(False)\n",
    "h2o.init(nthreads=4) ## to mimic p2.xlarge\n",
    "if not H2ODeepWaterEstimator.available(): exit"
   ]
  },
  {
   "cell_type": "markdown",
   "metadata": {},
   "source": [
    "### Hardware check"
   ]
  },
  {
   "cell_type": "code",
   "execution_count": 21,
   "metadata": {
    "collapsed": false,
    "scrolled": false
   },
   "outputs": [
    {
     "name": "stdout",
     "output_type": "stream",
     "text": [
      "Mon Oct 24 13:43:37 2016       \r\n",
      "+-----------------------------------------------------------------------------+\r\n",
      "| NVIDIA-SMI 367.44                 Driver Version: 367.44                    |\r\n",
      "|-------------------------------+----------------------+----------------------+\r\n",
      "| GPU  Name        Persistence-M| Bus-Id        Disp.A | Volatile Uncorr. ECC |\r\n",
      "| Fan  Temp  Perf  Pwr:Usage/Cap|         Memory-Usage | GPU-Util  Compute M. |\r\n",
      "|===============================+======================+======================|\r\n",
      "|   0  GeForce GTX 1080    Off  | 0000:02:00.0      On |                  N/A |\r\n",
      "| 34%   47C    P8    11W / 180W |   1471MiB /  8097MiB |      0%      Default |\r\n",
      "+-------------------------------+----------------------+----------------------+\r\n",
      "|   1  GeForce GTX 1080    Off  | 0000:81:00.0      On |                  N/A |\r\n",
      "| 29%   42C    P8    11W / 180W |   2503MiB /  8113MiB |      0%      Default |\r\n",
      "+-------------------------------+----------------------+----------------------+\r\n",
      "                                                                               \r\n",
      "+-----------------------------------------------------------------------------+\r\n",
      "| Processes:                                                       GPU Memory |\r\n",
      "|  GPU       PID  Type  Process name                               Usage      |\r\n",
      "|=============================================================================|\r\n",
      "|    0     10010    G   ...s-passed-by-fd --v8-snapshot-passed-by-fd    69MiB |\r\n",
      "|    0     19485    G   compiz                                         705MiB |\r\n",
      "|    0     28518    G   /usr/lib/xorg/Xorg                             691MiB |\r\n",
      "|    1     10010    G   ...s-passed-by-fd --v8-snapshot-passed-by-fd    67MiB |\r\n",
      "|    1     19485    G   compiz                                         704MiB |\r\n",
      "|    1     28518    G   /usr/lib/xorg/Xorg                             527MiB |\r\n",
      "|    1     31980    C   /usr/lib/rstudio-server/bin/rsession           479MiB |\r\n",
      "|    1     38278    C   /usr/lib/R/bin/exec/R                          721MiB |\r\n",
      "+-----------------------------------------------------------------------------+\r\n"
     ]
    }
   ],
   "source": [
    "!nvidia-smi"
   ]
  },
  {
   "cell_type": "markdown",
   "metadata": {},
   "source": [
    "### Data preparation"
   ]
  },
  {
   "cell_type": "code",
   "execution_count": 22,
   "metadata": {
    "collapsed": false
   },
   "outputs": [
    {
     "name": "stdout",
     "output_type": "stream",
     "text": [
      "Parse progress: |█████████████████████████████████████████████████████████| 100%\n"
     ]
    }
   ],
   "source": [
    "train = h2o.import_file(PATH + \"bigdata/laptop/mnist/train.csv.gz\")\n",
    "predictors  = list(range(0,784))\n",
    "resp        = 784\n",
    "\n",
    "train[predictors] = train[predictors]/255.0\n",
    "train[resp] = train[resp].asfactor()\n",
    "nclasses    = train[resp].nlevels()[0]"
   ]
  },
  {
   "cell_type": "markdown",
   "metadata": {},
   "source": [
    "### Define the model architecture"
   ]
  },
  {
   "cell_type": "code",
   "execution_count": 23,
   "metadata": {
    "collapsed": true
   },
   "outputs": [],
   "source": [
    "def cnn(num_classes):\n",
    "    import mxnet as mx\n",
    "    data = mx.symbol.Variable('data')\n",
    "\n",
    "    conv1 = mx.symbol.Convolution(data=data, kernel=(4,4), num_filter=32)\n",
    "    relu1 = mx.symbol.Activation(data=conv1, act_type=\"relu\")\n",
    "    pool1 = mx.symbol.Pooling(data=relu1, pool_type=\"max\", kernel=(2,2), stride=(2,2))\n",
    "\n",
    "    conv2 = mx.symbol.Convolution(data=pool1, kernel=(3,3), num_filter=16)\n",
    "    relu2 = mx.symbol.Activation(data=conv2, act_type=\"relu\")\n",
    "    pool2 = mx.symbol.Pooling(data=relu2, pool_type=\"max\", kernel=(2,2), stride=(2,2))\n",
    "    drop = mx.symbol.Dropout(data=pool2, p=0.2)\n",
    "\n",
    "    flatten = mx.symbol.Flatten(data=drop)\n",
    "    fc1 = mx.symbol.FullyConnected(data=flatten, num_hidden=128)\n",
    "    relu3 = mx.symbol.Activation(data=fc1, act_type=\"relu\")\n",
    "\n",
    "    fc2 = mx.symbol.FullyConnected(data=relu3, num_hidden=64)\n",
    "    relu4 = mx.symbol.Activation(data=fc2, act_type=\"relu\")\n",
    "\n",
    "    fc3 = mx.symbol.FullyConnected(data=relu4, num_hidden=num_classes)\n",
    "    net = mx.symbol.SoftmaxOutput(data=fc3, name='softmax')\n",
    "    return net\n",
    "cnn(nclasses).save(\"/tmp/cnn.json\")"
   ]
  },
  {
   "cell_type": "markdown",
   "metadata": {},
   "source": [
    "### Train the model"
   ]
  },
  {
   "cell_type": "code",
   "execution_count": 24,
   "metadata": {
    "collapsed": false,
    "scrolled": true
   },
   "outputs": [
    {
     "name": "stdout",
     "output_type": "stream",
     "text": [
      "deepwater Model Build progress: |█████████████████████████████████████████| 100%\n"
     ]
    }
   ],
   "source": [
    "model = H2ODeepWaterEstimator(epochs=10,\n",
    "                              learning_rate=0.05,\n",
    "                              learning_rate_annealing=1e-5,\n",
    "                              momentum_start=0.9,\n",
    "                              momentum_stable=0.9,\n",
    "                              mini_batch_size=128,\n",
    "                              train_samples_per_iteration=0,\n",
    "                              standardize=False,\n",
    "                              ignore_const_cols=False,\n",
    "                              network_definition_file=\"/tmp/cnn.json\",\n",
    "                              image_shape=[28,28],\n",
    "                              channels=1,\n",
    "                              device_id=[0])\n",
    "\n",
    "model.train(x=predictors,y=resp, training_frame=train)"
   ]
  },
  {
   "cell_type": "markdown",
   "metadata": {},
   "source": [
    "### It takes about 25 seconds to train for 10 epochs (600,000 samples)"
   ]
  },
  {
   "cell_type": "code",
   "execution_count": 25,
   "metadata": {
    "collapsed": false,
    "scrolled": false
   },
   "outputs": [
    {
     "name": "stdout",
     "output_type": "stream",
     "text": [
      "Model Details\n",
      "=============\n",
      "H2ODeepWaterEstimator :  Deep Water\n",
      "Model Key:  DeepWater_model_python_1477341810757_1\n",
      "Status of Deep Learning Model: user, 261.3 KB, predicting C785, 10-class classification, 600,320 training samples, mini-batch size 128\n",
      "\n"
     ]
    },
    {
     "data": {
      "text/html": [
       "<div style=\"overflow:auto\"><table style=\"width:50%\"><tr><td><b></b></td>\n",
       "<td><b>input_neurons</b></td>\n",
       "<td><b>rate</b></td>\n",
       "<td><b>momentum</b></td></tr>\n",
       "<tr><td></td>\n",
       "<td>784</td>\n",
       "<td>0.0071396</td>\n",
       "<td>0.9</td></tr></table></div>"
      ],
      "text/plain": [
       "    input_neurons    rate        momentum\n",
       "--  ---------------  ----------  ----------\n",
       "    784              0.00713959  0.9"
      ]
     },
     "metadata": {},
     "output_type": "display_data"
    },
    {
     "name": "stdout",
     "output_type": "stream",
     "text": [
      "\n",
      "\n",
      "ModelMetricsMultinomial: deepwater\n",
      "** Reported on train data. **\n",
      "\n",
      "MSE: 0.00341608755362\n",
      "RMSE: 0.0584473057858\n",
      "LogLoss: 0.0130219159831\n",
      "Mean Per-Class Error: 0.00429358594087\n",
      "Confusion Matrix: vertical: actual; across: predicted\n",
      "\n"
     ]
    },
    {
     "data": {
      "text/html": [
       "<div style=\"overflow:auto\"><table style=\"width:50%\"><tr><td><b>0</b></td>\n",
       "<td><b>1</b></td>\n",
       "<td><b>2</b></td>\n",
       "<td><b>3</b></td>\n",
       "<td><b>4</b></td>\n",
       "<td><b>5</b></td>\n",
       "<td><b>6</b></td>\n",
       "<td><b>7</b></td>\n",
       "<td><b>8</b></td>\n",
       "<td><b>9</b></td>\n",
       "<td><b>Error</b></td>\n",
       "<td><b>Rate</b></td></tr>\n",
       "<tr><td>1007.0</td>\n",
       "<td>0.0</td>\n",
       "<td>1.0</td>\n",
       "<td>0.0</td>\n",
       "<td>0.0</td>\n",
       "<td>0.0</td>\n",
       "<td>2.0</td>\n",
       "<td>0.0</td>\n",
       "<td>0.0</td>\n",
       "<td>0.0</td>\n",
       "<td>0.0029703</td>\n",
       "<td>3 / 1,010</td></tr>\n",
       "<tr><td>0.0</td>\n",
       "<td>1100.0</td>\n",
       "<td>2.0</td>\n",
       "<td>0.0</td>\n",
       "<td>0.0</td>\n",
       "<td>0.0</td>\n",
       "<td>0.0</td>\n",
       "<td>0.0</td>\n",
       "<td>0.0</td>\n",
       "<td>0.0</td>\n",
       "<td>0.0018149</td>\n",
       "<td>2 / 1,102</td></tr>\n",
       "<tr><td>0.0</td>\n",
       "<td>1.0</td>\n",
       "<td>997.0</td>\n",
       "<td>0.0</td>\n",
       "<td>1.0</td>\n",
       "<td>0.0</td>\n",
       "<td>0.0</td>\n",
       "<td>0.0</td>\n",
       "<td>0.0</td>\n",
       "<td>0.0</td>\n",
       "<td>0.0020020</td>\n",
       "<td>2 / 999</td></tr>\n",
       "<tr><td>0.0</td>\n",
       "<td>0.0</td>\n",
       "<td>1.0</td>\n",
       "<td>1030.0</td>\n",
       "<td>0.0</td>\n",
       "<td>1.0</td>\n",
       "<td>0.0</td>\n",
       "<td>2.0</td>\n",
       "<td>1.0</td>\n",
       "<td>0.0</td>\n",
       "<td>0.0048309</td>\n",
       "<td>5 / 1,035</td></tr>\n",
       "<tr><td>0.0</td>\n",
       "<td>0.0</td>\n",
       "<td>0.0</td>\n",
       "<td>0.0</td>\n",
       "<td>998.0</td>\n",
       "<td>0.0</td>\n",
       "<td>1.0</td>\n",
       "<td>1.0</td>\n",
       "<td>0.0</td>\n",
       "<td>2.0</td>\n",
       "<td>0.0039920</td>\n",
       "<td>4 / 1,002</td></tr>\n",
       "<tr><td>0.0</td>\n",
       "<td>0.0</td>\n",
       "<td>0.0</td>\n",
       "<td>3.0</td>\n",
       "<td>0.0</td>\n",
       "<td>933.0</td>\n",
       "<td>0.0</td>\n",
       "<td>0.0</td>\n",
       "<td>2.0</td>\n",
       "<td>0.0</td>\n",
       "<td>0.0053305</td>\n",
       "<td>5 / 938</td></tr>\n",
       "<tr><td>1.0</td>\n",
       "<td>0.0</td>\n",
       "<td>1.0</td>\n",
       "<td>0.0</td>\n",
       "<td>0.0</td>\n",
       "<td>0.0</td>\n",
       "<td>1001.0</td>\n",
       "<td>0.0</td>\n",
       "<td>2.0</td>\n",
       "<td>0.0</td>\n",
       "<td>0.0039801</td>\n",
       "<td>4 / 1,005</td></tr>\n",
       "<tr><td>0.0</td>\n",
       "<td>1.0</td>\n",
       "<td>2.0</td>\n",
       "<td>0.0</td>\n",
       "<td>0.0</td>\n",
       "<td>0.0</td>\n",
       "<td>0.0</td>\n",
       "<td>1013.0</td>\n",
       "<td>0.0</td>\n",
       "<td>3.0</td>\n",
       "<td>0.0058881</td>\n",
       "<td>6 / 1,019</td></tr>\n",
       "<tr><td>0.0</td>\n",
       "<td>0.0</td>\n",
       "<td>1.0</td>\n",
       "<td>0.0</td>\n",
       "<td>0.0</td>\n",
       "<td>0.0</td>\n",
       "<td>1.0</td>\n",
       "<td>0.0</td>\n",
       "<td>969.0</td>\n",
       "<td>2.0</td>\n",
       "<td>0.0041110</td>\n",
       "<td>4 / 973</td></tr>\n",
       "<tr><td>2.0</td>\n",
       "<td>0.0</td>\n",
       "<td>0.0</td>\n",
       "<td>0.0</td>\n",
       "<td>1.0</td>\n",
       "<td>2.0</td>\n",
       "<td>0.0</td>\n",
       "<td>2.0</td>\n",
       "<td>1.0</td>\n",
       "<td>990.0</td>\n",
       "<td>0.0080160</td>\n",
       "<td>8 / 998</td></tr>\n",
       "<tr><td>1010.0</td>\n",
       "<td>1102.0</td>\n",
       "<td>1005.0</td>\n",
       "<td>1033.0</td>\n",
       "<td>1000.0</td>\n",
       "<td>936.0</td>\n",
       "<td>1005.0</td>\n",
       "<td>1018.0</td>\n",
       "<td>975.0</td>\n",
       "<td>997.0</td>\n",
       "<td>0.0042654</td>\n",
       "<td>43 / 10,081</td></tr></table></div>"
      ],
      "text/plain": [
       "0     1     2     3     4     5    6     7     8    9    Error       Rate\n",
       "----  ----  ----  ----  ----  ---  ----  ----  ---  ---  ----------  -----------\n",
       "1007  0     1     0     0     0    2     0     0    0    0.0029703   3 / 1,010\n",
       "0     1100  2     0     0     0    0     0     0    0    0.00181488  2 / 1,102\n",
       "0     1     997   0     1     0    0     0     0    0    0.002002    2 / 999\n",
       "0     0     1     1030  0     1    0     2     1    0    0.00483092  5 / 1,035\n",
       "0     0     0     0     998   0    1     1     0    2    0.00399202  4 / 1,002\n",
       "0     0     0     3     0     933  0     0     2    0    0.00533049  5 / 938\n",
       "1     0     1     0     0     0    1001  0     2    0    0.0039801   4 / 1,005\n",
       "0     1     2     0     0     0    0     1013  0    3    0.00588813  6 / 1,019\n",
       "0     0     1     0     0     0    1     0     969  2    0.004111    4 / 973\n",
       "2     0     0     0     1     2    0     2     1    990  0.00801603  8 / 998\n",
       "1010  1102  1005  1033  1000  936  1005  1018  975  997  0.00426545  43 / 10,081"
      ]
     },
     "metadata": {},
     "output_type": "display_data"
    },
    {
     "name": "stdout",
     "output_type": "stream",
     "text": [
      "Top-10 Hit Ratios: \n"
     ]
    },
    {
     "data": {
      "text/html": [
       "<div style=\"overflow:auto\"><table style=\"width:50%\"><tr><td><b>k</b></td>\n",
       "<td><b>hit_ratio</b></td></tr>\n",
       "<tr><td>1</td>\n",
       "<td>0.9957346</td></tr>\n",
       "<tr><td>2</td>\n",
       "<td>0.9998016</td></tr>\n",
       "<tr><td>3</td>\n",
       "<td>1.0</td></tr>\n",
       "<tr><td>4</td>\n",
       "<td>1.0</td></tr>\n",
       "<tr><td>5</td>\n",
       "<td>1.0</td></tr>\n",
       "<tr><td>6</td>\n",
       "<td>1.0</td></tr>\n",
       "<tr><td>7</td>\n",
       "<td>1.0</td></tr>\n",
       "<tr><td>8</td>\n",
       "<td>1.0</td></tr>\n",
       "<tr><td>9</td>\n",
       "<td>1.0</td></tr>\n",
       "<tr><td>10</td>\n",
       "<td>1.0</td></tr></table></div>"
      ],
      "text/plain": [
       "k    hit_ratio\n",
       "---  -----------\n",
       "1    0.995735\n",
       "2    0.999802\n",
       "3    1\n",
       "4    1\n",
       "5    1\n",
       "6    1\n",
       "7    1\n",
       "8    1\n",
       "9    1\n",
       "10   1"
      ]
     },
     "metadata": {},
     "output_type": "display_data"
    },
    {
     "name": "stdout",
     "output_type": "stream",
     "text": [
      "Scoring History: \n"
     ]
    },
    {
     "data": {
      "text/html": [
       "<div style=\"overflow:auto\"><table style=\"width:50%\"><tr><td><b></b></td>\n",
       "<td><b>timestamp</b></td>\n",
       "<td><b>duration</b></td>\n",
       "<td><b>training_speed</b></td>\n",
       "<td><b>epochs</b></td>\n",
       "<td><b>iterations</b></td>\n",
       "<td><b>samples</b></td>\n",
       "<td><b>training_rmse</b></td>\n",
       "<td><b>training_logloss</b></td>\n",
       "<td><b>training_classification_error</b></td></tr>\n",
       "<tr><td></td>\n",
       "<td>2016-10-24 13:43:49</td>\n",
       "<td> 0.000 sec</td>\n",
       "<td>None</td>\n",
       "<td>0.0</td>\n",
       "<td>0</td>\n",
       "<td>0.0</td>\n",
       "<td>nan</td>\n",
       "<td>nan</td>\n",
       "<td>nan</td></tr>\n",
       "<tr><td></td>\n",
       "<td>2016-10-24 13:44:04</td>\n",
       "<td>19.376 sec</td>\n",
       "<td>4284 obs/sec</td>\n",
       "<td>1.0005333</td>\n",
       "<td>1</td>\n",
       "<td>60032.0</td>\n",
       "<td>0.1277121</td>\n",
       "<td>0.0589206</td>\n",
       "<td>0.0192441</td></tr>\n",
       "<tr><td></td>\n",
       "<td>2016-10-24 13:44:22</td>\n",
       "<td>36.262 sec</td>\n",
       "<td>15639 obs/sec</td>\n",
       "<td>8.0042667</td>\n",
       "<td>8</td>\n",
       "<td>480256.0</td>\n",
       "<td>0.0646082</td>\n",
       "<td>0.0149983</td>\n",
       "<td>0.0051582</td></tr>\n",
       "<tr><td></td>\n",
       "<td>2016-10-24 13:44:27</td>\n",
       "<td>41.179 sec</td>\n",
       "<td>16942 obs/sec</td>\n",
       "<td>10.0053333</td>\n",
       "<td>10</td>\n",
       "<td>600320.0</td>\n",
       "<td>0.0584473</td>\n",
       "<td>0.0130219</td>\n",
       "<td>0.0042654</td></tr></table></div>"
      ],
      "text/plain": [
       "    timestamp            duration    training_speed    epochs    iterations    samples    training_rmse    training_logloss    training_classification_error\n",
       "--  -------------------  ----------  ----------------  --------  ------------  ---------  ---------------  ------------------  -------------------------------\n",
       "    2016-10-24 13:43:49  0.000 sec                     0         0             0          nan              nan                 nan\n",
       "    2016-10-24 13:44:04  19.376 sec  4284 obs/sec      1.00053   1             60032      0.127712         0.0589206           0.0192441\n",
       "    2016-10-24 13:44:22  36.262 sec  15639 obs/sec     8.00427   8             480256     0.0646082        0.0149983           0.00515822\n",
       "    2016-10-24 13:44:27  41.179 sec  16942 obs/sec     10.0053   10            600320     0.0584473        0.0130219           0.00426545"
      ]
     },
     "metadata": {},
     "output_type": "display_data"
    }
   ],
   "source": [
    "model.show()"
   ]
  },
  {
   "cell_type": "code",
   "execution_count": 9,
   "metadata": {
    "collapsed": false,
    "scrolled": false
   },
   "outputs": [
    {
     "data": {
      "image/png": "[encoded data removed]",
      "text/plain": [
       "<matplotlib.figure.Figure at 0x7f0cc37f1c10>"
      ]
     },
     "metadata": {},
     "output_type": "display_data"
    }
   ],
   "source": [
    "model.plot()"
   ]
  },
  {
   "cell_type": "markdown",
   "metadata": {},
   "source": [
    "### Let's evaluate the test set performance"
   ]
  },
  {
   "cell_type": "code",
   "execution_count": 10,
   "metadata": {
    "collapsed": false,
    "scrolled": true
   },
   "outputs": [
    {
     "name": "stdout",
     "output_type": "stream",
     "text": [
      "Parse progress: |█████████████████████████████████████████████████████████| 100%\n",
      "\n",
      "ModelMetricsMultinomial: deepwater\n",
      "** Reported on test data. **\n",
      "\n",
      "MSE: 0.00676826671789\n",
      "RMSE: 0.0822694762223\n",
      "LogLoss: 0.0240304507942\n",
      "Mean Per-Class Error: 0.00826879421027\n",
      "Confusion Matrix: vertical: actual; across: predicted\n",
      "\n"
     ]
    },
    {
     "data": {
      "text/html": [
       "<div style=\"overflow:auto\"><table style=\"width:50%\"><tr><td><b>0</b></td>\n",
       "<td><b>1</b></td>\n",
       "<td><b>2</b></td>\n",
       "<td><b>3</b></td>\n",
       "<td><b>4</b></td>\n",
       "<td><b>5</b></td>\n",
       "<td><b>6</b></td>\n",
       "<td><b>7</b></td>\n",
       "<td><b>8</b></td>\n",
       "<td><b>9</b></td>\n",
       "<td><b>Error</b></td>\n",
       "<td><b>Rate</b></td></tr>\n",
       "<tr><td>973.0</td>\n",
       "<td>0.0</td>\n",
       "<td>0.0</td>\n",
       "<td>0.0</td>\n",
       "<td>1.0</td>\n",
       "<td>0.0</td>\n",
       "<td>5.0</td>\n",
       "<td>1.0</td>\n",
       "<td>0.0</td>\n",
       "<td>0.0</td>\n",
       "<td>0.0071429</td>\n",
       "<td>7 / 980</td></tr>\n",
       "<tr><td>0.0</td>\n",
       "<td>1132.0</td>\n",
       "<td>1.0</td>\n",
       "<td>0.0</td>\n",
       "<td>0.0</td>\n",
       "<td>1.0</td>\n",
       "<td>0.0</td>\n",
       "<td>1.0</td>\n",
       "<td>0.0</td>\n",
       "<td>0.0</td>\n",
       "<td>0.0026432</td>\n",
       "<td>3 / 1,135</td></tr>\n",
       "<tr><td>1.0</td>\n",
       "<td>0.0</td>\n",
       "<td>1024.0</td>\n",
       "<td>0.0</td>\n",
       "<td>0.0</td>\n",
       "<td>0.0</td>\n",
       "<td>1.0</td>\n",
       "<td>4.0</td>\n",
       "<td>2.0</td>\n",
       "<td>0.0</td>\n",
       "<td>0.0077519</td>\n",
       "<td>8 / 1,032</td></tr>\n",
       "<tr><td>0.0</td>\n",
       "<td>0.0</td>\n",
       "<td>1.0</td>\n",
       "<td>1000.0</td>\n",
       "<td>0.0</td>\n",
       "<td>2.0</td>\n",
       "<td>0.0</td>\n",
       "<td>4.0</td>\n",
       "<td>3.0</td>\n",
       "<td>0.0</td>\n",
       "<td>0.0099010</td>\n",
       "<td>10 / 1,010</td></tr>\n",
       "<tr><td>0.0</td>\n",
       "<td>0.0</td>\n",
       "<td>0.0</td>\n",
       "<td>0.0</td>\n",
       "<td>976.0</td>\n",
       "<td>0.0</td>\n",
       "<td>0.0</td>\n",
       "<td>1.0</td>\n",
       "<td>1.0</td>\n",
       "<td>4.0</td>\n",
       "<td>0.0061100</td>\n",
       "<td>6 / 982</td></tr>\n",
       "<tr><td>1.0</td>\n",
       "<td>0.0</td>\n",
       "<td>0.0</td>\n",
       "<td>5.0</td>\n",
       "<td>0.0</td>\n",
       "<td>884.0</td>\n",
       "<td>1.0</td>\n",
       "<td>1.0</td>\n",
       "<td>0.0</td>\n",
       "<td>0.0</td>\n",
       "<td>0.0089686</td>\n",
       "<td>8 / 892</td></tr>\n",
       "<tr><td>0.0</td>\n",
       "<td>2.0</td>\n",
       "<td>0.0</td>\n",
       "<td>0.0</td>\n",
       "<td>1.0</td>\n",
       "<td>3.0</td>\n",
       "<td>952.0</td>\n",
       "<td>0.0</td>\n",
       "<td>0.0</td>\n",
       "<td>0.0</td>\n",
       "<td>0.0062630</td>\n",
       "<td>6 / 958</td></tr>\n",
       "<tr><td>0.0</td>\n",
       "<td>2.0</td>\n",
       "<td>2.0</td>\n",
       "<td>0.0</td>\n",
       "<td>0.0</td>\n",
       "<td>0.0</td>\n",
       "<td>0.0</td>\n",
       "<td>1022.0</td>\n",
       "<td>1.0</td>\n",
       "<td>1.0</td>\n",
       "<td>0.0058366</td>\n",
       "<td>6 / 1,028</td></tr>\n",
       "<tr><td>1.0</td>\n",
       "<td>0.0</td>\n",
       "<td>0.0</td>\n",
       "<td>2.0</td>\n",
       "<td>0.0</td>\n",
       "<td>0.0</td>\n",
       "<td>0.0</td>\n",
       "<td>2.0</td>\n",
       "<td>965.0</td>\n",
       "<td>4.0</td>\n",
       "<td>0.0092402</td>\n",
       "<td>9 / 974</td></tr>\n",
       "<tr><td>1.0</td>\n",
       "<td>2.0</td>\n",
       "<td>0.0</td>\n",
       "<td>1.0</td>\n",
       "<td>6.0</td>\n",
       "<td>3.0</td>\n",
       "<td>0.0</td>\n",
       "<td>5.0</td>\n",
       "<td>1.0</td>\n",
       "<td>990.0</td>\n",
       "<td>0.0188305</td>\n",
       "<td>19 / 1,009</td></tr>\n",
       "<tr><td>977.0</td>\n",
       "<td>1138.0</td>\n",
       "<td>1028.0</td>\n",
       "<td>1008.0</td>\n",
       "<td>984.0</td>\n",
       "<td>893.0</td>\n",
       "<td>959.0</td>\n",
       "<td>1041.0</td>\n",
       "<td>973.0</td>\n",
       "<td>999.0</td>\n",
       "<td>0.0082</td>\n",
       "<td>82 / 10,000</td></tr></table></div>"
      ],
      "text/plain": [
       "0    1     2     3     4    5    6    7     8    9    Error       Rate\n",
       "---  ----  ----  ----  ---  ---  ---  ----  ---  ---  ----------  -----------\n",
       "973  0     0     0     1    0    5    1     0    0    0.00714286  7 / 980\n",
       "0    1132  1     0     0    1    0    1     0    0    0.00264317  3 / 1,135\n",
       "1    0     1024  0     0    0    1    4     2    0    0.00775194  8 / 1,032\n",
       "0    0     1     1000  0    2    0    4     3    0    0.00990099  10 / 1,010\n",
       "0    0     0     0     976  0    0    1     1    4    0.00610998  6 / 982\n",
       "1    0     0     5     0    884  1    1     0    0    0.00896861  8 / 892\n",
       "0    2     0     0     1    3    952  0     0    0    0.00626305  6 / 958\n",
       "0    2     2     0     0    0    0    1022  1    1    0.00583658  6 / 1,028\n",
       "1    0     0     2     0    0    0    2     965  4    0.00924025  9 / 974\n",
       "1    2     0     1     6    3    0    5     1    990  0.0188305   19 / 1,009\n",
       "977  1138  1028  1008  984  893  959  1041  973  999  0.0082      82 / 10,000"
      ]
     },
     "metadata": {},
     "output_type": "display_data"
    },
    {
     "name": "stdout",
     "output_type": "stream",
     "text": [
      "Top-10 Hit Ratios: \n"
     ]
    },
    {
     "data": {
      "text/html": [
       "<div style=\"overflow:auto\"><table style=\"width:50%\"><tr><td><b>k</b></td>\n",
       "<td><b>hit_ratio</b></td></tr>\n",
       "<tr><td>1</td>\n",
       "<td>0.9918</td></tr>\n",
       "<tr><td>2</td>\n",
       "<td>0.9989</td></tr>\n",
       "<tr><td>3</td>\n",
       "<td>0.9998000</td></tr>\n",
       "<tr><td>4</td>\n",
       "<td>0.9999999</td></tr>\n",
       "<tr><td>5</td>\n",
       "<td>0.9999999</td></tr>\n",
       "<tr><td>6</td>\n",
       "<td>0.9999999</td></tr>\n",
       "<tr><td>7</td>\n",
       "<td>0.9999999</td></tr>\n",
       "<tr><td>8</td>\n",
       "<td>0.9999999</td></tr>\n",
       "<tr><td>9</td>\n",
       "<td>0.9999999</td></tr>\n",
       "<tr><td>10</td>\n",
       "<td>0.9999999</td></tr></table></div>"
      ],
      "text/plain": [
       "k    hit_ratio\n",
       "---  -----------\n",
       "1    0.9918\n",
       "2    0.9989\n",
       "3    0.9998\n",
       "4    1\n",
       "5    1\n",
       "6    1\n",
       "7    1\n",
       "8    1\n",
       "9    1\n",
       "10   1"
      ]
     },
     "metadata": {},
     "output_type": "display_data"
    },
    {
     "name": "stdout",
     "output_type": "stream",
     "text": [
      "\n"
     ]
    }
   ],
   "source": [
    "test = h2o.import_file(PATH + \"bigdata/laptop/mnist/test.csv.gz\")\n",
    "test[predictors] = test[predictors]/255.0\n",
    "test[resp] = test[resp].asfactor()\n",
    "\n",
    "print(model.model_performance(test))"
   ]
  },
  {
   "cell_type": "code",
   "execution_count": 27,
   "metadata": {
    "collapsed": false,
    "scrolled": false
   },
   "outputs": [
    {
     "name": "stdout",
     "output_type": "stream",
     "text": [
      "Writing H2O logs to /tmp/h2ologs_20161024_014520.zip\n"
     ]
    },
    {
     "data": {
      "text/plain": [
       "u'/tmp/h2ologs_20161024_014520.zip'"
      ]
     },
     "execution_count": 27,
     "metadata": {},
     "output_type": "execute_result"
    }
   ],
   "source": [
    "h2o.download_all_logs(\"/tmp/\")"
   ]
  }
 ],
 "metadata": {
  "kernelspec": {
   "display_name": "Python 2",
   "language": "python",
   "name": "python2"
  },
  "language_info": {
   "codemirror_mode": {
    "name": "ipython",
    "version": 2
   },
   "file_extension": ".py",
   "mimetype": "text/x-python",
   "name": "python",
   "nbconvert_exporter": "python",
   "pygments_lexer": "ipython2",
   "version": "2.7.12"
  }
 },
 "nbformat": 4,
 "nbformat_minor": 1
}
