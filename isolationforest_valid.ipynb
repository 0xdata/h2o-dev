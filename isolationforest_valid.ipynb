{
 "cells": [
  {
   "cell_type": "code",
   "execution_count": 1,
   "metadata": {
    "collapsed": true
   },
   "outputs": [],
   "source": [
    "import sys\n",
    "sys.path.insert(1, \"/Users/mkurka/git/h2o/h2o-3/h2o-py\")\n",
    "\n",
    "import h2o\n",
    "from h2o.frame import H2OFrame\n",
    "import numpy as np\n",
    "import pandas as pd"
   ]
  },
  {
   "cell_type": "code",
   "execution_count": 2,
   "metadata": {},
   "outputs": [
    {
     "name": "stdout",
     "output_type": "stream",
     "text": [
      "Checking whether there is an H2O instance running at http://localhost:54321 . connected.\n"
     ]
    },
    {
     "data": {
      "text/html": [
       "<div style=\"overflow:auto\"><table style=\"width:50%\"><tr><td>H2O_cluster_uptime:</td>\n",
       "<td>1 hour 27 mins</td></tr>\n",
       "<tr><td>H2O_cluster_timezone:</td>\n",
       "<td>America/New_York</td></tr>\n",
       "<tr><td>H2O_data_parsing_timezone:</td>\n",
       "<td>UTC</td></tr>\n",
       "<tr><td>H2O_cluster_version:</td>\n",
       "<td>3.31.0.99999</td></tr>\n",
       "<tr><td>H2O_cluster_version_age:</td>\n",
       "<td>1 hour and 45 minutes </td></tr>\n",
       "<tr><td>H2O_cluster_name:</td>\n",
       "<td>mkurka</td></tr>\n",
       "<tr><td>H2O_cluster_total_nodes:</td>\n",
       "<td>1</td></tr>\n",
       "<tr><td>H2O_cluster_free_memory:</td>\n",
       "<td>3.234 Gb</td></tr>\n",
       "<tr><td>H2O_cluster_total_cores:</td>\n",
       "<td>8</td></tr>\n",
       "<tr><td>H2O_cluster_allowed_cores:</td>\n",
       "<td>8</td></tr>\n",
       "<tr><td>H2O_cluster_status:</td>\n",
       "<td>locked, healthy</td></tr>\n",
       "<tr><td>H2O_connection_url:</td>\n",
       "<td>http://localhost:54321</td></tr>\n",
       "<tr><td>H2O_connection_proxy:</td>\n",
       "<td>{\"http\": null, \"https\": null}</td></tr>\n",
       "<tr><td>H2O_internal_security:</td>\n",
       "<td>False</td></tr>\n",
       "<tr><td>H2O_API_Extensions:</td>\n",
       "<td>Algos, AutoML, Core V3, TargetEncoder, Core V4</td></tr>\n",
       "<tr><td>Python_version:</td>\n",
       "<td>2.7.14 final</td></tr></table></div>"
      ],
      "text/plain": [
       "--------------------------  ----------------------------------------------\n",
       "H2O_cluster_uptime:         1 hour 27 mins\n",
       "H2O_cluster_timezone:       America/New_York\n",
       "H2O_data_parsing_timezone:  UTC\n",
       "H2O_cluster_version:        3.31.0.99999\n",
       "H2O_cluster_version_age:    1 hour and 45 minutes\n",
       "H2O_cluster_name:           mkurka\n",
       "H2O_cluster_total_nodes:    1\n",
       "H2O_cluster_free_memory:    3.234 Gb\n",
       "H2O_cluster_total_cores:    8\n",
       "H2O_cluster_allowed_cores:  8\n",
       "H2O_cluster_status:         locked, healthy\n",
       "H2O_connection_url:         http://localhost:54321\n",
       "H2O_connection_proxy:       {\"http\": null, \"https\": null}\n",
       "H2O_internal_security:      False\n",
       "H2O_API_Extensions:         Algos, AutoML, Core V3, TargetEncoder, Core V4\n",
       "Python_version:             2.7.14 final\n",
       "--------------------------  ----------------------------------------------"
      ]
     },
     "metadata": {},
     "output_type": "display_data"
    }
   ],
   "source": [
    "h2o.init(strict_version_check=False)"
   ]
  },
  {
   "cell_type": "code",
   "execution_count": 3,
   "metadata": {
    "collapsed": true
   },
   "outputs": [],
   "source": [
    "N = 1000\n",
    "cont = 0.05"
   ]
  },
  {
   "cell_type": "code",
   "execution_count": 4,
   "metadata": {
    "collapsed": true
   },
   "outputs": [],
   "source": [
    "regular_data = np.random.normal(0, 0.5, (int(N*(1-cont)), 2))\n",
    "anomaly_data = np.column_stack((np.random.normal(-1.5, 1, int(N*cont)), np.random.normal(1.5, 1, int(N*cont))))"
   ]
  },
  {
   "cell_type": "code",
   "execution_count": 5,
   "metadata": {
    "collapsed": true
   },
   "outputs": [],
   "source": [
    "import matplotlib.pyplot as plt"
   ]
  },
  {
   "cell_type": "code",
   "execution_count": 6,
   "metadata": {},
   "outputs": [
    {
     "data": {
      "image/png": "[encoded data removed]",
      "text/plain": [
       "<matplotlib.figure.Figure at 0x1082cb650>"
      ]
     },
     "metadata": {},
     "output_type": "display_data"
    }
   ],
   "source": [
    "plt.scatter(anomaly_data[:,0], anomaly_data[:,1])\n",
    "plt.scatter(regular_data[:,0], regular_data[:,1])\n",
    "plt.show()"
   ]
  },
  {
   "cell_type": "code",
   "execution_count": 7,
   "metadata": {
    "collapsed": true
   },
   "outputs": [],
   "source": [
    "regular_pd = pd.DataFrame({'x': regular_data[:, 0], 'y': regular_data[:, 1], 'label': np.zeros(regular_data.shape[0])})\n",
    "anomaly_pd = pd.DataFrame({'x': anomaly_data[:, 0], 'y': anomaly_data[:, 1], 'label': np.ones(anomaly_data.shape[0])})"
   ]
  },
  {
   "cell_type": "code",
   "execution_count": 8,
   "metadata": {},
   "outputs": [
    {
     "name": "stdout",
     "output_type": "stream",
     "text": [
      "Parse progress: |█████████████████████████████████████████████████████████| 100%\n"
     ]
    }
   ],
   "source": [
    "dataset = H2OFrame(regular_pd.append(anomaly_pd).sample(frac=1))"
   ]
  },
  {
   "cell_type": "code",
   "execution_count": 9,
   "metadata": {
    "collapsed": true
   },
   "outputs": [],
   "source": [
    "train_with_label, test = dataset.split_frame([0.8])"
   ]
  },
  {
   "cell_type": "code",
   "execution_count": 10,
   "metadata": {},
   "outputs": [
    {
     "data": {
      "text/html": [
       "<table>\n",
       "<thead>\n",
       "<tr><th style=\"text-align: right;\">  label</th><th style=\"text-align: right;\">  Count</th></tr>\n",
       "</thead>\n",
       "<tbody>\n",
       "<tr><td style=\"text-align: right;\">      0</td><td style=\"text-align: right;\">    761</td></tr>\n",
       "<tr><td style=\"text-align: right;\">      1</td><td style=\"text-align: right;\">     40</td></tr>\n",
       "</tbody>\n",
       "</table>"
      ]
     },
     "metadata": {},
     "output_type": "display_data"
    },
    {
     "data": {
      "text/plain": []
     },
     "execution_count": 10,
     "metadata": {},
     "output_type": "execute_result"
    }
   ],
   "source": [
    "train_with_label[\"label\"].table()"
   ]
  },
  {
   "cell_type": "code",
   "execution_count": 11,
   "metadata": {},
   "outputs": [
    {
     "data": {
      "text/html": [
       "<table>\n",
       "<thead>\n",
       "<tr><th style=\"text-align: right;\">  label</th><th style=\"text-align: right;\">  Count</th></tr>\n",
       "</thead>\n",
       "<tbody>\n",
       "<tr><td style=\"text-align: right;\">      0</td><td style=\"text-align: right;\">    189</td></tr>\n",
       "<tr><td style=\"text-align: right;\">      1</td><td style=\"text-align: right;\">     10</td></tr>\n",
       "</tbody>\n",
       "</table>"
      ]
     },
     "metadata": {},
     "output_type": "display_data"
    },
    {
     "data": {
      "text/plain": []
     },
     "execution_count": 11,
     "metadata": {},
     "output_type": "execute_result"
    }
   ],
   "source": [
    "test[\"label\"].table()"
   ]
  },
  {
   "cell_type": "code",
   "execution_count": 12,
   "metadata": {
    "collapsed": true
   },
   "outputs": [],
   "source": [
    "train = train_with_label.drop([\"label\"])\n",
    "test[\"label\"] = test[\"label\"].asfactor()"
   ]
  },
  {
   "cell_type": "code",
   "execution_count": 13,
   "metadata": {
    "collapsed": true
   },
   "outputs": [],
   "source": [
    "from h2o.estimators.isolation_forest import H2OIsolationForestEstimator\n",
    "from h2o.model.metrics_base import H2OAnomalyDetectionModelMetrics, H2OBinomialModelMetrics"
   ]
  },
  {
   "cell_type": "markdown",
   "metadata": {},
   "source": [
    "### Train Isolation Forest with a validation set"
   ]
  },
  {
   "cell_type": "code",
   "execution_count": 14,
   "metadata": {},
   "outputs": [
    {
     "name": "stdout",
     "output_type": "stream",
     "text": [
      "isolationforest Model Build progress: |███████████████████████████████████| 100%\n"
     ]
    }
   ],
   "source": [
    "if_model = H2OIsolationForestEstimator(seed=12, response_column=\"label\", ntrees=200,\n",
    "                                       score_tree_interval=7, stopping_rounds=3, stopping_metric=\"AUC\")\n",
    "if_model.train(training_frame=train, validation_frame=test)"
   ]
  },
  {
   "cell_type": "code",
   "execution_count": 15,
   "metadata": {},
   "outputs": [
    {
     "name": "stdout",
     "output_type": "stream",
     "text": [
      "Model Details\n",
      "=============\n",
      "H2OIsolationForestEstimator :  Isolation Forest\n",
      "Model Key:  IsolationForest_model_python_1593202267571_272\n",
      "\n",
      "\n",
      "Model Summary: \n"
     ]
    },
    {
     "data": {
      "text/html": [
       "<div>\n",
       "<style scoped>\n",
       "    .dataframe tbody tr th:only-of-type {\n",
       "        vertical-align: middle;\n",
       "    }\n",
       "\n",
       "    .dataframe tbody tr th {\n",
       "        vertical-align: top;\n",
       "    }\n",
       "\n",
       "    .dataframe thead th {\n",
       "        text-align: right;\n",
       "    }\n",
       "</style>\n",
       "<table border=\"1\" class=\"dataframe\">\n",
       "  <thead>\n",
       "    <tr style=\"text-align: right;\">\n",
       "      <th></th>\n",
       "      <th></th>\n",
       "      <th>number_of_trees</th>\n",
       "      <th>number_of_internal_trees</th>\n",
       "      <th>model_size_in_bytes</th>\n",
       "      <th>min_depth</th>\n",
       "      <th>max_depth</th>\n",
       "      <th>mean_depth</th>\n",
       "      <th>min_leaves</th>\n",
       "      <th>max_leaves</th>\n",
       "      <th>mean_leaves</th>\n",
       "    </tr>\n",
       "  </thead>\n",
       "  <tbody>\n",
       "    <tr>\n",
       "      <th>0</th>\n",
       "      <td></td>\n",
       "      <td>70.0</td>\n",
       "      <td>70.0</td>\n",
       "      <td>60646.0</td>\n",
       "      <td>8.0</td>\n",
       "      <td>8.0</td>\n",
       "      <td>8.0</td>\n",
       "      <td>26.0</td>\n",
       "      <td>107.0</td>\n",
       "      <td>64.35714</td>\n",
       "    </tr>\n",
       "  </tbody>\n",
       "</table>\n",
       "</div>"
      ],
      "text/plain": [
       "     number_of_trees  number_of_internal_trees  model_size_in_bytes  \\\n",
       "0               70.0                      70.0              60646.0   \n",
       "\n",
       "   min_depth  max_depth  mean_depth  min_leaves  max_leaves  mean_leaves  \n",
       "0        8.0        8.0         8.0        26.0       107.0     64.35714  "
      ]
     },
     "metadata": {},
     "output_type": "display_data"
    },
    {
     "name": "stdout",
     "output_type": "stream",
     "text": [
      "\n",
      "\n",
      "ModelMetricsAnomaly: isolationforest\n",
      "** Reported on train data. **\n",
      "\n",
      "Anomaly Score: 6.73278546954\n",
      "Normalized Anomaly Score: 0.0636225072514\n",
      "\n",
      "ModelMetricsBinomial: isolationforest\n",
      "** Reported on validation data. **\n",
      "\n",
      "MSE: 0.034764386047\n",
      "RMSE: 0.186452101214\n",
      "LogLoss: 0.13444714093\n",
      "Mean Per-Class Error: 0.126455026455\n",
      "AUC: 0.891534391534\n",
      "AUCPR: 0.531854457721\n",
      "Gini: 0.783068783069\n",
      "\n",
      "Confusion Matrix (Act/Pred) for max f1 @ threshold = 0.12925170068: \n"
     ]
    },
    {
     "data": {
      "text/html": [
       "<div>\n",
       "<style scoped>\n",
       "    .dataframe tbody tr th:only-of-type {\n",
       "        vertical-align: middle;\n",
       "    }\n",
       "\n",
       "    .dataframe tbody tr th {\n",
       "        vertical-align: top;\n",
       "    }\n",
       "\n",
       "    .dataframe thead th {\n",
       "        text-align: right;\n",
       "    }\n",
       "</style>\n",
       "<table border=\"1\" class=\"dataframe\">\n",
       "  <thead>\n",
       "    <tr style=\"text-align: right;\">\n",
       "      <th></th>\n",
       "      <th></th>\n",
       "      <th>0</th>\n",
       "      <th>1</th>\n",
       "      <th>Error</th>\n",
       "      <th>Rate</th>\n",
       "    </tr>\n",
       "  </thead>\n",
       "  <tbody>\n",
       "    <tr>\n",
       "      <th>0</th>\n",
       "      <td>0</td>\n",
       "      <td>179.0</td>\n",
       "      <td>10.0</td>\n",
       "      <td>0.0529</td>\n",
       "      <td>(10.0/189.0)</td>\n",
       "    </tr>\n",
       "    <tr>\n",
       "      <th>1</th>\n",
       "      <td>1</td>\n",
       "      <td>2.0</td>\n",
       "      <td>8.0</td>\n",
       "      <td>0.2</td>\n",
       "      <td>(2.0/10.0)</td>\n",
       "    </tr>\n",
       "    <tr>\n",
       "      <th>2</th>\n",
       "      <td>Total</td>\n",
       "      <td>181.0</td>\n",
       "      <td>18.0</td>\n",
       "      <td>0.0603</td>\n",
       "      <td>(12.0/199.0)</td>\n",
       "    </tr>\n",
       "  </tbody>\n",
       "</table>\n",
       "</div>"
      ],
      "text/plain": [
       "              0     1   Error           Rate\n",
       "0      0  179.0  10.0  0.0529   (10.0/189.0)\n",
       "1      1    2.0   8.0     0.2     (2.0/10.0)\n",
       "2  Total  181.0  18.0  0.0603   (12.0/199.0)"
      ]
     },
     "metadata": {},
     "output_type": "display_data"
    },
    {
     "name": "stdout",
     "output_type": "stream",
     "text": [
      "\n",
      "Maximum Metrics: Maximum metrics at their respective thresholds\n"
     ]
    },
    {
     "data": {
      "text/html": [
       "<div>\n",
       "<style scoped>\n",
       "    .dataframe tbody tr th:only-of-type {\n",
       "        vertical-align: middle;\n",
       "    }\n",
       "\n",
       "    .dataframe tbody tr th {\n",
       "        vertical-align: top;\n",
       "    }\n",
       "\n",
       "    .dataframe thead th {\n",
       "        text-align: right;\n",
       "    }\n",
       "</style>\n",
       "<table border=\"1\" class=\"dataframe\">\n",
       "  <thead>\n",
       "    <tr style=\"text-align: right;\">\n",
       "      <th></th>\n",
       "      <th>metric</th>\n",
       "      <th>threshold</th>\n",
       "      <th>value</th>\n",
       "      <th>idx</th>\n",
       "    </tr>\n",
       "  </thead>\n",
       "  <tbody>\n",
       "    <tr>\n",
       "      <th>0</th>\n",
       "      <td>max f1</td>\n",
       "      <td>0.129252</td>\n",
       "      <td>0.571429</td>\n",
       "      <td>14.0</td>\n",
       "    </tr>\n",
       "    <tr>\n",
       "      <th>1</th>\n",
       "      <td>max f2</td>\n",
       "      <td>0.129252</td>\n",
       "      <td>0.689655</td>\n",
       "      <td>14.0</td>\n",
       "    </tr>\n",
       "    <tr>\n",
       "      <th>2</th>\n",
       "      <td>max f0point5</td>\n",
       "      <td>0.238095</td>\n",
       "      <td>0.576923</td>\n",
       "      <td>3.0</td>\n",
       "    </tr>\n",
       "    <tr>\n",
       "      <th>3</th>\n",
       "      <td>max accuracy</td>\n",
       "      <td>0.513605</td>\n",
       "      <td>0.959799</td>\n",
       "      <td>1.0</td>\n",
       "    </tr>\n",
       "    <tr>\n",
       "      <th>4</th>\n",
       "      <td>max precision</td>\n",
       "      <td>0.935374</td>\n",
       "      <td>1.000000</td>\n",
       "      <td>0.0</td>\n",
       "    </tr>\n",
       "    <tr>\n",
       "      <th>5</th>\n",
       "      <td>max recall</td>\n",
       "      <td>0.020408</td>\n",
       "      <td>1.000000</td>\n",
       "      <td>41.0</td>\n",
       "    </tr>\n",
       "    <tr>\n",
       "      <th>6</th>\n",
       "      <td>max specificity</td>\n",
       "      <td>0.935374</td>\n",
       "      <td>1.000000</td>\n",
       "      <td>0.0</td>\n",
       "    </tr>\n",
       "    <tr>\n",
       "      <th>7</th>\n",
       "      <td>max absolute_mcc</td>\n",
       "      <td>0.129252</td>\n",
       "      <td>0.569021</td>\n",
       "      <td>14.0</td>\n",
       "    </tr>\n",
       "    <tr>\n",
       "      <th>8</th>\n",
       "      <td>max min_per_class_accuracy</td>\n",
       "      <td>0.129252</td>\n",
       "      <td>0.800000</td>\n",
       "      <td>14.0</td>\n",
       "    </tr>\n",
       "    <tr>\n",
       "      <th>9</th>\n",
       "      <td>max mean_per_class_accuracy</td>\n",
       "      <td>0.129252</td>\n",
       "      <td>0.873545</td>\n",
       "      <td>14.0</td>\n",
       "    </tr>\n",
       "    <tr>\n",
       "      <th>10</th>\n",
       "      <td>max tns</td>\n",
       "      <td>0.935374</td>\n",
       "      <td>189.000000</td>\n",
       "      <td>0.0</td>\n",
       "    </tr>\n",
       "    <tr>\n",
       "      <th>11</th>\n",
       "      <td>max fns</td>\n",
       "      <td>0.935374</td>\n",
       "      <td>9.000000</td>\n",
       "      <td>0.0</td>\n",
       "    </tr>\n",
       "    <tr>\n",
       "      <th>12</th>\n",
       "      <td>max fps</td>\n",
       "      <td>0.000000</td>\n",
       "      <td>189.000000</td>\n",
       "      <td>47.0</td>\n",
       "    </tr>\n",
       "    <tr>\n",
       "      <th>13</th>\n",
       "      <td>max tps</td>\n",
       "      <td>0.020408</td>\n",
       "      <td>10.000000</td>\n",
       "      <td>41.0</td>\n",
       "    </tr>\n",
       "    <tr>\n",
       "      <th>14</th>\n",
       "      <td>max tnr</td>\n",
       "      <td>0.935374</td>\n",
       "      <td>1.000000</td>\n",
       "      <td>0.0</td>\n",
       "    </tr>\n",
       "    <tr>\n",
       "      <th>15</th>\n",
       "      <td>max fnr</td>\n",
       "      <td>0.935374</td>\n",
       "      <td>0.900000</td>\n",
       "      <td>0.0</td>\n",
       "    </tr>\n",
       "    <tr>\n",
       "      <th>16</th>\n",
       "      <td>max fpr</td>\n",
       "      <td>0.000000</td>\n",
       "      <td>1.000000</td>\n",
       "      <td>47.0</td>\n",
       "    </tr>\n",
       "    <tr>\n",
       "      <th>17</th>\n",
       "      <td>max tpr</td>\n",
       "      <td>0.020408</td>\n",
       "      <td>1.000000</td>\n",
       "      <td>41.0</td>\n",
       "    </tr>\n",
       "  </tbody>\n",
       "</table>\n",
       "</div>"
      ],
      "text/plain": [
       "                         metric  threshold       value   idx\n",
       "0                        max f1   0.129252    0.571429  14.0\n",
       "1                        max f2   0.129252    0.689655  14.0\n",
       "2                  max f0point5   0.238095    0.576923   3.0\n",
       "3                  max accuracy   0.513605    0.959799   1.0\n",
       "4                 max precision   0.935374    1.000000   0.0\n",
       "5                    max recall   0.020408    1.000000  41.0\n",
       "6               max specificity   0.935374    1.000000   0.0\n",
       "7              max absolute_mcc   0.129252    0.569021  14.0\n",
       "8    max min_per_class_accuracy   0.129252    0.800000  14.0\n",
       "9   max mean_per_class_accuracy   0.129252    0.873545  14.0\n",
       "10                      max tns   0.935374  189.000000   0.0\n",
       "11                      max fns   0.935374    9.000000   0.0\n",
       "12                      max fps   0.000000  189.000000  47.0\n",
       "13                      max tps   0.020408   10.000000  41.0\n",
       "14                      max tnr   0.935374    1.000000   0.0\n",
       "15                      max fnr   0.935374    0.900000   0.0\n",
       "16                      max fpr   0.000000    1.000000  47.0\n",
       "17                      max tpr   0.020408    1.000000  41.0"
      ]
     },
     "metadata": {},
     "output_type": "display_data"
    },
    {
     "name": "stdout",
     "output_type": "stream",
     "text": [
      "\n",
      "Scoring History: \n"
     ]
    },
    {
     "data": {
      "text/html": [
       "<div>\n",
       "<style scoped>\n",
       "    .dataframe tbody tr th:only-of-type {\n",
       "        vertical-align: middle;\n",
       "    }\n",
       "\n",
       "    .dataframe tbody tr th {\n",
       "        vertical-align: top;\n",
       "    }\n",
       "\n",
       "    .dataframe thead th {\n",
       "        text-align: right;\n",
       "    }\n",
       "</style>\n",
       "<table border=\"1\" class=\"dataframe\">\n",
       "  <thead>\n",
       "    <tr style=\"text-align: right;\">\n",
       "      <th></th>\n",
       "      <th></th>\n",
       "      <th>timestamp</th>\n",
       "      <th>duration</th>\n",
       "      <th>number_of_trees</th>\n",
       "      <th>mean_tree_path_length</th>\n",
       "      <th>mean_anomaly_score</th>\n",
       "    </tr>\n",
       "  </thead>\n",
       "  <tbody>\n",
       "    <tr>\n",
       "      <th>0</th>\n",
       "      <td></td>\n",
       "      <td>2020-06-26 17:38:38</td>\n",
       "      <td>0.001 sec</td>\n",
       "      <td>0.0</td>\n",
       "      <td>NaN</td>\n",
       "      <td>NaN</td>\n",
       "    </tr>\n",
       "    <tr>\n",
       "      <th>1</th>\n",
       "      <td></td>\n",
       "      <td>2020-06-26 17:38:38</td>\n",
       "      <td>0.020 sec</td>\n",
       "      <td>7.0</td>\n",
       "      <td>6.791716</td>\n",
       "      <td>0.044182</td>\n",
       "    </tr>\n",
       "    <tr>\n",
       "      <th>2</th>\n",
       "      <td></td>\n",
       "      <td>2020-06-26 17:38:38</td>\n",
       "      <td>0.036 sec</td>\n",
       "      <td>14.0</td>\n",
       "      <td>6.769952</td>\n",
       "      <td>0.050323</td>\n",
       "    </tr>\n",
       "    <tr>\n",
       "      <th>3</th>\n",
       "      <td></td>\n",
       "      <td>2020-06-26 17:38:38</td>\n",
       "      <td>0.053 sec</td>\n",
       "      <td>21.0</td>\n",
       "      <td>6.747324</td>\n",
       "      <td>0.056449</td>\n",
       "    </tr>\n",
       "    <tr>\n",
       "      <th>4</th>\n",
       "      <td></td>\n",
       "      <td>2020-06-26 17:38:38</td>\n",
       "      <td>0.066 sec</td>\n",
       "      <td>28.0</td>\n",
       "      <td>6.737706</td>\n",
       "      <td>0.058288</td>\n",
       "    </tr>\n",
       "    <tr>\n",
       "      <th>5</th>\n",
       "      <td></td>\n",
       "      <td>2020-06-26 17:38:38</td>\n",
       "      <td>0.079 sec</td>\n",
       "      <td>35.0</td>\n",
       "      <td>6.733153</td>\n",
       "      <td>0.061852</td>\n",
       "    </tr>\n",
       "    <tr>\n",
       "      <th>6</th>\n",
       "      <td></td>\n",
       "      <td>2020-06-26 17:38:38</td>\n",
       "      <td>0.095 sec</td>\n",
       "      <td>42.0</td>\n",
       "      <td>6.730316</td>\n",
       "      <td>0.063278</td>\n",
       "    </tr>\n",
       "    <tr>\n",
       "      <th>7</th>\n",
       "      <td></td>\n",
       "      <td>2020-06-26 17:38:38</td>\n",
       "      <td>0.109 sec</td>\n",
       "      <td>49.0</td>\n",
       "      <td>6.734563</td>\n",
       "      <td>0.062232</td>\n",
       "    </tr>\n",
       "    <tr>\n",
       "      <th>8</th>\n",
       "      <td></td>\n",
       "      <td>2020-06-26 17:38:38</td>\n",
       "      <td>0.124 sec</td>\n",
       "      <td>56.0</td>\n",
       "      <td>6.739710</td>\n",
       "      <td>0.061764</td>\n",
       "    </tr>\n",
       "    <tr>\n",
       "      <th>9</th>\n",
       "      <td></td>\n",
       "      <td>2020-06-26 17:38:38</td>\n",
       "      <td>0.139 sec</td>\n",
       "      <td>63.0</td>\n",
       "      <td>6.736726</td>\n",
       "      <td>0.061659</td>\n",
       "    </tr>\n",
       "    <tr>\n",
       "      <th>10</th>\n",
       "      <td></td>\n",
       "      <td>2020-06-26 17:38:38</td>\n",
       "      <td>0.154 sec</td>\n",
       "      <td>70.0</td>\n",
       "      <td>6.732785</td>\n",
       "      <td>0.063623</td>\n",
       "    </tr>\n",
       "  </tbody>\n",
       "</table>\n",
       "</div>"
      ],
      "text/plain": [
       "                timestamp    duration  number_of_trees  mean_tree_path_length  \\\n",
       "0     2020-06-26 17:38:38   0.001 sec              0.0                    NaN   \n",
       "1     2020-06-26 17:38:38   0.020 sec              7.0               6.791716   \n",
       "2     2020-06-26 17:38:38   0.036 sec             14.0               6.769952   \n",
       "3     2020-06-26 17:38:38   0.053 sec             21.0               6.747324   \n",
       "4     2020-06-26 17:38:38   0.066 sec             28.0               6.737706   \n",
       "5     2020-06-26 17:38:38   0.079 sec             35.0               6.733153   \n",
       "6     2020-06-26 17:38:38   0.095 sec             42.0               6.730316   \n",
       "7     2020-06-26 17:38:38   0.109 sec             49.0               6.734563   \n",
       "8     2020-06-26 17:38:38   0.124 sec             56.0               6.739710   \n",
       "9     2020-06-26 17:38:38   0.139 sec             63.0               6.736726   \n",
       "10    2020-06-26 17:38:38   0.154 sec             70.0               6.732785   \n",
       "\n",
       "    mean_anomaly_score  \n",
       "0                  NaN  \n",
       "1             0.044182  \n",
       "2             0.050323  \n",
       "3             0.056449  \n",
       "4             0.058288  \n",
       "5             0.061852  \n",
       "6             0.063278  \n",
       "7             0.062232  \n",
       "8             0.061764  \n",
       "9             0.061659  \n",
       "10            0.063623  "
      ]
     },
     "metadata": {},
     "output_type": "display_data"
    },
    {
     "data": {
      "text/plain": []
     },
     "execution_count": 15,
     "metadata": {},
     "output_type": "execute_result"
    }
   ],
   "source": [
    "if_model"
   ]
  },
  {
   "cell_type": "code",
   "execution_count": 16,
   "metadata": {},
   "outputs": [
    {
     "name": "stdout",
     "output_type": "stream",
     "text": [
      "isolationforest prediction progress: |████████████████████████████████████| 100%\n"
     ]
    }
   ],
   "source": [
    "predicted_train_labels = if_model.predict(train)[\"predict\"].as_data_frame(use_pandas=True)"
   ]
  },
  {
   "cell_type": "code",
   "execution_count": 17,
   "metadata": {
    "collapsed": true
   },
   "outputs": [],
   "source": [
    "train_pd = train.as_data_frame(use_pandas=True)"
   ]
  },
  {
   "cell_type": "code",
   "execution_count": 18,
   "metadata": {},
   "outputs": [
    {
     "data": {
      "image/png": "[encoded data removed]",
      "text/plain": [
       "<matplotlib.figure.Figure at 0x112232a90>"
      ]
     },
     "metadata": {},
     "output_type": "display_data"
    }
   ],
   "source": [
    "plt.scatter(train_pd[\"x\"], train_pd[\"y\"], c=predicted_train_labels[\"predict\"])\n",
    "plt.show()"
   ]
  },
  {
   "cell_type": "code",
   "execution_count": 19,
   "metadata": {},
   "outputs": [
    {
     "name": "stdout",
     "output_type": "stream",
     "text": [
      "\n",
      "ModelMetricsBinomial: isolationforest\n",
      "** Reported on test data. **\n",
      "\n",
      "MSE: 0.0273457867609\n",
      "RMSE: 0.165365615413\n",
      "LogLoss: 0.108682638841\n",
      "Mean Per-Class Error: 0.0946944809461\n",
      "AUC: 0.947273324573\n",
      "AUCPR: 0.709912837678\n",
      "Gini: 0.894546649146\n",
      "\n",
      "Confusion Matrix (Act/Pred) for max f1 @ threshold = 0.210884353741: \n"
     ]
    },
    {
     "data": {
      "text/html": [
       "<div>\n",
       "<style scoped>\n",
       "    .dataframe tbody tr th:only-of-type {\n",
       "        vertical-align: middle;\n",
       "    }\n",
       "\n",
       "    .dataframe tbody tr th {\n",
       "        vertical-align: top;\n",
       "    }\n",
       "\n",
       "    .dataframe thead th {\n",
       "        text-align: right;\n",
       "    }\n",
       "</style>\n",
       "<table border=\"1\" class=\"dataframe\">\n",
       "  <thead>\n",
       "    <tr style=\"text-align: right;\">\n",
       "      <th></th>\n",
       "      <th></th>\n",
       "      <th>0</th>\n",
       "      <th>1</th>\n",
       "      <th>Error</th>\n",
       "      <th>Rate</th>\n",
       "    </tr>\n",
       "  </thead>\n",
       "  <tbody>\n",
       "    <tr>\n",
       "      <th>0</th>\n",
       "      <td>0</td>\n",
       "      <td>746.0</td>\n",
       "      <td>15.0</td>\n",
       "      <td>0.0197</td>\n",
       "      <td>(15.0/761.0)</td>\n",
       "    </tr>\n",
       "    <tr>\n",
       "      <th>1</th>\n",
       "      <td>1</td>\n",
       "      <td>12.0</td>\n",
       "      <td>28.0</td>\n",
       "      <td>0.3</td>\n",
       "      <td>(12.0/40.0)</td>\n",
       "    </tr>\n",
       "    <tr>\n",
       "      <th>2</th>\n",
       "      <td>Total</td>\n",
       "      <td>758.0</td>\n",
       "      <td>43.0</td>\n",
       "      <td>0.0337</td>\n",
       "      <td>(27.0/801.0)</td>\n",
       "    </tr>\n",
       "  </tbody>\n",
       "</table>\n",
       "</div>"
      ],
      "text/plain": [
       "              0     1   Error           Rate\n",
       "0      0  746.0  15.0  0.0197   (15.0/761.0)\n",
       "1      1   12.0  28.0     0.3    (12.0/40.0)\n",
       "2  Total  758.0  43.0  0.0337   (27.0/801.0)"
      ]
     },
     "metadata": {},
     "output_type": "display_data"
    },
    {
     "name": "stdout",
     "output_type": "stream",
     "text": [
      "\n",
      "Maximum Metrics: Maximum metrics at their respective thresholds\n"
     ]
    },
    {
     "data": {
      "text/html": [
       "<div>\n",
       "<style scoped>\n",
       "    .dataframe tbody tr th:only-of-type {\n",
       "        vertical-align: middle;\n",
       "    }\n",
       "\n",
       "    .dataframe tbody tr th {\n",
       "        vertical-align: top;\n",
       "    }\n",
       "\n",
       "    .dataframe thead th {\n",
       "        text-align: right;\n",
       "    }\n",
       "</style>\n",
       "<table border=\"1\" class=\"dataframe\">\n",
       "  <thead>\n",
       "    <tr style=\"text-align: right;\">\n",
       "      <th></th>\n",
       "      <th>metric</th>\n",
       "      <th>threshold</th>\n",
       "      <th>value</th>\n",
       "      <th>idx</th>\n",
       "    </tr>\n",
       "  </thead>\n",
       "  <tbody>\n",
       "    <tr>\n",
       "      <th>0</th>\n",
       "      <td>max f1</td>\n",
       "      <td>0.210884</td>\n",
       "      <td>0.674699</td>\n",
       "      <td>35.0</td>\n",
       "    </tr>\n",
       "    <tr>\n",
       "      <th>1</th>\n",
       "      <td>max f2</td>\n",
       "      <td>0.149660</td>\n",
       "      <td>0.733333</td>\n",
       "      <td>49.0</td>\n",
       "    </tr>\n",
       "    <tr>\n",
       "      <th>2</th>\n",
       "      <td>max f0point5</td>\n",
       "      <td>0.408163</td>\n",
       "      <td>0.721154</td>\n",
       "      <td>15.0</td>\n",
       "    </tr>\n",
       "    <tr>\n",
       "      <th>3</th>\n",
       "      <td>max accuracy</td>\n",
       "      <td>0.408163</td>\n",
       "      <td>0.967541</td>\n",
       "      <td>15.0</td>\n",
       "    </tr>\n",
       "    <tr>\n",
       "      <th>4</th>\n",
       "      <td>max precision</td>\n",
       "      <td>1.000000</td>\n",
       "      <td>1.000000</td>\n",
       "      <td>0.0</td>\n",
       "    </tr>\n",
       "    <tr>\n",
       "      <th>5</th>\n",
       "      <td>max recall</td>\n",
       "      <td>0.013605</td>\n",
       "      <td>1.000000</td>\n",
       "      <td>89.0</td>\n",
       "    </tr>\n",
       "    <tr>\n",
       "      <th>6</th>\n",
       "      <td>max specificity</td>\n",
       "      <td>1.000000</td>\n",
       "      <td>1.000000</td>\n",
       "      <td>0.0</td>\n",
       "    </tr>\n",
       "    <tr>\n",
       "      <th>7</th>\n",
       "      <td>max absolute_mcc</td>\n",
       "      <td>0.210884</td>\n",
       "      <td>0.657426</td>\n",
       "      <td>35.0</td>\n",
       "    </tr>\n",
       "    <tr>\n",
       "      <th>8</th>\n",
       "      <td>max min_per_class_accuracy</td>\n",
       "      <td>0.129252</td>\n",
       "      <td>0.875000</td>\n",
       "      <td>55.0</td>\n",
       "    </tr>\n",
       "    <tr>\n",
       "      <th>9</th>\n",
       "      <td>max mean_per_class_accuracy</td>\n",
       "      <td>0.129252</td>\n",
       "      <td>0.905306</td>\n",
       "      <td>55.0</td>\n",
       "    </tr>\n",
       "    <tr>\n",
       "      <th>10</th>\n",
       "      <td>max tns</td>\n",
       "      <td>1.000000</td>\n",
       "      <td>761.000000</td>\n",
       "      <td>0.0</td>\n",
       "    </tr>\n",
       "    <tr>\n",
       "      <th>11</th>\n",
       "      <td>max fns</td>\n",
       "      <td>1.000000</td>\n",
       "      <td>39.000000</td>\n",
       "      <td>0.0</td>\n",
       "    </tr>\n",
       "    <tr>\n",
       "      <th>12</th>\n",
       "      <td>max fps</td>\n",
       "      <td>0.000000</td>\n",
       "      <td>761.000000</td>\n",
       "      <td>93.0</td>\n",
       "    </tr>\n",
       "    <tr>\n",
       "      <th>13</th>\n",
       "      <td>max tps</td>\n",
       "      <td>0.013605</td>\n",
       "      <td>40.000000</td>\n",
       "      <td>89.0</td>\n",
       "    </tr>\n",
       "    <tr>\n",
       "      <th>14</th>\n",
       "      <td>max tnr</td>\n",
       "      <td>1.000000</td>\n",
       "      <td>1.000000</td>\n",
       "      <td>0.0</td>\n",
       "    </tr>\n",
       "    <tr>\n",
       "      <th>15</th>\n",
       "      <td>max fnr</td>\n",
       "      <td>1.000000</td>\n",
       "      <td>0.975000</td>\n",
       "      <td>0.0</td>\n",
       "    </tr>\n",
       "    <tr>\n",
       "      <th>16</th>\n",
       "      <td>max fpr</td>\n",
       "      <td>0.000000</td>\n",
       "      <td>1.000000</td>\n",
       "      <td>93.0</td>\n",
       "    </tr>\n",
       "    <tr>\n",
       "      <th>17</th>\n",
       "      <td>max tpr</td>\n",
       "      <td>0.013605</td>\n",
       "      <td>1.000000</td>\n",
       "      <td>89.0</td>\n",
       "    </tr>\n",
       "  </tbody>\n",
       "</table>\n",
       "</div>"
      ],
      "text/plain": [
       "                         metric  threshold       value   idx\n",
       "0                        max f1   0.210884    0.674699  35.0\n",
       "1                        max f2   0.149660    0.733333  49.0\n",
       "2                  max f0point5   0.408163    0.721154  15.0\n",
       "3                  max accuracy   0.408163    0.967541  15.0\n",
       "4                 max precision   1.000000    1.000000   0.0\n",
       "5                    max recall   0.013605    1.000000  89.0\n",
       "6               max specificity   1.000000    1.000000   0.0\n",
       "7              max absolute_mcc   0.210884    0.657426  35.0\n",
       "8    max min_per_class_accuracy   0.129252    0.875000  55.0\n",
       "9   max mean_per_class_accuracy   0.129252    0.905306  55.0\n",
       "10                      max tns   1.000000  761.000000   0.0\n",
       "11                      max fns   1.000000   39.000000   0.0\n",
       "12                      max fps   0.000000  761.000000  93.0\n",
       "13                      max tps   0.013605   40.000000  89.0\n",
       "14                      max tnr   1.000000    1.000000   0.0\n",
       "15                      max fnr   1.000000    0.975000   0.0\n",
       "16                      max fpr   0.000000    1.000000  93.0\n",
       "17                      max tpr   0.013605    1.000000  89.0"
      ]
     },
     "metadata": {},
     "output_type": "display_data"
    },
    {
     "data": {
      "text/plain": []
     },
     "execution_count": 19,
     "metadata": {},
     "output_type": "execute_result"
    }
   ],
   "source": [
    "if_model.model_performance(train_with_label)"
   ]
  },
  {
   "cell_type": "markdown",
   "metadata": {},
   "source": [
    "### Train Isolation Forest using contamination parameter"
   ]
  },
  {
   "cell_type": "code",
   "execution_count": 20,
   "metadata": {},
   "outputs": [
    {
     "name": "stderr",
     "output_type": "stream",
     "text": [
      "/Users/mkurka/git/h2o/h2o-3/h2o-py/h2o/estimators/estimator_base.py:200: RuntimeWarning: Stopping tolerance is ignored for _stopping_rounds=0.\n",
      "  warnings.warn(mesg[\"message\"], RuntimeWarning)\n"
     ]
    },
    {
     "name": "stdout",
     "output_type": "stream",
     "text": [
      "isolationforest Model Build progress: |███████████████████████████████████| 100%\n",
      "Model Details\n",
      "=============\n",
      "H2OIsolationForestEstimator :  Isolation Forest\n",
      "Model Key:  IsolationForest_model_python_1593202267571_273\n",
      "\n",
      "\n",
      "Model Summary: \n"
     ]
    },
    {
     "data": {
      "text/html": [
       "<div>\n",
       "<style scoped>\n",
       "    .dataframe tbody tr th:only-of-type {\n",
       "        vertical-align: middle;\n",
       "    }\n",
       "\n",
       "    .dataframe tbody tr th {\n",
       "        vertical-align: top;\n",
       "    }\n",
       "\n",
       "    .dataframe thead th {\n",
       "        text-align: right;\n",
       "    }\n",
       "</style>\n",
       "<table border=\"1\" class=\"dataframe\">\n",
       "  <thead>\n",
       "    <tr style=\"text-align: right;\">\n",
       "      <th></th>\n",
       "      <th></th>\n",
       "      <th>number_of_trees</th>\n",
       "      <th>number_of_internal_trees</th>\n",
       "      <th>model_size_in_bytes</th>\n",
       "      <th>min_depth</th>\n",
       "      <th>max_depth</th>\n",
       "      <th>mean_depth</th>\n",
       "      <th>min_leaves</th>\n",
       "      <th>max_leaves</th>\n",
       "      <th>mean_leaves</th>\n",
       "    </tr>\n",
       "  </thead>\n",
       "  <tbody>\n",
       "    <tr>\n",
       "      <th>0</th>\n",
       "      <td></td>\n",
       "      <td>50.0</td>\n",
       "      <td>50.0</td>\n",
       "      <td>43788.0</td>\n",
       "      <td>8.0</td>\n",
       "      <td>8.0</td>\n",
       "      <td>8.0</td>\n",
       "      <td>33.0</td>\n",
       "      <td>107.0</td>\n",
       "      <td>65.1</td>\n",
       "    </tr>\n",
       "  </tbody>\n",
       "</table>\n",
       "</div>"
      ],
      "text/plain": [
       "     number_of_trees  number_of_internal_trees  model_size_in_bytes  \\\n",
       "0               50.0                      50.0              43788.0   \n",
       "\n",
       "   min_depth  max_depth  mean_depth  min_leaves  max_leaves  mean_leaves  \n",
       "0        8.0        8.0         8.0        33.0       107.0         65.1  "
      ]
     },
     "metadata": {},
     "output_type": "display_data"
    },
    {
     "name": "stdout",
     "output_type": "stream",
     "text": [
      "\n",
      "\n",
      "ModelMetricsAnomaly: isolationforest\n",
      "** Reported on train data. **\n",
      "\n",
      "Anomaly Score: 6.73443250342\n",
      "Normalized Anomaly Score: 0.0623397879303\n",
      "\n",
      "Scoring History: \n"
     ]
    },
    {
     "data": {
      "text/html": [
       "<div>\n",
       "<style scoped>\n",
       "    .dataframe tbody tr th:only-of-type {\n",
       "        vertical-align: middle;\n",
       "    }\n",
       "\n",
       "    .dataframe tbody tr th {\n",
       "        vertical-align: top;\n",
       "    }\n",
       "\n",
       "    .dataframe thead th {\n",
       "        text-align: right;\n",
       "    }\n",
       "</style>\n",
       "<table border=\"1\" class=\"dataframe\">\n",
       "  <thead>\n",
       "    <tr style=\"text-align: right;\">\n",
       "      <th></th>\n",
       "      <th></th>\n",
       "      <th>timestamp</th>\n",
       "      <th>duration</th>\n",
       "      <th>number_of_trees</th>\n",
       "      <th>mean_tree_path_length</th>\n",
       "      <th>mean_anomaly_score</th>\n",
       "    </tr>\n",
       "  </thead>\n",
       "  <tbody>\n",
       "    <tr>\n",
       "      <th>0</th>\n",
       "      <td></td>\n",
       "      <td>2020-06-26 17:38:39</td>\n",
       "      <td>0.003 sec</td>\n",
       "      <td>0.0</td>\n",
       "      <td>NaN</td>\n",
       "      <td>NaN</td>\n",
       "    </tr>\n",
       "    <tr>\n",
       "      <th>1</th>\n",
       "      <td></td>\n",
       "      <td>2020-06-26 17:38:39</td>\n",
       "      <td>0.009 sec</td>\n",
       "      <td>1.0</td>\n",
       "      <td>6.876173</td>\n",
       "      <td>0.024765</td>\n",
       "    </tr>\n",
       "    <tr>\n",
       "      <th>2</th>\n",
       "      <td></td>\n",
       "      <td>2020-06-26 17:38:39</td>\n",
       "      <td>0.017 sec</td>\n",
       "      <td>2.0</td>\n",
       "      <td>6.837857</td>\n",
       "      <td>0.027024</td>\n",
       "    </tr>\n",
       "    <tr>\n",
       "      <th>3</th>\n",
       "      <td></td>\n",
       "      <td>2020-06-26 17:38:39</td>\n",
       "      <td>0.025 sec</td>\n",
       "      <td>3.0</td>\n",
       "      <td>6.789667</td>\n",
       "      <td>0.052583</td>\n",
       "    </tr>\n",
       "    <tr>\n",
       "      <th>4</th>\n",
       "      <td></td>\n",
       "      <td>2020-06-26 17:38:39</td>\n",
       "      <td>0.032 sec</td>\n",
       "      <td>4.0</td>\n",
       "      <td>6.792303</td>\n",
       "      <td>0.046155</td>\n",
       "    </tr>\n",
       "    <tr>\n",
       "      <th>5</th>\n",
       "      <td></td>\n",
       "      <td>2020-06-26 17:38:39</td>\n",
       "      <td>0.047 sec</td>\n",
       "      <td>5.0</td>\n",
       "      <td>6.784797</td>\n",
       "      <td>0.048910</td>\n",
       "    </tr>\n",
       "    <tr>\n",
       "      <th>6</th>\n",
       "      <td></td>\n",
       "      <td>2020-06-26 17:38:39</td>\n",
       "      <td>0.052 sec</td>\n",
       "      <td>6.0</td>\n",
       "      <td>6.800709</td>\n",
       "      <td>0.044287</td>\n",
       "    </tr>\n",
       "    <tr>\n",
       "      <th>7</th>\n",
       "      <td></td>\n",
       "      <td>2020-06-26 17:38:39</td>\n",
       "      <td>0.061 sec</td>\n",
       "      <td>7.0</td>\n",
       "      <td>6.791716</td>\n",
       "      <td>0.044182</td>\n",
       "    </tr>\n",
       "    <tr>\n",
       "      <th>8</th>\n",
       "      <td></td>\n",
       "      <td>2020-06-26 17:38:39</td>\n",
       "      <td>0.066 sec</td>\n",
       "      <td>8.0</td>\n",
       "      <td>6.798208</td>\n",
       "      <td>0.041393</td>\n",
       "    </tr>\n",
       "    <tr>\n",
       "      <th>9</th>\n",
       "      <td></td>\n",
       "      <td>2020-06-26 17:38:39</td>\n",
       "      <td>0.071 sec</td>\n",
       "      <td>9.0</td>\n",
       "      <td>6.788205</td>\n",
       "      <td>0.043322</td>\n",
       "    </tr>\n",
       "    <tr>\n",
       "      <th>10</th>\n",
       "      <td></td>\n",
       "      <td>2020-06-26 17:38:39</td>\n",
       "      <td>0.077 sec</td>\n",
       "      <td>10.0</td>\n",
       "      <td>6.779417</td>\n",
       "      <td>0.049018</td>\n",
       "    </tr>\n",
       "    <tr>\n",
       "      <th>11</th>\n",
       "      <td></td>\n",
       "      <td>2020-06-26 17:38:40</td>\n",
       "      <td>0.084 sec</td>\n",
       "      <td>11.0</td>\n",
       "      <td>6.776554</td>\n",
       "      <td>0.048194</td>\n",
       "    </tr>\n",
       "    <tr>\n",
       "      <th>12</th>\n",
       "      <td></td>\n",
       "      <td>2020-06-26 17:38:40</td>\n",
       "      <td>0.091 sec</td>\n",
       "      <td>12.0</td>\n",
       "      <td>6.770076</td>\n",
       "      <td>0.054100</td>\n",
       "    </tr>\n",
       "    <tr>\n",
       "      <th>13</th>\n",
       "      <td></td>\n",
       "      <td>2020-06-26 17:38:40</td>\n",
       "      <td>0.097 sec</td>\n",
       "      <td>13.0</td>\n",
       "      <td>6.768793</td>\n",
       "      <td>0.052731</td>\n",
       "    </tr>\n",
       "    <tr>\n",
       "      <th>14</th>\n",
       "      <td></td>\n",
       "      <td>2020-06-26 17:38:40</td>\n",
       "      <td>0.103 sec</td>\n",
       "      <td>14.0</td>\n",
       "      <td>6.769952</td>\n",
       "      <td>0.050323</td>\n",
       "    </tr>\n",
       "    <tr>\n",
       "      <th>15</th>\n",
       "      <td></td>\n",
       "      <td>2020-06-26 17:38:40</td>\n",
       "      <td>0.110 sec</td>\n",
       "      <td>15.0</td>\n",
       "      <td>6.768580</td>\n",
       "      <td>0.050309</td>\n",
       "    </tr>\n",
       "    <tr>\n",
       "      <th>16</th>\n",
       "      <td></td>\n",
       "      <td>2020-06-26 17:38:40</td>\n",
       "      <td>0.116 sec</td>\n",
       "      <td>16.0</td>\n",
       "      <td>6.757047</td>\n",
       "      <td>0.055532</td>\n",
       "    </tr>\n",
       "    <tr>\n",
       "      <th>17</th>\n",
       "      <td></td>\n",
       "      <td>2020-06-26 17:38:40</td>\n",
       "      <td>0.122 sec</td>\n",
       "      <td>17.0</td>\n",
       "      <td>6.748589</td>\n",
       "      <td>0.056986</td>\n",
       "    </tr>\n",
       "    <tr>\n",
       "      <th>18</th>\n",
       "      <td></td>\n",
       "      <td>2020-06-26 17:38:40</td>\n",
       "      <td>0.128 sec</td>\n",
       "      <td>18.0</td>\n",
       "      <td>6.746213</td>\n",
       "      <td>0.057102</td>\n",
       "    </tr>\n",
       "    <tr>\n",
       "      <th>19</th>\n",
       "      <td></td>\n",
       "      <td>2020-06-26 17:38:40</td>\n",
       "      <td>0.134 sec</td>\n",
       "      <td>19.0</td>\n",
       "      <td>6.751109</td>\n",
       "      <td>0.054988</td>\n",
       "    </tr>\n",
       "  </tbody>\n",
       "</table>\n",
       "</div>"
      ],
      "text/plain": [
       "                timestamp    duration  number_of_trees  mean_tree_path_length  \\\n",
       "0     2020-06-26 17:38:39   0.003 sec              0.0                    NaN   \n",
       "1     2020-06-26 17:38:39   0.009 sec              1.0               6.876173   \n",
       "2     2020-06-26 17:38:39   0.017 sec              2.0               6.837857   \n",
       "3     2020-06-26 17:38:39   0.025 sec              3.0               6.789667   \n",
       "4     2020-06-26 17:38:39   0.032 sec              4.0               6.792303   \n",
       "5     2020-06-26 17:38:39   0.047 sec              5.0               6.784797   \n",
       "6     2020-06-26 17:38:39   0.052 sec              6.0               6.800709   \n",
       "7     2020-06-26 17:38:39   0.061 sec              7.0               6.791716   \n",
       "8     2020-06-26 17:38:39   0.066 sec              8.0               6.798208   \n",
       "9     2020-06-26 17:38:39   0.071 sec              9.0               6.788205   \n",
       "10    2020-06-26 17:38:39   0.077 sec             10.0               6.779417   \n",
       "11    2020-06-26 17:38:40   0.084 sec             11.0               6.776554   \n",
       "12    2020-06-26 17:38:40   0.091 sec             12.0               6.770076   \n",
       "13    2020-06-26 17:38:40   0.097 sec             13.0               6.768793   \n",
       "14    2020-06-26 17:38:40   0.103 sec             14.0               6.769952   \n",
       "15    2020-06-26 17:38:40   0.110 sec             15.0               6.768580   \n",
       "16    2020-06-26 17:38:40   0.116 sec             16.0               6.757047   \n",
       "17    2020-06-26 17:38:40   0.122 sec             17.0               6.748589   \n",
       "18    2020-06-26 17:38:40   0.128 sec             18.0               6.746213   \n",
       "19    2020-06-26 17:38:40   0.134 sec             19.0               6.751109   \n",
       "\n",
       "    mean_anomaly_score  \n",
       "0                  NaN  \n",
       "1             0.024765  \n",
       "2             0.027024  \n",
       "3             0.052583  \n",
       "4             0.046155  \n",
       "5             0.048910  \n",
       "6             0.044287  \n",
       "7             0.044182  \n",
       "8             0.041393  \n",
       "9             0.043322  \n",
       "10            0.049018  \n",
       "11            0.048194  \n",
       "12            0.054100  \n",
       "13            0.052731  \n",
       "14            0.050323  \n",
       "15            0.050309  \n",
       "16            0.055532  \n",
       "17            0.056986  \n",
       "18            0.057102  \n",
       "19            0.054988  "
      ]
     },
     "metadata": {},
     "output_type": "display_data"
    },
    {
     "name": "stdout",
     "output_type": "stream",
     "text": [
      "\n",
      "See the whole table with table.as_data_frame()\n"
     ]
    },
    {
     "data": {
      "text/plain": []
     },
     "execution_count": 20,
     "metadata": {},
     "output_type": "execute_result"
    }
   ],
   "source": [
    "if_model_cont = H2OIsolationForestEstimator(seed=12, contamination=cont)\n",
    "if_model_cont.train(training_frame=train)\n",
    "if_model_cont"
   ]
  },
  {
   "cell_type": "code",
   "execution_count": 21,
   "metadata": {},
   "outputs": [
    {
     "name": "stdout",
     "output_type": "stream",
     "text": [
      "isolationforest prediction progress: |████████████████████████████████████| 100%\n"
     ]
    }
   ],
   "source": [
    "predicted_train_labels_cont = if_model_cont.predict(train)[\"predict\"].as_data_frame(use_pandas=True)"
   ]
  },
  {
   "cell_type": "code",
   "execution_count": 22,
   "metadata": {},
   "outputs": [
    {
     "data": {
      "image/png": "[encoded data removed]",
      "text/plain": [
       "<matplotlib.figure.Figure at 0x1121eeb90>"
      ]
     },
     "metadata": {},
     "output_type": "display_data"
    }
   ],
   "source": [
    "plt.scatter(train_pd[\"x\"], train_pd[\"y\"], c=predicted_train_labels_cont[\"predict\"])\n",
    "plt.show()"
   ]
  }
 ],
 "metadata": {
  "kernelspec": {
   "display_name": "Python 2",
   "language": "python",
   "name": "python2"
  },
  "language_info": {
   "codemirror_mode": {
    "name": "ipython",
    "version": 2
   },
   "file_extension": ".py",
   "mimetype": "text/x-python",
   "name": "python",
   "nbconvert_exporter": "python",
   "pygments_lexer": "ipython2",
   "version": "2.7.14"
  }
 },
 "nbformat": 4,
 "nbformat_minor": 2
}
