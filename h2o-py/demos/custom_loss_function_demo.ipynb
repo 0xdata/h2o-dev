{
 "cells": [
  {
   "cell_type": "code",
   "execution_count": 1,
   "metadata": {},
   "outputs": [],
   "source": [
    "import sys\n",
    "sys.path.insert(0, '/home/mori/Documents/h2o/env/h2o-env/lib/python3.7/site-packages')\n",
    "sys.path.insert(0, '/home/mori/Documents/h2o/code/h2o-3/h2o-py/build')"
   ]
  },
  {
   "cell_type": "markdown",
   "metadata": {},
   "source": [
    "# Custom loss function demo"
   ]
  },
  {
   "cell_type": "code",
   "execution_count": 2,
   "metadata": {},
   "outputs": [
    {
     "name": "stdout",
     "output_type": "stream",
     "text": [
      "versionFromGradle='3.25.0',projectVersion='3.25.0.99999',branch='maurever_PUBDEV-4076_custom_loss_function',lastCommitHash='0c2369d7474e7fe4e9696056f6df410dd2b759fb',gitDescribe='jenkins-master-4684-24-g0c2369d747-dirty',compiledOn='2019-07-01 13:46:30',compiledBy='mori'\n",
      "Checking whether there is an H2O instance running at http://localhost:54321 . connected.\n"
     ]
    },
    {
     "data": {
      "text/html": [
       "<div style=\"overflow:auto\"><table style=\"width:50%\"><tr><td>H2O cluster uptime:</td>\n",
       "<td>1 hour 7 mins</td></tr>\n",
       "<tr><td>H2O cluster timezone:</td>\n",
       "<td>Europe/Berlin</td></tr>\n",
       "<tr><td>H2O data parsing timezone:</td>\n",
       "<td>UTC</td></tr>\n",
       "<tr><td>H2O cluster version:</td>\n",
       "<td>3.25.0.99999</td></tr>\n",
       "<tr><td>H2O cluster version age:</td>\n",
       "<td>2 days </td></tr>\n",
       "<tr><td>H2O cluster name:</td>\n",
       "<td>mori</td></tr>\n",
       "<tr><td>H2O cluster total nodes:</td>\n",
       "<td>1</td></tr>\n",
       "<tr><td>H2O cluster free memory:</td>\n",
       "<td>4.263 Gb</td></tr>\n",
       "<tr><td>H2O cluster total cores:</td>\n",
       "<td>8</td></tr>\n",
       "<tr><td>H2O cluster allowed cores:</td>\n",
       "<td>8</td></tr>\n",
       "<tr><td>H2O cluster status:</td>\n",
       "<td>locked, healthy</td></tr>\n",
       "<tr><td>H2O connection url:</td>\n",
       "<td>http://localhost:54321</td></tr>\n",
       "<tr><td>H2O connection proxy:</td>\n",
       "<td>None</td></tr>\n",
       "<tr><td>H2O internal security:</td>\n",
       "<td>False</td></tr>\n",
       "<tr><td>H2O API Extensions:</td>\n",
       "<td>Amazon S3, XGBoost, Algos, AutoML, Core V3, Core V4</td></tr>\n",
       "<tr><td>Python version:</td>\n",
       "<td>3.7.3 final</td></tr></table></div>"
      ],
      "text/plain": [
       "--------------------------  ---------------------------------------------------\n",
       "H2O cluster uptime:         1 hour 7 mins\n",
       "H2O cluster timezone:       Europe/Berlin\n",
       "H2O data parsing timezone:  UTC\n",
       "H2O cluster version:        3.25.0.99999\n",
       "H2O cluster version age:    2 days\n",
       "H2O cluster name:           mori\n",
       "H2O cluster total nodes:    1\n",
       "H2O cluster free memory:    4.263 Gb\n",
       "H2O cluster total cores:    8\n",
       "H2O cluster allowed cores:  8\n",
       "H2O cluster status:         locked, healthy\n",
       "H2O connection url:         http://localhost:54321\n",
       "H2O connection proxy:\n",
       "H2O internal security:      False\n",
       "H2O API Extensions:         Amazon S3, XGBoost, Algos, AutoML, Core V3, Core V4\n",
       "Python version:             3.7.3 final\n",
       "--------------------------  ---------------------------------------------------"
      ]
     },
     "metadata": {},
     "output_type": "display_data"
    }
   ],
   "source": [
    "import h2o\n",
    "import pandas as pd\n",
    "import datetime\n",
    "\n",
    "from h2o.estimators.gbm import H2OGradientBoostingEstimator\n",
    "from h2o.utils.distributions import CustomDistributionGaussian\n",
    "\n",
    "h2o.init(strict_version_check=False)"
   ]
  },
  {
   "cell_type": "code",
   "execution_count": 3,
   "metadata": {},
   "outputs": [
    {
     "name": "stdout",
     "output_type": "stream",
     "text": [
      "(913000, 4)\n"
     ]
    }
   ],
   "source": [
    "# load data \n",
    "data = pd.read_csv(\"../../smalldata/demos/item_demand_train.csv\")\n",
    "print(data.shape)"
   ]
  },
  {
   "cell_type": "code",
   "execution_count": 4,
   "metadata": {},
   "outputs": [],
   "source": [
    "# Transform date column\n",
    "def prepare_date(data, date_column):\n",
    "    data[date_column] = pd.to_datetime(data[date_column])\n",
    "    index = pd.DatetimeIndex(data[date_column])\n",
    "    data[\"year\"] = index.year\n",
    "    data[\"month\"] = index.month\n",
    "    data[\"day\"] = index.day\n",
    "    return data\n",
    "\n",
    "# Create new features (lags, aggregated values based on lags)\n",
    "def group_by_agg_lags(data):\n",
    "    g = data.groupby([\"store\", \"item\"]).sales\n",
    "\n",
    "    # lags older than 92 to be aple to prepare test data correctly \n",
    "    for i in range(92,366):\n",
    "        data[\"lag_\"+str(i)] = g.shift(i)\n",
    "    data.dropna(inplace=True, axis=0)\n",
    "    \n",
    "    data[\"mean_last_year_week_7\"] = data.iloc[:,266:274].mean(axis=1)\n",
    "    data[\"mean_last_year_week_6\"] = data.iloc[:,267:275].mean(axis=1)\n",
    "    data[\"mean_last_year_week_5\"] = data.iloc[:,268:276].mean(axis=1)\n",
    "    data[\"mean_last_year_week_4\"] = data.iloc[:,269:277].mean(axis=1)\n",
    "    data[\"mean_last_year_week_3\"] = data.iloc[:,270:278].mean(axis=1)\n",
    "    data[\"mean_last_year_week_2\"] = data.iloc[:,271:279].mean(axis=1)\n",
    "    data[\"mean_last_year_week_1\"] = data.iloc[:,272:280].mean(axis=1)\n",
    "    data[\"moving_mean_last_year_week\"] = data.iloc[:,280:287].mean(axis=1)\n",
    "    data[\"sum_last_year_week\"] = data.iloc[:,272:280].sum(axis=1)\n",
    "    return data"
   ]
  },
  {
   "cell_type": "code",
   "execution_count": 5,
   "metadata": {},
   "outputs": [
    {
     "name": "stdout",
     "output_type": "stream",
     "text": [
      "New data shape:\n",
      "(730500, 290)\n",
      "Training data shape:\n",
      "(684500, 290)\n",
      "Testing data shape:\n",
      "(46000, 290)\n"
     ]
    }
   ],
   "source": [
    "# prepare date columns\n",
    "data = prepare_date(data, \"date\")\n",
    "\n",
    "# aggregate data, prepare lags, remove null rows\n",
    "data = group_by_agg_lags(data)\n",
    "print(\"New data shape:\")\n",
    "print(data.shape)\n",
    "\n",
    "# split to train and test\n",
    "train = data[data.date <= \"2017-09-30\"]\n",
    "print(\"Training data shape:\")\n",
    "print(train.shape)\n",
    "\n",
    "# last 3 month for testing\n",
    "test = data[data.date > \"2017-09-30\"]\n",
    "print(\"Testing data shape:\")\n",
    "print(test.shape)"
   ]
  },
  {
   "cell_type": "code",
   "execution_count": 6,
   "metadata": {},
   "outputs": [
    {
     "name": "stdout",
     "output_type": "stream",
     "text": [
      "Parse progress: |█████████████████████████████████████████████████████████| 100%\n",
      "Parse progress: |█████████████████████████████████████████████████████████| 100%\n"
     ]
    }
   ],
   "source": [
    "# Upload prepared data to h2o \n",
    "train_h2o = h2o.H2OFrame(train)\n",
    "test_h2o = h2o.H2OFrame(test)"
   ]
  },
  {
   "cell_type": "code",
   "execution_count": 7,
   "metadata": {},
   "outputs": [],
   "source": [
    "# evaluate number of good predictions\n",
    "def evaluate(test, predictions):\n",
    "    predictions[\"actual\"] = test.sales.values\n",
    "    predictions.columns = [\"prediction\", \"actual\"]\n",
    "    predictions[\"residual\"] = predictions.actual - predictions.prediction\n",
    "    predictions[\"fit\"] = 0\n",
    "    predictions.loc[predictions.residual < 0, \"fit\"] = 0\n",
    "    predictions.loc[predictions.residual >= 0, \"fit\"] = 1\n",
    "    items = predictions.shape[0]\n",
    "    more_or_perfect = sum(predictions.fit)\n",
    "    less = items - more_or_perfect\n",
    "    return (items, less, more_or_perfect)\n",
    "\n",
    "# print result of evaluation\n",
    "def print_evaluation(predictions, less, more_or_perfect):\n",
    "    import matplotlib.pyplot as plt\n",
    "    import numpy as np\n",
    "    %matplotlib inline\n",
    "\n",
    "    name = [\"less\", \"more or perfect\"]\n",
    "    count = [less, more_or_perfect]\n",
    "    rank = [-4, 4]\n",
    "\n",
    "    #create scatter plot\n",
    "    fig, ax = plt.subplots()\n",
    "    ax.axis([-10,10,-14000,90000])\n",
    "    ax.scatter(rank,count,s=count,marker='o', c=[\"red\",\"green\"])\n",
    "\n",
    "    #label each bubble\n",
    "    for n,c,r in zip(name, count, rank):\n",
    "        plt.annotate(\"{}\".format(c),xy=(r, c), ha=\"center\", va=\"center\", color=\"white\", weight='bold', size=15)\n",
    "        plt.annotate(n ,xy=(r, c), xytext=(0,15),\n",
    "                 textcoords=\"offset points\", ha=\"center\", va=\"bottom\", color=\"white\", weight='bold', size=13)\n",
    "    plt.title(\"Ratio between acceptable and nonacceptable predictions\", weight='bold', size=15)\n",
    "    plt.axis('off')\n",
    "    plt.show()\n",
    "\n",
    "    n, bins, patches = plt.hist(x=predictions.residual, bins='auto', color='#0504aa')\n",
    "    plt.grid(axis='y', alpha=0.75)\n",
    "    plt.xlabel('Value of residual')\n",
    "    plt.ylabel('Frequency')\n",
    "    plt.title('Histogram of residuals', weight='bold', size=15)\n",
    "    maxfreq = n.max()\n",
    "    plt.ylim(top=np.ceil(maxfreq / 10) * 10 if maxfreq % 10 else maxfreq + 10)"
   ]
  },
  {
   "cell_type": "code",
   "execution_count": 8,
   "metadata": {},
   "outputs": [
    {
     "name": "stdout",
     "output_type": "stream",
     "text": [
      "gbm Model Build progress: |███████████████████████████████████████████████| 100%\n",
      "gbm prediction progress: |████████████████████████████████████████████████| 100%\n"
     ]
    },
    {
     "data": {
      "image/png": "[encoded data removed]",
      "text/plain": [
       "<Figure size 432x288 with 1 Axes>"
      ]
     },
     "metadata": {
      "needs_background": "light"
     },
     "output_type": "display_data"
    },
    {
     "data": {
      "image/png": "[encoded data removed]",
      "text/plain": [
       "<Figure size 432x288 with 1 Axes>"
      ]
     },
     "metadata": {
      "needs_background": "light"
     },
     "output_type": "display_data"
    }
   ],
   "source": [
    "# Train GBM model with gaussian \n",
    "gbm_gaussian = H2OGradientBoostingEstimator(model_id=\"sales_model\",\n",
    "                                     ntrees=50,\n",
    "                                     max_depth=5,\n",
    "                                     score_each_iteration=True,\n",
    "                                     distribution=\"gaussian\")\n",
    "gbm_gaussian.train(y=\"sales\", x=train_h2o.names, training_frame=train_h2o)\n",
    "\n",
    "predictions = gbm_gaussian.predict(test_data=test_h2o).as_data_frame()\n",
    "\n",
    "items, less, more_or_perfect = evaluate(test, predictions)\n",
    "\n",
    "print_evaluation(predictions, less, more_or_perfect)"
   ]
  },
  {
   "cell_type": "code",
   "execution_count": 9,
   "metadata": {},
   "outputs": [
    {
     "name": "stdout",
     "output_type": "stream",
     "text": [
      "gbm Model Build progress: |███████████████████████████████████████████████| 100%\n",
      "gbm prediction progress: |████████████████████████████████████████████████| 100%\n"
     ]
    },
    {
     "data": {
      "image/png": "[encoded data removed]",
      "text/plain": [
       "<Figure size 432x288 with 1 Axes>"
      ]
     },
     "metadata": {
      "needs_background": "light"
     },
     "output_type": "display_data"
    },
    {
     "data": {
      "image/png": "[encoded data removed]",
      "text/plain": [
       "<Figure size 432x288 with 1 Axes>"
      ]
     },
     "metadata": {
      "needs_background": "light"
     },
     "output_type": "display_data"
    }
   ],
   "source": [
    "# Define asymmetric loss distribution from Gaussian distribution \n",
    "class AsymmetricLossDistribution(CustomDistributionGaussian):\n",
    "\n",
    "    def gradient(self, y, f):\n",
    "        error = y - f\n",
    "        # bigger sales value is better error than the smaller one\n",
    "        return 10 * error if error < 0 else 0.5 * error\n",
    "    \n",
    "\n",
    "name = \"asymetric\"\n",
    "distribution_ref = h2o.upload_custom_distribution(AsymmetricLossDistribution, func_name=\"custom_\"+name,\n",
    "                                          func_file=\"custom_\"+name+\".py\")\n",
    "\n",
    "gbm_custom = H2OGradientBoostingEstimator(model_id=\"custom_sales_model\",\n",
    "                                     ntrees=50,\n",
    "                                     max_depth=5,\n",
    "                                     score_each_iteration=True,\n",
    "                                     distribution=\"custom\",\n",
    "                                     custom_distribution_func=distribution_ref)\n",
    "gbm_custom.train(y=\"sales\", x=train_h2o.names, training_frame=train_h2o)\n",
    "\n",
    "predictions = gbm_custom.predict(test_data=test_h2o).as_data_frame()\n",
    "items, less, more_or_perfect = evaluate(test, predictions)\n",
    "print_evaluation(predictions, less, more_or_perfect)"
   ]
  }
 ],
 "metadata": {
  "kernelspec": {
   "display_name": "Python 3",
   "language": "python",
   "name": "python3"
  },
  "language_info": {
   "codemirror_mode": {
    "name": "ipython",
    "version": 3
   },
   "file_extension": ".py",
   "mimetype": "text/x-python",
   "name": "python",
   "nbconvert_exporter": "python",
   "pygments_lexer": "ipython3",
   "version": "3.7.3"
  }
 },
 "nbformat": 4,
 "nbformat_minor": 2
}
