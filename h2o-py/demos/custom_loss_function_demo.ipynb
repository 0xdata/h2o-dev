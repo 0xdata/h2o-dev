{
 "cells": [
  {
   "cell_type": "markdown",
   "metadata": {},
   "source": [
    "# Custom loss function in GBM demo\n",
    "\n",
    "In H2O GBM implementation distributions, and loss functions are tightly coupled. In the algorithm, a loss function is specified using the distribution parameter. When specifying the distribution, the loss function is automatically selected as well.\n",
    "\n",
    "Usually, the loss functions are symmetric around some value. For example, Gaussian \"Normal\" distribution use Square Error Loss, which is symmetric around mean.\n",
    "\n",
    "![gaussian](http://docs.h2o.ai/h2o/latest-stable/h2o-docs/_images/gaussian.png)\n",
    "\n",
    "In some prediction problems, the asymmetry in loss function can improve results. For example, if we know that some kind of error is more undesirable than others. We can use weights as well. However, it is not easy to use for more complicated calculation, and it can not cover all possibilities well.\n",
    "\n",
    "You can get more information about customization of loss function [here](https://towardsdatascience.com/custom-loss-functions-for-gradient-boosting-f79c1b40466d), where is an example using LightGBM library. XGBoost library also provides this possibility.\n",
    "\n",
    "In H2O you can upload custom distribution now and also customized loss function calculation. See the example below."
   ]
  },
  {
   "cell_type": "code",
   "execution_count": 2,
   "metadata": {},
   "outputs": [
    {
     "name": "stdout",
     "output_type": "stream",
     "text": [
      "versionFromGradle='3.25.0',projectVersion='3.25.0.99999',branch='maurever_PUBDEV-4076_custom_loss_function',lastCommitHash='89feb962ee4c89ab847ed3eb052062ca091e9c69',gitDescribe='jenkins-master-4714-38-g89feb962ee-dirty',compiledOn='2019-07-02 15:02:01',compiledBy='mori'\n",
      "Checking whether there is an H2O instance running at http://localhost:54321 ..... not found.\n",
      "Attempting to start a local H2O server...\n",
      "  Java Version: openjdk version \"11.0.3\" 2019-04-16; OpenJDK Runtime Environment (build 11.0.3+7-post-Debian-5); OpenJDK 64-Bit Server VM (build 11.0.3+7-post-Debian-5, mixed mode, sharing)\n",
      "  Starting server from /home/mori/Documents/h2o/code/h2o-3/build/h2o.jar\n",
      "  Ice root: /tmp/tmpqqdbiwns\n",
      "  JVM stdout: /tmp/tmpqqdbiwns/h2o_mori_started_from_python.out\n",
      "  JVM stderr: /tmp/tmpqqdbiwns/h2o_mori_started_from_python.err\n",
      "  Server is running at http://127.0.0.1:54321\n",
      "Connecting to H2O server at http://127.0.0.1:54321 ... successful.\n"
     ]
    },
    {
     "data": {
      "text/html": [
       "<div style=\"overflow:auto\"><table style=\"width:50%\"><tr><td>H2O cluster uptime:</td>\n",
       "<td>01 secs</td></tr>\n",
       "<tr><td>H2O cluster timezone:</td>\n",
       "<td>Europe/Berlin</td></tr>\n",
       "<tr><td>H2O data parsing timezone:</td>\n",
       "<td>UTC</td></tr>\n",
       "<tr><td>H2O cluster version:</td>\n",
       "<td>3.25.0.99999</td></tr>\n",
       "<tr><td>H2O cluster version age:</td>\n",
       "<td>1 day </td></tr>\n",
       "<tr><td>H2O cluster name:</td>\n",
       "<td>H2O_from_python_mori_346k5q</td></tr>\n",
       "<tr><td>H2O cluster total nodes:</td>\n",
       "<td>1</td></tr>\n",
       "<tr><td>H2O cluster free memory:</td>\n",
       "<td>5.768 Gb</td></tr>\n",
       "<tr><td>H2O cluster total cores:</td>\n",
       "<td>8</td></tr>\n",
       "<tr><td>H2O cluster allowed cores:</td>\n",
       "<td>8</td></tr>\n",
       "<tr><td>H2O cluster status:</td>\n",
       "<td>accepting new members, healthy</td></tr>\n",
       "<tr><td>H2O connection url:</td>\n",
       "<td>http://127.0.0.1:54321</td></tr>\n",
       "<tr><td>H2O connection proxy:</td>\n",
       "<td>None</td></tr>\n",
       "<tr><td>H2O internal security:</td>\n",
       "<td>False</td></tr>\n",
       "<tr><td>H2O API Extensions:</td>\n",
       "<td>Amazon S3, XGBoost, Algos, AutoML, Core V3, Core V4</td></tr>\n",
       "<tr><td>Python version:</td>\n",
       "<td>3.7.3 final</td></tr></table></div>"
      ],
      "text/plain": [
       "--------------------------  ---------------------------------------------------\n",
       "H2O cluster uptime:         01 secs\n",
       "H2O cluster timezone:       Europe/Berlin\n",
       "H2O data parsing timezone:  UTC\n",
       "H2O cluster version:        3.25.0.99999\n",
       "H2O cluster version age:    1 day\n",
       "H2O cluster name:           H2O_from_python_mori_346k5q\n",
       "H2O cluster total nodes:    1\n",
       "H2O cluster free memory:    5.768 Gb\n",
       "H2O cluster total cores:    8\n",
       "H2O cluster allowed cores:  8\n",
       "H2O cluster status:         accepting new members, healthy\n",
       "H2O connection url:         http://127.0.0.1:54321\n",
       "H2O connection proxy:\n",
       "H2O internal security:      False\n",
       "H2O API Extensions:         Amazon S3, XGBoost, Algos, AutoML, Core V3, Core V4\n",
       "Python version:             3.7.3 final\n",
       "--------------------------  ---------------------------------------------------"
      ]
     },
     "metadata": {},
     "output_type": "display_data"
    }
   ],
   "source": [
    "# import h2o and other libraries\n",
    "import h2o\n",
    "import pandas as pd\n",
    "import datetime\n",
    "\n",
    "from h2o.estimators.gbm import H2OGradientBoostingEstimator\n",
    "\n",
    "# init h2o\n",
    "h2o.init()"
   ]
  },
  {
   "cell_type": "markdown",
   "metadata": {},
   "source": [
    "## Data \n",
    "\n",
    "To demonstrate how to customize loss function, we use [Store Item Demand Forecasting training dataset](https://www.kaggle.com/c/demand-forecasting-kernels-only/data) from Kaggle. \n",
    "\n",
    "**Data fields:**\n",
    "\n",
    "- date - Date of the sale data. There are no holiday effects or store closures.\n",
    "- store - Store ID\n",
    "- item - Item ID\n",
    "- sales - Number of items sold at a particular store on a particular date.\n",
    "\n",
    "The goal is to forecast how many items will be sale in a store on a specific date. This task can be useful for example, for planning how many items to store in which shop to be available for customers, however with costs for space in the shop as low as possible. "
   ]
  },
  {
   "cell_type": "code",
   "execution_count": 3,
   "metadata": {},
   "outputs": [
    {
     "name": "stdout",
     "output_type": "stream",
     "text": [
      "(913000, 4)\n"
     ]
    }
   ],
   "source": [
    "# load data \n",
    "data = pd.read_csv(\"../../smalldata/demos/item_demand.csv\")\n",
    "print(data.shape)"
   ]
  },
  {
   "cell_type": "markdown",
   "metadata": {},
   "source": [
    "## Data preprocessing\n",
    "\n",
    "To predict a specific value, we need to prepare some new features. First split date to year, month, day. Then we make \"lag\" features one year back. From these features, we aggregate some other values."
   ]
  },
  {
   "cell_type": "code",
   "execution_count": 4,
   "metadata": {},
   "outputs": [],
   "source": [
    "# Transform date column\n",
    "def prepare_date(data, date_column):\n",
    "    data[date_column] = pd.to_datetime(data[date_column])\n",
    "    index = pd.DatetimeIndex(data[date_column])\n",
    "    data[\"year\"] = index.year\n",
    "    data[\"month\"] = index.month\n",
    "    data[\"day\"] = index.day\n",
    "    return data\n",
    "\n",
    "# Create new features (lags, aggregated values based on lags)\n",
    "def group_by_agg_lags(data):\n",
    "    g = data.groupby([\"store\", \"item\"]).sales\n",
    "\n",
    "    # lags older than 92 to be aple to prepare test data correctly \n",
    "    for i in range(92,366):\n",
    "        data[\"lag_\"+str(i)] = g.shift(i)\n",
    "    data.dropna(inplace=True, axis=0)\n",
    "    \n",
    "    data[\"mean_last_year_week_7\"] = data.iloc[:,266:274].mean(axis=1)\n",
    "    data[\"mean_last_year_week_6\"] = data.iloc[:,267:275].mean(axis=1)\n",
    "    data[\"mean_last_year_week_5\"] = data.iloc[:,268:276].mean(axis=1)\n",
    "    data[\"mean_last_year_week_4\"] = data.iloc[:,269:277].mean(axis=1)\n",
    "    data[\"mean_last_year_week_3\"] = data.iloc[:,270:278].mean(axis=1)\n",
    "    data[\"mean_last_year_week_2\"] = data.iloc[:,271:279].mean(axis=1)\n",
    "    data[\"mean_last_year_week_1\"] = data.iloc[:,272:280].mean(axis=1)\n",
    "    data[\"moving_mean_last_year_week\"] = data.iloc[:,280:287].mean(axis=1)\n",
    "    data[\"sum_last_year_week\"] = data.iloc[:,272:280].sum(axis=1)\n",
    "    return data"
   ]
  },
  {
   "cell_type": "code",
   "execution_count": 5,
   "metadata": {},
   "outputs": [
    {
     "name": "stdout",
     "output_type": "stream",
     "text": [
      "New data shape:\n",
      "(730500, 290)\n",
      "Training data shape:\n",
      "(684500, 290)\n",
      "Testing data shape:\n",
      "(46000, 290)\n",
      "Parse progress: |█████████████████████████████████████████████████████████| 100%\n",
      "Parse progress: |█████████████████████████████████████████████████████████| 100%\n"
     ]
    }
   ],
   "source": [
    "# prepare date columns\n",
    "data = prepare_date(data, \"date\")\n",
    "\n",
    "# aggregate data, prepare lags, remove null rows\n",
    "data = group_by_agg_lags(data)\n",
    "print(\"New data shape:\")\n",
    "print(data.shape)\n",
    "\n",
    "# split to train and test\n",
    "train = data[data.date <= \"2017-09-30\"]\n",
    "print(\"Training data shape:\")\n",
    "print(train.shape)\n",
    "\n",
    "# last 3 month for testing\n",
    "test = data[data.date > \"2017-09-30\"]\n",
    "print(\"Testing data shape:\")\n",
    "print(test.shape)\n",
    "\n",
    "# Upload prepared data to h2o \n",
    "train_h2o = h2o.H2OFrame(train)\n",
    "test_h2o = h2o.H2OFrame(test)"
   ]
  },
  {
   "cell_type": "markdown",
   "metadata": {},
   "source": [
    "## Types of error\n",
    "\n",
    "There could be two types of error:\n",
    "- there are the fewer amount of items in a store\n",
    "- there are the more or perfect amount of items in a store\n",
    "\n",
    "If we use traditional Gaussian distribution to train model, the algorithm penalizes these two errors similarly. But for a manager of the stores could be more expensive not to sell an item, than store more items in a particular shop. Thus the first error is more critical to penalize during the training than the second one."
   ]
  },
  {
   "cell_type": "code",
   "execution_count": 6,
   "metadata": {},
   "outputs": [],
   "source": [
    "# evaluate number of good predictions\n",
    "def evaluate(test, predictions):\n",
    "    predictions[\"actual\"] = test.sales.values\n",
    "    predictions.columns = [\"prediction\", \"actual\"]\n",
    "    predictions[\"residual\"] = predictions.actual - predictions.prediction\n",
    "    predictions[\"fit\"] = 0\n",
    "    predictions.loc[predictions.residual < 0, \"fit\"] = 0\n",
    "    predictions.loc[predictions.residual >= 0, \"fit\"] = 1\n",
    "    items = predictions.shape[0]\n",
    "    more_or_perfect = sum(predictions.fit)\n",
    "    less = items - more_or_perfect\n",
    "    return (items, less, more_or_perfect)\n",
    "\n",
    "# print result of evaluation\n",
    "def print_evaluation(predictions, less, more_or_perfect):\n",
    "    import matplotlib.pyplot as plt\n",
    "    import numpy as np\n",
    "    # set if no figure on output\n",
    "    # %matplotlib inline\n",
    "\n",
    "    #create scatter plot to show numbers of the errors\n",
    "    name = [\"fewer\", \"more or perfect\"]\n",
    "    count = [less, more_or_perfect]\n",
    "    rank = [-4, 4]\n",
    "\n",
    "    fig, ax = plt.subplots()\n",
    "    ax.axis([-10,10,-14000,90000])\n",
    "    ax.scatter(rank,count,s=count,marker='o', c=[\"red\",\"green\"])\n",
    "\n",
    "    for n,c,r in zip(name, count, rank):\n",
    "        plt.annotate(\"{}\".format(c),xy=(r, c), ha=\"center\", va=\"center\", color=\"white\", weight='bold', size=15)\n",
    "        plt.annotate(n ,xy=(r, c), xytext=(0,15),\n",
    "                 textcoords=\"offset points\", ha=\"center\", va=\"bottom\", color=\"white\", weight='bold', size=13)\n",
    "    plt.title(\"Ratio between acceptable and nonacceptable predictions\", weight='bold', size=15)\n",
    "    plt.axis('off')\n",
    "    plt.show()\n",
    "\n",
    "    #create histogram of residuals \n",
    "    n, bins, patches = plt.hist(x=predictions.residual, bins='auto', color='#0504aa')\n",
    "    plt.grid(axis='y', alpha=0.75)\n",
    "    plt.xlabel('Value of residual')\n",
    "    plt.ylabel('Frequency')\n",
    "    plt.title('Histogram of residuals \\n mean='+str(np.mean(predictions.residual)), weight='bold', size=15)\n",
    "    maxfreq = n.max()\n",
    "    plt.ylim(top=np.ceil(maxfreq / 10) * 10 if maxfreq % 10 else maxfreq + 10)"
   ]
  },
  {
   "cell_type": "markdown",
   "metadata": {},
   "source": [
    "## Gaussian Distribution - symmetric\n",
    "\n",
    "To use Gaussian distribution and Squared error loss function we need only set the ``distribution`` parameter to ``gaussian``.\n",
    "\n",
    "From the images below, we can see the numbers of two types of error are similar. Also, the distribution of residuals is symmetric around zero value. "
   ]
  },
  {
   "cell_type": "code",
   "execution_count": 7,
   "metadata": {},
   "outputs": [
    {
     "name": "stdout",
     "output_type": "stream",
     "text": [
      "gbm Model Build progress: |███████████████████████████████████████████████| 100%\n",
      "gbm prediction progress: |████████████████████████████████████████████████| 100%\n"
     ]
    },
    {
     "data": {
      "image/png": "[encoded data removed]",
      "text/plain": [
       "<Figure size 432x288 with 1 Axes>"
      ]
     },
     "metadata": {
      "needs_background": "light"
     },
     "output_type": "display_data"
    },
    {
     "data": {
      "image/png": "[encoded data removed]",
      "text/plain": [
       "<Figure size 432x288 with 1 Axes>"
      ]
     },
     "metadata": {
      "needs_background": "light"
     },
     "output_type": "display_data"
    }
   ],
   "source": [
    "# Train GBM model with gaussian \n",
    "gbm_gaussian = H2OGradientBoostingEstimator(model_id=\"sales_model\",\n",
    "                                     ntrees=50,\n",
    "                                     max_depth=5,\n",
    "                                     score_each_iteration=True,\n",
    "                                     distribution=\"gaussian\")\n",
    "gbm_gaussian.train(y=\"sales\", x=train_h2o.names, training_frame=train_h2o)\n",
    "\n",
    "predictions = gbm_gaussian.predict(test_data=test_h2o).as_data_frame()\n",
    "\n",
    "items, less, more_or_perfect = evaluate(test, predictions)\n",
    "\n",
    "print_evaluation(predictions, less, more_or_perfect)"
   ]
  },
  {
   "cell_type": "markdown",
   "metadata": {},
   "source": [
    "## Custom Gaussian Distribution - asymmetric\n",
    "\n",
    "To use Custom distribution and implement asymmetric loss function we need only set the ``distribution`` parameter to ``custom``. Also, we need to upload our implementation of distribution and set reference to this distribution to ``custom_distribution_func`` parameter.\n",
    "\n",
    "We can implement an entirely own version of a distribution. However, we need to implement only different loss function calculation and that it is the reason to inherit from predefined ``CustomDistributionGaussian`` class and override only ``gradient`` function.\n",
    "\n",
    "In the images below, we can see the number of the first type error is rapidly lower than the amount of the second type error. On the residual histogram, we can also see mean residual value is a positive value, and even more values are shifted to the right."
   ]
  },
  {
   "cell_type": "code",
   "execution_count": 8,
   "metadata": {},
   "outputs": [
    {
     "name": "stdout",
     "output_type": "stream",
     "text": [
      "gbm Model Build progress: |███████████████████████████████████████████████| 100%\n",
      "gbm prediction progress: |████████████████████████████████████████████████| 100%\n"
     ]
    },
    {
     "data": {
      "image/png": "[encoded data removed]",
      "text/plain": [
       "<Figure size 432x288 with 1 Axes>"
      ]
     },
     "metadata": {
      "needs_background": "light"
     },
     "output_type": "display_data"
    },
    {
     "data": {
      "image/png": "[encoded data removed]",
      "text/plain": [
       "<Figure size 432x288 with 1 Axes>"
      ]
     },
     "metadata": {
      "needs_background": "light"
     },
     "output_type": "display_data"
    }
   ],
   "source": [
    "# Import predefined Gaussian Distribution\n",
    "from h2o.utils.distributions import CustomDistributionGaussian\n",
    "\n",
    "# Define asymmetric loss distribution from Gaussian distribution \n",
    "class AsymmetricLossDistribution(CustomDistributionGaussian):\n",
    "\n",
    "    def gradient(self, y, f):\n",
    "        error = y - f\n",
    "        # more predicted items is better error than the fewer predicted items\n",
    "        return 10 * error if error < 0 else 0.5 * error\n",
    "    \n",
    "\n",
    "name = \"asymetric\"\n",
    "distribution_ref = h2o.upload_custom_distribution(AsymmetricLossDistribution, func_name=\"custom_\"+name,\n",
    "                                          func_file=\"custom_\"+name+\".py\")\n",
    "\n",
    "gbm_custom = H2OGradientBoostingEstimator(model_id=\"custom_sales_model\",\n",
    "                                     ntrees=50,\n",
    "                                     max_depth=5,\n",
    "                                     score_each_iteration=True,\n",
    "                                     distribution=\"custom\",\n",
    "                                     custom_distribution_func=distribution_ref)\n",
    "gbm_custom.train(y=\"sales\", x=train_h2o.names, training_frame=train_h2o)\n",
    "\n",
    "predictions = gbm_custom.predict(test_data=test_h2o).as_data_frame()\n",
    "items, less, more_or_perfect = evaluate(test, predictions)\n",
    "print_evaluation(predictions, less, more_or_perfect)"
   ]
  },
  {
   "cell_type": "markdown",
   "metadata": {},
   "source": [
    "## Conclusion\n",
    "\n",
    "We used a simple loss function improvement, but the result is significant. In this example, the resulting metric (for instance MSE) is not important for this demonstration (it also evaluate our error symmetrically). If you want to measure the performance of model asymmetrically, you can define your asymmetric custom metric too (more information and example [here](http://docs.h2o.ai/h2o/latest-stable/h2o-docs/data-science/algo-params/custom_metric_func.html)). "
   ]
  }
 ],
 "metadata": {
  "kernelspec": {
   "display_name": "Python 3",
   "language": "python",
   "name": "python3"
  },
  "language_info": {
   "codemirror_mode": {
    "name": "ipython",
    "version": 3
   },
   "file_extension": ".py",
   "mimetype": "text/x-python",
   "name": "python",
   "nbconvert_exporter": "python",
   "pygments_lexer": "ipython3",
   "version": "3.7.3"
  }
 },
 "nbformat": 4,
 "nbformat_minor": 2
}
