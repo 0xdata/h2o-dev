{
 "cells": [
  {
   "cell_type": "markdown",
   "metadata": {},
   "source": [
    "# Rulefit demo - Airlines Dataset"
   ]
  },
  {
   "cell_type": "markdown",
   "metadata": {},
   "source": [
    "## H2O Rulefit algorithm\n",
    "\n",
    "Rulefit algorithm combines tree ensembles and linear models to take advantage of both methods: a tree ensemble accuracy and a linear model interpretability. The general algorithm fits a tree ensebmle to the data, builds a rule ensemble by traversing each tree, evaluates the rules on the data to build a rule feature set and fits a sparse linear model (LASSO) to the rule feature set joined with the original feature set.\n",
    "\n",
    "For more information, refer to: http://statweb.stanford.edu/~jhf/ftp/RuleFit.pdf by Jerome H. Friedman and Bogden E. Popescu.\n",
    "\n",
    "## Demo example\n",
    "\n",
    "We will train a rulefit model to predict the rules defining whether a flight delays at take-off or not:\n"
   ]
  },
  {
   "cell_type": "code",
   "execution_count": 1,
   "metadata": {
    "scrolled": true
   },
   "outputs": [
    {
     "name": "stdout",
     "output_type": "stream",
     "text": [
      "versionFromGradle='3.31.0',projectVersion='3.31.0.99999',branch='zuzana_rulefit_weights_and_response',lastCommitHash='a4583d2882a2f233e5038a543e1cffa3253e78f7',gitDescribe='jenkins-master-5213-46-ga4583d2882-dirty',compiledOn='2020-10-08 11:41:51',compiledBy='zuzanaolajcova'\n",
      "Checking whether there is an H2O instance running at http://192.168.59.134:50000 . connected.\n"
     ]
    },
    {
     "data": {
      "text/html": [
       "<div style=\"overflow:auto\"><table style=\"width:50%\"><tr><td>H2O_cluster_uptime:</td>\n",
       "<td>24 secs</td></tr>\n",
       "<tr><td>H2O_cluster_timezone:</td>\n",
       "<td>Europe/Prague</td></tr>\n",
       "<tr><td>H2O_data_parsing_timezone:</td>\n",
       "<td>UTC</td></tr>\n",
       "<tr><td>H2O_cluster_version:</td>\n",
       "<td>3.32.0.99999</td></tr>\n",
       "<tr><td>H2O_cluster_version_age:</td>\n",
       "<td>3 days </td></tr>\n",
       "<tr><td>H2O_cluster_name:</td>\n",
       "<td>rulefit_local</td></tr>\n",
       "<tr><td>H2O_cluster_total_nodes:</td>\n",
       "<td>1</td></tr>\n",
       "<tr><td>H2O_cluster_free_memory:</td>\n",
       "<td>55.51 Gb</td></tr>\n",
       "<tr><td>H2O_cluster_total_cores:</td>\n",
       "<td>40</td></tr>\n",
       "<tr><td>H2O_cluster_allowed_cores:</td>\n",
       "<td>40</td></tr>\n",
       "<tr><td>H2O_cluster_status:</td>\n",
       "<td>locked, healthy</td></tr>\n",
       "<tr><td>H2O_connection_url:</td>\n",
       "<td>http://192.168.59.134:50000</td></tr>\n",
       "<tr><td>H2O_connection_proxy:</td>\n",
       "<td>null</td></tr>\n",
       "<tr><td>H2O_internal_security:</td>\n",
       "<td>False</td></tr>\n",
       "<tr><td>H2O_API_Extensions:</td>\n",
       "<td>Amazon S3, XGBoost, Algos, AutoML, Core V3, TargetEncoder, Core V4</td></tr>\n",
       "<tr><td>Python_version:</td>\n",
       "<td>3.8.1 final</td></tr></table></div>"
      ],
      "text/plain": [
       "--------------------------  ------------------------------------------------------------------\n",
       "H2O_cluster_uptime:         24 secs\n",
       "H2O_cluster_timezone:       Europe/Prague\n",
       "H2O_data_parsing_timezone:  UTC\n",
       "H2O_cluster_version:        3.32.0.99999\n",
       "H2O_cluster_version_age:    3 days\n",
       "H2O_cluster_name:           rulefit_local\n",
       "H2O_cluster_total_nodes:    1\n",
       "H2O_cluster_free_memory:    55.51 Gb\n",
       "H2O_cluster_total_cores:    40\n",
       "H2O_cluster_allowed_cores:  40\n",
       "H2O_cluster_status:         locked, healthy\n",
       "H2O_connection_url:         http://192.168.59.134:50000\n",
       "H2O_connection_proxy:       null\n",
       "H2O_internal_security:      False\n",
       "H2O_API_Extensions:         Amazon S3, XGBoost, Algos, AutoML, Core V3, TargetEncoder, Core V4\n",
       "Python_version:             3.8.1 final\n",
       "--------------------------  ------------------------------------------------------------------"
      ]
     },
     "metadata": {},
     "output_type": "display_data"
    }
   ],
   "source": [
    "import h2o\n",
    "from h2o.estimators import H2ORuleFitEstimator, H2ORandomForestEstimator\n",
    "\n",
    "# init h2o cluster\n",
    "h2o.init(url=\"http://192.168.59.134:50000\", strict_version_check=False)"
   ]
  },
  {
   "cell_type": "code",
   "execution_count": 2,
   "metadata": {},
   "outputs": [
    {
     "name": "stdout",
     "output_type": "stream",
     "text": [
      "Parse progress: |█████████████████████████████████████████████████████████| 100%\n"
     ]
    }
   ],
   "source": [
    "# Import the airlines dataset into H2O:\n",
    "airlines = h2o.import_file(\"http://h2o-public-test-data.s3.amazonaws.com/bigdata/server/airlines_all.csv\")\n",
    "\n",
    "airlines[\"Year\"] = airlines[\"Year\"].asfactor()\n",
    "airlines[\"Month\"] = airlines[\"Month\"].asfactor()\n",
    "airlines[\"DayOfWeek\"] = airlines[\"DayOfWeek\"].asfactor()\n",
    "airlines[\"Cancelled\"] = airlines[\"Cancelled\"].asfactor()\n",
    "airlines['FlightNum'] = airlines['FlightNum'].asfactor()\n",
    "\n",
    "predictors = [\"Origin\", \"Dest\", \"Year\", \"UniqueCarrier\",\"DayOfWeek\", \"Month\", \"Distance\", \"FlightNum\"]\n",
    "response = \"IsDepDelayed\""
   ]
  },
  {
   "cell_type": "markdown",
   "metadata": {},
   "source": [
    "Using the `algorithm` parameter, a user can set whether algorithm will use DRF or GBM to fit a tree enseble. \n",
    "\n",
    "Using the `min_rule_length` and `max_rule_length` parameters, a user can set interval of tree enseble depths to be fitted. The bigger this interval is, the more tree ensembles will be fitted (1 per each depth) and the bigger the rule feature set will be.\n",
    "\n",
    "Using the `max_num_rules` parameter, the maximum number of rules to return can be set.\n",
    "\n",
    "Using the `model_type` parameter, the type of base learners in the enseble can be set.\n",
    "\n",
    "Using the `rule_generation_ntrees` parameter, the number of trees for tree enseble can be set."
   ]
  },
  {
   "cell_type": "code",
   "execution_count": 3,
   "metadata": {},
   "outputs": [
    {
     "name": "stdout",
     "output_type": "stream",
     "text": [
      "rulefit Model Build progress: |███████████████████████████████████████████| 100%\n"
     ]
    }
   ],
   "source": [
    "rfit = H2ORuleFitEstimator(algorithm=\"drf\",\n",
    "                           min_rule_length=1,\n",
    "                           max_rule_length=4,\n",
    "                           max_num_rules=30,\n",
    "                           model_type=\"rules_and_linear\",\n",
    "                           seed=1234,\n",
    "                           rule_generation_ntrees=50)\n",
    "rfit.train(training_frame=airlines, x=predictors, y=response)"
   ]
  },
  {
   "cell_type": "markdown",
   "metadata": {},
   "source": [
    "The output for the Rulefit model includes:\n",
    "    - model parameters\n",
    "    - rule importences in tabular form\n",
    "    - training and validation metrics of the underlying linear model"
   ]
  },
  {
   "cell_type": "code",
   "execution_count": 4,
   "metadata": {},
   "outputs": [
    {
     "data": {
      "text/html": [
       "<table border=\"1\" class=\"dataframe\">\n",
       "  <thead>\n",
       "    <tr style=\"text-align: right;\">\n",
       "      <th></th>\n",
       "      <th></th>\n",
       "      <th>variable</th>\n",
       "      <th>coefficient</th>\n",
       "      <th>rule</th>\n",
       "    </tr>\n",
       "  </thead>\n",
       "  <tbody>\n",
       "    <tr>\n",
       "      <th>0</th>\n",
       "      <td></td>\n",
       "      <td>M1T11N7</td>\n",
       "      <td>0.949084</td>\n",
       "      <td>(UniqueCarrier in {DL, F9, PI, PS, UA, US}) &amp; (Year in {1989, 1990, 1991, 1992, 1993, 1994, 1995, 1996, 1997, 1998, 2000} or Year is NA)</td>\n",
       "    </tr>\n",
       "    <tr>\n",
       "      <th>1</th>\n",
       "      <td></td>\n",
       "      <td>M2T14N17</td>\n",
       "      <td>-0.641124</td>\n",
       "      <td>(UniqueCarrier in {DL, F9, PI, PS, UA, US}) &amp; (UniqueCarrier in {DL, F9, PS, UA, US}) &amp; (Year in {1989, 1990, 1991, 1992, 1993, 1994, 1995, 1996, 1997, 1998, 2000} or Year is NA)</td>\n",
       "    </tr>\n",
       "    <tr>\n",
       "      <th>2</th>\n",
       "      <td></td>\n",
       "      <td>M1T10N10</td>\n",
       "      <td>-0.207439</td>\n",
       "      <td>(UniqueCarrier in {9E, AA, AQ, AS, B6, CO, DH, EA, EV, FL, HA, HP, ML (1), MQ, NW, OH, OO, PA (1), TW, TZ, WN, XE, YV} or UniqueCarrier is NA) &amp; (Origin in {ABE, ABI, ABQ, ABY, ACT, ACY, AEX, AGS, ALB, ALO, AMA, ANC, ANI, APF, ATW, AUS, AVL, AVP, AZO, BDL, BFF, BFL, BGM, BGR, BHM, BIL, BIS, BJI, BLI, BMI, BOI, BPT, BQK, BQN, BRO, BTM, BTR, BTV, BUF, BUR, BZN, CAE, CAK, CCR, CDC, CDV, CHA, CHO, CHS, CIC, CID, CKB, CLD, CLE, CLL, CLT, CMH, CMI, CMX, COD, COS, CPR, CRP, CRW, CSG, CVG, CWA, DAB, DAY, DBQ, DCA, DET, DHN, DLH, DRO, DSM, EAU, EFD, EGE, EKO, ELM, ELP, ERI, EUG, EVV, EWN, FAI, FAR, FAT, FAY, FCA, FLG, FLL, FLO, FNT, FSD, FSM, FWA, GCN, GEG, GFK, GGG, GJT, GLH, GNV, GPT, GRB, GRK, GRR, GSO, GSP, GTF, GUC, GUM, HDN, HKY, HLN, HNL, HPN, HRL, HSV, HTS, HVN, IAD, ICT, IDA, ILE, ILM, IND, INL, IPL, ISO, ISP, ITO, IYK, JAC, JAN, JAX, KOA, KTN, LAN, LAW, LBB, LCH, LEX, LFT, LGB, LIH, LIT, LNK, LNY, LRD, LSE, LWB, LWS, LYH, MAF, MAZ, MBS, MCI, MCN, MCO, MDT, MEM, MFE, MFR, MGM, MHT, MIB, MKC, MKE, MKG, MKK, MLB, MLI, MLU, MOB, MOT, MQT, MRY, MSN, MSO, MSY, MTH, MTJ, MYR, OGG, OKC, OMA, ONT, ORF, ORH, OXR, PBI, PDX, PFN, PHF, PHL, PIA, PIE, PIH, PIT, PLN, PMD, PNS, PSC, PSE, PSP, PUB, PVD, PWM, RAP, RDD, RDM, RDR, RFD, RHI, RIC, RKS, RNO, ROA, ROC, ROP, ROR, ROW, RST, RSW, SAN, SAT, SAV, SBA, SBN, SBP, SCC, SCE, SCK, SDF, SGF, SGU, SHV, SIT, SJC, SJT, SJU, SLC, SLE, SMF, SMX, SNA, SPN, SPS, SRQ, STT, STX, SUN, SUX, SWF, SYR, TLH, TOL, TPA, TRI, TTN, TUL, TUP, TUS, TVC, TWF, TXK, TYR, TYS, UCA, VCT, VIS, VLD, VPS, WRG, WYS, XNA, YAK, YUM})</td>\n",
       "    </tr>\n",
       "    <tr>\n",
       "      <th>3</th>\n",
       "      <td></td>\n",
       "      <td>M0T9N4</td>\n",
       "      <td>0.188001</td>\n",
       "      <td>(UniqueCarrier in {9E, AA, AQ, AS, B6, CO, DH, EA, EV, FL, HA, HP, ML (1), MQ, NW, OH, OO, PA (1), TW, TZ, WN, XE, YV} or UniqueCarrier is NA)</td>\n",
       "    </tr>\n",
       "    <tr>\n",
       "      <th>4</th>\n",
       "      <td></td>\n",
       "      <td>M2T40N15</td>\n",
       "      <td>0.152916</td>\n",
       "      <td>(Origin in {ACK, ADK, ADQ, AKN, ASE, ATL, BET, BFF, BFI, BOS, BRW, BWI, CAE, CKB, CLT, CVG, CYS, DAY, DEN, DFW, DLG, DTW, DUT, ERI, EWR, EYW, FLL, FMN, HVN, JFK, LAS, LAX, LGA, MIA, MKC, MOD, MTH, OGD, OME, ORD, OTH, OTZ, PHL, PHX, PIR, PIT, PSG, PVU, ROA, SEA, SFO, SLC, SOP, SYR, TEX, UCA, YAP} or Origin is NA) &amp; (Year in {1989, 1990, 1991, 1992, 1993, 1994, 1995, 1996, 1997, 1998, 2000, 2001, 2007} or Year is NA) &amp; (UniqueCarrier in {AA, DL, EV, F9, MQ, PI, UA, US, XE} or UniqueCarrier is NA)</td>\n",
       "    </tr>\n",
       "    <tr>\n",
       "      <th>5</th>\n",
       "      <td></td>\n",
       "      <td>M1T36N7</td>\n",
       "      <td>0.121472</td>\n",
       "      <td>(Year in {1988, 1989, 1990, 1991, 1992, 1993, 1994, 1995, 1996, 1997, 1998, 2000, 2001, 2006, 2007, 2008} or Year is NA) &amp; (UniqueCarrier in {DL, EV, PI, PS, UA, US})</td>\n",
       "    </tr>\n",
       "    <tr>\n",
       "      <th>6</th>\n",
       "      <td></td>\n",
       "      <td>M2T21N15</td>\n",
       "      <td>0.118678</td>\n",
       "      <td>(Dest in {ABE, ABQ, ACK, ACV, ACY, ADK, AGS, AKN, ALB, AMA, ANC, APF, ASE, ATL, AUS, AVL, AVP, BDL, BFI, BGM, BGR, BHM, BMI, BOI, BOS, BQK, BQN, BTR, BTV, BUF, BWI, BZN, CAE, CAK, CCR, CHA, CHS, CID, CLT, CMH, CMI, COS, CRP, CRW, CSG, CWA, CYS, DAB, DAY, DBQ, DCA, DEN, DHN, DSM, DUT, EGE, ELM, ELP, ERI, EUG, EVV, EWN, EWR, EYW, FAI, FAY, FCA, FLL, FLO, FNT, FWA, GEG, GNV, GRK, GRR, GSO, GSP, GST, GUC, HDN, HHH, HPN, HRL, HSV, HTS, HVN, ICT, ILG, ILM, IND, ISO, ISP, ITH, JAC, JAN, JAX, JFK, LAR, LAS, LAX, LEX, LGA, LIT, LMT, LNK, LYH, MAZ, MCI, MCN, MCO, MDT, MEI, MFE, MFR, MGM, MHT, MIA, MKC, MKE, MLB, MLU, MOB, MQT, MSN, MSY, MYR, OAJ, OAK, OGD, OKC, OMA, ONT, ORD, ORF, ORH, OTH, OTZ, PBI, PDX, PFN, PHF, PHL, PHX, PIA, PIR, PIT, PNS, PSC, PSE, PSG, PVD, PWM, RCA, RDU, RFD, RIC, RNO, ROA, ROC, ROW, RSW, SAN, SAT, SAV, SBN, SCK, SDF, SEA, SFO, SHV, SIT, SJU, SKA, SLC, SMF, SOP, SPI, SRQ, STT, SWF, SYR, TLH, TOL, TPA, TRI, TTN, TUL, TUP, TUS, TVC, TYS, UCA, VIS, VLD, VPS, WRG, YAP} or Dest is NA) &amp; (UniqueCarrier in {AA, DL, PI, PS, TW, UA, US} or UniqueCarrier is NA) &amp; (Year in {1988, 1989, 1990, 1991, 1992, 1993, 1994, 1995, 1996, 1997, 1998, 2000, 2007} or Year is NA)</td>\n",
       "    </tr>\n",
       "    <tr>\n",
       "      <th>7</th>\n",
       "      <td></td>\n",
       "      <td>M1T18N7</td>\n",
       "      <td>0.116154</td>\n",
       "      <td>(Year in {1988, 1989, 1990, 1991, 1992, 1993, 1994, 1995, 1996, 1997, 1998, 2000, 2001, 2006, 2007, 2008} or Year is NA) &amp; (Origin in {ACK, ADK, ATL, BFI, BOS, BWI, CEC, CKB, CLT, CRW, CVG, DEN, DFW, DUT, EWR, HVN, JFK, LAX, MKK, MOD, MTH, ORD, OTH, PHL, PIR, PIT, SFO, SLC, SOP, TEX, UCA})</td>\n",
       "    </tr>\n",
       "    <tr>\n",
       "      <th>8</th>\n",
       "      <td></td>\n",
       "      <td>M1T2N10</td>\n",
       "      <td>-0.110389</td>\n",
       "      <td>(UniqueCarrier in {9E, AA, AQ, AS, B6, CO, DH, EA, EV, FL, HA, HP, ML (1), MQ, NW, OH, OO, PA (1), TW, TZ, WN, XE, YV} or UniqueCarrier is NA) &amp; (Origin in {ABE, ABI, ABQ, ABY, ACT, ACY, AEX, AGS, ALB, ALO, AMA, ANC, ANI, APF, ATW, AUS, AVL, AVP, AZO, BDL, BFF, BFL, BGM, BGR, BHM, BIL, BIS, BJI, BLI, BMI, BNA, BOI, BPT, BQK, BQN, BRO, BTM, BTR, BTV, BUF, BUR, BZN, CAE, CAK, CCR, CDC, CDV, CHA, CHO, CHS, CIC, CID, CLD, CLE, CLL, CLT, CMH, CMI, CMX, COD, COS, CPR, CRP, CRW, CSG, CVG, CWA, CYS, DAB, DAY, DBQ, DCA, DET, DHN, DLH, DRO, DSM, EAU, EFD, EGE, EKO, ELM, ELP, ERI, EUG, EVV, EWN, FAI, FAR, FAT, FAY, FCA, FLG, FLL, FLO, FNT, FSD, FSM, FWA, GCN, GEG, GFK, GGG, GJT, GLH, GNV, GPT, GRB, GRK, GRR, GSO, GSP, GTF, GTR, GUC, GUM, HDN, HKY, HLN, HNL, HPN, HRL, HSV, HTS, HVN, IAD, ICT, IDA, ILE, ILM, IND, INL, IPL, ISO, ISP, ITO, IYK, JAC, JAN, JAX, KOA, KSM, KTN, LAN, LAW, LBB, LCH, LEX, LFT, LGB, LIH, LIT, LNK, LNY, LRD, LSE, LWB, LWS, LYH, MAF, MAZ, MBS, MCI, MCN, MCO, MDT, MEM, MFE, MFR, MGM, MHT, MIB, MKE, MKG, MKK, MLB, MLI, MLU, MOB, MOT, MQT, MRY, MSN, MSO, MSY, MTJ, MYR, OGG, OKC, OMA, ONT, ORF, ORH, OXR, PBI, PDX, PFN, PHF, PHL, PIA, PIE, PIH, PIT, PLN, PMD, PNS, PSC, PSE, PSP, PUB, PVD, PWM, RAP, RDD, RDM, RDR, RFD, RHI, RIC, RKS, RNO, ROA, ROC, ROP, ROR, ROW, RST, RSW, SAN, SAT, SAV, SBA, SBN, SBP, SCC, SCE, SCK, SDF, SGF, SGU, SHV, SIT, SJC, SJT, SJU, SLC, SLE, SMF, SMX, SNA, SPN, SPS, SRQ, STT, STX, SUN, SUX, SWF, SYR, TLH, TOL, TPA, TRI, TTN, TUL, TUP, TUS, TVC, TWF, TXK, TYR, TYS, UCA, VCT, VIS, VLD, VPS, WRG, WYS, XNA, YAK, YUM})</td>\n",
       "    </tr>\n",
       "    <tr>\n",
       "      <th>9</th>\n",
       "      <td></td>\n",
       "      <td>M1T6N7</td>\n",
       "      <td>0.079796</td>\n",
       "      <td>(Origin in {ACK, ADK, ADQ, AKN, ASE, ATL, BET, BFF, BFI, BOS, BRW, BWI, CAE, CKB, CLT, CVG, CYS, DAY, DEN, DFW, DLG, DTW, DUT, ERI, EWR, EYW, FLL, FMN, HVN, JFK, LAS, LAX, LGA, MIA, MKC, MOD, MTH, OGD, OME, ORD, OTH, OTZ, PHL, PHX, PIR, PIT, PSG, PVU, ROA, SEA, SFO, SLC, SOP, SYR, TEX, UCA, YAP} or Origin is NA) &amp; (UniqueCarrier in {AA, DL, F9, PI, PS, UA, US} or UniqueCarrier is NA)</td>\n",
       "    </tr>\n",
       "    <tr>\n",
       "      <th>10</th>\n",
       "      <td></td>\n",
       "      <td>M2T6N15</td>\n",
       "      <td>0.072020</td>\n",
       "      <td>(Origin in {ACK, ADK, ADQ, AKN, ASE, ATL, BET, BFF, BFI, BOS, BRW, BWI, CAE, CKB, CLT, CVG, CYS, DAY, DEN, DFW, DLG, DTW, DUT, ERI, EWR, EYW, FLL, FMN, HVN, JFK, LAS, LAX, LGA, MIA, MKC, MOD, MTH, OGD, OME, ORD, OTH, OTZ, PHL, PHX, PIR, PIT, PSG, PVU, ROA, SEA, SFO, SLC, SOP, SYR, TEX, UCA, YAP} or Origin is NA) &amp; (UniqueCarrier in {AA, DL, F9, PI, PS, UA, US} or UniqueCarrier is NA) &amp; (Year in {1988, 1989, 1990, 1991, 1992, 1993, 1994, 1995, 1996, 1997, 1998, 2000} or Year is NA)</td>\n",
       "    </tr>\n",
       "    <tr>\n",
       "      <th>11</th>\n",
       "      <td></td>\n",
       "      <td>M1T27N7</td>\n",
       "      <td>0.060383</td>\n",
       "      <td>(Year in {1988, 1989, 1990, 1991, 1992, 1993, 1994, 1995, 1996, 1997, 1998, 2000, 2001, 2006, 2007, 2008} or Year is NA) &amp; (Origin in {ACK, ADK, ASE, ATL, BOS, BWI, CEC, CLT, CRW, CVG, DEN, DFW, DUT, EWR, HVN, JFK, LAX, MKC, MKK, MOD, ORD, OTH, PHL, PIR, PIT, SFO, SLC, SOP, UCA})</td>\n",
       "    </tr>\n",
       "    <tr>\n",
       "      <th>12</th>\n",
       "      <td></td>\n",
       "      <td>M1T40N7</td>\n",
       "      <td>-0.018189</td>\n",
       "      <td>(Origin in {ACK, ADK, ADQ, AKN, ASE, ATL, BET, BFF, BFI, BOS, BRW, BWI, CAE, CKB, CLT, CVG, CYS, DAY, DEN, DFW, DLG, DTW, DUT, ERI, EWR, EYW, FLL, FMN, HVN, JFK, LAS, LAX, LGA, MIA, MKC, MOD, MTH, OGD, OME, ORD, OTH, OTZ, PHL, PHX, PIR, PIT, PSG, PVU, ROA, SEA, SFO, SLC, SOP, SYR, TEX, UCA, YAP} or Origin is NA) &amp; (Year in {1989, 1990, 1991, 1992, 1993, 1994, 1995, 1996, 1997, 1998, 2000, 2001, 2007} or Year is NA)</td>\n",
       "    </tr>\n",
       "    <tr>\n",
       "      <th>13</th>\n",
       "      <td></td>\n",
       "      <td>M1T37N10</td>\n",
       "      <td>-0.015675</td>\n",
       "      <td>(UniqueCarrier in {9E, AA, AQ, AS, B6, CO, DH, EA, EV, FL, HA, HP, ML (1), MQ, NW, OH, OO, PA (1), TW, TZ, WN, XE, YV} or UniqueCarrier is NA) &amp; (Origin in {ABE, ABI, ABQ, ABY, ACT, ACY, AEX, AGS, ALB, ALO, AMA, ANC, ANI, APF, ATW, AUS, AVL, AVP, AZO, BDL, BFL, BGM, BGR, BHM, BIL, BIS, BJI, BLI, BMI, BOI, BPT, BQK, BQN, BRO, BTM, BTR, BTV, BUF, BUR, BZN, CAE, CAK, CCR, CDC, CDV, CHA, CHO, CHS, CIC, CID, CLD, CLE, CLL, CLT, CMH, CMI, CMX, COD, COS, CPR, CRP, CRW, CSG, CVG, CWA, DAB, DAY, DBQ, DCA, DET, DHN, DLH, DRO, DSM, EAU, EFD, EGE, EKO, ELM, ELP, ERI, EUG, EVV, EWN, FAI, FAR, FAT, FAY, FCA, FLG, FLL, FLO, FNT, FSD, FSM, FWA, GCN, GEG, GFK, GGG, GJT, GLH, GNV, GPT, GRB, GRK, GRR, GSO, GSP, GTF, GUC, GUM, HDN, HKY, HLN, HNL, HPN, HRL, HSV, HTS, HVN, IAD, ICT, IDA, ILE, ILM, IND, INL, IPL, ISO, ISP, ITO, IYK, JAC, JAN, JAX, KOA, KSM, KTN, LAN, LAW, LBB, LCH, LEX, LFT, LGB, LIH, LIT, LNK, LNY, LRD, LSE, LWB, LWS, LYH, MAF, MAZ, MBS, MCI, MCN, MCO, MDT, MEM, MFE, MFR, MGM, MHT, MIB, MKC, MKE, MKG, MKK, MLB, MLI, MLU, MOB, MOT, MQT, MRY, MSN, MSO, MSY, MTJ, MYR, OGG, OKC, OMA, ONT, ORF, ORH, OXR, PBI, PDX, PFN, PHF, PHL, PIA, PIE, PIH, PIT, PLN, PMD, PNS, PSC, PSE, PSP, PUB, PVD, PWM, RAP, RDD, RDM, RDR, RFD, RIC, RKS, RNO, ROA, ROC, ROP, ROR, ROW, RST, RSW, SAN, SAT, SAV, SBA, SBN, SBP, SCC, SCE, SCK, SDF, SGF, SGU, SHV, SIT, SJC, SJT, SJU, SLC, SLE, SMF, SMX, SNA, SPI, SPN, SPS, SRQ, STT, STX, SUN, SUX, SWF, SYR, TLH, TOL, TPA, TRI, TTN, TUL, TUP, TUS, TVC, TWF, TXK, TYR, TYS, UCA, VCT, VIS, VLD, VPS, WRG, WYS, XNA, YAK, YUM})</td>\n",
       "    </tr>\n",
       "    <tr>\n",
       "      <th>14</th>\n",
       "      <td></td>\n",
       "      <td>M1T30N7</td>\n",
       "      <td>0.011090</td>\n",
       "      <td>(UniqueCarrier in {DL, F9, PI, PS, UA, US}) &amp; (Year in {1989, 1990, 1991, 1992, 1993, 1994, 1995, 1996, 1997, 1998, 2000} or Year is NA)</td>\n",
       "    </tr>\n",
       "    <tr>\n",
       "      <th>15</th>\n",
       "      <td></td>\n",
       "      <td>M2T12N15</td>\n",
       "      <td>-0.001069</td>\n",
       "      <td>(Origin in {ACK, ADK, ADQ, AKN, ASE, ATL, BET, BFF, BFI, BOS, BRW, BWI, CAE, CKB, CLT, CVG, CYS, DAY, DEN, DFW, DLG, DTW, DUT, ERI, EWR, EYW, FLL, FMN, HVN, JFK, LAS, LAX, LGA, MIA, MKC, MOD, MTH, OGD, OME, ORD, OTH, OTZ, PHL, PHX, PIR, PIT, PSG, PVU, ROA, SEA, SFO, SLC, SOP, SYR, TEX, UCA, YAP} or Origin is NA) &amp; (Year in {1989, 1990, 1991, 1992, 1993, 1994, 1995, 1996, 1997, 1998, 2000, 2001, 2007} or Year is NA) &amp; (UniqueCarrier in {AA, DL, EV, F9, MQ, PI, UA, US} or UniqueCarrier is NA)</td>\n",
       "    </tr>\n",
       "    <tr>\n",
       "      <th>16</th>\n",
       "      <td></td>\n",
       "      <td>M1T0N7</td>\n",
       "      <td>0.000457</td>\n",
       "      <td>(Year in {1988, 1989, 1990, 1991, 1992, 1993, 1994, 1995, 1996, 1997, 1998, 2000, 2001, 2006, 2007, 2008} or Year is NA) &amp; (UniqueCarrier in {DL, EV, PI, PS, UA, US})</td>\n",
       "    </tr>\n",
       "    <tr>\n",
       "      <th>17</th>\n",
       "      <td></td>\n",
       "      <td>linear.Distance</td>\n",
       "      <td>0.000147</td>\n",
       "      <td></td>\n",
       "    </tr>\n",
       "    <tr>\n",
       "      <th>18</th>\n",
       "      <td></td>\n",
       "      <td>M1T29N7</td>\n",
       "      <td>-0.000120</td>\n",
       "      <td>(Origin in {ACK, ADK, ADQ, AKN, ASE, ATL, BET, BFF, BFI, BOS, BRW, BWI, CAE, CKB, CLT, CVG, CYS, DAY, DEN, DFW, DLG, DTW, DUT, ERI, EWR, EYW, FLL, FMN, HVN, JFK, LAS, LAX, LGA, MIA, MKC, MOD, MTH, OGD, OME, ORD, OTH, OTZ, PHL, PHX, PIR, PIT, PSG, PVU, ROA, SEA, SFO, SLC, SOP, SYR, TEX, UCA, YAP} or Origin is NA) &amp; (Year in {1989, 1990, 1991, 1992, 1993, 1994, 1995, 1996, 1997, 1998, 2000, 2001, 2007} or Year is NA)</td>\n",
       "    </tr>\n",
       "    <tr>\n",
       "      <th>19</th>\n",
       "      <td></td>\n",
       "      <td>M1T37N7</td>\n",
       "      <td>0.000029</td>\n",
       "      <td>(UniqueCarrier in {DL, F9, PI, PS, UA, US}) &amp; (Year in {1989, 1990, 1991, 1992, 1993, 1994, 1995, 1996, 1997, 1998, 2000} or Year is NA)</td>\n",
       "    </tr>\n",
       "  </tbody>\n",
       "</table>"
      ],
      "text/plain": [
       "<IPython.core.display.HTML object>"
      ]
     },
     "metadata": {},
     "output_type": "display_data"
    }
   ],
   "source": [
    "from IPython.display import display, HTML\n",
    "rule_importance = rfit.rule_importance()\n",
    "# Make a pretty HTML table printout of the results\n",
    "(table, nr, is_pandas) = rule_importance._as_show_table()\n",
    "display(HTML(table.to_html()))"
   ]
  },
  {
   "cell_type": "markdown",
   "metadata": {},
   "source": [
    "Note: The rules are additive. That means that if a flight is described by multiple rules, their probability is added together from those rules."
   ]
  }
 ],
 "metadata": {
  "kernelspec": {
   "display_name": "Python 3",
   "language": "python",
   "name": "python3"
  },
  "language_info": {
   "codemirror_mode": {
    "name": "ipython",
    "version": 3
   },
   "file_extension": ".py",
   "mimetype": "text/x-python",
   "name": "python",
   "nbconvert_exporter": "python",
   "pygments_lexer": "ipython3",
   "version": "3.8.1"
  }
 },
 "nbformat": 4,
 "nbformat_minor": 2
}
