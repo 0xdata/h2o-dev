{
 "cells": [
  {
   "cell_type": "code",
   "execution_count": 1,
   "metadata": {},
   "outputs": [],
   "source": [
    "import h2o\n",
    "from h2o.estimators.gbm import H2OGradientBoostingEstimator\n",
    "from h2o.model.PermutationFeatureImportance import permutation_featue_importance"
   ]
  },
  {
   "cell_type": "code",
   "execution_count": 2,
   "metadata": {},
   "outputs": [
    {
     "name": "stdout",
     "output_type": "stream",
     "text": [
      "Checking whether there is an H2O instance running at http://localhost:54321 . connected.\n"
     ]
    },
    {
     "data": {
      "text/plain": "--------------------------  ------------------------------\nH2O_cluster_uptime:         59 secs\nH2O_cluster_timezone:       Europe/Prague\nH2O_data_parsing_timezone:  UTC\nH2O_cluster_version:        3.31.0.99999\nH2O_cluster_version_age:    2 months and 9 days\nH2O_cluster_name:           ard\nH2O_cluster_total_nodes:    1\nH2O_cluster_free_memory:    1.708 Gb\nH2O_cluster_total_cores:    4\nH2O_cluster_allowed_cores:  4\nH2O_cluster_status:         accepting new members, healthy\nH2O_connection_url:         http://localhost:54321\nH2O_connection_proxy:       {\"http\": null, \"https\": null}\nH2O_internal_security:      False\nH2O_API_Extensions:         Algos, Core V3, Core V4\nPython_version:             3.7.4 final\n--------------------------  ------------------------------",
      "text/html": "<div style=\"overflow:auto\"><table style=\"width:50%\"><tr><td>H2O_cluster_uptime:</td>\n<td>59 secs</td></tr>\n<tr><td>H2O_cluster_timezone:</td>\n<td>Europe/Prague</td></tr>\n<tr><td>H2O_data_parsing_timezone:</td>\n<td>UTC</td></tr>\n<tr><td>H2O_cluster_version:</td>\n<td>3.31.0.99999</td></tr>\n<tr><td>H2O_cluster_version_age:</td>\n<td>2 months and 9 days </td></tr>\n<tr><td>H2O_cluster_name:</td>\n<td>ard</td></tr>\n<tr><td>H2O_cluster_total_nodes:</td>\n<td>1</td></tr>\n<tr><td>H2O_cluster_free_memory:</td>\n<td>1.708 Gb</td></tr>\n<tr><td>H2O_cluster_total_cores:</td>\n<td>4</td></tr>\n<tr><td>H2O_cluster_allowed_cores:</td>\n<td>4</td></tr>\n<tr><td>H2O_cluster_status:</td>\n<td>accepting new members, healthy</td></tr>\n<tr><td>H2O_connection_url:</td>\n<td>http://localhost:54321</td></tr>\n<tr><td>H2O_connection_proxy:</td>\n<td>{\"http\": null, \"https\": null}</td></tr>\n<tr><td>H2O_internal_security:</td>\n<td>False</td></tr>\n<tr><td>H2O_API_Extensions:</td>\n<td>Algos, Core V3, Core V4</td></tr>\n<tr><td>Python_version:</td>\n<td>3.7.4 final</td></tr></table></div>"
     },
     "metadata": {},
     "output_type": "display_data"
    }
   ],
   "source": [
    "h2o.init(strict_version_check=False)"
   ]
  },
  {
   "cell_type": "code",
   "execution_count": 3,
   "metadata": {},
   "outputs": [
    {
     "name": "stdout",
     "output_type": "stream",
     "text": [
      "Parse progress: |█████████████████████████████████████████████████████████| 100%\n"
     ]
    }
   ],
   "source": [
    "from h2o.utils.shared_utils import _locate # private function. used to find files within h2o git project directory.\n",
    "\n",
    "df = h2o.import_file(path=_locate(\"smalldata/logreg/prostate.csv\"))"
   ]
  },
  {
   "cell_type": "code",
   "execution_count": 4,
   "metadata": {},
   "outputs": [
    {
     "name": "stdout",
     "output_type": "stream",
     "text": [
      "Rows:380\n",
      "Cols:9\n",
      "\n",
      "\n"
     ]
    },
    {
     "data": {
      "text/html": "<table>\n<thead>\n<tr><th>       </th><th>ID                </th><th>CAPSULE           </th><th>AGE              </th><th>RACE              </th><th>DPROS             </th><th>DCAPS             </th><th>PSA               </th><th>VOL               </th><th>GLEASON           </th></tr>\n</thead>\n<tbody>\n<tr><td>type   </td><td>int               </td><td>int               </td><td>int              </td><td>int               </td><td>int               </td><td>int               </td><td>real              </td><td>real              </td><td>int               </td></tr>\n<tr><td>mins   </td><td>1.0               </td><td>0.0               </td><td>43.0             </td><td>0.0               </td><td>1.0               </td><td>1.0               </td><td>0.3               </td><td>0.0               </td><td>0.0               </td></tr>\n<tr><td>mean   </td><td>190.5             </td><td>0.4026315789473684</td><td>66.03947368421049</td><td>1.0868421052631572</td><td>2.2710526315789488</td><td>1.1078947368421048</td><td>15.408631578947375</td><td>15.812921052631573</td><td>6.3842105263157904</td></tr>\n<tr><td>maxs   </td><td>380.0             </td><td>1.0               </td><td>79.0             </td><td>2.0               </td><td>4.0               </td><td>2.0               </td><td>139.7             </td><td>97.6              </td><td>9.0               </td></tr>\n<tr><td>sigma  </td><td>109.84079387914127</td><td>0.4910743389630552</td><td>6.527071269173311</td><td>0.3087732580252793</td><td>1.0001076181502861</td><td>0.3106564493514939</td><td>19.99757266856046 </td><td>18.347619967271175</td><td>1.0919533744261092</td></tr>\n<tr><td>zeros  </td><td>0                 </td><td>227               </td><td>0                </td><td>3                 </td><td>0                 </td><td>0                 </td><td>0                 </td><td>167               </td><td>2                 </td></tr>\n<tr><td>missing</td><td>0                 </td><td>0                 </td><td>0                </td><td>0                 </td><td>0                 </td><td>0                 </td><td>0                 </td><td>0                 </td><td>0                 </td></tr>\n<tr><td>0      </td><td>1.0               </td><td>0.0               </td><td>65.0             </td><td>1.0               </td><td>2.0               </td><td>1.0               </td><td>1.4               </td><td>0.0               </td><td>6.0               </td></tr>\n<tr><td>1      </td><td>2.0               </td><td>0.0               </td><td>72.0             </td><td>1.0               </td><td>3.0               </td><td>2.0               </td><td>6.7               </td><td>0.0               </td><td>7.0               </td></tr>\n<tr><td>2      </td><td>3.0               </td><td>0.0               </td><td>70.0             </td><td>1.0               </td><td>1.0               </td><td>2.0               </td><td>4.9               </td><td>0.0               </td><td>6.0               </td></tr>\n<tr><td>3      </td><td>4.0               </td><td>0.0               </td><td>76.0             </td><td>2.0               </td><td>2.0               </td><td>1.0               </td><td>51.2              </td><td>20.0              </td><td>7.0               </td></tr>\n<tr><td>4      </td><td>5.0               </td><td>0.0               </td><td>69.0             </td><td>1.0               </td><td>1.0               </td><td>1.0               </td><td>12.3              </td><td>55.9              </td><td>6.0               </td></tr>\n<tr><td>5      </td><td>6.0               </td><td>1.0               </td><td>71.0             </td><td>1.0               </td><td>3.0               </td><td>2.0               </td><td>3.3               </td><td>0.0               </td><td>8.0               </td></tr>\n<tr><td>6      </td><td>7.0               </td><td>0.0               </td><td>68.0             </td><td>2.0               </td><td>4.0               </td><td>2.0               </td><td>31.9              </td><td>0.0               </td><td>7.0               </td></tr>\n<tr><td>7      </td><td>8.0               </td><td>0.0               </td><td>61.0             </td><td>2.0               </td><td>4.0               </td><td>2.0               </td><td>66.7              </td><td>27.2              </td><td>7.0               </td></tr>\n<tr><td>8      </td><td>9.0               </td><td>0.0               </td><td>69.0             </td><td>1.0               </td><td>1.0               </td><td>1.0               </td><td>3.9               </td><td>24.0              </td><td>7.0               </td></tr>\n<tr><td>9      </td><td>10.0              </td><td>0.0               </td><td>68.0             </td><td>2.0               </td><td>1.0               </td><td>2.0               </td><td>13.0              </td><td>0.0               </td><td>6.0               </td></tr>\n</tbody>\n</table>"
     },
     "metadata": {},
     "output_type": "display_data"
    }
   ],
   "source": [
    "df.describe()"
   ]
  },
  {
   "cell_type": "code",
   "execution_count": 5,
   "metadata": {},
   "outputs": [],
   "source": [
    "# Remove ID from training frame\n",
    "train = df.drop(\"ID\")"
   ]
  },
  {
   "cell_type": "code",
   "execution_count": 6,
   "metadata": {},
   "outputs": [],
   "source": [
    "# For VOL & GLEASON, a zero really means \"missing\"\n",
    "vol = train['VOL']\n",
    "vol[vol == 0] = None\n",
    "gle = train['GLEASON']\n",
    "gle[gle == 0] = None"
   ]
  },
  {
   "cell_type": "code",
   "execution_count": 7,
   "metadata": {},
   "outputs": [],
   "source": [
    "# Convert CAPSULE to a logical factor\n",
    "train['CAPSULE'] = train['CAPSULE'].asfactor()"
   ]
  },
  {
   "cell_type": "code",
   "execution_count": 8,
   "metadata": {},
   "outputs": [
    {
     "name": "stdout",
     "output_type": "stream",
     "text": [
      "Rows:380\n",
      "Cols:8\n",
      "\n",
      "\n"
     ]
    },
    {
     "data": {
      "text/html": "<table>\n<thead>\n<tr><th>       </th><th>CAPSULE  </th><th>AGE              </th><th>RACE              </th><th>DPROS             </th><th>DCAPS             </th><th>PSA               </th><th>VOL               </th><th>GLEASON           </th></tr>\n</thead>\n<tbody>\n<tr><td>type   </td><td>enum     </td><td>int              </td><td>int               </td><td>int               </td><td>int               </td><td>real              </td><td>real              </td><td>int               </td></tr>\n<tr><td>mins   </td><td>         </td><td>43.0             </td><td>0.0               </td><td>1.0               </td><td>1.0               </td><td>0.3               </td><td>0.0               </td><td>0.0               </td></tr>\n<tr><td>mean   </td><td>         </td><td>66.03947368421049</td><td>1.0868421052631572</td><td>2.2710526315789488</td><td>1.1078947368421048</td><td>15.408631578947375</td><td>15.812921052631573</td><td>6.3842105263157904</td></tr>\n<tr><td>maxs   </td><td>         </td><td>79.0             </td><td>2.0               </td><td>4.0               </td><td>2.0               </td><td>139.7             </td><td>97.6              </td><td>9.0               </td></tr>\n<tr><td>sigma  </td><td>         </td><td>6.527071269173311</td><td>0.3087732580252793</td><td>1.0001076181502861</td><td>0.3106564493514939</td><td>19.99757266856046 </td><td>18.347619967271175</td><td>1.0919533744261092</td></tr>\n<tr><td>zeros  </td><td>         </td><td>0                </td><td>3                 </td><td>0                 </td><td>0                 </td><td>0                 </td><td>167               </td><td>2                 </td></tr>\n<tr><td>missing</td><td>0        </td><td>0                </td><td>0                 </td><td>0                 </td><td>0                 </td><td>0                 </td><td>0                 </td><td>0                 </td></tr>\n<tr><td>0      </td><td>0        </td><td>65.0             </td><td>1.0               </td><td>2.0               </td><td>1.0               </td><td>1.4               </td><td>0.0               </td><td>6.0               </td></tr>\n<tr><td>1      </td><td>0        </td><td>72.0             </td><td>1.0               </td><td>3.0               </td><td>2.0               </td><td>6.7               </td><td>0.0               </td><td>7.0               </td></tr>\n<tr><td>2      </td><td>0        </td><td>70.0             </td><td>1.0               </td><td>1.0               </td><td>2.0               </td><td>4.9               </td><td>0.0               </td><td>6.0               </td></tr>\n<tr><td>3      </td><td>0        </td><td>76.0             </td><td>2.0               </td><td>2.0               </td><td>1.0               </td><td>51.2              </td><td>20.0              </td><td>7.0               </td></tr>\n<tr><td>4      </td><td>0        </td><td>69.0             </td><td>1.0               </td><td>1.0               </td><td>1.0               </td><td>12.3              </td><td>55.9              </td><td>6.0               </td></tr>\n<tr><td>5      </td><td>1        </td><td>71.0             </td><td>1.0               </td><td>3.0               </td><td>2.0               </td><td>3.3               </td><td>0.0               </td><td>8.0               </td></tr>\n<tr><td>6      </td><td>0        </td><td>68.0             </td><td>2.0               </td><td>4.0               </td><td>2.0               </td><td>31.9              </td><td>0.0               </td><td>7.0               </td></tr>\n<tr><td>7      </td><td>0        </td><td>61.0             </td><td>2.0               </td><td>4.0               </td><td>2.0               </td><td>66.7              </td><td>27.2              </td><td>7.0               </td></tr>\n<tr><td>8      </td><td>0        </td><td>69.0             </td><td>1.0               </td><td>1.0               </td><td>1.0               </td><td>3.9               </td><td>24.0              </td><td>7.0               </td></tr>\n<tr><td>9      </td><td>0        </td><td>68.0             </td><td>2.0               </td><td>1.0               </td><td>2.0               </td><td>13.0              </td><td>0.0               </td><td>6.0               </td></tr>\n</tbody>\n</table>"
     },
     "metadata": {},
     "output_type": "display_data"
    }
   ],
   "source": [
    "# See that the data is ready\n",
    "train.describe()"
   ]
  },
  {
   "cell_type": "code",
   "execution_count": 9,
   "metadata": {},
   "outputs": [
    {
     "name": "stdout",
     "output_type": "stream",
     "text": [
      "gbm Model Build progress: |███████████████████████████████████████████████| 100%\n"
     ]
    }
   ],
   "source": [
    "# Run GBM\n",
    "my_gbm = H2OGradientBoostingEstimator(distribution = \"bernoulli\", ntrees=50, learn_rate=0.1)\n",
    "\n",
    "my_gbm.train(x=list(range(1,train.ncol)), y=\"CAPSULE\", training_frame=train, validation_frame=train)"
   ]
  },
  {
   "cell_type": "code",
   "execution_count": 10,
   "metadata": {},
   "outputs": [
    {
     "data": {
      "text/html": "<table>\n<thead>\n<tr><th style=\"text-align: right;\">       AGE</th><th style=\"text-align: right;\">      RACE</th><th style=\"text-align: right;\">     DPROS</th><th style=\"text-align: right;\">     DCAPS</th><th style=\"text-align: right;\">       PSA</th><th style=\"text-align: right;\">      VOL</th><th style=\"text-align: right;\">  GLEASON</th><th>ID                             </th></tr>\n</thead>\n<tbody>\n<tr><td style=\"text-align: right;\">0.998047  </td><td style=\"text-align: right;\">0.995425  </td><td style=\"text-align: right;\">0.942769  </td><td style=\"text-align: right;\">0.930913  </td><td style=\"text-align: right;\">0.920991  </td><td style=\"text-align: right;\">0.889548 </td><td style=\"text-align: right;\">0.815841 </td><td>Mean of the absolute value tsst</td></tr>\n<tr><td style=\"text-align: right;\">0.00110354</td><td style=\"text-align: right;\">0.00244447</td><td style=\"text-align: right;\">0.00605766</td><td style=\"text-align: right;\">0.00324044</td><td style=\"text-align: right;\">0.00929057</td><td style=\"text-align: right;\">0.0106801</td><td style=\"text-align: right;\">0.0150485</td><td>standard deviation             </td></tr>\n</tbody>\n</table>"
     },
     "metadata": {},
     "output_type": "display_data"
    },
    {
     "data": {
      "text/html": "<table>\n<thead>\n<tr><th style=\"text-align: right;\">   DCAPS</th><th style=\"text-align: right;\">    RACE</th><th style=\"text-align: right;\">     AGE</th><th style=\"text-align: right;\">     VOL</th><th style=\"text-align: right;\">   DPROS</th><th style=\"text-align: right;\">     PSA</th><th style=\"text-align: right;\">  GLEASON</th><th>ID                 </th></tr>\n</thead>\n<tbody>\n<tr><td style=\"text-align: right;\">0.99718 </td><td style=\"text-align: right;\">0.996005</td><td style=\"text-align: right;\">0.942409</td><td style=\"text-align: right;\">0.930821</td><td style=\"text-align: right;\">0.919717</td><td style=\"text-align: right;\">0.908848</td><td style=\"text-align: right;\"> 0.8194  </td><td>Relative Importance</td></tr>\n<tr><td style=\"text-align: right;\">1       </td><td style=\"text-align: right;\">0.998822</td><td style=\"text-align: right;\">0.945075</td><td style=\"text-align: right;\">0.933453</td><td style=\"text-align: right;\">0.922318</td><td style=\"text-align: right;\">0.911418</td><td style=\"text-align: right;\"> 0.821717</td><td>Scaled Importance  </td></tr>\n<tr><td style=\"text-align: right;\">0.153074</td><td style=\"text-align: right;\">0.152893</td><td style=\"text-align: right;\">0.144666</td><td style=\"text-align: right;\">0.142887</td><td style=\"text-align: right;\">0.141183</td><td style=\"text-align: right;\">0.139514</td><td style=\"text-align: right;\"> 0.125783</td><td>Percentage         </td></tr>\n</tbody>\n</table>"
     },
     "metadata": {},
     "output_type": "display_data"
    },
    {
     "data": {
      "text/html": "<table>\n<thead>\n<tr><th style=\"text-align: right;\">       AGE</th><th style=\"text-align: right;\">      RACE</th><th style=\"text-align: right;\">     DPROS</th><th style=\"text-align: right;\">     DCAPS</th><th style=\"text-align: right;\">       PSA</th><th style=\"text-align: right;\">      VOL</th><th style=\"text-align: right;\">  GLEASON</th><th>ID                             </th></tr>\n</thead>\n<tbody>\n<tr><td style=\"text-align: right;\">0.998047  </td><td style=\"text-align: right;\">0.995425  </td><td style=\"text-align: right;\">0.942769  </td><td style=\"text-align: right;\">0.930913  </td><td style=\"text-align: right;\">0.920991  </td><td style=\"text-align: right;\">0.889548 </td><td style=\"text-align: right;\">0.815841 </td><td>Mean of the absolute value tsst</td></tr>\n<tr><td style=\"text-align: right;\">0.00110354</td><td style=\"text-align: right;\">0.00244447</td><td style=\"text-align: right;\">0.00605766</td><td style=\"text-align: right;\">0.00324044</td><td style=\"text-align: right;\">0.00929057</td><td style=\"text-align: right;\">0.0106801</td><td style=\"text-align: right;\">0.0150485</td><td>standard deviation             </td></tr>\n</tbody>\n</table>"
     },
     "metadata": {},
     "output_type": "display_data"
    },
    {
     "data": {
      "text/plain": ""
     },
     "execution_count": 10,
     "metadata": {},
     "output_type": "execute_result"
    }
   ],
   "source": [
    "pfi_fr =permutation_featue_importance(train, my_gbm)\n",
    "\n",
    "# pfi_fr"
   ]
  },
  {
   "cell_type": "code",
   "execution_count": 10,
   "metadata": {},
   "outputs": [],
   "source": []
  }
 ],
 "metadata": {
  "kernelspec": {
   "name": "python37464bitdataminingvirtualenv8ddc81cd75c34a3b88db82c9439adc03",
   "language": "python",
   "display_name": "Python 3.7.4 64-bit ('DataMining': virtualenv)"
  },
  "language_info": {
   "codemirror_mode": {
    "name": "ipython",
    "version": 3
   },
   "file_extension": ".py",
   "mimetype": "text/x-python",
   "name": "python",
   "nbconvert_exporter": "python",
   "pygments_lexer": "ipython3",
   "version": "3.7.4"
  }
 },
 "nbformat": 4,
 "nbformat_minor": 2
}