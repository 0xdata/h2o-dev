{
 "cells": [
  {
   "cell_type": "code",
   "execution_count": null,
   "outputs": [],
   "source": [
    "import h2o\n",
    "from tests import pyunit_utils\n",
    "from h2o.estimators.gbm import H2OGradientBoostingEstimator\n",
    "from h2o.model.permutation_varimp import permutation_varimp, plot_permutation_var_imp\n",
    "\n",
    "h2o.init()"
   ],
   "metadata": {
    "collapsed": false,
    "pycharm": {
     "name": "#%%\n"
    }
   }
  },
  {
   "cell_type": "markdown",
   "source": [
    "Train the model"
   ],
   "metadata": {
    "collapsed": false
   }
  },
  {
   "cell_type": "code",
   "execution_count": null,
   "outputs": [],
   "source": [
    "prostate_train = h2o.import_file(path=pyunit_utils.locate(\"smalldata/logreg/prostate_train.csv\"))\n",
    "prostate_train[\"CAPSULE\"] = prostate_train[\"CAPSULE\"].asfactor()\n",
    "\n",
    "ntrees = 100\n",
    "learning_rate = 0.1\n",
    "depth = 5\n",
    "min_rows = 10\n",
    "# Build H2O GBM classification model:\n",
    "gbm_h2o = H2OGradientBoostingEstimator(ntrees=ntrees, learn_rate=learning_rate,\n",
    "                                       max_depth=depth,\n",
    "                                       min_rows=min_rows,\n",
    "                                       distribution=\"bernoulli\")\n",
    "gbm_h2o.train(x=list(range(1, prostate_train.ncol)), y=\"CAPSULE\", training_frame=prostate_train)"
   ],
   "metadata": {
    "collapsed": false,
    "pycharm": {
     "name": "#%%\n"
    }
   }
  },
  {
   "cell_type": "markdown",
   "source": [
    "Calculate Permutation Variable Importance"
   ],
   "metadata": {
    "collapsed": false
   }
  },
  {
   "cell_type": "code",
   "execution_count": null,
   "outputs": [],
   "source": [
    "# select metric\n",
    "metric = \"logloss\"\n",
    "\n",
    "# get pvi df\n",
    "pm_h2o_df = permutation_varimp(gbm_h2o, prostate_train, use_pandas=True, metric=metric)\n",
    "\n",
    "# plot pvi\n",
    "plot_permutation_var_imp(pm_h2o_df, gbm_h2o._model_json[\"algo\"], metric)\n",
    "\n"
   ],
   "metadata": {
    "collapsed": false,
    "pycharm": {
     "name": "#%%\n"
    }
   }
  }
 ],
 "metadata": {
  "kernelspec": {
   "display_name": "Python 3",
   "language": "python",
   "name": "python3"
  },
  "language_info": {
   "codemirror_mode": {
    "name": "ipython",
    "version": 3
   },
   "file_extension": ".py",
   "mimetype": "text/x-python",
   "name": "python",
   "nbconvert_exporter": "python",
   "pygments_lexer": "ipython3",
   "version": "3.7.4"
  }
 },
 "nbformat": 4,
 "nbformat_minor": 1
}