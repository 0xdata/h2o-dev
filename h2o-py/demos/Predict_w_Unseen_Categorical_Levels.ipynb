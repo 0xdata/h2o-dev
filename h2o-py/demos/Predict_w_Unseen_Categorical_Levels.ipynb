{
 "cells": [
  {
   "cell_type": "markdown",
   "metadata": {},
   "source": [
    "# What Happens When You Predict on an Unseen Categorical Level\n",
    "<sub> i.e. a rare event appears in your test set, which wasn't present in your training set.\n",
    "___\n",
    "\n",
    "> *This notebook walks through the steps of importing, cleaning, training, and testing on a data set where the test set contains a categorical level that was not present in the training set. You need to run steps 2. - 6. (to load all the variables) before you can jump between sections and run individual cells*"
   ]
  },
  {
   "cell_type": "markdown",
   "metadata": {},
   "source": [
    "## Table of Contents\n",
    "0. [Jump to The Short Answer](#question)\n",
    "1. [Import, Visualize & Clean Data](#start)\n",
    "2. [Split into Train and Test Sets](#split) \n",
    "3. [Build Models for GLM, GBM, DRF, Deep Learning & Naive Bayes](#build)\n",
    "4. [Model Performance for GLM, GBM, DRF, Deep Learning & Naive Bayes](#output)\n",
    "5. [How Each Algorithm Handles Missing Values/New Categorical Levels During Prediction](#answer)\n",
    "6. [Additional Resources](#resources)"
   ]
  },
  {
   "cell_type": "markdown",
   "metadata": {},
   "source": [
    "<a name=\"start\"></a>\n",
    "## Import Packages, Initialize an H2O Cluster & Load Data"
   ]
  },
  {
   "cell_type": "code",
   "execution_count": null,
   "metadata": {
    "collapsed": false
   },
   "outputs": [],
   "source": [
    "import h2o, pandas, pprint, operator, numpy as np, matplotlib.pyplot as plt\n",
    "from h2o.estimators.glm import H2OGeneralizedLinearEstimator\n",
    "from h2o.estimators.gbm import H2OGradientBoostingEstimator\n",
    "from h2o.estimators.random_forest import H2ORandomForestEstimator\n",
    "from h2o.estimators.deeplearning import H2ODeepLearningEstimator\n",
    "from h2o.estimators.naive_bayes import H2ONaiveBayesEstimator\n",
    "from tabulate import tabulate"
   ]
  },
  {
   "cell_type": "code",
   "execution_count": null,
   "metadata": {
    "collapsed": true
   },
   "outputs": [],
   "source": [
    "# Set 'interactive = True' for interactive plots, 'interactive = False' if not:\n",
    "interactive = True\n",
    "if not interactive: matplotlib.use('Agg', warn=False)"
   ]
  },
  {
   "cell_type": "code",
   "execution_count": null,
   "metadata": {
    "collapsed": true
   },
   "outputs": [],
   "source": [
    "# (Only run this cell if you didn't run the cell that loads a python file at the beginning)\n",
    "# Connect to a cluster \n",
    "h2o.init()"
   ]
  },
  {
   "cell_type": "code",
   "execution_count": null,
   "metadata": {
    "collapsed": false
   },
   "outputs": [],
   "source": [
    "# 1 - Load data - One row per flight.  \n",
    "# Columns include origin, destination, departure & arrival times, carrier information, and whether flight was delayed.\n",
    "print(\"Import and Parse airlines data\")\n",
    "# air_path = 'allyears2k_headers.zip'\n",
    "air_path = 'https://github.com/h2oai/h2o-2/raw/master/smalldata/airlines/allyears2k_headers.zip'\n",
    "data = h2o.import_file(path = air_path)\n",
    "# data.describe() # uncomment to see summary of loaded data file\n",
    "# data.head()     # uncomment to see top of the loaded data file"
   ]
  },
  {
   "cell_type": "markdown",
   "metadata": {},
   "source": [
    "## Explore Data with Visualizations"
   ]
  },
  {
   "cell_type": "code",
   "execution_count": null,
   "metadata": {
    "collapsed": false
   },
   "outputs": [],
   "source": [
    "# 2 - Data exploration and munging. \n",
    "# Generate scatter plots of various columns and plot fitted GLM model.\n",
    "\n",
    "# Function to fit a GLM model and plot the fitted (x,y) values\n",
    "def scatter_plot(data, x, y, max_points = 1000, fit = True):\n",
    "    if(fit):\n",
    "        lr = H2OGeneralizedLinearEstimator(family = \"gaussian\")\n",
    "        lr.train(x=x, y=y, training_frame=data)\n",
    "        coeff = lr.coef()\n",
    "    df = data[[x,y]]\n",
    "    runif = df[y].runif()\n",
    "    df_subset = df[runif < float(max_points)/data.nrow]\n",
    "    df_py = h2o.as_list(df_subset)\n",
    "    \n",
    "    if(fit): h2o.remove(lr._id)\n",
    "\n",
    "    # If x variable is string, generate box-and-whisker plot\n",
    "    if(df_py[x].dtype == \"object\"):\n",
    "        if interactive: df_py.boxplot(column = y, by = x)\n",
    "    # Otherwise, generate a scatter plot\n",
    "    else:\n",
    "        if interactive: df_py.plot(x = x, y = y, kind = \"scatter\")\n",
    "    \n",
    "    if(fit):\n",
    "        x_min = min(df_py[x])\n",
    "        x_max = max(df_py[x])\n",
    "        y_min = coeff[\"Intercept\"] + coeff[x]*x_min\n",
    "        y_max = coeff[\"Intercept\"] + coeff[x]*x_max\n",
    "        plt.plot([x_min, x_max], [y_min, y_max], \"k-\")\n",
    "    if interactive: plt.show()\n",
    "        \n",
    "# generate matplotlib plots inside of ipython notebook        \n",
    "%matplotlib inline  \n",
    "scatter_plot(data, \"Distance\", \"AirTime\", fit = True)"
   ]
  },
  {
   "cell_type": "code",
   "execution_count": null,
   "metadata": {
    "collapsed": false
   },
   "outputs": [],
   "source": [
    "# Group flights by month\n",
    "grouped = data.group_by(\"Month\")\n",
    "bpd = grouped.count().sum(\"Cancelled\").frame\n",
    "bpd.show()\n",
    "bpd.describe()\n",
    "bpd.dim\n",
    "\n",
    "# Convert columns to factors\n",
    "data[\"Year\"]= data[\"Year\"].asfactor()\n",
    "data[\"Month\"] = data[\"Month\"].asfactor()\n",
    "data[\"DayOfWeek\"] = data[\"DayOfWeek\"].asfactor()\n",
    "data[\"Cancelled\"] = data[\"Cancelled\"].asfactor()"
   ]
  },
  {
   "cell_type": "code",
   "execution_count": null,
   "metadata": {
    "collapsed": false
   },
   "outputs": [],
   "source": [
    "# Calculate and plot travel time\n",
    "hour1 = data[\"CRSArrTime\"] / 100\n",
    "mins1 = data[\"CRSArrTime\"] % 100\n",
    "arrTime = hour1*60 + mins1\n",
    "\n",
    "hour2 = data[\"CRSDepTime\"] / 100\n",
    "mins2 = data[\"CRSDepTime\"] % 100\n",
    "depTime = hour2*60 + mins2\n",
    "\n",
    "# TODO: Replace this once list comprehension is supported. See PUBDEV-1286.\n",
    "# data[\"TravelTime\"] = [x if x > 0 else None for x in (arrTime - depTime)]\n",
    "# data[\"TravelTime\"] = (arrTime-depTime > 0).ifelse((arrTime-depTime), h2o.H2OFrame([[None]] * data.nrow))\n",
    "# line above doesn't work because it produces a column-wise list instead of a row-wise list\n",
    "empty_array = np.empty((1,data.nrow,))\n",
    "empty_array[:]=np.NAN\n",
    "empty = np.ndarray.tolist(empty_array)\n",
    "data[\"TravelTime\"] = (arrTime-depTime > 0).ifelse((arrTime-depTime), h2o.H2OFrame(empty))\n",
    "scatter_plot(data, \"Distance\", \"TravelTime\")"
   ]
  },
  {
   "cell_type": "code",
   "execution_count": null,
   "metadata": {
    "collapsed": false
   },
   "outputs": [],
   "source": [
    "# Impute missing travel times and re-plot\n",
    "data.impute(column = \"Distance\", by = [\"Origin\", \"Dest\"])\n",
    "scatter_plot(data, \"Distance\", \"TravelTime\")"
   ]
  },
  {
   "cell_type": "markdown",
   "metadata": {},
   "source": [
    "<a name=\"split\"></a>\n",
    "# Split Data Set into Train and Test Sets "
   ]
  },
  {
   "cell_type": "code",
   "execution_count": null,
   "metadata": {
    "collapsed": true
   },
   "outputs": [],
   "source": [
    "# 3 - Fit a model on train; using test as validation.\n",
    "# Create test/train split\n",
    "s = data[\"Year\"].runif()\n",
    "train = data[s <= 0.75]\n",
    "test  = data[s > 0.75]"
   ]
  },
  {
   "cell_type": "code",
   "execution_count": null,
   "metadata": {
    "collapsed": false
   },
   "outputs": [],
   "source": [
    "# replace all instances of 'SFO' in the destination colum ('Dest') with 'BB8'\n",
    "test[\"Dest\"] = (test[\"Dest\"] == 'SFO').ifelse('BB8', test[\"Dest\"])\n",
    "# print out the number of rows that were effected\n",
    "test[test['Dest']=='BB8'].shape "
   ]
  },
  {
   "cell_type": "markdown",
   "metadata": {},
   "source": [
    ">*We replace all instances of 'SFO' from the 'Dest' column, to create the situation in which your test set has a categorical level that was not present in the training set (Note: all models will run without breaking, because new categorical levels are interpreted as if they were NA values)*"
   ]
  },
  {
   "cell_type": "markdown",
   "metadata": {},
   "source": [
    "<a name=\"build\"></a>\n",
    "# Build Models with Supervised Learning Algorithms \n",
    "\n",
    "Train models for GLM, GBM, DRF, Deep Learning & Naive Bayes in one go! "
   ]
  },
  {
   "cell_type": "code",
   "execution_count": null,
   "metadata": {
    "collapsed": false
   },
   "outputs": [],
   "source": [
    "# Set response column\n",
    "myY = \"IsDepDelayed\"\n",
    "# Set feature columns\n",
    "myX = [\"Origin\", \"Dest\", \"Year\", \"UniqueCarrier\", \"DayOfWeek\", \"Month\", \"Distance\", \"FlightNum\"]\n",
    "\n",
    "# Predict delays with GLM\n",
    "data_glm = H2OGeneralizedLinearEstimator(family=\"binomial\", standardize=True)\n",
    "data_glm.train(x = myX, y = myY, training_frame = train, validation_frame = test)\n",
    "\n",
    "# Predict delays with GBM\n",
    "data_gbm2 = H2OGradientBoostingEstimator(balance_classes = True, ntrees = 50, max_depth = 5,\n",
    "                                         distribution = \"bernoulli\", learn_rate = 0.1, min_rows = 2)\n",
    "data_gbm2.train(x = myX, y = myY, training_frame = train, validation_frame = test)\n",
    "\n",
    "# Predict delays with Distributed Random Forest (DRF)\n",
    "data_rf2 = H2ORandomForestEstimator(ntrees = 10,max_depth = 5, balance_classes = True)\n",
    "data_rf2.train(x = myX, y = myY, training_frame = train, validation_frame = test)\n",
    "\n",
    "# Predict delays with Deep Learning\n",
    "data_dl = H2ODeepLearningEstimator(hidden = [10,10], epochs = 5, variable_importances = True,\n",
    "                                   balance_classes = True, loss = \"Automatic\")\n",
    "data_dl.train(x = myX, y = myY, training_frame = train, validation_frame=test)\n",
    "\n",
    "# Predict delays with Deep Learning with Naive Bayes\n",
    "# If laplace smoothing is disabled ('laplace=0') the algorithm will predict 0\n",
    "data_nb = H2ONaiveBayesEstimator(laplace=1) \n",
    "data_nb.train(x = myX, y = myY, training_frame = train, validation_frame=test)\n"
   ]
  },
  {
   "cell_type": "markdown",
   "metadata": {},
   "source": [
    "### Or build models individually "
   ]
  },
  {
   "cell_type": "markdown",
   "metadata": {},
   "source": [
    "<a name=\"GLM Model\"></a>\n",
    "`Build GLM` "
   ]
  },
  {
   "cell_type": "code",
   "execution_count": null,
   "metadata": {
    "collapsed": false
   },
   "outputs": [],
   "source": [
    "# Set response column\n",
    "myY = \"IsDepDelayed\"\n",
    "# Set feature columns\n",
    "myX = [\"Origin\", \"Dest\", \"Year\", \"UniqueCarrier\", \"DayOfWeek\", \"Month\", \"Distance\", \"FlightNum\"]\n",
    "\n",
    "# Predict delays with GLM\n",
    "data_glm = H2OGeneralizedLinearEstimator(family=\"binomial\", standardize=True)\n",
    "data_glm.train(x = myX, y = myY, training_frame = train, validation_frame = test)\n",
    "\n",
    "data_glm.model_performance(test)"
   ]
  },
  {
   "cell_type": "code",
   "execution_count": null,
   "metadata": {
    "collapsed": false
   },
   "outputs": [],
   "source": [
    "glm_pred_output = data_glm.predict(test)\n",
    "glm_pred_output.head()"
   ]
  },
  {
   "cell_type": "markdown",
   "metadata": {},
   "source": [
    "<a name=\"GBM Model\"></a>\n",
    "`Build GBM`"
   ]
  },
  {
   "cell_type": "code",
   "execution_count": null,
   "metadata": {
    "collapsed": false
   },
   "outputs": [],
   "source": [
    "# Set response column\n",
    "myY = \"IsDepDelayed\"\n",
    "# Set feature columns\n",
    "myX = [\"Origin\", \"Dest\", \"Year\", \"UniqueCarrier\", \"DayOfWeek\", \"Month\", \"Distance\", \"FlightNum\"]\n",
    "\n",
    "# Predict delays with GBM\n",
    "data_gbm2 = H2OGradientBoostingEstimator(balance_classes = True, ntrees = 50, max_depth = 5,\n",
    "                                         distribution = \"bernoulli\", learn_rate = 0.1, min_rows = 2)\n",
    "data_gbm2.train(x = myX, y = myY, training_frame = train, validation_frame = test)\n",
    "\n",
    "data_gbm2.model_performance(test)"
   ]
  },
  {
   "cell_type": "code",
   "execution_count": null,
   "metadata": {
    "collapsed": false
   },
   "outputs": [],
   "source": [
    "data_gbm2.predict(test)"
   ]
  },
  {
   "cell_type": "markdown",
   "metadata": {},
   "source": [
    "<a name=\"DRF Model\"></a>\n",
    "`Build Distributed Random Forest`"
   ]
  },
  {
   "cell_type": "code",
   "execution_count": null,
   "metadata": {
    "collapsed": false
   },
   "outputs": [],
   "source": [
    "# Set response column\n",
    "myY = \"IsDepDelayed\"\n",
    "# Set feature columns\n",
    "myX = [\"Origin\", \"Dest\", \"Year\", \"UniqueCarrier\", \"DayOfWeek\", \"Month\", \"Distance\", \"FlightNum\"]\n",
    "\n",
    "# Predict delays with Distributed Random Forest (DRF)\n",
    "data_rf2 = H2ORandomForestEstimator(ntrees = 10,max_depth = 5, balance_classes = True)\n",
    "data_rf2.train(x = myX, y = myY, training_frame = train, validation_frame = test)\n",
    "\n",
    "data_rf2.model_performance(test)"
   ]
  },
  {
   "cell_type": "code",
   "execution_count": null,
   "metadata": {
    "collapsed": false
   },
   "outputs": [],
   "source": [
    "data_rf2.predict(test)"
   ]
  },
  {
   "cell_type": "markdown",
   "metadata": {},
   "source": [
    "<a name=\"DL Model\"></a>\n",
    "`Build Deep Learning`"
   ]
  },
  {
   "cell_type": "code",
   "execution_count": null,
   "metadata": {
    "collapsed": false
   },
   "outputs": [],
   "source": [
    "# Set response column\n",
    "myY = \"IsDepDelayed\"\n",
    "# Set feature columns\n",
    "myX = [\"Origin\", \"Dest\", \"Year\", \"UniqueCarrier\", \"DayOfWeek\", \"Month\", \"Distance\", \"FlightNum\"]\n",
    "\n",
    "# Predict delays with Deep Learning\n",
    "data_dl = H2ODeepLearningEstimator(hidden = [10,10], epochs = 5, variable_importances = True,\n",
    "                                   balance_classes = True, loss = \"Automatic\")\n",
    "data_dl.train(x = myX, y = myY, training_frame = train, validation_frame=test)\n",
    "\n",
    "data_dl.model_performance(test)"
   ]
  },
  {
   "cell_type": "code",
   "execution_count": null,
   "metadata": {
    "collapsed": false
   },
   "outputs": [],
   "source": [
    "data_dl.predict(test)"
   ]
  },
  {
   "cell_type": "markdown",
   "metadata": {},
   "source": [
    "<a name=\"NB Model\"></a>\n",
    "`Build Naive Bayes`"
   ]
  },
  {
   "cell_type": "code",
   "execution_count": null,
   "metadata": {
    "collapsed": false
   },
   "outputs": [],
   "source": [
    "# Set response column\n",
    "myY = \"IsDepDelayed\"\n",
    "# Set feature columns\n",
    "myX = [\"Origin\", \"Dest\", \"Year\", \"UniqueCarrier\", \"DayOfWeek\", \"Month\", \"Distance\", \"FlightNum\"]\n",
    "\n",
    "# Predict delays with Deep Learning with Naive Bayes\n",
    "# If laplace smoothing is disabled ('laplace=0') the algorithm will predict 0\n",
    "data_nb = H2ONaiveBayesEstimator(laplace=1) \n",
    "data_nb.train(x = myX, y = myY, training_frame = train, validation_frame=test)\n",
    "\n",
    "data_nb.model_performance(test)"
   ]
  },
  {
   "cell_type": "code",
   "execution_count": null,
   "metadata": {
    "collapsed": false
   },
   "outputs": [],
   "source": [
    "data_nb.predict(test)"
   ]
  },
  {
   "cell_type": "markdown",
   "metadata": {},
   "source": [
    "<a name=\"output\"></a>\n",
    "## Model Performance and Output \n",
    "\n",
    "Uncomment each line below one at a time to see each model's performance on the test set"
   ]
  },
  {
   "cell_type": "code",
   "execution_count": null,
   "metadata": {
    "collapsed": false
   },
   "outputs": [],
   "source": [
    "# data_glm.model_performance(test)\n",
    "# data_rf2.model_performance(test)\n",
    "# data_gbm2.model_performance(test)\n",
    "# data_nb.model_performance(test)"
   ]
  },
  {
   "cell_type": "markdown",
   "metadata": {},
   "source": [
    "### GLM Interactive Variable Importance"
   ]
  },
  {
   "cell_type": "code",
   "execution_count": null,
   "metadata": {
    "collapsed": false
   },
   "outputs": [],
   "source": [
    "# Calculate magnitude of normalized GLM coefficients\n",
    "from six import iteritems\n",
    "glm_varimp = data_glm.coef_norm()\n",
    "for k,v in iteritems(glm_varimp):\n",
    "    glm_varimp[k] = abs(glm_varimp[k])\n",
    "    \n",
    "# Sort in descending order by magnitude\n",
    "glm_sorted = sorted(glm_varimp.items(), key = operator.itemgetter(1), reverse = True)\n",
    "table = tabulate(glm_sorted, headers = [\"Predictor\", \"Normalized Coefficient\"], tablefmt = \"orgtbl\")\n",
    "print(\"Variable Importances:\\n\\n\" + table)"
   ]
  },
  {
   "cell_type": "markdown",
   "metadata": {},
   "source": [
    "### DRF, GBM & Deep Learning Variable Importance"
   ]
  },
  {
   "cell_type": "code",
   "execution_count": null,
   "metadata": {
    "collapsed": false
   },
   "outputs": [],
   "source": [
    "# Returns variable importance for each level\n",
    "# data_rf2.varimp()\n",
    "# data_gbm2.varimp()\n",
    "# data_dl.varimp()"
   ]
  },
  {
   "cell_type": "markdown",
   "metadata": {},
   "source": [
    "<a name=\"question\"></a>\n",
    "# Can H2O Handle New Categorical Levels in a Test Set? \n",
    "___\n",
    "> *Yes! Unlike most machine learning algorithms, H2O-3's algorithms can successfully make predictions, even if a test set contains categorical levels that were not present in the training set. This is because every algorithm replaces new categorical levels with NA values. So, the next question becomes:* \n",
    "\n",
    "> __How does each algorithm handle NA values in a test set?__ \n",
    "\n",
    "### Skip to the algorithm you're using to see how it predicts on a categorical level not seen during training:<a name=\"answer\"></a>\n",
    "\n",
    "(Note: NA values in the training set are not handled the same way as NA values in the test set)\n",
    "\n",
    "* [Generalized Linear Model (GLM)](#GLM)\n",
    "* [Gradient Boosting Model (GBM) & Distributed Random Forest (DRF)](#GBM & DRF)\n",
    "* [Deep Learning](#DL)\n",
    "* [K-Means](#K)\n",
    "* [Principal Component Analysis (PCA)](#PCA)\n",
    "* [Naive Bayes](#NB)\n",
    "\n",
    "___\n",
    "\n",
    "<a name=\"GLM\"></a>\n",
    " ** GLM **:\n",
    "\n",
    "  GLM will predict 'Double.NAN' for each row with a new categorical level, indicating a prediction wasn't made.\n",
    "  \n",
    "  <sub> After running the cells to load, clean, and split the data you can play with a GLM [here](#GLM Model)<sub>\n",
    "\n",
    "<a name=\"GBM & DRF\"></a>\n",
    " ** DRF & GBM ** :\n",
    "\n",
    "  Both DRF and GBM convert a new categorical level to a NA value in a test set, and then split left on the NA value during scoring. The algorithm splits left on NA values because, during training, NA values are grouped with the outliers in the left-most bin.\n",
    "  \n",
    "  <sub> After running the cells to load, clean, and split the data you can play with a GBM [here](#GBM Model) or a DRF [here](#DRF Model)<sub>\n",
    "\n",
    "<a name=\"DL\"></a>\n",
    " ** Deep Learning **:\n",
    "\n",
    "  For an unseen categorical level in the test set, Deep Learning makes an extra input neuron that remains untrained and contributes some random amount to the subsequent layer.\n",
    "\n",
    "<sub> After running the cells to load, clean, and split the data you can play with a Deep Learning model [here](#DL Model)<sub>\n",
    "\n",
    "<a name=\"K\"></a>\n",
    " ** K-Means **: \n",
    "\n",
    "  An unseen categorical level in a row does not contribute to that row's prediction. This is because the unseen  categorical level does not contribute to the distance comparison between clusters, and therefore does not factor in  predicting the cluster to which that row belongs.\n",
    "\n",
    "<a name=\"NB\"></a>\n",
    " ** Naive Bayes **:\n",
    " \n",
    "  If the Laplace smoothing parameter is disabled ('laplace = 0'), then Naive Bayes will predict a probability of 0 for any row in the test set that contains a previously unseen categorical level. However, if the Laplace smoothing parameter is used (e.g. 'laplace = 1'), then the model can make predictions for rows that include previously unseen categorical level.\n",
    "  \n",
    "  Laplace smoothing adjusts the maximum likelihood estimates by adding 1 to the numerator and k to the denominator to allow for new categorical levels in the training set:\n",
    "\n",
    "$\\phi_{j|y=1}= \\frac{\\Sigma_{i=1}^m 1(x_{j}^{(i)} \\ = \\ 1 \\ \\bigcap y^{(i)} \\ = \\ 1) \\ + \\ 1}{\\Sigma_{i=1}^{m}1(y^{(i)} \\ = \\ 1) \\ + \\ k}$\n",
    "\n",
    "$\\phi_{j|y=0}= \\frac{\\Sigma_{i=1}^m 1(x_{j}^{(i)} \\ = \\ 1 \\ \\bigcap y^{(i)} \\ = \\ 0) \\ + \\ 1}{\\Sigma_{i \\ = \\ 1}^{m}1(y^{(i)} \\ = \\ 0) \\ + \\ k}$\n",
    "   \n",
    "<sub>(Where $x^{(i)}$ represents features, $y^{(i)}$ represents the response column, and $k$ represents the addition of each new categorical level (k functions to balance the added 1 in the numerator))\n",
    "\n",
    "Laplace smoothing should be used with care; it is generally intended to allow for predictions in rare events. As prediction data becomes increasingly distinct from training data, new models should be trained when possible to account for a broader set of possible feature values.\n",
    "\n",
    "<sub> After running the cells to load, clean, and split the data you can play with a Naive Bayes model [here](#NB Model)<sub>\n",
    "\n",
    "<a name=\"PCA\"></a>\n",
    " ** PCA **: \n",
    "\n",
    "  New categorical levels in the test data that were not present in the training data, are skipped in the row product-  sum."
   ]
  },
  {
   "cell_type": "markdown",
   "metadata": {},
   "source": [
    "<a name=\"resources\"></a>\n",
    "## Additional Resources\n",
    "0. [H2O's How To for Basic Questions](http://h2oai.github.io/data-science-examples/examples.html)\n",
    "1. [H2O's User Guide Documentation](http://h2o-release.s3.amazonaws.com/h2o/rel-tibshirani/8/docs-website/h2o-docs/index.html)\n",
    "2. [H2O's Algorithm Documentation](https://github.com/h2oai/h2o-3/blob/master/h2o-docs/src/product/tutorials/datascience/DataScienceH2O-Dev.md)\n",
    "3. [H2O's Community - Where Questions are Posted](https://groups.google.com/forum/#!forum/h2ostream)\n",
    "4. [H2O's Python Demos](https://github.com/h2oai/h2o-3/tree/master/h2o-py/demos)\n",
    "5. [Python to R Parity](https://github.com/h2oai/h2o-3/blob/master/h2o-docs/src/product/upgrade/PythonParity.md)\n"
   ]
  },
  {
   "cell_type": "code",
   "execution_count": null,
   "metadata": {
    "collapsed": true
   },
   "outputs": [],
   "source": []
  }
 ],
 "metadata": {
  "kernelspec": {
   "display_name": "Python 2",
   "language": "python",
   "name": "python2"
  },
  "language_info": {
   "codemirror_mode": {
    "name": "ipython",
    "version": 2
   },
   "file_extension": ".py",
   "mimetype": "text/x-python",
   "name": "python",
   "nbconvert_exporter": "python",
   "pygments_lexer": "ipython2",
   "version": "2.7.11"
  }
 },
 "nbformat": 4,
 "nbformat_minor": 0
}
