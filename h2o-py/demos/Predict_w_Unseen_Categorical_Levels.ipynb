{
 "cells": [
  {
   "cell_type": "markdown",
   "metadata": {},
   "source": [
    "# What Happens When You Predict on an Unseen Categorical Level\n",
    "i.e. a rare event appears in your test set, which wasn't present in your training set.\n",
    "___\n",
    "\n",
    "> *This notebook walks through the steps of importing, cleaning, training, and testing on a data set where the test set contains a categorical level that was not present in the training set. You need to run steps 2. - 6. (to load all the variables) before you can jump between sections and run individual cells*"
   ]
  },
  {
   "cell_type": "markdown",
   "metadata": {},
   "source": [
    "## Table of Contents\n",
    "0. [Jump to The Short Answer](#question)\n",
    "1. [Import, Visualize & Clean Data](#start)\n",
    "2. [Split into Train and Test Sets](#split) \n",
    "3. [Build Models for GLM, GBM, DRF, Deep Learning & Naive Bayes](#build)\n",
    "4. [Model Performance for GLM, GBM, DRF, Deep Learning & Naive Bayes](#output)\n",
    "5. [How Each Algorithm Handles Missing Values/New Categorical Levels During Prediction](#answer)\n",
    "6. [Additional Resources](#resources)"
   ]
  },
  {
   "cell_type": "markdown",
   "metadata": {},
   "source": [
    "<a name=\"start\"></a>\n",
    "## Import Packages, Initialize an H2O Cluster & Load Data"
   ]
  },
  {
   "cell_type": "code",
   "execution_count": 1,
   "metadata": {
    "collapsed": false
   },
   "outputs": [],
   "source": [
    "import h2o, pandas, pprint, operator, numpy as np, matplotlib.pyplot as plt\n",
    "from h2o.estimators.glm import H2OGeneralizedLinearEstimator\n",
    "from h2o.estimators.gbm import H2OGradientBoostingEstimator\n",
    "from h2o.estimators.random_forest import H2ORandomForestEstimator\n",
    "from h2o.estimators.deeplearning import H2ODeepLearningEstimator\n",
    "from h2o.estimators.naive_bayes import H2ONaiveBayesEstimator\n",
    "from tabulate import tabulate"
   ]
  },
  {
   "cell_type": "code",
   "execution_count": 2,
   "metadata": {
    "collapsed": true
   },
   "outputs": [],
   "source": [
    "# Set 'interactive = True' for interactive plots, 'interactive = False' if not:\n",
    "interactive = True\n",
    "if not interactive: matplotlib.use('Agg', warn=False)"
   ]
  },
  {
   "cell_type": "code",
   "execution_count": 3,
   "metadata": {
    "collapsed": false
   },
   "outputs": [
    {
     "data": {
      "text/html": [
       "<div style=\"overflow:auto\"><table style=\"width:50%\"><tr><td>H2O cluster uptime: </td>\n",
       "<td>2 days 23 hours 47 minutes 21 seconds 729 milliseconds </td></tr>\n",
       "<tr><td>H2O cluster version: </td>\n",
       "<td>3.6.0.8</td></tr>\n",
       "<tr><td>H2O cluster name: </td>\n",
       "<td>H2O_started_from_python</td></tr>\n",
       "<tr><td>H2O cluster total nodes: </td>\n",
       "<td>1</td></tr>\n",
       "<tr><td>H2O cluster total memory: </td>\n",
       "<td>1.78 GB</td></tr>\n",
       "<tr><td>H2O cluster total cores: </td>\n",
       "<td>8</td></tr>\n",
       "<tr><td>H2O cluster allowed cores: </td>\n",
       "<td>8</td></tr>\n",
       "<tr><td>H2O cluster healthy: </td>\n",
       "<td>True</td></tr>\n",
       "<tr><td>H2O Connection ip: </td>\n",
       "<td>127.0.0.1</td></tr>\n",
       "<tr><td>H2O Connection port: </td>\n",
       "<td>54321</td></tr></table></div>"
      ],
      "text/plain": [
       "--------------------------  ------------------------------------------------------\n",
       "H2O cluster uptime:         2 days 23 hours 47 minutes 21 seconds 729 milliseconds\n",
       "H2O cluster version:        3.6.0.8\n",
       "H2O cluster name:           H2O_started_from_python\n",
       "H2O cluster total nodes:    1\n",
       "H2O cluster total memory:   1.78 GB\n",
       "H2O cluster total cores:    8\n",
       "H2O cluster allowed cores:  8\n",
       "H2O cluster healthy:        True\n",
       "H2O Connection ip:          127.0.0.1\n",
       "H2O Connection port:        54321\n",
       "--------------------------  ------------------------------------------------------"
      ]
     },
     "metadata": {},
     "output_type": "display_data"
    }
   ],
   "source": [
    "# Connect to a cluster \n",
    "h2o.init()"
   ]
  },
  {
   "cell_type": "code",
   "execution_count": 4,
   "metadata": {
    "collapsed": false
   },
   "outputs": [
    {
     "name": "stdout",
     "output_type": "stream",
     "text": [
      "Import and Parse airlines data\n",
      "\n",
      "Parse Progress: [##################################################] 100%\n"
     ]
    }
   ],
   "source": [
    "# 1 - Load data - One row per flight.  \n",
    "# Columns include origin, destination, departure & arrival times, carrier information, and whether flight was delayed.\n",
    "print(\"Import and Parse airlines data\")\n",
    "# air_path = 'allyears2k_headers.zip'\n",
    "air_path = 'https://github.com/h2oai/h2o-2/raw/master/smalldata/airlines/allyears2k_headers.zip'\n",
    "data = h2o.import_file(path = air_path)\n",
    "# data.describe() # uncomment to see summary of loaded data file\n",
    "# data.head()     # uncomment to see top of the loaded data file"
   ]
  },
  {
   "cell_type": "markdown",
   "metadata": {},
   "source": [
    "## Explore Data with Visualizations"
   ]
  },
  {
   "cell_type": "code",
   "execution_count": 5,
   "metadata": {
    "collapsed": false
   },
   "outputs": [
    {
     "name": "stdout",
     "output_type": "stream",
     "text": [
      "\n",
      "glm Model Build Progress: [##################################################] 100%\n"
     ]
    },
    {
     "data": {
      "image/png": "[encoded data removed]",
      "text/plain": [
       "<matplotlib.figure.Figure at 0x10c1e5ad0>"
      ]
     },
     "metadata": {},
     "output_type": "display_data"
    }
   ],
   "source": [
    "# 2 - Data exploration and munging. \n",
    "# Generate scatter plots of various columns and plot fitted GLM model.\n",
    "\n",
    "# Function to fit a GLM model and plot the fitted (x,y) values\n",
    "def scatter_plot(data, x, y, max_points = 1000, fit = True):\n",
    "    if(fit):\n",
    "        lr = H2OGeneralizedLinearEstimator(family = \"gaussian\")\n",
    "        lr.train(x=x, y=y, training_frame=data)\n",
    "        coeff = lr.coef()\n",
    "    df = data[[x,y]]\n",
    "    runif = df[y].runif()\n",
    "    df_subset = df[runif < float(max_points)/data.nrow]\n",
    "    df_py = h2o.as_list(df_subset)\n",
    "    \n",
    "    if(fit): h2o.remove(lr._id)\n",
    "\n",
    "    # If x variable is string, generate box-and-whisker plot\n",
    "    if(df_py[x].dtype == \"object\"):\n",
    "        if interactive: df_py.boxplot(column = y, by = x)\n",
    "    # Otherwise, generate a scatter plot\n",
    "    else:\n",
    "        if interactive: df_py.plot(x = x, y = y, kind = \"scatter\")\n",
    "    \n",
    "    if(fit):\n",
    "        x_min = min(df_py[x])\n",
    "        x_max = max(df_py[x])\n",
    "        y_min = coeff[\"Intercept\"] + coeff[x]*x_min\n",
    "        y_max = coeff[\"Intercept\"] + coeff[x]*x_max\n",
    "        plt.plot([x_min, x_max], [y_min, y_max], \"k-\")\n",
    "    if interactive: plt.show()\n",
    "        \n",
    "# generate matplotlib plots inside of ipython notebook        \n",
    "%matplotlib inline  \n",
    "scatter_plot(data, \"Distance\", \"AirTime\", fit = True)"
   ]
  },
  {
   "cell_type": "code",
   "execution_count": 6,
   "metadata": {
    "collapsed": false
   },
   "outputs": [
    {
     "data": {
      "text/html": [
       "<table>\n",
       "<tr><th style=\"text-align: right;\">  Month</th><th style=\"text-align: right;\">  sum_Cancelled</th><th style=\"text-align: right;\">  nrow_Year</th></tr>\n",
       "<tr><td style=\"text-align: right;\">      1</td><td style=\"text-align: right;\">           1067</td><td style=\"text-align: right;\">      41979</td></tr>\n",
       "<tr><td style=\"text-align: right;\">     10</td><td style=\"text-align: right;\">             19</td><td style=\"text-align: right;\">       1999</td></tr>\n",
       "</table>"
      ]
     },
     "metadata": {},
     "output_type": "display_data"
    },
    {
     "name": "stdout",
     "output_type": "stream",
     "text": [
      "Rows:2 Cols:3\n",
      "\n",
      "Chunk compression summary:\n"
     ]
    },
    {
     "data": {
      "text/html": [
       "<div style=\"overflow:auto\"><table style=\"width:50%\"><tr><td><b>chunk_type</b></td>\n",
       "<td><b>chunk_name</b></td>\n",
       "<td><b>count</b></td>\n",
       "<td><b>count_percentage</b></td>\n",
       "<td><b>size</b></td>\n",
       "<td><b>size_percentage</b></td></tr>\n",
       "<tr><td>C1N</td>\n",
       "<td>1-Byte Integers (w/o NAs)</td>\n",
       "<td>1</td>\n",
       "<td>33.333336</td>\n",
       "<td>     70  B</td>\n",
       "<td>30.434782</td></tr>\n",
       "<tr><td>C2</td>\n",
       "<td>2-Byte Integers</td>\n",
       "<td>1</td>\n",
       "<td>33.333336</td>\n",
       "<td>     72  B</td>\n",
       "<td>31.304348</td></tr>\n",
       "<tr><td>C2S</td>\n",
       "<td>2-Byte Fractions</td>\n",
       "<td>1</td>\n",
       "<td>33.333336</td>\n",
       "<td>     88  B</td>\n",
       "<td>38.260868</td></tr></table></div>"
      ],
      "text/plain": [
       "chunk_type    chunk_name                 count    count_percentage    size    size_percentage\n",
       "------------  -------------------------  -------  ------------------  ------  -----------------\n",
       "C1N           1-Byte Integers (w/o NAs)  1        33.3333             70  B   30.4348\n",
       "C2            2-Byte Integers            1        33.3333             72  B   31.3043\n",
       "C2S           2-Byte Fractions           1        33.3333             88  B   38.2609"
      ]
     },
     "metadata": {},
     "output_type": "display_data"
    },
    {
     "name": "stdout",
     "output_type": "stream",
     "text": [
      "\n",
      "Frame distribution summary:\n"
     ]
    },
    {
     "data": {
      "text/html": [
       "<div style=\"overflow:auto\"><table style=\"width:50%\"><tr><td><b></b></td>\n",
       "<td><b>size</b></td>\n",
       "<td><b>number_of_rows</b></td>\n",
       "<td><b>number_of_chunks_per_column</b></td>\n",
       "<td><b>number_of_chunks</b></td></tr>\n",
       "<tr><td>127.0.0.1:54321</td>\n",
       "<td>    230  B</td>\n",
       "<td>2.0</td>\n",
       "<td>1.0</td>\n",
       "<td>3.0</td></tr>\n",
       "<tr><td>mean</td>\n",
       "<td>    230  B</td>\n",
       "<td>2.0</td>\n",
       "<td>1.0</td>\n",
       "<td>3.0</td></tr>\n",
       "<tr><td>min</td>\n",
       "<td>    230  B</td>\n",
       "<td>2.0</td>\n",
       "<td>1.0</td>\n",
       "<td>3.0</td></tr>\n",
       "<tr><td>max</td>\n",
       "<td>    230  B</td>\n",
       "<td>2.0</td>\n",
       "<td>1.0</td>\n",
       "<td>3.0</td></tr>\n",
       "<tr><td>stddev</td>\n",
       "<td>      0  B</td>\n",
       "<td>0.0</td>\n",
       "<td>0.0</td>\n",
       "<td>0.0</td></tr>\n",
       "<tr><td>total</td>\n",
       "<td>    230  B</td>\n",
       "<td>2.0</td>\n",
       "<td>1.0</td>\n",
       "<td>3.0</td></tr></table></div>"
      ],
      "text/plain": [
       "                 size    number_of_rows    number_of_chunks_per_column    number_of_chunks\n",
       "---------------  ------  ----------------  -----------------------------  ------------------\n",
       "127.0.0.1:54321  230  B  2                 1                              3\n",
       "mean             230  B  2                 1                              3\n",
       "min              230  B  2                 1                              3\n",
       "max              230  B  2                 1                              3\n",
       "stddev           0  B    0                 0                              0\n",
       "total            230  B  2                 1                              3"
      ]
     },
     "metadata": {},
     "output_type": "display_data"
    },
    {
     "name": "stdout",
     "output_type": "stream",
     "text": [
      "\n",
      "\n"
     ]
    },
    {
     "data": {
      "text/html": [
       "<table>\n",
       "<tr><th>       </th><th>Month        </th><th>sum_Cancelled  </th><th>nrow_Year    </th></tr>\n",
       "<tr><td>type   </td><td>int          </td><td>int            </td><td>int          </td></tr>\n",
       "<tr><td>mins   </td><td>1.0          </td><td>19.0           </td><td>1999.0       </td></tr>\n",
       "<tr><td>mean   </td><td>5.5          </td><td>543.0          </td><td>21989.0      </td></tr>\n",
       "<tr><td>maxs   </td><td>10.0         </td><td>1067.0         </td><td>41979.0      </td></tr>\n",
       "<tr><td>sigma  </td><td>6.36396103068</td><td>741.047906684  </td><td>28270.1291118</td></tr>\n",
       "<tr><td>zeros  </td><td>0            </td><td>0              </td><td>0            </td></tr>\n",
       "<tr><td>missing</td><td>0            </td><td>0              </td><td>0            </td></tr>\n",
       "<tr><td>0      </td><td>1.0          </td><td>1067.0         </td><td>41979.0      </td></tr>\n",
       "<tr><td>1      </td><td>10.0         </td><td>19.0           </td><td>1999.0       </td></tr>\n",
       "</table>"
      ]
     },
     "metadata": {},
     "output_type": "display_data"
    }
   ],
   "source": [
    "# Group flights by month\n",
    "grouped = data.group_by(\"Month\")\n",
    "bpd = grouped.count().sum(\"Cancelled\").frame\n",
    "bpd.show()\n",
    "bpd.describe()\n",
    "bpd.dim\n",
    "\n",
    "# Convert columns to factors\n",
    "data[\"Year\"]= data[\"Year\"].asfactor()\n",
    "data[\"Month\"] = data[\"Month\"].asfactor()\n",
    "data[\"DayOfWeek\"] = data[\"DayOfWeek\"].asfactor()\n",
    "data[\"Cancelled\"] = data[\"Cancelled\"].asfactor()"
   ]
  },
  {
   "cell_type": "code",
   "execution_count": 7,
   "metadata": {
    "collapsed": false
   },
   "outputs": [
    {
     "name": "stdout",
     "output_type": "stream",
     "text": [
      "\n",
      "Parse Progress: [##################################################] 100%\n",
      "\n",
      "glm Model Build Progress: [##################################################] 100%\n"
     ]
    },
    {
     "data": {
      "image/png": "[encoded data removed]",
      "text/plain": [
       "<matplotlib.figure.Figure at 0x10c42e150>"
      ]
     },
     "metadata": {},
     "output_type": "display_data"
    }
   ],
   "source": [
    "# Calculate and plot travel time\n",
    "hour1 = data[\"CRSArrTime\"] / 100\n",
    "mins1 = data[\"CRSArrTime\"] % 100\n",
    "arrTime = hour1*60 + mins1\n",
    "\n",
    "hour2 = data[\"CRSDepTime\"] / 100\n",
    "mins2 = data[\"CRSDepTime\"] % 100\n",
    "depTime = hour2*60 + mins2\n",
    "\n",
    "# TODO: Replace this once list comprehension is supported. See PUBDEV-1286.\n",
    "# data[\"TravelTime\"] = [x if x > 0 else None for x in (arrTime - depTime)]\n",
    "# data[\"TravelTime\"] = (arrTime-depTime > 0).ifelse((arrTime-depTime), h2o.H2OFrame([[None]] * data.nrow))\n",
    "# line above doesn't work because it produces a column-wise list instead of a row-wise list\n",
    "empty_array = np.empty((1,data.nrow,))\n",
    "empty_array[:]=np.NAN\n",
    "empty = np.ndarray.tolist(empty_array)\n",
    "data[\"TravelTime\"] = (arrTime-depTime > 0).ifelse((arrTime-depTime), h2o.H2OFrame(empty))\n",
    "scatter_plot(data, \"Distance\", \"TravelTime\")"
   ]
  },
  {
   "cell_type": "code",
   "execution_count": 8,
   "metadata": {
    "collapsed": false
   },
   "outputs": [
    {
     "name": "stdout",
     "output_type": "stream",
     "text": [
      "\n",
      "glm Model Build Progress: [##################################################] 100%\n"
     ]
    },
    {
     "data": {
      "image/png": "[encoded data removed]",
      "text/plain": [
       "<matplotlib.figure.Figure at 0x10c4524d0>"
      ]
     },
     "metadata": {},
     "output_type": "display_data"
    }
   ],
   "source": [
    "# Impute missing travel times and re-plot\n",
    "data.impute(column = \"Distance\", by = [\"Origin\", \"Dest\"])\n",
    "scatter_plot(data, \"Distance\", \"TravelTime\")"
   ]
  },
  {
   "cell_type": "markdown",
   "metadata": {},
   "source": [
    "<a name=\"split\"></a>\n",
    "# Split Data Set into Train and Test Sets "
   ]
  },
  {
   "cell_type": "code",
   "execution_count": 9,
   "metadata": {
    "collapsed": true
   },
   "outputs": [],
   "source": [
    "# 3 - Fit a model on train; using test as validation.\n",
    "# Create test/train split\n",
    "s = data[\"Year\"].runif()\n",
    "train = data[s <= 0.75]\n",
    "test  = data[s > 0.75]"
   ]
  },
  {
   "cell_type": "code",
   "execution_count": 10,
   "metadata": {
    "collapsed": false
   },
   "outputs": [
    {
     "data": {
      "text/plain": [
       "(340, 32)"
      ]
     },
     "execution_count": 10,
     "metadata": {},
     "output_type": "execute_result"
    }
   ],
   "source": [
    "# Replace all instances of 'SFO' in the destination column ('Dest') with 'BB8'\n",
    "test[\"Dest\"] = (test[\"Dest\"] == 'SFO').ifelse('BB8', test[\"Dest\"])\n",
    "# print out the number of rows that were effected\n",
    "test[test['Dest']=='BB8'].shape "
   ]
  },
  {
   "cell_type": "markdown",
   "metadata": {},
   "source": [
    ">*We replace all instances of 'SFO' from the 'Dest' column, to create the situation in which your test set has a categorical level that was not present in the training set (Note: all models will run without breaking, because new categorical levels are interpreted as if they were NA values)*"
   ]
  },
  {
   "cell_type": "markdown",
   "metadata": {},
   "source": [
    "<a name=\"build\"></a>\n",
    "# Build Models with Supervised Learning Algorithms \n",
    "\n",
    "Train models for GLM, GBM, DRF, Deep Learning & Naive Bayes in one go! "
   ]
  },
  {
   "cell_type": "code",
   "execution_count": 11,
   "metadata": {
    "collapsed": false
   },
   "outputs": [
    {
     "name": "stdout",
     "output_type": "stream",
     "text": [
      "\n",
      "glm Model Build Progress: [##################################################] 100%\n",
      "\n",
      "gbm Model Build Progress: [##################################################] 100%\n",
      "\n",
      "drf Model Build Progress: [##################################################] 100%\n",
      "\n",
      "deeplearning Model Build Progress: [##################################################] 100%\n",
      "\n",
      "naivebayes Model Build Progress: [##################################################] 100%\n"
     ]
    }
   ],
   "source": [
    "# Set response column\n",
    "myY = \"IsDepDelayed\"\n",
    "# Set feature columns\n",
    "myX = [\"Origin\", \"Dest\", \"Year\", \"UniqueCarrier\", \"DayOfWeek\", \"Month\", \"Distance\", \"FlightNum\"]\n",
    "\n",
    "# Predict delays with GLM\n",
    "data_glm = H2OGeneralizedLinearEstimator(family=\"binomial\", standardize=True)\n",
    "data_glm.train(x = myX, y = myY, training_frame = train, validation_frame = test)\n",
    "\n",
    "# Predict delays with GBM\n",
    "data_gbm2 = H2OGradientBoostingEstimator(balance_classes = True, ntrees = 50, max_depth = 5,\n",
    "                                         distribution = \"bernoulli\", learn_rate = 0.1, min_rows = 2)\n",
    "data_gbm2.train(x = myX, y = myY, training_frame = train, validation_frame = test)\n",
    "\n",
    "# Predict delays with Distributed Random Forest (DRF)\n",
    "data_rf2 = H2ORandomForestEstimator(ntrees = 10,max_depth = 5, balance_classes = True)\n",
    "data_rf2.train(x = myX, y = myY, training_frame = train, validation_frame = test)\n",
    "\n",
    "# Predict delays with Deep Learning\n",
    "data_dl = H2ODeepLearningEstimator(hidden = [10,10], epochs = 5, variable_importances = True,\n",
    "                                   balance_classes = True, loss = \"Automatic\")\n",
    "data_dl.train(x = myX, y = myY, training_frame = train, validation_frame=test)\n",
    "\n",
    "# Predict delays with Naive Bayes\n",
    "# If laplace smoothing is disabled ('laplace=0') the algorithm will predict 0\n",
    "data_nb = H2ONaiveBayesEstimator(laplace=1) \n",
    "data_nb.train(x = myX, y = myY, training_frame = train, validation_frame=test)\n"
   ]
  },
  {
   "cell_type": "markdown",
   "metadata": {},
   "source": [
    "### Or build models individually "
   ]
  },
  {
   "cell_type": "markdown",
   "metadata": {},
   "source": [
    "<a name=\"GLM Model\"></a>\n",
    "`Build GLM` "
   ]
  },
  {
   "cell_type": "code",
   "execution_count": null,
   "metadata": {
    "collapsed": false
   },
   "outputs": [],
   "source": [
    "# Set response column\n",
    "myY = \"IsDepDelayed\"\n",
    "# Set feature columns\n",
    "myX = [\"Origin\", \"Dest\", \"Year\", \"UniqueCarrier\", \"DayOfWeek\", \"Month\", \"Distance\", \"FlightNum\"]\n",
    "\n",
    "# Predict delays with GLM\n",
    "data_glm = H2OGeneralizedLinearEstimator(family=\"binomial\", standardize=True)\n",
    "data_glm.train(x = myX, y = myY, training_frame = train, validation_frame = test)\n",
    "\n",
    "data_glm.model_performance(test)"
   ]
  },
  {
   "cell_type": "code",
   "execution_count": 12,
   "metadata": {
    "collapsed": false
   },
   "outputs": [
    {
     "data": {
      "text/html": [
       "<table>\n",
       "<tr><th>predict  </th><th style=\"text-align: right;\">      NO</th><th style=\"text-align: right;\">     YES</th></tr>\n",
       "<tr><td>YES      </td><td style=\"text-align: right;\">0.486924</td><td style=\"text-align: right;\">0.513076</td></tr>\n",
       "<tr><td>YES      </td><td style=\"text-align: right;\">0.445544</td><td style=\"text-align: right;\">0.554456</td></tr>\n",
       "<tr><td>YES      </td><td style=\"text-align: right;\">0.505696</td><td style=\"text-align: right;\">0.494304</td></tr>\n",
       "<tr><td>YES      </td><td style=\"text-align: right;\">0.445544</td><td style=\"text-align: right;\">0.554456</td></tr>\n",
       "<tr><td>YES      </td><td style=\"text-align: right;\">0.505696</td><td style=\"text-align: right;\">0.494304</td></tr>\n",
       "<tr><td>YES      </td><td style=\"text-align: right;\">0.36161 </td><td style=\"text-align: right;\">0.63839 </td></tr>\n",
       "<tr><td>YES      </td><td style=\"text-align: right;\">0.36525 </td><td style=\"text-align: right;\">0.63475 </td></tr>\n",
       "<tr><td>YES      </td><td style=\"text-align: right;\">0.393395</td><td style=\"text-align: right;\">0.606605</td></tr>\n",
       "<tr><td>YES      </td><td style=\"text-align: right;\">0.337481</td><td style=\"text-align: right;\">0.662519</td></tr>\n",
       "<tr><td>YES      </td><td style=\"text-align: right;\">0.393395</td><td style=\"text-align: right;\">0.606605</td></tr>\n",
       "</table>"
      ]
     },
     "metadata": {},
     "output_type": "display_data"
    },
    {
     "data": {
      "text/plain": []
     },
     "execution_count": 12,
     "metadata": {},
     "output_type": "execute_result"
    }
   ],
   "source": [
    "glm_pred_output = data_glm.predict(test)\n",
    "glm_pred_output.head()"
   ]
  },
  {
   "cell_type": "markdown",
   "metadata": {},
   "source": [
    "<a name=\"GBM Model\"></a>\n",
    "`Build GBM`"
   ]
  },
  {
   "cell_type": "code",
   "execution_count": null,
   "metadata": {
    "collapsed": false
   },
   "outputs": [],
   "source": [
    "# Set response column\n",
    "myY = \"IsDepDelayed\"\n",
    "# Set feature columns\n",
    "myX = [\"Origin\", \"Dest\", \"Year\", \"UniqueCarrier\", \"DayOfWeek\", \"Month\", \"Distance\", \"FlightNum\"]\n",
    "\n",
    "# Predict delays with GBM\n",
    "data_gbm2 = H2OGradientBoostingEstimator(balance_classes = True, ntrees = 50, max_depth = 5,\n",
    "                                         distribution = \"bernoulli\", learn_rate = 0.1, min_rows = 2)\n",
    "data_gbm2.train(x = myX, y = myY, training_frame = train, validation_frame = test)\n",
    "\n",
    "data_gbm2.model_performance(test)"
   ]
  },
  {
   "cell_type": "code",
   "execution_count": 13,
   "metadata": {
    "collapsed": false
   },
   "outputs": [
    {
     "data": {
      "text/html": [
       "<table>\n",
       "<tr><th>predict  </th><th style=\"text-align: right;\">      NO</th><th style=\"text-align: right;\">     YES</th></tr>\n",
       "<tr><td>NO       </td><td style=\"text-align: right;\">0.733556</td><td style=\"text-align: right;\">0.266444</td></tr>\n",
       "<tr><td>YES      </td><td style=\"text-align: right;\">0.627461</td><td style=\"text-align: right;\">0.372539</td></tr>\n",
       "<tr><td>NO       </td><td style=\"text-align: right;\">0.78123 </td><td style=\"text-align: right;\">0.21877 </td></tr>\n",
       "<tr><td>YES      </td><td style=\"text-align: right;\">0.627461</td><td style=\"text-align: right;\">0.372539</td></tr>\n",
       "<tr><td>NO       </td><td style=\"text-align: right;\">0.78123 </td><td style=\"text-align: right;\">0.21877 </td></tr>\n",
       "<tr><td>YES      </td><td style=\"text-align: right;\">0.332099</td><td style=\"text-align: right;\">0.667901</td></tr>\n",
       "<tr><td>YES      </td><td style=\"text-align: right;\">0.250787</td><td style=\"text-align: right;\">0.749213</td></tr>\n",
       "<tr><td>YES      </td><td style=\"text-align: right;\">0.286167</td><td style=\"text-align: right;\">0.713833</td></tr>\n",
       "<tr><td>YES      </td><td style=\"text-align: right;\">0.22208 </td><td style=\"text-align: right;\">0.77792 </td></tr>\n",
       "<tr><td>YES      </td><td style=\"text-align: right;\">0.286167</td><td style=\"text-align: right;\">0.713833</td></tr>\n",
       "</table>"
      ]
     },
     "metadata": {},
     "output_type": "display_data"
    },
    {
     "data": {
      "text/plain": []
     },
     "execution_count": 13,
     "metadata": {},
     "output_type": "execute_result"
    }
   ],
   "source": [
    "data_gbm2.predict(test)"
   ]
  },
  {
   "cell_type": "markdown",
   "metadata": {},
   "source": [
    "<a name=\"DRF Model\"></a>\n",
    "`Build Distributed Random Forest`"
   ]
  },
  {
   "cell_type": "code",
   "execution_count": null,
   "metadata": {
    "collapsed": false
   },
   "outputs": [],
   "source": [
    "# Set response column\n",
    "myY = \"IsDepDelayed\"\n",
    "# Set feature columns\n",
    "myX = [\"Origin\", \"Dest\", \"Year\", \"UniqueCarrier\", \"DayOfWeek\", \"Month\", \"Distance\", \"FlightNum\"]\n",
    "\n",
    "# Predict delays with Distributed Random Forest (DRF)\n",
    "data_rf2 = H2ORandomForestEstimator(ntrees = 10,max_depth = 5, balance_classes = True)\n",
    "data_rf2.train(x = myX, y = myY, training_frame = train, validation_frame = test)\n",
    "\n",
    "data_rf2.model_performance(test)"
   ]
  },
  {
   "cell_type": "code",
   "execution_count": 14,
   "metadata": {
    "collapsed": false
   },
   "outputs": [
    {
     "data": {
      "text/html": [
       "<table>\n",
       "<tr><th>predict  </th><th style=\"text-align: right;\">      NO</th><th style=\"text-align: right;\">     YES</th></tr>\n",
       "<tr><td>YES      </td><td style=\"text-align: right;\">0.417667</td><td style=\"text-align: right;\">0.582333</td></tr>\n",
       "<tr><td>YES      </td><td style=\"text-align: right;\">0.353056</td><td style=\"text-align: right;\">0.646944</td></tr>\n",
       "<tr><td>YES      </td><td style=\"text-align: right;\">0.417667</td><td style=\"text-align: right;\">0.582333</td></tr>\n",
       "<tr><td>YES      </td><td style=\"text-align: right;\">0.353056</td><td style=\"text-align: right;\">0.646944</td></tr>\n",
       "<tr><td>YES      </td><td style=\"text-align: right;\">0.417667</td><td style=\"text-align: right;\">0.582333</td></tr>\n",
       "<tr><td>YES      </td><td style=\"text-align: right;\">0.333562</td><td style=\"text-align: right;\">0.666438</td></tr>\n",
       "<tr><td>YES      </td><td style=\"text-align: right;\">0.333562</td><td style=\"text-align: right;\">0.666438</td></tr>\n",
       "<tr><td>YES      </td><td style=\"text-align: right;\">0.333562</td><td style=\"text-align: right;\">0.666438</td></tr>\n",
       "<tr><td>YES      </td><td style=\"text-align: right;\">0.332691</td><td style=\"text-align: right;\">0.667309</td></tr>\n",
       "<tr><td>YES      </td><td style=\"text-align: right;\">0.333562</td><td style=\"text-align: right;\">0.666438</td></tr>\n",
       "</table>"
      ]
     },
     "metadata": {},
     "output_type": "display_data"
    },
    {
     "data": {
      "text/plain": []
     },
     "execution_count": 14,
     "metadata": {},
     "output_type": "execute_result"
    }
   ],
   "source": [
    "data_rf2.predict(test)"
   ]
  },
  {
   "cell_type": "markdown",
   "metadata": {},
   "source": [
    "<a name=\"DL Model\"></a>\n",
    "`Build Deep Learning`"
   ]
  },
  {
   "cell_type": "code",
   "execution_count": null,
   "metadata": {
    "collapsed": false
   },
   "outputs": [],
   "source": [
    "# Set response column\n",
    "myY = \"IsDepDelayed\"\n",
    "# Set feature columns\n",
    "myX = [\"Origin\", \"Dest\", \"Year\", \"UniqueCarrier\", \"DayOfWeek\", \"Month\", \"Distance\", \"FlightNum\"]\n",
    "\n",
    "# Predict delays with Deep Learning\n",
    "data_dl = H2ODeepLearningEstimator(hidden = [10,10], epochs = 5, variable_importances = True,\n",
    "                                   balance_classes = True, loss = \"Automatic\")\n",
    "data_dl.train(x = myX, y = myY, training_frame = train, validation_frame=test)\n",
    "\n",
    "data_dl.model_performance(test)"
   ]
  },
  {
   "cell_type": "code",
   "execution_count": 15,
   "metadata": {
    "collapsed": false
   },
   "outputs": [
    {
     "data": {
      "text/html": [
       "<table>\n",
       "<tr><th>predict  </th><th style=\"text-align: right;\">      NO</th><th style=\"text-align: right;\">     YES</th></tr>\n",
       "<tr><td>YES      </td><td style=\"text-align: right;\">0.412259</td><td style=\"text-align: right;\">0.587741</td></tr>\n",
       "<tr><td>YES      </td><td style=\"text-align: right;\">0.305322</td><td style=\"text-align: right;\">0.694678</td></tr>\n",
       "<tr><td>YES      </td><td style=\"text-align: right;\">0.395405</td><td style=\"text-align: right;\">0.604595</td></tr>\n",
       "<tr><td>YES      </td><td style=\"text-align: right;\">0.305322</td><td style=\"text-align: right;\">0.694678</td></tr>\n",
       "<tr><td>YES      </td><td style=\"text-align: right;\">0.395405</td><td style=\"text-align: right;\">0.604595</td></tr>\n",
       "<tr><td>YES      </td><td style=\"text-align: right;\">0.340752</td><td style=\"text-align: right;\">0.659248</td></tr>\n",
       "<tr><td>YES      </td><td style=\"text-align: right;\">0.369242</td><td style=\"text-align: right;\">0.630758</td></tr>\n",
       "<tr><td>YES      </td><td style=\"text-align: right;\">0.356076</td><td style=\"text-align: right;\">0.643924</td></tr>\n",
       "<tr><td>YES      </td><td style=\"text-align: right;\">0.31166 </td><td style=\"text-align: right;\">0.68834 </td></tr>\n",
       "<tr><td>YES      </td><td style=\"text-align: right;\">0.356076</td><td style=\"text-align: right;\">0.643924</td></tr>\n",
       "</table>"
      ]
     },
     "metadata": {},
     "output_type": "display_data"
    },
    {
     "data": {
      "text/plain": []
     },
     "execution_count": 15,
     "metadata": {},
     "output_type": "execute_result"
    }
   ],
   "source": [
    "data_dl.predict(test)"
   ]
  },
  {
   "cell_type": "markdown",
   "metadata": {},
   "source": [
    "<a name=\"NB Model\"></a>\n",
    "`Build Naive Bayes`"
   ]
  },
  {
   "cell_type": "code",
   "execution_count": null,
   "metadata": {
    "collapsed": false
   },
   "outputs": [],
   "source": [
    "# Set response column\n",
    "myY = \"IsDepDelayed\"\n",
    "# Set feature columns\n",
    "myX = [\"Origin\", \"Dest\", \"Year\", \"UniqueCarrier\", \"DayOfWeek\", \"Month\", \"Distance\", \"FlightNum\"]\n",
    "\n",
    "# Predict delays with Naive Bayes\n",
    "# If laplace smoothing is disabled ('laplace=0') the algorithm will predict 0\n",
    "data_nb = H2ONaiveBayesEstimator(laplace=1) \n",
    "data_nb.train(x = myX, y = myY, training_frame = train, validation_frame=test)\n",
    "\n",
    "data_nb.model_performance(test)"
   ]
  },
  {
   "cell_type": "code",
   "execution_count": 16,
   "metadata": {
    "collapsed": false
   },
   "outputs": [
    {
     "data": {
      "text/html": [
       "<table>\n",
       "<tr><th>predict  </th><th style=\"text-align: right;\">      NO</th><th style=\"text-align: right;\">     YES</th></tr>\n",
       "<tr><td>YES      </td><td style=\"text-align: right;\">0.454398</td><td style=\"text-align: right;\">0.545602</td></tr>\n",
       "<tr><td>YES      </td><td style=\"text-align: right;\">0.322786</td><td style=\"text-align: right;\">0.677214</td></tr>\n",
       "<tr><td>YES      </td><td style=\"text-align: right;\">0.440799</td><td style=\"text-align: right;\">0.559201</td></tr>\n",
       "<tr><td>YES      </td><td style=\"text-align: right;\">0.322786</td><td style=\"text-align: right;\">0.677214</td></tr>\n",
       "<tr><td>YES      </td><td style=\"text-align: right;\">0.440799</td><td style=\"text-align: right;\">0.559201</td></tr>\n",
       "<tr><td>YES      </td><td style=\"text-align: right;\">0.40981 </td><td style=\"text-align: right;\">0.59019 </td></tr>\n",
       "<tr><td>YES      </td><td style=\"text-align: right;\">0.408858</td><td style=\"text-align: right;\">0.591142</td></tr>\n",
       "<tr><td>YES      </td><td style=\"text-align: right;\">0.439846</td><td style=\"text-align: right;\">0.560154</td></tr>\n",
       "<tr><td>YES      </td><td style=\"text-align: right;\">0.321941</td><td style=\"text-align: right;\">0.678059</td></tr>\n",
       "<tr><td>YES      </td><td style=\"text-align: right;\">0.439846</td><td style=\"text-align: right;\">0.560154</td></tr>\n",
       "</table>"
      ]
     },
     "metadata": {},
     "output_type": "display_data"
    },
    {
     "data": {
      "text/plain": []
     },
     "execution_count": 16,
     "metadata": {},
     "output_type": "execute_result"
    }
   ],
   "source": [
    "data_nb.predict(test)"
   ]
  },
  {
   "cell_type": "markdown",
   "metadata": {},
   "source": [
    "<a name=\"output\"></a>\n",
    "## Model Performance and Output \n",
    "\n",
    "Run each cell below to see each model's performance on the test set"
   ]
  },
  {
   "cell_type": "code",
   "execution_count": 18,
   "metadata": {
    "collapsed": false
   },
   "outputs": [
    {
     "name": "stdout",
     "output_type": "stream",
     "text": [
      "\n",
      "ModelMetricsBinomialGLM: glm\n",
      "** Reported on test data. **\n",
      "\n",
      "MSE: 0.213916317948\n",
      "R^2: 0.142562197727\n",
      "LogLoss: 0.616813724741\n",
      "Null degrees of freedom: 11018\n",
      "Residual degrees of freedom: 10758\n",
      "Null deviance: 15253.1945167\n",
      "Residual deviance: 13593.3408658\n",
      "AIC: 14115.3408658\n",
      "AUC: 0.718386634817\n",
      "Gini: 0.436773269633\n",
      "\n",
      "Confusion Matrix (Act/Pred) for max f1 @ threshold = 0.389054132:\n"
     ]
    },
    {
     "data": {
      "text/html": [
       "<div style=\"overflow:auto\"><table style=\"width:50%\"><tr><td><b></b></td>\n",
       "<td><b>NO</b></td>\n",
       "<td><b>YES</b></td>\n",
       "<td><b>Error</b></td>\n",
       "<td><b>Rate</b></td></tr>\n",
       "<tr><td>NO</td>\n",
       "<td>2163.0</td>\n",
       "<td>3096.0</td>\n",
       "<td>0.5887</td>\n",
       "<td> (3096.0/5259.0)</td></tr>\n",
       "<tr><td>YES</td>\n",
       "<td>872.0</td>\n",
       "<td>4888.0</td>\n",
       "<td>0.1514</td>\n",
       "<td> (872.0/5760.0)</td></tr>\n",
       "<tr><td>Total</td>\n",
       "<td>3035.0</td>\n",
       "<td>7984.0</td>\n",
       "<td>0.3601</td>\n",
       "<td> (3968.0/11019.0)</td></tr></table></div>"
      ],
      "text/plain": [
       "       NO    YES    Error    Rate\n",
       "-----  ----  -----  -------  ----------------\n",
       "NO     2163  3096   0.5887   (3096.0/5259.0)\n",
       "YES    872   4888   0.1514   (872.0/5760.0)\n",
       "Total  3035  7984   0.3601   (3968.0/11019.0)"
      ]
     },
     "metadata": {},
     "output_type": "display_data"
    },
    {
     "name": "stdout",
     "output_type": "stream",
     "text": [
      "\n",
      "Maximum Metrics: Maximum metrics at their respective thresholds\n",
      "\n"
     ]
    },
    {
     "data": {
      "text/html": [
       "<div style=\"overflow:auto\"><table style=\"width:50%\"><tr><td><b>metric</b></td>\n",
       "<td><b>threshold</b></td>\n",
       "<td><b>value</b></td>\n",
       "<td><b>idx</b></td></tr>\n",
       "<tr><td>max f1</td>\n",
       "<td>0.3890541</td>\n",
       "<td>0.7112922</td>\n",
       "<td>285.0</td></tr>\n",
       "<tr><td>max f2</td>\n",
       "<td>0.1035543</td>\n",
       "<td>0.8461923</td>\n",
       "<td>392.0</td></tr>\n",
       "<tr><td>max f0point5</td>\n",
       "<td>0.5269380</td>\n",
       "<td>0.6817852</td>\n",
       "<td>208.0</td></tr>\n",
       "<tr><td>max accuracy</td>\n",
       "<td>0.4998685</td>\n",
       "<td>0.6683910</td>\n",
       "<td>223.0</td></tr>\n",
       "<tr><td>max precision</td>\n",
       "<td>0.9808563</td>\n",
       "<td>1.0</td>\n",
       "<td>0.0</td></tr>\n",
       "<tr><td>max absolute_MCC</td>\n",
       "<td>0.4998685</td>\n",
       "<td>0.3346923</td>\n",
       "<td>223.0</td></tr>\n",
       "<tr><td>max min_per_class_accuracy</td>\n",
       "<td>0.5192804</td>\n",
       "<td>0.6647569</td>\n",
       "<td>212.0</td></tr></table></div>"
      ],
      "text/plain": [
       "metric                      threshold    value     idx\n",
       "--------------------------  -----------  --------  -----\n",
       "max f1                      0.389054     0.711292  285\n",
       "max f2                      0.103554     0.846192  392\n",
       "max f0point5                0.526938     0.681785  208\n",
       "max accuracy                0.499869     0.668391  223\n",
       "max precision               0.980856     1         0\n",
       "max absolute_MCC            0.499869     0.334692  223\n",
       "max min_per_class_accuracy  0.51928      0.664757  212"
      ]
     },
     "metadata": {},
     "output_type": "display_data"
    },
    {
     "data": {
      "text/plain": []
     },
     "execution_count": 18,
     "metadata": {},
     "output_type": "execute_result"
    }
   ],
   "source": [
    "# GLM performance\n",
    "data_glm.model_performance(test)"
   ]
  },
  {
   "cell_type": "code",
   "execution_count": 19,
   "metadata": {
    "collapsed": false
   },
   "outputs": [
    {
     "name": "stdout",
     "output_type": "stream",
     "text": [
      "\n",
      "ModelMetricsBinomial: drf\n",
      "** Reported on test data. **\n",
      "\n",
      "MSE: 0.216555216936\n",
      "R^2: 0.131988645599\n",
      "LogLoss: 0.622661149806\n",
      "AUC: 0.714823231051\n",
      "Gini: 0.429646462101\n",
      "\n",
      "Confusion Matrix (Act/Pred) for max f1 @ threshold = 0.428971130131:\n"
     ]
    },
    {
     "data": {
      "text/html": [
       "<div style=\"overflow:auto\"><table style=\"width:50%\"><tr><td><b></b></td>\n",
       "<td><b>NO</b></td>\n",
       "<td><b>YES</b></td>\n",
       "<td><b>Error</b></td>\n",
       "<td><b>Rate</b></td></tr>\n",
       "<tr><td>NO</td>\n",
       "<td>2115.0</td>\n",
       "<td>3150.0</td>\n",
       "<td>0.5983</td>\n",
       "<td> (3150.0/5265.0)</td></tr>\n",
       "<tr><td>YES</td>\n",
       "<td>875.0</td>\n",
       "<td>4891.0</td>\n",
       "<td>0.1518</td>\n",
       "<td> (875.0/5766.0)</td></tr>\n",
       "<tr><td>Total</td>\n",
       "<td>2990.0</td>\n",
       "<td>8041.0</td>\n",
       "<td>0.3649</td>\n",
       "<td> (4025.0/11031.0)</td></tr></table></div>"
      ],
      "text/plain": [
       "       NO    YES    Error    Rate\n",
       "-----  ----  -----  -------  ----------------\n",
       "NO     2115  3150   0.5983   (3150.0/5265.0)\n",
       "YES    875   4891   0.1518   (875.0/5766.0)\n",
       "Total  2990  8041   0.3649   (4025.0/11031.0)"
      ]
     },
     "metadata": {},
     "output_type": "display_data"
    },
    {
     "name": "stdout",
     "output_type": "stream",
     "text": [
      "\n",
      "Maximum Metrics: Maximum metrics at their respective thresholds\n",
      "\n"
     ]
    },
    {
     "data": {
      "text/html": [
       "<div style=\"overflow:auto\"><table style=\"width:50%\"><tr><td><b>metric</b></td>\n",
       "<td><b>threshold</b></td>\n",
       "<td><b>value</b></td>\n",
       "<td><b>idx</b></td></tr>\n",
       "<tr><td>max f1</td>\n",
       "<td>0.4289711</td>\n",
       "<td>0.7084812</td>\n",
       "<td>291.0</td></tr>\n",
       "<tr><td>max f2</td>\n",
       "<td>0.2548082</td>\n",
       "<td>0.8465406</td>\n",
       "<td>390.0</td></tr>\n",
       "<tr><td>max f0point5</td>\n",
       "<td>0.5803026</td>\n",
       "<td>0.6803653</td>\n",
       "<td>183.0</td></tr>\n",
       "<tr><td>max accuracy</td>\n",
       "<td>0.5248351</td>\n",
       "<td>0.6615901</td>\n",
       "<td>222.0</td></tr>\n",
       "<tr><td>max precision</td>\n",
       "<td>0.8891400</td>\n",
       "<td>1.0</td>\n",
       "<td>0.0</td></tr>\n",
       "<tr><td>max absolute_MCC</td>\n",
       "<td>0.5803026</td>\n",
       "<td>0.3253950</td>\n",
       "<td>183.0</td></tr>\n",
       "<tr><td>max min_per_class_accuracy</td>\n",
       "<td>0.5333499</td>\n",
       "<td>0.6567811</td>\n",
       "<td>216.0</td></tr></table></div>"
      ],
      "text/plain": [
       "metric                      threshold    value     idx\n",
       "--------------------------  -----------  --------  -----\n",
       "max f1                      0.428971     0.708481  291\n",
       "max f2                      0.254808     0.846541  390\n",
       "max f0point5                0.580303     0.680365  183\n",
       "max accuracy                0.524835     0.66159   222\n",
       "max precision               0.88914      1         0\n",
       "max absolute_MCC            0.580303     0.325395  183\n",
       "max min_per_class_accuracy  0.53335      0.656781  216"
      ]
     },
     "metadata": {},
     "output_type": "display_data"
    },
    {
     "data": {
      "text/plain": []
     },
     "execution_count": 19,
     "metadata": {},
     "output_type": "execute_result"
    }
   ],
   "source": [
    "# Distributed Random Forest Performance\n",
    "data_rf2.model_performance(test)"
   ]
  },
  {
   "cell_type": "code",
   "execution_count": 20,
   "metadata": {
    "collapsed": false
   },
   "outputs": [
    {
     "name": "stdout",
     "output_type": "stream",
     "text": [
      "\n",
      "ModelMetricsBinomial: gbm\n",
      "** Reported on test data. **\n",
      "\n",
      "MSE: 0.209125456554\n",
      "R^2: 0.161769116665\n",
      "LogLoss: 0.605956064406\n",
      "AUC: 0.73209342911\n",
      "Gini: 0.464186858221\n",
      "\n",
      "Confusion Matrix (Act/Pred) for max f1 @ threshold = 0.354493215374:\n"
     ]
    },
    {
     "data": {
      "text/html": [
       "<div style=\"overflow:auto\"><table style=\"width:50%\"><tr><td><b></b></td>\n",
       "<td><b>NO</b></td>\n",
       "<td><b>YES</b></td>\n",
       "<td><b>Error</b></td>\n",
       "<td><b>Rate</b></td></tr>\n",
       "<tr><td>NO</td>\n",
       "<td>2055.0</td>\n",
       "<td>3210.0</td>\n",
       "<td>0.6097</td>\n",
       "<td> (3210.0/5265.0)</td></tr>\n",
       "<tr><td>YES</td>\n",
       "<td>760.0</td>\n",
       "<td>5006.0</td>\n",
       "<td>0.1318</td>\n",
       "<td> (760.0/5766.0)</td></tr>\n",
       "<tr><td>Total</td>\n",
       "<td>2815.0</td>\n",
       "<td>8216.0</td>\n",
       "<td>0.3599</td>\n",
       "<td> (3970.0/11031.0)</td></tr></table></div>"
      ],
      "text/plain": [
       "       NO    YES    Error    Rate\n",
       "-----  ----  -----  -------  ----------------\n",
       "NO     2055  3210   0.6097   (3210.0/5265.0)\n",
       "YES    760   5006   0.1318   (760.0/5766.0)\n",
       "Total  2815  8216   0.3599   (3970.0/11031.0)"
      ]
     },
     "metadata": {},
     "output_type": "display_data"
    },
    {
     "name": "stdout",
     "output_type": "stream",
     "text": [
      "\n",
      "Maximum Metrics: Maximum metrics at their respective thresholds\n",
      "\n"
     ]
    },
    {
     "data": {
      "text/html": [
       "<div style=\"overflow:auto\"><table style=\"width:50%\"><tr><td><b>metric</b></td>\n",
       "<td><b>threshold</b></td>\n",
       "<td><b>value</b></td>\n",
       "<td><b>idx</b></td></tr>\n",
       "<tr><td>max f1</td>\n",
       "<td>0.3544932</td>\n",
       "<td>0.7160635</td>\n",
       "<td>296.0</td></tr>\n",
       "<tr><td>max f2</td>\n",
       "<td>0.1794351</td>\n",
       "<td>0.8462016</td>\n",
       "<td>375.0</td></tr>\n",
       "<tr><td>max f0point5</td>\n",
       "<td>0.5506738</td>\n",
       "<td>0.6953031</td>\n",
       "<td>187.0</td></tr>\n",
       "<tr><td>max accuracy</td>\n",
       "<td>0.4821806</td>\n",
       "<td>0.6760946</td>\n",
       "<td>224.0</td></tr>\n",
       "<tr><td>max precision</td>\n",
       "<td>0.9651422</td>\n",
       "<td>1.0</td>\n",
       "<td>0.0</td></tr>\n",
       "<tr><td>max absolute_MCC</td>\n",
       "<td>0.5110109</td>\n",
       "<td>0.3525654</td>\n",
       "<td>208.0</td></tr>\n",
       "<tr><td>max min_per_class_accuracy</td>\n",
       "<td>0.4952445</td>\n",
       "<td>0.6738841</td>\n",
       "<td>217.0</td></tr></table></div>"
      ],
      "text/plain": [
       "metric                      threshold    value     idx\n",
       "--------------------------  -----------  --------  -----\n",
       "max f1                      0.354493     0.716064  296\n",
       "max f2                      0.179435     0.846202  375\n",
       "max f0point5                0.550674     0.695303  187\n",
       "max accuracy                0.482181     0.676095  224\n",
       "max precision               0.965142     1         0\n",
       "max absolute_MCC            0.511011     0.352565  208\n",
       "max min_per_class_accuracy  0.495244     0.673884  217"
      ]
     },
     "metadata": {},
     "output_type": "display_data"
    },
    {
     "data": {
      "text/plain": []
     },
     "execution_count": 20,
     "metadata": {},
     "output_type": "execute_result"
    }
   ],
   "source": [
    "# GBM Performance\n",
    "data_gbm2.model_performance(test)"
   ]
  },
  {
   "cell_type": "code",
   "execution_count": 21,
   "metadata": {
    "collapsed": false
   },
   "outputs": [
    {
     "name": "stdout",
     "output_type": "stream",
     "text": [
      "\n",
      "ModelMetricsBinomial: deeplearning\n",
      "** Reported on test data. **\n",
      "\n",
      "MSE: 0.225957101117\n",
      "R^2: 0.0943033737448\n",
      "LogLoss: 0.643105888375\n",
      "AUC: 0.678674115118\n",
      "Gini: 0.357348230235\n",
      "\n",
      "Confusion Matrix (Act/Pred) for max f1 @ threshold = 0.367145462233:\n"
     ]
    },
    {
     "data": {
      "text/html": [
       "<div style=\"overflow:auto\"><table style=\"width:50%\"><tr><td><b></b></td>\n",
       "<td><b>NO</b></td>\n",
       "<td><b>YES</b></td>\n",
       "<td><b>Error</b></td>\n",
       "<td><b>Rate</b></td></tr>\n",
       "<tr><td>NO</td>\n",
       "<td>1810.0</td>\n",
       "<td>3455.0</td>\n",
       "<td>0.6562</td>\n",
       "<td> (3455.0/5265.0)</td></tr>\n",
       "<tr><td>YES</td>\n",
       "<td>791.0</td>\n",
       "<td>4975.0</td>\n",
       "<td>0.1372</td>\n",
       "<td> (791.0/5766.0)</td></tr>\n",
       "<tr><td>Total</td>\n",
       "<td>2601.0</td>\n",
       "<td>8430.0</td>\n",
       "<td>0.3849</td>\n",
       "<td> (4246.0/11031.0)</td></tr></table></div>"
      ],
      "text/plain": [
       "       NO    YES    Error    Rate\n",
       "-----  ----  -----  -------  ----------------\n",
       "NO     1810  3455   0.6562   (3455.0/5265.0)\n",
       "YES    791   4975   0.1372   (791.0/5766.0)\n",
       "Total  2601  8430   0.3849   (4246.0/11031.0)"
      ]
     },
     "metadata": {},
     "output_type": "display_data"
    },
    {
     "name": "stdout",
     "output_type": "stream",
     "text": [
      "\n",
      "Maximum Metrics: Maximum metrics at their respective thresholds\n",
      "\n"
     ]
    },
    {
     "data": {
      "text/html": [
       "<div style=\"overflow:auto\"><table style=\"width:50%\"><tr><td><b>metric</b></td>\n",
       "<td><b>threshold</b></td>\n",
       "<td><b>value</b></td>\n",
       "<td><b>idx</b></td></tr>\n",
       "<tr><td>max f1</td>\n",
       "<td>0.3671455</td>\n",
       "<td>0.7009017</td>\n",
       "<td>301.0</td></tr>\n",
       "<tr><td>max f2</td>\n",
       "<td>0.1912333</td>\n",
       "<td>0.8457039</td>\n",
       "<td>388.0</td></tr>\n",
       "<tr><td>max f0point5</td>\n",
       "<td>0.4655283</td>\n",
       "<td>0.6508271</td>\n",
       "<td>241.0</td></tr>\n",
       "<tr><td>max accuracy</td>\n",
       "<td>0.4655283</td>\n",
       "<td>0.6368416</td>\n",
       "<td>241.0</td></tr>\n",
       "<tr><td>max precision</td>\n",
       "<td>0.8948884</td>\n",
       "<td>1.0</td>\n",
       "<td>0.0</td></tr>\n",
       "<tr><td>max absolute_MCC</td>\n",
       "<td>0.4342028</td>\n",
       "<td>0.2717576</td>\n",
       "<td>261.0</td></tr>\n",
       "<tr><td>max min_per_class_accuracy</td>\n",
       "<td>0.4948843</td>\n",
       "<td>0.6309592</td>\n",
       "<td>220.0</td></tr></table></div>"
      ],
      "text/plain": [
       "metric                      threshold    value     idx\n",
       "--------------------------  -----------  --------  -----\n",
       "max f1                      0.367145     0.700902  301\n",
       "max f2                      0.191233     0.845704  388\n",
       "max f0point5                0.465528     0.650827  241\n",
       "max accuracy                0.465528     0.636842  241\n",
       "max precision               0.894888     1         0\n",
       "max absolute_MCC            0.434203     0.271758  261\n",
       "max min_per_class_accuracy  0.494884     0.630959  220"
      ]
     },
     "metadata": {},
     "output_type": "display_data"
    },
    {
     "data": {
      "text/plain": []
     },
     "execution_count": 21,
     "metadata": {},
     "output_type": "execute_result"
    }
   ],
   "source": [
    "# Deep Learning Performance\n",
    "data_dl.model_performance(test)"
   ]
  },
  {
   "cell_type": "code",
   "execution_count": 22,
   "metadata": {
    "collapsed": false
   },
   "outputs": [
    {
     "name": "stdout",
     "output_type": "stream",
     "text": [
      "\n",
      "ModelMetricsBinomial: naivebayes\n",
      "** Reported on test data. **\n",
      "\n",
      "MSE: 0.242346206009\n",
      "R^2: 0.0286114484444\n",
      "LogLoss: 0.677507256544\n",
      "AUC: 0.633088142529\n",
      "Gini: 0.266176285057\n",
      "\n",
      "Confusion Matrix (Act/Pred) for max f1 @ threshold = 0.275171263695:\n"
     ]
    },
    {
     "data": {
      "text/html": [
       "<div style=\"overflow:auto\"><table style=\"width:50%\"><tr><td><b></b></td>\n",
       "<td><b>NO</b></td>\n",
       "<td><b>YES</b></td>\n",
       "<td><b>Error</b></td>\n",
       "<td><b>Rate</b></td></tr>\n",
       "<tr><td>NO</td>\n",
       "<td>375.0</td>\n",
       "<td>4890.0</td>\n",
       "<td>0.9288</td>\n",
       "<td> (4890.0/5265.0)</td></tr>\n",
       "<tr><td>YES</td>\n",
       "<td>119.0</td>\n",
       "<td>5647.0</td>\n",
       "<td>0.0206</td>\n",
       "<td> (119.0/5766.0)</td></tr>\n",
       "<tr><td>Total</td>\n",
       "<td>494.0</td>\n",
       "<td>10537.0</td>\n",
       "<td>0.4541</td>\n",
       "<td> (5009.0/11031.0)</td></tr></table></div>"
      ],
      "text/plain": [
       "       NO    YES    Error    Rate\n",
       "-----  ----  -----  -------  ----------------\n",
       "NO     375   4890   0.9288   (4890.0/5265.0)\n",
       "YES    119   5647   0.0206   (119.0/5766.0)\n",
       "Total  494   10537  0.4541   (5009.0/11031.0)"
      ]
     },
     "metadata": {},
     "output_type": "display_data"
    },
    {
     "name": "stdout",
     "output_type": "stream",
     "text": [
      "\n",
      "Maximum Metrics: Maximum metrics at their respective thresholds\n",
      "\n"
     ]
    },
    {
     "data": {
      "text/html": [
       "<div style=\"overflow:auto\"><table style=\"width:50%\"><tr><td><b>metric</b></td>\n",
       "<td><b>threshold</b></td>\n",
       "<td><b>value</b></td>\n",
       "<td><b>idx</b></td></tr>\n",
       "<tr><td>max f1</td>\n",
       "<td>0.2751713</td>\n",
       "<td>0.6927559</td>\n",
       "<td>348.0</td></tr>\n",
       "<tr><td>max f2</td>\n",
       "<td>0.2044974</td>\n",
       "<td>0.8464231</td>\n",
       "<td>377.0</td></tr>\n",
       "<tr><td>max f0point5</td>\n",
       "<td>0.3914058</td>\n",
       "<td>0.6210401</td>\n",
       "<td>261.0</td></tr>\n",
       "<tr><td>max accuracy</td>\n",
       "<td>0.3914058</td>\n",
       "<td>0.6033904</td>\n",
       "<td>261.0</td></tr>\n",
       "<tr><td>max precision</td>\n",
       "<td>0.9165748</td>\n",
       "<td>1.0</td>\n",
       "<td>0.0</td></tr>\n",
       "<tr><td>max absolute_MCC</td>\n",
       "<td>0.4275474</td>\n",
       "<td>0.2035927</td>\n",
       "<td>231.0</td></tr>\n",
       "<tr><td>max min_per_class_accuracy</td>\n",
       "<td>0.4149729</td>\n",
       "<td>0.5969611</td>\n",
       "<td>241.0</td></tr></table></div>"
      ],
      "text/plain": [
       "metric                      threshold    value     idx\n",
       "--------------------------  -----------  --------  -----\n",
       "max f1                      0.275171     0.692756  348\n",
       "max f2                      0.204497     0.846423  377\n",
       "max f0point5                0.391406     0.62104   261\n",
       "max accuracy                0.391406     0.60339   261\n",
       "max precision               0.916575     1         0\n",
       "max absolute_MCC            0.427547     0.203593  231\n",
       "max min_per_class_accuracy  0.414973     0.596961  241"
      ]
     },
     "metadata": {},
     "output_type": "display_data"
    },
    {
     "data": {
      "text/plain": []
     },
     "execution_count": 22,
     "metadata": {},
     "output_type": "execute_result"
    }
   ],
   "source": [
    "# Naive Bayes Performance\n",
    "data_nb.model_performance(test)"
   ]
  },
  {
   "cell_type": "markdown",
   "metadata": {},
   "source": [
    "### GLM, DRF, GBM & Deep Learning Variable Importance"
   ]
  },
  {
   "cell_type": "code",
   "execution_count": 23,
   "metadata": {
    "collapsed": false
   },
   "outputs": [
    {
     "name": "stdout",
     "output_type": "stream",
     "text": [
      "Variable Importances:\n",
      "\n",
      "| Predictor        |   Normalized Coefficient |\n",
      "|------------------+--------------------------|\n",
      "| Year.2008        |              2.37435     |\n",
      "| Origin.HPN       |              1.80741     |\n",
      "| Year.2003        |              1.65986     |\n",
      "| Dest.LYH         |              1.53316     |\n",
      "| Year.2007        |              1.49964     |\n",
      "| Origin.MDW       |              1.44725     |\n",
      "| Origin.LIH       |              1.43003     |\n",
      "| Dest.HTS         |              1.24606     |\n",
      "| UniqueCarrier.HP |              1.23942     |\n",
      "| Origin.TRI       |              1.20532     |\n",
      "| Origin.HNL       |              1.18317     |\n",
      "| Origin.OGG       |              1.15877     |\n",
      "| Origin.GRR       |              1.14622     |\n",
      "| Dest.LBB         |              1.12764     |\n",
      "| Year.2001        |              1.11385     |\n",
      "| Origin.ERI       |              1.07767     |\n",
      "| Year.2002        |              1.06136     |\n",
      "| Origin.LEX       |              1.04511     |\n",
      "| Origin.PBI       |              1.04501     |\n",
      "| Origin.LBB       |              1.02666     |\n",
      "| Origin.TLH       |              1.00269     |\n",
      "| Dest.ICT         |              0.977825    |\n",
      "| Origin.CHO       |              0.963437    |\n",
      "| Origin.CAE       |              0.947761    |\n",
      "| Origin.MYR       |              0.944549    |\n",
      "| Origin.STX       |              0.908046    |\n",
      "| UniqueCarrier.TW |              0.860109    |\n",
      "| Year.2004        |              0.854255    |\n",
      "| Origin.ATL       |              0.847052    |\n",
      "| Year.2006        |              0.846917    |\n",
      "| Origin.IAH       |              0.846828    |\n",
      "| Origin.ORD       |              0.825756    |\n",
      "| Origin.SRQ       |              0.796817    |\n",
      "| Origin.SAV       |              0.794597    |\n",
      "| Origin.ROA       |              0.761633    |\n",
      "| Dest.DAY         |              0.752072    |\n",
      "| Origin.BTV       |              0.744957    |\n",
      "| Origin.ALB       |              0.736625    |\n",
      "| Origin.MRY       |              0.727239    |\n",
      "| Year.1994        |              0.719259    |\n",
      "| Dest.CHO         |              0.701304    |\n",
      "| Origin.LYH       |              0.701304    |\n",
      "| Origin.SLC       |              0.693986    |\n",
      "| Origin.STL       |              0.690696    |\n",
      "| Dest.OGG         |              0.686053    |\n",
      "| Origin.CMH       |              0.679332    |\n",
      "| Origin.MIA       |              0.655113    |\n",
      "| Origin.PSP       |              0.641142    |\n",
      "| Dest.PSP         |              0.63648     |\n",
      "| Origin.OKC       |              0.632095    |\n",
      "| UniqueCarrier.WN |              0.628495    |\n",
      "| Dest.TPA         |              0.610699    |\n",
      "| Dest.IAH         |              0.607277    |\n",
      "| Dest.ISP         |              0.601111    |\n",
      "| Dest.FLL         |              0.592819    |\n",
      "| Dest.KOA         |              0.580332    |\n",
      "| Origin.PIT       |              0.579784    |\n",
      "| Origin.JAX       |              0.578109    |\n",
      "| Origin.RNO       |              0.577782    |\n",
      "| Dest.GSO         |              0.538473    |\n",
      "| Origin.FLL       |              0.538045    |\n",
      "| Dest.TOL         |              0.537646    |\n",
      "| Origin.TYS       |              0.531482    |\n",
      "| Dest.SFO         |              0.527966    |\n",
      "| Dest.FAT         |              0.527235    |\n",
      "| Dest.CRP         |              0.527171    |\n",
      "| Year.1996        |              0.525925    |\n",
      "| Dest.ABQ         |              0.523121    |\n",
      "| Year.1997        |              0.517187    |\n",
      "| Origin.EYW       |              0.510897    |\n",
      "| Origin.AUS       |              0.504443    |\n",
      "| Origin.IND       |              0.499304    |\n",
      "| Year.2005        |              0.496027    |\n",
      "| Origin.MAF       |              0.49553     |\n",
      "| Origin.MSY       |              0.495519    |\n",
      "| Origin.SYR       |              0.494233    |\n",
      "| Dest.FAY         |              0.49159     |\n",
      "| Dest.IND         |              0.489449    |\n",
      "| Origin.PWM       |              0.482548    |\n",
      "| Origin.MLB       |              0.477967    |\n",
      "| Origin.LAX       |              0.475643    |\n",
      "| UniqueCarrier.CO |              0.470617    |\n",
      "| Year.1990        |              0.468924    |\n",
      "| Origin.CRW       |              0.468719    |\n",
      "| Origin.CRP       |              0.467766    |\n",
      "| Origin.BOI       |              0.464746    |\n",
      "| Dest.HRL         |              0.446362    |\n",
      "| Origin.PHL       |              0.444245    |\n",
      "| Origin.LGA       |              0.442439    |\n",
      "| Dest.UCA         |              0.442158    |\n",
      "| Dest.EUG         |              0.429477    |\n",
      "| Origin.GSO       |              0.42227     |\n",
      "| Dest.GEG         |              0.421541    |\n",
      "| Origin.DFW       |              0.42139     |\n",
      "| Year.1991        |              0.412025    |\n",
      "| Origin.OMA       |              0.410624    |\n",
      "| Dest.PNS         |              0.409076    |\n",
      "| Dest.EYW         |              0.406639    |\n",
      "| Origin.EGE       |              0.402569    |\n",
      "| Dest.CLE         |              0.402474    |\n",
      "| Origin.DSM       |              0.39781     |\n",
      "| Origin.ICT       |              0.397695    |\n",
      "| Origin.JFK       |              0.393256    |\n",
      "| Origin.TUS       |              0.391516    |\n",
      "| Year.1992        |              0.388406    |\n",
      "| Origin.MCI       |              0.385262    |\n",
      "| UniqueCarrier.PI |              0.380878    |\n",
      "| Dest.MIA         |              0.378389    |\n",
      "| Dest.LIH         |              0.365448    |\n",
      "| Dest.ROC         |              0.362394    |\n",
      "| Dest.ELM         |              0.359067    |\n",
      "| Dest.SAT         |              0.357173    |\n",
      "| Dest.BGM         |              0.356261    |\n",
      "| Origin.SAN       |              0.354942    |\n",
      "| UniqueCarrier.AA |              0.350469    |\n",
      "| Origin.OAK       |              0.347097    |\n",
      "| Origin.TPA       |              0.343804    |\n",
      "| Year.1995        |              0.343065    |\n",
      "| Dest.GRR         |              0.341494    |\n",
      "| Dest.BUR         |              0.340152    |\n",
      "| Dest.RSW         |              0.338233    |\n",
      "| Origin.MCO       |              0.334611    |\n",
      "| Dest.PBI         |              0.334226    |\n",
      "| Origin.HRL       |              0.332753    |\n",
      "| Dest.CAK         |              0.315794    |\n",
      "| Origin.SJC       |              0.315779    |\n",
      "| Dest.BTV         |              0.313962    |\n",
      "| UniqueCarrier.US |              0.304791    |\n",
      "| Origin.BDL       |              0.304584    |\n",
      "| Origin.ABE       |              0.302499    |\n",
      "| Origin.BWI       |              0.297502    |\n",
      "| Origin.ROC       |              0.293077    |\n",
      "| Dest.SLC         |              0.292844    |\n",
      "| Dest.CHS         |              0.291764    |\n",
      "| Origin.CLT       |              0.290469    |\n",
      "| Origin.SDF       |              0.289598    |\n",
      "| Dest.BDL         |              0.28429     |\n",
      "| Dest.PWM         |              0.278146    |\n",
      "| Origin.DAY       |              0.272404    |\n",
      "| Origin.BUR       |              0.270522    |\n",
      "| Dest.ALB         |              0.268184    |\n",
      "| Origin.JAN       |              0.263384    |\n",
      "| Dest.MSY         |              0.261115    |\n",
      "| Origin.MDT       |              0.260738    |\n",
      "| Dest.MSP         |              0.259034    |\n",
      "| Dest.RIC         |              0.254831    |\n",
      "| Origin.BUF       |              0.254245    |\n",
      "| Dest.SWF         |              0.25109     |\n",
      "| Origin.BOS       |              0.250994    |\n",
      "| Origin.DEN       |              0.250454    |\n",
      "| Origin.MSP       |              0.238935    |\n",
      "| Dest.MKE         |              0.235864    |\n",
      "| DayOfWeek.5      |              0.235499    |\n",
      "| Dest.CAE         |              0.22928     |\n",
      "| Month.10         |              0.223929    |\n",
      "| Year.1987        |              0.223929    |\n",
      "| Dest.MCO         |              0.216527    |\n",
      "| Dest.CMH         |              0.204239    |\n",
      "| Dest.SBN         |              0.203279    |\n",
      "| Origin.BGM       |              0.199729    |\n",
      "| Origin.IAD       |              0.192719    |\n",
      "| Dest.CLT         |              0.189161    |\n",
      "| Origin.TUL       |              0.185964    |\n",
      "| Dest.HOU         |              0.1845      |\n",
      "| Dest.LAS         |              0.183722    |\n",
      "| Origin.CLE       |              0.181335    |\n",
      "| Dest.BUF         |              0.178883    |\n",
      "| Origin.ORF       |              0.177088    |\n",
      "| Origin.PDX       |              0.17413     |\n",
      "| Dest.IAD         |              0.17123     |\n",
      "| Origin.SFO       |              0.171081    |\n",
      "| Dest.AVL         |              0.166879    |\n",
      "| Dest.ONT         |              0.164665    |\n",
      "| Dest.PHX         |              0.159471    |\n",
      "| Distance         |              0.159256    |\n",
      "| Dest.PHL         |              0.155644    |\n",
      "| DayOfWeek.2      |              0.154781    |\n",
      "| Dest.OAK         |              0.154371    |\n",
      "| Dest.AMA         |              0.153079    |\n",
      "| Dest.TUL         |              0.15282     |\n",
      "| Origin.SJU       |              0.147679    |\n",
      "| Dest.LGA         |              0.146127    |\n",
      "| Dest.JAX         |              0.144206    |\n",
      "| Dest.STL         |              0.14142     |\n",
      "| Origin.LIT       |              0.140795    |\n",
      "| Origin.SWF       |              0.135293    |\n",
      "| Origin.UCA       |              0.133687    |\n",
      "| Dest.PVD         |              0.131987    |\n",
      "| Dest.MHT         |              0.130998    |\n",
      "| Origin.COS       |              0.128917    |\n",
      "| Dest.LAX         |              0.128887    |\n",
      "| Dest.BNA         |              0.125556    |\n",
      "| Dest.SAN         |              0.124149    |\n",
      "| Year.1999        |              0.12301     |\n",
      "| DayOfWeek.4      |              0.121889    |\n",
      "| Month.1          |              0.121416    |\n",
      "| Year.2000        |              0.119842    |\n",
      "| DayOfWeek.6      |              0.119587    |\n",
      "| Dest.ORD         |              0.119418    |\n",
      "| Origin.KOA       |              0.116574    |\n",
      "| Dest.ROA         |              0.115356    |\n",
      "| Dest.SEA         |              0.11377     |\n",
      "| Year.1989        |              0.110587    |\n",
      "| Dest.ILM         |              0.104961    |\n",
      "| Origin.SCK       |              0.103514    |\n",
      "| Dest.DTW         |              0.103432    |\n",
      "| Dest.ORF         |              0.10051     |\n",
      "| Origin.PHX       |              0.0978398   |\n",
      "| Origin.MHT       |              0.097505    |\n",
      "| Dest.PDX         |              0.0953886   |\n",
      "| Origin.PVD       |              0.091774    |\n",
      "| Origin.PHF       |              0.0900992   |\n",
      "| Dest.BWI         |              0.0878707   |\n",
      "| Dest.DAL         |              0.0876755   |\n",
      "| Origin.ABQ       |              0.0777296   |\n",
      "| Dest.DEN         |              0.0767839   |\n",
      "| Origin.SMF       |              0.0746255   |\n",
      "| Origin.ACY       |              0.0713725   |\n",
      "| Dest.MCI         |              0.0702138   |\n",
      "| Origin.BHM       |              0.0699328   |\n",
      "| Origin.ELP       |              0.0669512   |\n",
      "| Dest.SNA         |              0.0648604   |\n",
      "| Dest.DFW         |              0.0642707   |\n",
      "| Intercept        |              0.0578794   |\n",
      "| Dest.OMA         |              0.0568142   |\n",
      "| Dest.EWR         |              0.0554052   |\n",
      "| Year.1998        |              0.0552337   |\n",
      "| Dest.MDT         |              0.0549876   |\n",
      "| Origin.EWR       |              0.053157    |\n",
      "| Dest.BOS         |              0.0510888   |\n",
      "| Dest.STT         |              0.0495676   |\n",
      "| Dest.SMF         |              0.0470048   |\n",
      "| Dest.SYR         |              0.0451576   |\n",
      "| DayOfWeek.3      |              0.0444887   |\n",
      "| Dest.MAF         |              0.0415508   |\n",
      "| Origin.RDU       |              0.0406678   |\n",
      "| Year.1993        |              0.0404166   |\n",
      "| Dest.HPN         |              0.0384406   |\n",
      "| Year.1988        |              0.0382187   |\n",
      "| Dest.AVP         |              0.0274848   |\n",
      "| UniqueCarrier.UA |              0.0267222   |\n",
      "| Dest.PIT         |              0.0252452   |\n",
      "| Dest.ABE         |              0.0251659   |\n",
      "| Origin.DCA       |              0.0242457   |\n",
      "| Origin.RIC       |              0.021338    |\n",
      "| Origin.AVP       |              0.0194967   |\n",
      "| FlightNum        |              0.0192377   |\n",
      "| Origin.MKE       |              0.0163945   |\n",
      "| DayOfWeek.7      |              0.0157301   |\n",
      "| Origin.LAS       |              0.0116524   |\n",
      "| Origin.SEA       |              0.0109748   |\n",
      "| Dest.BOI         |              0.0103565   |\n",
      "| Dest.MDW         |              0.00974373  |\n",
      "| UniqueCarrier.PS |              0.00872941  |\n",
      "| Origin.DTW       |              0.00816776  |\n",
      "| Dest.RDU         |              0.00454759  |\n",
      "| Origin.HOU       |              0.00418776  |\n",
      "| Origin.CHS       |              0.00358247  |\n",
      "| Dest.SJC         |              0.00240508  |\n",
      "| Origin.AMA       |              0.0003668   |\n",
      "| Dest.DCA         |              0.000221585 |\n",
      "| Dest.LIT         |              0           |\n",
      "| Dest.OKC         |              0           |\n",
      "| Dest.ORH         |              0           |\n",
      "| Dest.RNO         |              0           |\n",
      "| Origin.ANC       |              0           |\n",
      "| Dest.SRQ         |              0           |\n",
      "| Dest.MRY         |              0           |\n",
      "| Dest.SJU         |              0           |\n",
      "| UniqueCarrier.DL |              0           |\n",
      "| Origin.SNA       |              0           |\n",
      "| Origin.RSW       |              0           |\n",
      "| Origin.SAT       |              0           |\n",
      "| Origin.BNA       |              0           |\n",
      "| Dest.DSM         |              0           |\n",
      "| Origin.CVG       |              0           |\n",
      "| Dest.HNL         |              0           |\n",
      "| Origin.ISP       |              0           |\n",
      "| Origin.LAN       |              0           |\n",
      "| Dest.AUS         |              0           |\n",
      "| Dest.JFK         |              0           |\n",
      "| Dest.ERI         |              0           |\n",
      "| Dest.ACY         |              0           |\n",
      "| Dest.FNT         |              0           |\n",
      "| Dest.GSP         |              0           |\n",
      "| Dest.OAJ         |              0           |\n",
      "| Origin.MFR       |              0           |\n",
      "| Origin.ONT       |              0           |\n",
      "| Dest.JAN         |              0           |\n",
      "| Dest.TUS         |              0           |\n",
      "| Origin.STT       |              0           |\n",
      "| Dest.ELP         |              0           |\n",
      "| Dest.BHM         |              0           |\n",
      "| Dest.CHA         |              0           |\n",
      "| Origin.SBN       |              0           |\n",
      "| Origin.MEM       |              0           |\n",
      "| Origin.GNV       |              0           |\n",
      "| Dest.LEX         |              0           |\n",
      "| Dest.ATL         |              0           |\n",
      "| Dest.SDF         |              0           |\n",
      "| Dest.PHF         |              0           |\n",
      "| Dest.ANC         |              0           |\n",
      "| DayOfWeek.1      |              0           |\n",
      "| Origin.GEG       |              0           |\n",
      "| Dest.MYR         |              0           |\n",
      "| Dest.SCK         |              0           |\n",
      "| Origin.BIL       |              0           |\n",
      "| Dest.CVG         |              0           |\n",
      "| Dest.COS         |              0           |\n",
      "| Origin.DAL       |              0           |\n"
     ]
    }
   ],
   "source": [
    "# Calculate magnitude of normalized GLM coefficients\n",
    "from six import iteritems\n",
    "glm_varimp = data_glm.coef_norm()\n",
    "for k,v in iteritems(glm_varimp):\n",
    "    glm_varimp[k] = abs(glm_varimp[k])\n",
    "    \n",
    "# Sort in descending order by magnitude\n",
    "glm_sorted = sorted(glm_varimp.items(), key = operator.itemgetter(1), reverse = True)\n",
    "table = tabulate(glm_sorted, headers = [\"Predictor\", \"Normalized Coefficient\"], tablefmt = \"orgtbl\")\n",
    "print(\"Variable Importances:\\n\\n\" + table)"
   ]
  },
  {
   "cell_type": "code",
   "execution_count": 109,
   "metadata": {
    "collapsed": false
   },
   "outputs": [
    {
     "data": {
      "text/plain": [
       "([<matplotlib.axis.XTick at 0x11813ec50>,\n",
       "  <matplotlib.axis.XTick at 0x118132e10>,\n",
       "  <matplotlib.axis.XTick at 0x118394d90>,\n",
       "  <matplotlib.axis.XTick at 0x1183d8090>,\n",
       "  <matplotlib.axis.XTick at 0x1183d87d0>,\n",
       "  <matplotlib.axis.XTick at 0x1183d8f10>,\n",
       "  <matplotlib.axis.XTick at 0x1183e1690>,\n",
       "  <matplotlib.axis.XTick at 0x1183e1dd0>,\n",
       "  <matplotlib.axis.XTick at 0x1183ea550>],\n",
       " <a list of 9 Text xticklabel objects>)"
      ]
     },
     "execution_count": 109,
     "metadata": {},
     "output_type": "execute_result"
    },
    {
     "data": {
      "image/png": "[encoded data removed]",
      "text/plain": [
       "<matplotlib.figure.Figure at 0x1173e3dd0>"
      ]
     },
     "metadata": {},
     "output_type": "display_data"
    }
   ],
   "source": [
    "# Plot GLM Feature Importances\n",
    "all_importances = pandas.DataFrame(glm_sorted)\n",
    "importances = all_importances[1:10]\n",
    "feature_labels = list(importances[0])\n",
    "Index = importances.index\n",
    "\n",
    "plt.figure(figsize=(16,5))\n",
    "h = plt.bar(xrange(len(feature_labels)), importances[1],width=0.6, label=feature_labels, color ='aqua')\n",
    "plt.title(\"GLM Feature Importances\", fontsize=20 )\n",
    "xticks_pos = [0.65*patch.get_width() + patch.get_xy()[0] for patch in h]\n",
    "plt.xticks(xticks_pos, feature_labels, fontsize=13,  ha='right')"
   ]
  },
  {
   "cell_type": "code",
   "execution_count": 24,
   "metadata": {
    "collapsed": false
   },
   "outputs": [
    {
     "data": {
      "text/html": [
       "<div>\n",
       "<table border=\"1\" class=\"dataframe\">\n",
       "  <thead>\n",
       "    <tr style=\"text-align: right;\">\n",
       "      <th></th>\n",
       "      <th>variable</th>\n",
       "      <th>relative_importance</th>\n",
       "      <th>scaled_importance</th>\n",
       "      <th>percentage</th>\n",
       "    </tr>\n",
       "  </thead>\n",
       "  <tbody>\n",
       "    <tr>\n",
       "      <th>0</th>\n",
       "      <td>Year</td>\n",
       "      <td>3539.358398</td>\n",
       "      <td>1.000000</td>\n",
       "      <td>0.433376</td>\n",
       "    </tr>\n",
       "    <tr>\n",
       "      <th>1</th>\n",
       "      <td>Origin</td>\n",
       "      <td>2047.713135</td>\n",
       "      <td>0.578555</td>\n",
       "      <td>0.250732</td>\n",
       "    </tr>\n",
       "    <tr>\n",
       "      <th>2</th>\n",
       "      <td>Dest</td>\n",
       "      <td>1233.663208</td>\n",
       "      <td>0.348556</td>\n",
       "      <td>0.151056</td>\n",
       "    </tr>\n",
       "    <tr>\n",
       "      <th>3</th>\n",
       "      <td>UniqueCarrier</td>\n",
       "      <td>716.894470</td>\n",
       "      <td>0.202549</td>\n",
       "      <td>0.087780</td>\n",
       "    </tr>\n",
       "    <tr>\n",
       "      <th>4</th>\n",
       "      <td>FlightNum</td>\n",
       "      <td>219.663422</td>\n",
       "      <td>0.062063</td>\n",
       "      <td>0.026897</td>\n",
       "    </tr>\n",
       "    <tr>\n",
       "      <th>5</th>\n",
       "      <td>DayOfWeek</td>\n",
       "      <td>208.380493</td>\n",
       "      <td>0.058875</td>\n",
       "      <td>0.025515</td>\n",
       "    </tr>\n",
       "    <tr>\n",
       "      <th>6</th>\n",
       "      <td>Distance</td>\n",
       "      <td>197.468750</td>\n",
       "      <td>0.055792</td>\n",
       "      <td>0.024179</td>\n",
       "    </tr>\n",
       "    <tr>\n",
       "      <th>7</th>\n",
       "      <td>Month</td>\n",
       "      <td>3.805698</td>\n",
       "      <td>0.001075</td>\n",
       "      <td>0.000466</td>\n",
       "    </tr>\n",
       "  </tbody>\n",
       "</table>\n",
       "</div>"
      ],
      "text/plain": [
       "        variable  relative_importance  scaled_importance  percentage\n",
       "0           Year          3539.358398           1.000000    0.433376\n",
       "1         Origin          2047.713135           0.578555    0.250732\n",
       "2           Dest          1233.663208           0.348556    0.151056\n",
       "3  UniqueCarrier           716.894470           0.202549    0.087780\n",
       "4      FlightNum           219.663422           0.062063    0.026897\n",
       "5      DayOfWeek           208.380493           0.058875    0.025515\n",
       "6       Distance           197.468750           0.055792    0.024179\n",
       "7          Month             3.805698           0.001075    0.000466"
      ]
     },
     "execution_count": 24,
     "metadata": {},
     "output_type": "execute_result"
    }
   ],
   "source": [
    "# DRF Variable Importance\n",
    "data_rf2.varimp(use_pandas=True)"
   ]
  },
  {
   "cell_type": "code",
   "execution_count": 113,
   "metadata": {
    "collapsed": false
   },
   "outputs": [
    {
     "data": {
      "text/plain": [
       "([<matplotlib.axis.XTick at 0x11835a690>,\n",
       "  <matplotlib.axis.XTick at 0x119137550>,\n",
       "  <matplotlib.axis.XTick at 0x1194e5ed0>,\n",
       "  <matplotlib.axis.XTick at 0x119621ad0>,\n",
       "  <matplotlib.axis.XTick at 0x11962d250>,\n",
       "  <matplotlib.axis.XTick at 0x11962d990>,\n",
       "  <matplotlib.axis.XTick at 0x119636110>,\n",
       "  <matplotlib.axis.XTick at 0x119636850>],\n",
       " <a list of 8 Text xticklabel objects>)"
      ]
     },
     "execution_count": 113,
     "metadata": {},
     "output_type": "execute_result"
    },
    {
     "data": {
      "image/png": "[encoded data removed]",
      "text/plain": [
       "<matplotlib.figure.Figure at 0x1192d8690>"
      ]
     },
     "metadata": {},
     "output_type": "display_data"
    }
   ],
   "source": [
    "# Plot DRF Feature Importances\n",
    "importances = data_rf2.varimp(use_pandas=True)\n",
    "feature_labels = list(importances['variable'])\n",
    "Index = importances.index\n",
    "\n",
    "plt.figure(figsize=(14,5))\n",
    "h = plt.bar(xrange(len(feature_labels)), importances['relative_importance'],width=0.6, label=feature_labels, color ='aqua')\n",
    "plt.title(\"DRF Feature Importances\", fontsize=20 )\n",
    "xticks_pos = [0.65*patch.get_width() + patch.get_xy()[0] for patch in h]\n",
    "plt.xticks(xticks_pos, feature_labels, fontsize=12,  ha='right')"
   ]
  },
  {
   "cell_type": "code",
   "execution_count": 25,
   "metadata": {
    "collapsed": false
   },
   "outputs": [
    {
     "data": {
      "text/html": [
       "<div>\n",
       "<table border=\"1\" class=\"dataframe\">\n",
       "  <thead>\n",
       "    <tr style=\"text-align: right;\">\n",
       "      <th></th>\n",
       "      <th>variable</th>\n",
       "      <th>relative_importance</th>\n",
       "      <th>scaled_importance</th>\n",
       "      <th>percentage</th>\n",
       "    </tr>\n",
       "  </thead>\n",
       "  <tbody>\n",
       "    <tr>\n",
       "      <th>0</th>\n",
       "      <td>Year</td>\n",
       "      <td>4819.093750</td>\n",
       "      <td>1.000000</td>\n",
       "      <td>0.350955</td>\n",
       "    </tr>\n",
       "    <tr>\n",
       "      <th>1</th>\n",
       "      <td>Origin</td>\n",
       "      <td>4730.233398</td>\n",
       "      <td>0.981561</td>\n",
       "      <td>0.344484</td>\n",
       "    </tr>\n",
       "    <tr>\n",
       "      <th>2</th>\n",
       "      <td>Dest</td>\n",
       "      <td>3070.144287</td>\n",
       "      <td>0.637079</td>\n",
       "      <td>0.223586</td>\n",
       "    </tr>\n",
       "    <tr>\n",
       "      <th>3</th>\n",
       "      <td>UniqueCarrier</td>\n",
       "      <td>439.409058</td>\n",
       "      <td>0.091181</td>\n",
       "      <td>0.032000</td>\n",
       "    </tr>\n",
       "    <tr>\n",
       "      <th>4</th>\n",
       "      <td>DayOfWeek</td>\n",
       "      <td>338.982544</td>\n",
       "      <td>0.070342</td>\n",
       "      <td>0.024687</td>\n",
       "    </tr>\n",
       "    <tr>\n",
       "      <th>5</th>\n",
       "      <td>FlightNum</td>\n",
       "      <td>216.594635</td>\n",
       "      <td>0.044945</td>\n",
       "      <td>0.015774</td>\n",
       "    </tr>\n",
       "    <tr>\n",
       "      <th>6</th>\n",
       "      <td>Distance</td>\n",
       "      <td>116.917862</td>\n",
       "      <td>0.024261</td>\n",
       "      <td>0.008515</td>\n",
       "    </tr>\n",
       "    <tr>\n",
       "      <th>7</th>\n",
       "      <td>Month</td>\n",
       "      <td>0.000000</td>\n",
       "      <td>0.000000</td>\n",
       "      <td>0.000000</td>\n",
       "    </tr>\n",
       "  </tbody>\n",
       "</table>\n",
       "</div>"
      ],
      "text/plain": [
       "        variable  relative_importance  scaled_importance  percentage\n",
       "0           Year          4819.093750           1.000000    0.350955\n",
       "1         Origin          4730.233398           0.981561    0.344484\n",
       "2           Dest          3070.144287           0.637079    0.223586\n",
       "3  UniqueCarrier           439.409058           0.091181    0.032000\n",
       "4      DayOfWeek           338.982544           0.070342    0.024687\n",
       "5      FlightNum           216.594635           0.044945    0.015774\n",
       "6       Distance           116.917862           0.024261    0.008515\n",
       "7          Month             0.000000           0.000000    0.000000"
      ]
     },
     "execution_count": 25,
     "metadata": {},
     "output_type": "execute_result"
    }
   ],
   "source": [
    "# GBM Variable Importance\n",
    "data_gbm2.varimp(use_pandas=True)"
   ]
  },
  {
   "cell_type": "code",
   "execution_count": 114,
   "metadata": {
    "collapsed": false
   },
   "outputs": [
    {
     "data": {
      "text/plain": [
       "([<matplotlib.axis.XTick at 0x1176670d0>,\n",
       "  <matplotlib.axis.XTick at 0x119606a50>,\n",
       "  <matplotlib.axis.XTick at 0x1196aa810>,\n",
       "  <matplotlib.axis.XTick at 0x1196de490>,\n",
       "  <matplotlib.axis.XTick at 0x1196debd0>,\n",
       "  <matplotlib.axis.XTick at 0x1196e8350>,\n",
       "  <matplotlib.axis.XTick at 0x1196e8a90>,\n",
       "  <matplotlib.axis.XTick at 0x1196f4210>],\n",
       " <a list of 8 Text xticklabel objects>)"
      ]
     },
     "execution_count": 114,
     "metadata": {},
     "output_type": "execute_result"
    },
    {
     "data": {
      "image/png": "[encoded data removed]",
      "text/plain": [
       "<matplotlib.figure.Figure at 0x11962da50>"
      ]
     },
     "metadata": {},
     "output_type": "display_data"
    }
   ],
   "source": [
    "# Plot GBM Feature Importances\n",
    "importances = data_gbm2.varimp(use_pandas=True)\n",
    "feature_labels = list(importances['variable'])\n",
    "Index = importances.index\n",
    "\n",
    "plt.figure(figsize=(14,5))\n",
    "h = plt.bar(xrange(len(feature_labels)), importances['relative_importance'],width=0.6, label=feature_labels, color ='aqua')\n",
    "plt.title(\"GBM Feature Importances\", fontsize=20 )\n",
    "xticks_pos = [0.65*patch.get_width() + patch.get_xy()[0] for patch in h]\n",
    "plt.xticks(xticks_pos, feature_labels, fontsize=12,  ha='right')"
   ]
  },
  {
   "cell_type": "code",
   "execution_count": 26,
   "metadata": {
    "collapsed": false,
    "scrolled": true
   },
   "outputs": [
    {
     "data": {
      "text/html": [
       "<div>\n",
       "<table border=\"1\" class=\"dataframe\">\n",
       "  <thead>\n",
       "    <tr style=\"text-align: right;\">\n",
       "      <th></th>\n",
       "      <th>variable</th>\n",
       "      <th>relative_importance</th>\n",
       "      <th>scaled_importance</th>\n",
       "      <th>percentage</th>\n",
       "    </tr>\n",
       "  </thead>\n",
       "  <tbody>\n",
       "    <tr>\n",
       "      <th>0</th>\n",
       "      <td>Origin.MDW</td>\n",
       "      <td>1.000000</td>\n",
       "      <td>1.000000</td>\n",
       "      <td>0.004851</td>\n",
       "    </tr>\n",
       "    <tr>\n",
       "      <th>1</th>\n",
       "      <td>Dest.SAT</td>\n",
       "      <td>0.980114</td>\n",
       "      <td>0.980114</td>\n",
       "      <td>0.004755</td>\n",
       "    </tr>\n",
       "    <tr>\n",
       "      <th>2</th>\n",
       "      <td>Dest.EYW</td>\n",
       "      <td>0.963353</td>\n",
       "      <td>0.963353</td>\n",
       "      <td>0.004673</td>\n",
       "    </tr>\n",
       "    <tr>\n",
       "      <th>3</th>\n",
       "      <td>UniqueCarrier.HP</td>\n",
       "      <td>0.940622</td>\n",
       "      <td>0.940622</td>\n",
       "      <td>0.004563</td>\n",
       "    </tr>\n",
       "    <tr>\n",
       "      <th>4</th>\n",
       "      <td>Year.1992</td>\n",
       "      <td>0.922181</td>\n",
       "      <td>0.922181</td>\n",
       "      <td>0.004474</td>\n",
       "    </tr>\n",
       "    <tr>\n",
       "      <th>5</th>\n",
       "      <td>Dest.AMA</td>\n",
       "      <td>0.914540</td>\n",
       "      <td>0.914540</td>\n",
       "      <td>0.004436</td>\n",
       "    </tr>\n",
       "    <tr>\n",
       "      <th>6</th>\n",
       "      <td>Dest.BHM</td>\n",
       "      <td>0.913775</td>\n",
       "      <td>0.913775</td>\n",
       "      <td>0.004433</td>\n",
       "    </tr>\n",
       "    <tr>\n",
       "      <th>7</th>\n",
       "      <td>Origin.DCA</td>\n",
       "      <td>0.911149</td>\n",
       "      <td>0.911149</td>\n",
       "      <td>0.004420</td>\n",
       "    </tr>\n",
       "    <tr>\n",
       "      <th>8</th>\n",
       "      <td>Origin.ABQ</td>\n",
       "      <td>0.909689</td>\n",
       "      <td>0.909689</td>\n",
       "      <td>0.004413</td>\n",
       "    </tr>\n",
       "    <tr>\n",
       "      <th>9</th>\n",
       "      <td>Origin.CHS</td>\n",
       "      <td>0.895508</td>\n",
       "      <td>0.895508</td>\n",
       "      <td>0.004344</td>\n",
       "    </tr>\n",
       "    <tr>\n",
       "      <th>10</th>\n",
       "      <td>Origin.GEG</td>\n",
       "      <td>0.882701</td>\n",
       "      <td>0.882701</td>\n",
       "      <td>0.004282</td>\n",
       "    </tr>\n",
       "    <tr>\n",
       "      <th>11</th>\n",
       "      <td>Dest.BUF</td>\n",
       "      <td>0.880292</td>\n",
       "      <td>0.880292</td>\n",
       "      <td>0.004270</td>\n",
       "    </tr>\n",
       "    <tr>\n",
       "      <th>12</th>\n",
       "      <td>Origin.HRL</td>\n",
       "      <td>0.875912</td>\n",
       "      <td>0.875912</td>\n",
       "      <td>0.004249</td>\n",
       "    </tr>\n",
       "    <tr>\n",
       "      <th>13</th>\n",
       "      <td>Dest.RSW</td>\n",
       "      <td>0.875880</td>\n",
       "      <td>0.875880</td>\n",
       "      <td>0.004249</td>\n",
       "    </tr>\n",
       "    <tr>\n",
       "      <th>14</th>\n",
       "      <td>Year.1998</td>\n",
       "      <td>0.871903</td>\n",
       "      <td>0.871903</td>\n",
       "      <td>0.004230</td>\n",
       "    </tr>\n",
       "    <tr>\n",
       "      <th>15</th>\n",
       "      <td>Year.1993</td>\n",
       "      <td>0.867431</td>\n",
       "      <td>0.867431</td>\n",
       "      <td>0.004208</td>\n",
       "    </tr>\n",
       "    <tr>\n",
       "      <th>16</th>\n",
       "      <td>Origin.TUS</td>\n",
       "      <td>0.866878</td>\n",
       "      <td>0.866878</td>\n",
       "      <td>0.004205</td>\n",
       "    </tr>\n",
       "    <tr>\n",
       "      <th>17</th>\n",
       "      <td>Origin.CMH</td>\n",
       "      <td>0.865270</td>\n",
       "      <td>0.865270</td>\n",
       "      <td>0.004197</td>\n",
       "    </tr>\n",
       "    <tr>\n",
       "      <th>18</th>\n",
       "      <td>Origin.SNA</td>\n",
       "      <td>0.847196</td>\n",
       "      <td>0.847196</td>\n",
       "      <td>0.004110</td>\n",
       "    </tr>\n",
       "    <tr>\n",
       "      <th>19</th>\n",
       "      <td>Year.1988</td>\n",
       "      <td>0.846658</td>\n",
       "      <td>0.846658</td>\n",
       "      <td>0.004107</td>\n",
       "    </tr>\n",
       "    <tr>\n",
       "      <th>20</th>\n",
       "      <td>Origin.CAE</td>\n",
       "      <td>0.845398</td>\n",
       "      <td>0.845398</td>\n",
       "      <td>0.004101</td>\n",
       "    </tr>\n",
       "    <tr>\n",
       "      <th>21</th>\n",
       "      <td>Origin.ICT</td>\n",
       "      <td>0.844693</td>\n",
       "      <td>0.844693</td>\n",
       "      <td>0.004098</td>\n",
       "    </tr>\n",
       "    <tr>\n",
       "      <th>22</th>\n",
       "      <td>Dest.SDF</td>\n",
       "      <td>0.837259</td>\n",
       "      <td>0.837259</td>\n",
       "      <td>0.004062</td>\n",
       "    </tr>\n",
       "    <tr>\n",
       "      <th>23</th>\n",
       "      <td>Dest.FNT</td>\n",
       "      <td>0.835328</td>\n",
       "      <td>0.835328</td>\n",
       "      <td>0.004052</td>\n",
       "    </tr>\n",
       "    <tr>\n",
       "      <th>24</th>\n",
       "      <td>Origin.RIC</td>\n",
       "      <td>0.833974</td>\n",
       "      <td>0.833974</td>\n",
       "      <td>0.004046</td>\n",
       "    </tr>\n",
       "    <tr>\n",
       "      <th>25</th>\n",
       "      <td>Origin.MFR</td>\n",
       "      <td>0.832265</td>\n",
       "      <td>0.832265</td>\n",
       "      <td>0.004037</td>\n",
       "    </tr>\n",
       "    <tr>\n",
       "      <th>26</th>\n",
       "      <td>UniqueCarrier.AA</td>\n",
       "      <td>0.828047</td>\n",
       "      <td>0.828047</td>\n",
       "      <td>0.004017</td>\n",
       "    </tr>\n",
       "    <tr>\n",
       "      <th>27</th>\n",
       "      <td>UniqueCarrier.CO</td>\n",
       "      <td>0.825549</td>\n",
       "      <td>0.825549</td>\n",
       "      <td>0.004005</td>\n",
       "    </tr>\n",
       "    <tr>\n",
       "      <th>28</th>\n",
       "      <td>Origin.PHX</td>\n",
       "      <td>0.823986</td>\n",
       "      <td>0.823986</td>\n",
       "      <td>0.003997</td>\n",
       "    </tr>\n",
       "    <tr>\n",
       "      <th>29</th>\n",
       "      <td>Origin.HNL</td>\n",
       "      <td>0.823601</td>\n",
       "      <td>0.823601</td>\n",
       "      <td>0.003995</td>\n",
       "    </tr>\n",
       "    <tr>\n",
       "      <th>...</th>\n",
       "      <td>...</td>\n",
       "      <td>...</td>\n",
       "      <td>...</td>\n",
       "      <td>...</td>\n",
       "    </tr>\n",
       "    <tr>\n",
       "      <th>285</th>\n",
       "      <td>UniqueCarrier.WN</td>\n",
       "      <td>0.497316</td>\n",
       "      <td>0.497316</td>\n",
       "      <td>0.002413</td>\n",
       "    </tr>\n",
       "    <tr>\n",
       "      <th>286</th>\n",
       "      <td>Origin.BGM</td>\n",
       "      <td>0.490350</td>\n",
       "      <td>0.490350</td>\n",
       "      <td>0.002379</td>\n",
       "    </tr>\n",
       "    <tr>\n",
       "      <th>287</th>\n",
       "      <td>Origin.EYW</td>\n",
       "      <td>0.481069</td>\n",
       "      <td>0.481069</td>\n",
       "      <td>0.002334</td>\n",
       "    </tr>\n",
       "    <tr>\n",
       "      <th>288</th>\n",
       "      <td>Origin.ANC</td>\n",
       "      <td>0.477841</td>\n",
       "      <td>0.477841</td>\n",
       "      <td>0.002318</td>\n",
       "    </tr>\n",
       "    <tr>\n",
       "      <th>289</th>\n",
       "      <td>Dest.MCO</td>\n",
       "      <td>0.475676</td>\n",
       "      <td>0.475676</td>\n",
       "      <td>0.002308</td>\n",
       "    </tr>\n",
       "    <tr>\n",
       "      <th>290</th>\n",
       "      <td>Dest.BOS</td>\n",
       "      <td>0.475598</td>\n",
       "      <td>0.475598</td>\n",
       "      <td>0.002307</td>\n",
       "    </tr>\n",
       "    <tr>\n",
       "      <th>291</th>\n",
       "      <td>Origin.CLE</td>\n",
       "      <td>0.471797</td>\n",
       "      <td>0.471797</td>\n",
       "      <td>0.002289</td>\n",
       "    </tr>\n",
       "    <tr>\n",
       "      <th>292</th>\n",
       "      <td>Origin.MDT</td>\n",
       "      <td>0.460883</td>\n",
       "      <td>0.460883</td>\n",
       "      <td>0.002236</td>\n",
       "    </tr>\n",
       "    <tr>\n",
       "      <th>293</th>\n",
       "      <td>Dest.SWF</td>\n",
       "      <td>0.460072</td>\n",
       "      <td>0.460072</td>\n",
       "      <td>0.002232</td>\n",
       "    </tr>\n",
       "    <tr>\n",
       "      <th>294</th>\n",
       "      <td>Dest.BWI</td>\n",
       "      <td>0.457664</td>\n",
       "      <td>0.457664</td>\n",
       "      <td>0.002220</td>\n",
       "    </tr>\n",
       "    <tr>\n",
       "      <th>295</th>\n",
       "      <td>DayOfWeek.7</td>\n",
       "      <td>0.456330</td>\n",
       "      <td>0.456330</td>\n",
       "      <td>0.002214</td>\n",
       "    </tr>\n",
       "    <tr>\n",
       "      <th>296</th>\n",
       "      <td>Origin.BWI</td>\n",
       "      <td>0.449328</td>\n",
       "      <td>0.449328</td>\n",
       "      <td>0.002180</td>\n",
       "    </tr>\n",
       "    <tr>\n",
       "      <th>297</th>\n",
       "      <td>Origin.OMA</td>\n",
       "      <td>0.443268</td>\n",
       "      <td>0.443268</td>\n",
       "      <td>0.002150</td>\n",
       "    </tr>\n",
       "    <tr>\n",
       "      <th>298</th>\n",
       "      <td>Origin.DAL</td>\n",
       "      <td>0.442214</td>\n",
       "      <td>0.442214</td>\n",
       "      <td>0.002145</td>\n",
       "    </tr>\n",
       "    <tr>\n",
       "      <th>299</th>\n",
       "      <td>Dest.EUG</td>\n",
       "      <td>0.422469</td>\n",
       "      <td>0.422469</td>\n",
       "      <td>0.002049</td>\n",
       "    </tr>\n",
       "    <tr>\n",
       "      <th>300</th>\n",
       "      <td>Dest.ABE</td>\n",
       "      <td>0.422128</td>\n",
       "      <td>0.422128</td>\n",
       "      <td>0.002048</td>\n",
       "    </tr>\n",
       "    <tr>\n",
       "      <th>301</th>\n",
       "      <td>Dest.CAK</td>\n",
       "      <td>0.414662</td>\n",
       "      <td>0.414662</td>\n",
       "      <td>0.002012</td>\n",
       "    </tr>\n",
       "    <tr>\n",
       "      <th>302</th>\n",
       "      <td>Origin.IND</td>\n",
       "      <td>0.412031</td>\n",
       "      <td>0.412031</td>\n",
       "      <td>0.001999</td>\n",
       "    </tr>\n",
       "    <tr>\n",
       "      <th>303</th>\n",
       "      <td>FlightNum</td>\n",
       "      <td>0.384419</td>\n",
       "      <td>0.384419</td>\n",
       "      <td>0.001865</td>\n",
       "    </tr>\n",
       "    <tr>\n",
       "      <th>304</th>\n",
       "      <td>Dest.ELP</td>\n",
       "      <td>0.374626</td>\n",
       "      <td>0.374626</td>\n",
       "      <td>0.001817</td>\n",
       "    </tr>\n",
       "    <tr>\n",
       "      <th>305</th>\n",
       "      <td>Dest.ALB</td>\n",
       "      <td>0.358783</td>\n",
       "      <td>0.358783</td>\n",
       "      <td>0.001740</td>\n",
       "    </tr>\n",
       "    <tr>\n",
       "      <th>306</th>\n",
       "      <td>Dest.MAF</td>\n",
       "      <td>0.358384</td>\n",
       "      <td>0.358384</td>\n",
       "      <td>0.001739</td>\n",
       "    </tr>\n",
       "    <tr>\n",
       "      <th>307</th>\n",
       "      <td>Origin.PDX</td>\n",
       "      <td>0.349448</td>\n",
       "      <td>0.349448</td>\n",
       "      <td>0.001695</td>\n",
       "    </tr>\n",
       "    <tr>\n",
       "      <th>308</th>\n",
       "      <td>Dest.JFK</td>\n",
       "      <td>0.316303</td>\n",
       "      <td>0.316303</td>\n",
       "      <td>0.001534</td>\n",
       "    </tr>\n",
       "    <tr>\n",
       "      <th>309</th>\n",
       "      <td>Dest.missing(NA)</td>\n",
       "      <td>0.000000</td>\n",
       "      <td>0.000000</td>\n",
       "      <td>0.000000</td>\n",
       "    </tr>\n",
       "    <tr>\n",
       "      <th>310</th>\n",
       "      <td>Origin.missing(NA)</td>\n",
       "      <td>0.000000</td>\n",
       "      <td>0.000000</td>\n",
       "      <td>0.000000</td>\n",
       "    </tr>\n",
       "    <tr>\n",
       "      <th>311</th>\n",
       "      <td>Year.missing(NA)</td>\n",
       "      <td>0.000000</td>\n",
       "      <td>0.000000</td>\n",
       "      <td>0.000000</td>\n",
       "    </tr>\n",
       "    <tr>\n",
       "      <th>312</th>\n",
       "      <td>UniqueCarrier.missing(NA)</td>\n",
       "      <td>0.000000</td>\n",
       "      <td>0.000000</td>\n",
       "      <td>0.000000</td>\n",
       "    </tr>\n",
       "    <tr>\n",
       "      <th>313</th>\n",
       "      <td>DayOfWeek.missing(NA)</td>\n",
       "      <td>0.000000</td>\n",
       "      <td>0.000000</td>\n",
       "      <td>0.000000</td>\n",
       "    </tr>\n",
       "    <tr>\n",
       "      <th>314</th>\n",
       "      <td>Month.missing(NA)</td>\n",
       "      <td>0.000000</td>\n",
       "      <td>0.000000</td>\n",
       "      <td>0.000000</td>\n",
       "    </tr>\n",
       "  </tbody>\n",
       "</table>\n",
       "<p>315 rows × 4 columns</p>\n",
       "</div>"
      ],
      "text/plain": [
       "                      variable  relative_importance  scaled_importance  \\\n",
       "0                   Origin.MDW             1.000000           1.000000   \n",
       "1                     Dest.SAT             0.980114           0.980114   \n",
       "2                     Dest.EYW             0.963353           0.963353   \n",
       "3             UniqueCarrier.HP             0.940622           0.940622   \n",
       "4                    Year.1992             0.922181           0.922181   \n",
       "5                     Dest.AMA             0.914540           0.914540   \n",
       "6                     Dest.BHM             0.913775           0.913775   \n",
       "7                   Origin.DCA             0.911149           0.911149   \n",
       "8                   Origin.ABQ             0.909689           0.909689   \n",
       "9                   Origin.CHS             0.895508           0.895508   \n",
       "10                  Origin.GEG             0.882701           0.882701   \n",
       "11                    Dest.BUF             0.880292           0.880292   \n",
       "12                  Origin.HRL             0.875912           0.875912   \n",
       "13                    Dest.RSW             0.875880           0.875880   \n",
       "14                   Year.1998             0.871903           0.871903   \n",
       "15                   Year.1993             0.867431           0.867431   \n",
       "16                  Origin.TUS             0.866878           0.866878   \n",
       "17                  Origin.CMH             0.865270           0.865270   \n",
       "18                  Origin.SNA             0.847196           0.847196   \n",
       "19                   Year.1988             0.846658           0.846658   \n",
       "20                  Origin.CAE             0.845398           0.845398   \n",
       "21                  Origin.ICT             0.844693           0.844693   \n",
       "22                    Dest.SDF             0.837259           0.837259   \n",
       "23                    Dest.FNT             0.835328           0.835328   \n",
       "24                  Origin.RIC             0.833974           0.833974   \n",
       "25                  Origin.MFR             0.832265           0.832265   \n",
       "26            UniqueCarrier.AA             0.828047           0.828047   \n",
       "27            UniqueCarrier.CO             0.825549           0.825549   \n",
       "28                  Origin.PHX             0.823986           0.823986   \n",
       "29                  Origin.HNL             0.823601           0.823601   \n",
       "..                         ...                  ...                ...   \n",
       "285           UniqueCarrier.WN             0.497316           0.497316   \n",
       "286                 Origin.BGM             0.490350           0.490350   \n",
       "287                 Origin.EYW             0.481069           0.481069   \n",
       "288                 Origin.ANC             0.477841           0.477841   \n",
       "289                   Dest.MCO             0.475676           0.475676   \n",
       "290                   Dest.BOS             0.475598           0.475598   \n",
       "291                 Origin.CLE             0.471797           0.471797   \n",
       "292                 Origin.MDT             0.460883           0.460883   \n",
       "293                   Dest.SWF             0.460072           0.460072   \n",
       "294                   Dest.BWI             0.457664           0.457664   \n",
       "295                DayOfWeek.7             0.456330           0.456330   \n",
       "296                 Origin.BWI             0.449328           0.449328   \n",
       "297                 Origin.OMA             0.443268           0.443268   \n",
       "298                 Origin.DAL             0.442214           0.442214   \n",
       "299                   Dest.EUG             0.422469           0.422469   \n",
       "300                   Dest.ABE             0.422128           0.422128   \n",
       "301                   Dest.CAK             0.414662           0.414662   \n",
       "302                 Origin.IND             0.412031           0.412031   \n",
       "303                  FlightNum             0.384419           0.384419   \n",
       "304                   Dest.ELP             0.374626           0.374626   \n",
       "305                   Dest.ALB             0.358783           0.358783   \n",
       "306                   Dest.MAF             0.358384           0.358384   \n",
       "307                 Origin.PDX             0.349448           0.349448   \n",
       "308                   Dest.JFK             0.316303           0.316303   \n",
       "309           Dest.missing(NA)             0.000000           0.000000   \n",
       "310         Origin.missing(NA)             0.000000           0.000000   \n",
       "311           Year.missing(NA)             0.000000           0.000000   \n",
       "312  UniqueCarrier.missing(NA)             0.000000           0.000000   \n",
       "313      DayOfWeek.missing(NA)             0.000000           0.000000   \n",
       "314          Month.missing(NA)             0.000000           0.000000   \n",
       "\n",
       "     percentage  \n",
       "0      0.004851  \n",
       "1      0.004755  \n",
       "2      0.004673  \n",
       "3      0.004563  \n",
       "4      0.004474  \n",
       "5      0.004436  \n",
       "6      0.004433  \n",
       "7      0.004420  \n",
       "8      0.004413  \n",
       "9      0.004344  \n",
       "10     0.004282  \n",
       "11     0.004270  \n",
       "12     0.004249  \n",
       "13     0.004249  \n",
       "14     0.004230  \n",
       "15     0.004208  \n",
       "16     0.004205  \n",
       "17     0.004197  \n",
       "18     0.004110  \n",
       "19     0.004107  \n",
       "20     0.004101  \n",
       "21     0.004098  \n",
       "22     0.004062  \n",
       "23     0.004052  \n",
       "24     0.004046  \n",
       "25     0.004037  \n",
       "26     0.004017  \n",
       "27     0.004005  \n",
       "28     0.003997  \n",
       "29     0.003995  \n",
       "..          ...  \n",
       "285    0.002413  \n",
       "286    0.002379  \n",
       "287    0.002334  \n",
       "288    0.002318  \n",
       "289    0.002308  \n",
       "290    0.002307  \n",
       "291    0.002289  \n",
       "292    0.002236  \n",
       "293    0.002232  \n",
       "294    0.002220  \n",
       "295    0.002214  \n",
       "296    0.002180  \n",
       "297    0.002150  \n",
       "298    0.002145  \n",
       "299    0.002049  \n",
       "300    0.002048  \n",
       "301    0.002012  \n",
       "302    0.001999  \n",
       "303    0.001865  \n",
       "304    0.001817  \n",
       "305    0.001740  \n",
       "306    0.001739  \n",
       "307    0.001695  \n",
       "308    0.001534  \n",
       "309    0.000000  \n",
       "310    0.000000  \n",
       "311    0.000000  \n",
       "312    0.000000  \n",
       "313    0.000000  \n",
       "314    0.000000  \n",
       "\n",
       "[315 rows x 4 columns]"
      ]
     },
     "execution_count": 26,
     "metadata": {},
     "output_type": "execute_result"
    }
   ],
   "source": [
    "# Deep Learning Variable Importance\n",
    "data_dl.varimp(use_pandas=True)"
   ]
  },
  {
   "cell_type": "code",
   "execution_count": 115,
   "metadata": {
    "collapsed": false
   },
   "outputs": [
    {
     "data": {
      "text/plain": [
       "([<matplotlib.axis.XTick at 0x11915b050>,\n",
       "  <matplotlib.axis.XTick at 0x11994d150>,\n",
       "  <matplotlib.axis.XTick at 0x119996390>,\n",
       "  <matplotlib.axis.XTick at 0x119c0c690>,\n",
       "  <matplotlib.axis.XTick at 0x119c0cdd0>,\n",
       "  <matplotlib.axis.XTick at 0x119c16550>,\n",
       "  <matplotlib.axis.XTick at 0x119c16c90>,\n",
       "  <matplotlib.axis.XTick at 0x119c1f3d0>,\n",
       "  <matplotlib.axis.XTick at 0x119c1fb10>],\n",
       " <a list of 9 Text xticklabel objects>)"
      ]
     },
     "execution_count": 115,
     "metadata": {},
     "output_type": "execute_result"
    },
    {
     "data": {
      "image/png": "[encoded data removed]",
      "text/plain": [
       "<matplotlib.figure.Figure at 0x1194f1dd0>"
      ]
     },
     "metadata": {},
     "output_type": "display_data"
    }
   ],
   "source": [
    "# Plot Deep Learning Feature Importances\n",
    "all_importances = data_dl.varimp(use_pandas=True)\n",
    "importances = all_importances[1:10]\n",
    "feature_labels = list(importances['variable'])\n",
    "Index = importances.index\n",
    "\n",
    "plt.figure(figsize=(20,6))\n",
    "h = plt.bar(xrange(len(feature_labels)), importances['relative_importance'],width=0.6, label=feature_labels, color ='aqua')\n",
    "plt.title(\"Deep Learning Feature Importances\",fontsize = 20)\n",
    "xticks_pos = [0.65*patch.get_width() + patch.get_xy()[0] for patch in h]\n",
    "plt.xticks(xticks_pos, feature_labels,fontsize = 13,   ha='right')"
   ]
  },
  {
   "cell_type": "markdown",
   "metadata": {},
   "source": [
    "<a name=\"question\"></a>\n",
    "# Can H2O Handle New Categorical Levels in a Test Set? \n",
    "___\n",
    "> *Yes! Unlike most machine learning algorithms, H2O-3's algorithms can successfully make predictions, even if a test set contains categorical levels that were not present in the training set. This is because every algorithm replaces new categorical levels with NA values. So, the next question becomes:* \n",
    "\n",
    "> __How does each algorithm handle NA values in a test set?__ \n",
    "\n",
    "### Skip to the algorithm you're using to see how it predicts on a categorical level not seen during training:<a name=\"answer\"></a>\n",
    "\n",
    "(Note: NA values in the training set are not handled the same way as NA values in the test set)\n",
    "\n",
    "* [Generalized Linear Model (GLM)](#GLM)\n",
    "* [Gradient Boosting Model (GBM) & Distributed Random Forest (DRF)](#GBM & DRF)\n",
    "* [Deep Learning](#DL)\n",
    "* [K-Means](#K)\n",
    "* [Principal Component Analysis (PCA)](#PCA)\n",
    "* [Naive Bayes](#NB)\n",
    "\n",
    "___\n",
    "\n",
    "<a name=\"GLM\"></a>\n",
    " ** GLM **:\n",
    "\n",
    "  GLM will predict 'Double.NAN' for each row with a new categorical level, indicating a prediction wasn't made.\n",
    "  \n",
    "  *After running the cells to load, clean, and split the data you can play with a GLM [here](#GLM Model).*\n",
    "\n",
    "<a name=\"GBM & DRF\"></a>\n",
    " ** DRF & GBM ** :\n",
    "\n",
    "  Both DRF and GBM convert a new categorical level to a NA value in a test set, and then split left on the NA value during scoring. The algorithm splits left on NA values because, during training, NA values are grouped with the outliers in the left-most bin.\n",
    "  \n",
    "  *After running the cells to load, clean, and split the data you can play with a GBM [here](#GBM Model) or a DRF [here](#DRF Model).*\n",
    "\n",
    "<a name=\"DL\"></a>\n",
    " ** Deep Learning **:\n",
    "\n",
    "  For an unseen categorical level in the test set, Deep Learning makes an extra input neuron that remains untrained and contributes some random amount to the subsequent layer.\n",
    "\n",
    "  *After running the cells to load, clean, and split the data you can play with a Deep Learning model [here](#DL Model).*\n",
    "\n",
    "<a name=\"K\"></a>\n",
    " ** K-Means **: \n",
    "\n",
    "  An unseen categorical level in a row does not contribute to that row's prediction. This is because the unseen  categorical level does not contribute to the distance comparison between clusters, and therefore does not factor in  predicting the cluster to which that row belongs.\n",
    "\n",
    "<a name=\"NB\"></a>\n",
    " ** Naive Bayes **:\n",
    " \n",
    "  If the Laplace smoothing parameter is disabled ('laplace = 0'), then Naive Bayes will predict a probability of 0 for any row in the test set that contains a previously unseen categorical level. However, if the Laplace smoothing parameter is used (e.g. 'laplace = 1'), then the model can make predictions for rows that include previously unseen categorical level.\n",
    "  \n",
    "  Laplace smoothing adjusts the maximum likelihood estimates by adding 1 to the numerator and k to the denominator to allow for new categorical levels in the training set:\n",
    "\n",
    "$$\\phi_{j|y=1}= \\frac{\\Sigma_{i=1}^m 1(x_{j}^{(i)} \\ = \\ 1 \\ \\bigcap y^{(i)} \\ = \\ 1) \\ + \\ 1}{\\Sigma_{i=1}^{m}1(y^{(i)} \\ = \\ 1) \\ + \\ k}$$\n",
    "\n",
    "$$\\phi_{j|y=0}= \\frac{\\Sigma_{i=1}^m 1(x_{j}^{(i)} \\ = \\ 1 \\ \\bigcap y^{(i)} \\ = \\ 0) \\ + \\ 1}{\\Sigma_{i \\ = \\ 1}^{m}1(y^{(i)} \\ = \\ 0) \\ + \\ k}$$\n",
    "   \n",
    "(Where $x^{(i)}$ represents features, $y^{(i)}$ represents the response column, and $k$ represents the addition of each new categorical level (k functions to balance the added 1 in the numerator))\n",
    "\n",
    "Laplace smoothing should be used with care; it is generally intended to allow for predictions in rare events. As prediction data becomes increasingly distinct from training data, new models should be trained when possible to account for a broader set of possible feature values.\n",
    "\n",
    "  *After running the cells to load, clean, and split the data you can play with a Naive Bayes model [here](#NB Model).*\n",
    "\n",
    "<a name=\"PCA\"></a>\n",
    " ** PCA **: \n",
    "\n",
    "  New categorical levels in the test data that were not present in the training data, are skipped in the row product-  sum."
   ]
  },
  {
   "cell_type": "markdown",
   "metadata": {},
   "source": [
    "<a name=\"resources\"></a>\n",
    "## Additional Resources\n",
    "0. [H2O's How To for Basic Questions](http://h2oai.github.io/data-science-examples/examples.html)\n",
    "1. [H2O's User Guide Documentation](http://h2o-release.s3.amazonaws.com/h2o/rel-tibshirani/8/docs-website/h2o-docs/index.html)\n",
    "2. [H2O's Algorithm Documentation](https://github.com/h2oai/h2o-3/blob/master/h2o-docs/src/product/tutorials/datascience/DataScienceH2O-Dev.md)\n",
    "3. [H2O's Community - Where Questions are Posted](https://groups.google.com/forum/#!forum/h2ostream)\n",
    "4. [H2O's Python Demos](https://github.com/h2oai/h2o-3/tree/master/h2o-py/demos)\n",
    "5. [Python to R Parity](https://github.com/h2oai/h2o-3/blob/master/h2o-docs/src/product/upgrade/PythonParity.md)\n"
   ]
  },
  {
   "cell_type": "code",
   "execution_count": null,
   "metadata": {
    "collapsed": true
   },
   "outputs": [],
   "source": []
  }
 ],
 "metadata": {
  "kernelspec": {
   "display_name": "Python 2",
   "language": "python",
   "name": "python2"
  },
  "language_info": {
   "codemirror_mode": {
    "name": "ipython",
    "version": 2
   },
   "file_extension": ".py",
   "mimetype": "text/x-python",
   "name": "python",
   "nbconvert_exporter": "python",
   "pygments_lexer": "ipython2",
   "version": "2.7.11"
  }
 },
 "nbformat": 4,
 "nbformat_minor": 0
}
