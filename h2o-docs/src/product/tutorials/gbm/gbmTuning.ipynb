{
 "cells": [
  {
   "cell_type": "markdown",
   "metadata": {},
   "source": [
    "# H2O GBM Tuning Tutorial for Python\n",
    "\n",
    "### Arno Candel, PhD, Chief Architect, H2O.ai\n",
    "### Ported to Python by Navdeep Gill, M.S., Hacker/Data Scientist, H2O.ai\n",
    "\n",
    "In this tutorial, we show how to build a well-tuned H2O GBM model for a supervised classification task. We specifically don't focus on feature engineering and use a small dataset to allow you to reproduce these results in a few minutes on a laptop. This script can be directly transferred to datasets that are hundreds of GBs large and H2O clusters with dozens of compute nodes.\n",
    "\n",
    "You can download the source [from H2O's github repository](https://github.com/h2oai/h2o-3/blob/master/h2o-docs/src/product/tutorials/gbm/gbmTuning.ipynb).\n",
    "\n",
    "Ports to [R Markdown](https://github.com/h2oai/h2o-3/blob/master/h2o-docs/src/product/tutorials/gbm/gbmTuning.Rmd) and [Flow UI](https://raw.githubusercontent.com/h2oai/h2o-3/master/h2o-docs/src/product/flow/packs/examples/GBM_TuningGuide.flow) (now part of Example Flows) are available as well.\n",
    "\n",
    "## Installation of the H2O Python Package\n",
    "Either download H2O from [H2O.ai's website](http://h2o.ai/download) or install the latest version of H2O into Python with the following set of commands:"
   ]
  },
  {
   "cell_type": "markdown",
   "metadata": {
    "collapsed": true
   },
   "source": [
    "Install dependencies from command line (prepending with `sudo` if needed):\n",
    "\n",
    "```\n",
    "[sudo] pip install -U requests\n",
    "[sudo] pip install -U tabulate\n",
    "[sudo] pip install -U future\n",
    "[sudo] pip install -U six\n",
    "```\n",
    "\n",
    "The following command removes the H2O module for Python.\n",
    "```\n",
    "[sudo] pip uninstall h2o\n",
    "```\n",
    "\n",
    "Next, use pip to install this version of the H2O Python module.\n",
    "```\n",
    "[sudo] pip install http://h2o-release.s3.amazonaws.com/h2o/rel-turchin/8/Python/h2o-3.8.2.8-py2.py3-none-any.whl\n",
    "```"
   ]
  },
  {
   "cell_type": "markdown",
   "metadata": {},
   "source": [
    "## Launch an H2O cluster on localhost"
   ]
  },
  {
   "cell_type": "code",
   "execution_count": 4,
   "metadata": {
    "scrolled": false
   },
   "outputs": [
    {
     "name": "stdout",
     "output_type": "stream",
     "text": [
      "Checking whether there is an H2O instance running at http://localhost:54321 ..... not found.\n",
      "Attempting to start a local H2O server...\n",
      "  Java Version: java version \"1.8.0_211\"; Java(TM) SE Runtime Environment (build 1.8.0_211-b12); Java HotSpot(TM) 64-Bit Server VM (build 25.211-b12, mixed mode)\n",
      "  Starting server from /Library/Frameworks/Python.framework/Versions/3.7/lib/python3.7/site-packages/h2o/backend/bin/h2o.jar\n",
      "  Ice root: /var/folders/b_/0hb_lbj56179hzk1pv2nq9bh0000gp/T/tmpxa_d4j05\n",
      "  JVM stdout: /var/folders/b_/0hb_lbj56179hzk1pv2nq9bh0000gp/T/tmpxa_d4j05/h2o_zhaq_started_from_python.out\n",
      "  JVM stderr: /var/folders/b_/0hb_lbj56179hzk1pv2nq9bh0000gp/T/tmpxa_d4j05/h2o_zhaq_started_from_python.err\n",
      "  Server is running at http://127.0.0.1:54321\n",
      "Connecting to H2O server at http://127.0.0.1:54321 ... successful.\n"
     ]
    },
    {
     "data": {
      "text/html": [
       "<div style=\"overflow:auto\"><table style=\"width:50%\"><tr><td>H2O cluster uptime:</td>\n",
       "<td>01 secs</td></tr>\n",
       "<tr><td>H2O cluster timezone:</td>\n",
       "<td>America/Los_Angeles</td></tr>\n",
       "<tr><td>H2O data parsing timezone:</td>\n",
       "<td>UTC</td></tr>\n",
       "<tr><td>H2O cluster version:</td>\n",
       "<td>3.24.0.4</td></tr>\n",
       "<tr><td>H2O cluster version age:</td>\n",
       "<td>15 days </td></tr>\n",
       "<tr><td>H2O cluster name:</td>\n",
       "<td>H2O_from_python_zhaq_uno137</td></tr>\n",
       "<tr><td>H2O cluster total nodes:</td>\n",
       "<td>1</td></tr>\n",
       "<tr><td>H2O cluster free memory:</td>\n",
       "<td>3.556 Gb</td></tr>\n",
       "<tr><td>H2O cluster total cores:</td>\n",
       "<td>8</td></tr>\n",
       "<tr><td>H2O cluster allowed cores:</td>\n",
       "<td>8</td></tr>\n",
       "<tr><td>H2O cluster status:</td>\n",
       "<td>accepting new members, healthy</td></tr>\n",
       "<tr><td>H2O connection url:</td>\n",
       "<td>http://127.0.0.1:54321</td></tr>\n",
       "<tr><td>H2O connection proxy:</td>\n",
       "<td>None</td></tr>\n",
       "<tr><td>H2O internal security:</td>\n",
       "<td>False</td></tr>\n",
       "<tr><td>H2O API Extensions:</td>\n",
       "<td>Amazon S3, XGBoost, Algos, AutoML, Core V3, Core V4</td></tr>\n",
       "<tr><td>Python version:</td>\n",
       "<td>3.7.3 final</td></tr></table></div>"
      ],
      "text/plain": [
       "--------------------------  ---------------------------------------------------\n",
       "H2O cluster uptime:         01 secs\n",
       "H2O cluster timezone:       America/Los_Angeles\n",
       "H2O data parsing timezone:  UTC\n",
       "H2O cluster version:        3.24.0.4\n",
       "H2O cluster version age:    15 days\n",
       "H2O cluster name:           H2O_from_python_zhaq_uno137\n",
       "H2O cluster total nodes:    1\n",
       "H2O cluster free memory:    3.556 Gb\n",
       "H2O cluster total cores:    8\n",
       "H2O cluster allowed cores:  8\n",
       "H2O cluster status:         accepting new members, healthy\n",
       "H2O connection url:         http://127.0.0.1:54321\n",
       "H2O connection proxy:\n",
       "H2O internal security:      False\n",
       "H2O API Extensions:         Amazon S3, XGBoost, Algos, AutoML, Core V3, Core V4\n",
       "Python version:             3.7.3 final\n",
       "--------------------------  ---------------------------------------------------"
      ]
     },
     "metadata": {},
     "output_type": "display_data"
    }
   ],
   "source": [
    "import h2o\n",
    "import numpy as np\n",
    "import math\n",
    "from h2o.estimators.gbm import H2OGradientBoostingEstimator\n",
    "from h2o.grid.grid_search import H2OGridSearch\n",
    "h2o.init(nthreads=-1, strict_version_check=True)\n",
    "## optional: connect to a running H2O cluster\n",
    "#h2o.init(ip=\"mycluster\", port=55555)"
   ]
  },
  {
   "cell_type": "markdown",
   "metadata": {
    "collapsed": true
   },
   "source": [
    "## Import the data into H2O \n",
    "Everything is scalable and distributed from now on. All processing is done on the fully multi-threaded and distributed H2O Java-based backend and can be scaled to large datasets on large compute clusters.\n",
    "Here, we use a small public dataset ([Titanic](https://stat.ethz.ch/R-manual/R-devel/library/datasets/html/Titanic.html)), but you can use datasets that are hundreds of GBs large."
   ]
  },
  {
   "cell_type": "code",
   "execution_count": 5,
   "metadata": {},
   "outputs": [
    {
     "name": "stdout",
     "output_type": "stream",
     "text": [
      "Parse progress: |█████████████████████████████████████████████████████████| 100%\n",
      "[1309, 14]\n"
     ]
    },
    {
     "data": {
      "text/html": [
       "<table>\n",
       "<thead>\n",
       "<tr><th style=\"text-align: right;\">  pclass</th><th style=\"text-align: right;\">  survived</th><th>name                                           </th><th>sex   </th><th style=\"text-align: right;\">    age</th><th style=\"text-align: right;\">  sibsp</th><th style=\"text-align: right;\">  parch</th><th style=\"text-align: right;\">  ticket</th><th style=\"text-align: right;\">    fare</th><th>cabin  </th><th>embarked  </th><th style=\"text-align: right;\">  boat</th><th style=\"text-align: right;\">  body</th><th>home.dest                      </th></tr>\n",
       "</thead>\n",
       "<tbody>\n",
       "<tr><td style=\"text-align: right;\">       1</td><td style=\"text-align: right;\">         1</td><td>Allen  Miss. Elisabeth Walton                  </td><td>female</td><td style=\"text-align: right;\">29     </td><td style=\"text-align: right;\">      0</td><td style=\"text-align: right;\">      0</td><td style=\"text-align: right;\">   24160</td><td style=\"text-align: right;\">211.338 </td><td>B5     </td><td>S         </td><td style=\"text-align: right;\">     2</td><td style=\"text-align: right;\">   nan</td><td>St Louis  MO                   </td></tr>\n",
       "<tr><td style=\"text-align: right;\">       1</td><td style=\"text-align: right;\">         1</td><td>Allison  Master. Hudson Trevor                 </td><td>male  </td><td style=\"text-align: right;\"> 0.9167</td><td style=\"text-align: right;\">      1</td><td style=\"text-align: right;\">      2</td><td style=\"text-align: right;\">  113781</td><td style=\"text-align: right;\">151.55  </td><td>C22 C26</td><td>S         </td><td style=\"text-align: right;\">    11</td><td style=\"text-align: right;\">   nan</td><td>Montreal  PQ / Chesterville  ON</td></tr>\n",
       "<tr><td style=\"text-align: right;\">       1</td><td style=\"text-align: right;\">         0</td><td>Allison  Miss. Helen Loraine                   </td><td>female</td><td style=\"text-align: right;\"> 2     </td><td style=\"text-align: right;\">      1</td><td style=\"text-align: right;\">      2</td><td style=\"text-align: right;\">  113781</td><td style=\"text-align: right;\">151.55  </td><td>C22 C26</td><td>S         </td><td style=\"text-align: right;\">   nan</td><td style=\"text-align: right;\">   nan</td><td>Montreal  PQ / Chesterville  ON</td></tr>\n",
       "<tr><td style=\"text-align: right;\">       1</td><td style=\"text-align: right;\">         0</td><td>Allison  Mr. Hudson Joshua Creighton           </td><td>male  </td><td style=\"text-align: right;\">30     </td><td style=\"text-align: right;\">      1</td><td style=\"text-align: right;\">      2</td><td style=\"text-align: right;\">  113781</td><td style=\"text-align: right;\">151.55  </td><td>C22 C26</td><td>S         </td><td style=\"text-align: right;\">   nan</td><td style=\"text-align: right;\">   135</td><td>Montreal  PQ / Chesterville  ON</td></tr>\n",
       "<tr><td style=\"text-align: right;\">       1</td><td style=\"text-align: right;\">         0</td><td>Allison  Mrs. Hudson J C (Bessie Waldo Daniels)</td><td>female</td><td style=\"text-align: right;\">25     </td><td style=\"text-align: right;\">      1</td><td style=\"text-align: right;\">      2</td><td style=\"text-align: right;\">  113781</td><td style=\"text-align: right;\">151.55  </td><td>C22 C26</td><td>S         </td><td style=\"text-align: right;\">   nan</td><td style=\"text-align: right;\">   nan</td><td>Montreal  PQ / Chesterville  ON</td></tr>\n",
       "<tr><td style=\"text-align: right;\">       1</td><td style=\"text-align: right;\">         1</td><td>Anderson  Mr. Harry                            </td><td>male  </td><td style=\"text-align: right;\">48     </td><td style=\"text-align: right;\">      0</td><td style=\"text-align: right;\">      0</td><td style=\"text-align: right;\">   19952</td><td style=\"text-align: right;\"> 26.55  </td><td>E12    </td><td>S         </td><td style=\"text-align: right;\">     3</td><td style=\"text-align: right;\">   nan</td><td>New York  NY                   </td></tr>\n",
       "<tr><td style=\"text-align: right;\">       1</td><td style=\"text-align: right;\">         1</td><td>Andrews  Miss. Kornelia Theodosia              </td><td>female</td><td style=\"text-align: right;\">63     </td><td style=\"text-align: right;\">      1</td><td style=\"text-align: right;\">      0</td><td style=\"text-align: right;\">   13502</td><td style=\"text-align: right;\"> 77.9583</td><td>D7     </td><td>S         </td><td style=\"text-align: right;\">    10</td><td style=\"text-align: right;\">   nan</td><td>Hudson  NY                     </td></tr>\n",
       "<tr><td style=\"text-align: right;\">       1</td><td style=\"text-align: right;\">         0</td><td>Andrews  Mr. Thomas Jr                         </td><td>male  </td><td style=\"text-align: right;\">39     </td><td style=\"text-align: right;\">      0</td><td style=\"text-align: right;\">      0</td><td style=\"text-align: right;\">  112050</td><td style=\"text-align: right;\">  0     </td><td>A36    </td><td>S         </td><td style=\"text-align: right;\">   nan</td><td style=\"text-align: right;\">   nan</td><td>Belfast  NI                    </td></tr>\n",
       "<tr><td style=\"text-align: right;\">       1</td><td style=\"text-align: right;\">         1</td><td>Appleton  Mrs. Edward Dale (Charlotte Lamson)  </td><td>female</td><td style=\"text-align: right;\">53     </td><td style=\"text-align: right;\">      2</td><td style=\"text-align: right;\">      0</td><td style=\"text-align: right;\">   11769</td><td style=\"text-align: right;\"> 51.4792</td><td>C101   </td><td>S         </td><td style=\"text-align: right;\">   nan</td><td style=\"text-align: right;\">   nan</td><td>Bayside  Queens  NY            </td></tr>\n",
       "<tr><td style=\"text-align: right;\">       1</td><td style=\"text-align: right;\">         0</td><td>Artagaveytia  Mr. Ramon                        </td><td>male  </td><td style=\"text-align: right;\">71     </td><td style=\"text-align: right;\">      0</td><td style=\"text-align: right;\">      0</td><td style=\"text-align: right;\">     nan</td><td style=\"text-align: right;\"> 49.5042</td><td>       </td><td>C         </td><td style=\"text-align: right;\">   nan</td><td style=\"text-align: right;\">    22</td><td>Montevideo  Uruguay            </td></tr>\n",
       "</tbody>\n",
       "</table>"
      ]
     },
     "metadata": {},
     "output_type": "display_data"
    },
    {
     "name": "stdout",
     "output_type": "stream",
     "text": [
      "<bound method H2OFrame.head of >\n"
     ]
    },
    {
     "data": {
      "text/html": [
       "<table>\n",
       "<thead>\n",
       "<tr><th style=\"text-align: right;\">  pclass</th><th style=\"text-align: right;\">  survived</th><th>name                                           </th><th>sex   </th><th style=\"text-align: right;\">    age</th><th style=\"text-align: right;\">  sibsp</th><th style=\"text-align: right;\">  parch</th><th style=\"text-align: right;\">  ticket</th><th style=\"text-align: right;\">    fare</th><th>cabin  </th><th>embarked  </th><th style=\"text-align: right;\">  boat</th><th style=\"text-align: right;\">  body</th><th>home.dest                      </th></tr>\n",
       "</thead>\n",
       "<tbody>\n",
       "<tr><td style=\"text-align: right;\">       1</td><td style=\"text-align: right;\">         1</td><td>Allen  Miss. Elisabeth Walton                  </td><td>female</td><td style=\"text-align: right;\">29     </td><td style=\"text-align: right;\">      0</td><td style=\"text-align: right;\">      0</td><td style=\"text-align: right;\">   24160</td><td style=\"text-align: right;\">211.338 </td><td>B5     </td><td>S         </td><td style=\"text-align: right;\">     2</td><td style=\"text-align: right;\">   nan</td><td>St Louis  MO                   </td></tr>\n",
       "<tr><td style=\"text-align: right;\">       1</td><td style=\"text-align: right;\">         1</td><td>Allison  Master. Hudson Trevor                 </td><td>male  </td><td style=\"text-align: right;\"> 0.9167</td><td style=\"text-align: right;\">      1</td><td style=\"text-align: right;\">      2</td><td style=\"text-align: right;\">  113781</td><td style=\"text-align: right;\">151.55  </td><td>C22 C26</td><td>S         </td><td style=\"text-align: right;\">    11</td><td style=\"text-align: right;\">   nan</td><td>Montreal  PQ / Chesterville  ON</td></tr>\n",
       "<tr><td style=\"text-align: right;\">       1</td><td style=\"text-align: right;\">         0</td><td>Allison  Miss. Helen Loraine                   </td><td>female</td><td style=\"text-align: right;\"> 2     </td><td style=\"text-align: right;\">      1</td><td style=\"text-align: right;\">      2</td><td style=\"text-align: right;\">  113781</td><td style=\"text-align: right;\">151.55  </td><td>C22 C26</td><td>S         </td><td style=\"text-align: right;\">   nan</td><td style=\"text-align: right;\">   nan</td><td>Montreal  PQ / Chesterville  ON</td></tr>\n",
       "<tr><td style=\"text-align: right;\">       1</td><td style=\"text-align: right;\">         0</td><td>Allison  Mr. Hudson Joshua Creighton           </td><td>male  </td><td style=\"text-align: right;\">30     </td><td style=\"text-align: right;\">      1</td><td style=\"text-align: right;\">      2</td><td style=\"text-align: right;\">  113781</td><td style=\"text-align: right;\">151.55  </td><td>C22 C26</td><td>S         </td><td style=\"text-align: right;\">   nan</td><td style=\"text-align: right;\">   135</td><td>Montreal  PQ / Chesterville  ON</td></tr>\n",
       "<tr><td style=\"text-align: right;\">       1</td><td style=\"text-align: right;\">         0</td><td>Allison  Mrs. Hudson J C (Bessie Waldo Daniels)</td><td>female</td><td style=\"text-align: right;\">25     </td><td style=\"text-align: right;\">      1</td><td style=\"text-align: right;\">      2</td><td style=\"text-align: right;\">  113781</td><td style=\"text-align: right;\">151.55  </td><td>C22 C26</td><td>S         </td><td style=\"text-align: right;\">   nan</td><td style=\"text-align: right;\">   nan</td><td>Montreal  PQ / Chesterville  ON</td></tr>\n",
       "<tr><td style=\"text-align: right;\">       1</td><td style=\"text-align: right;\">         1</td><td>Anderson  Mr. Harry                            </td><td>male  </td><td style=\"text-align: right;\">48     </td><td style=\"text-align: right;\">      0</td><td style=\"text-align: right;\">      0</td><td style=\"text-align: right;\">   19952</td><td style=\"text-align: right;\"> 26.55  </td><td>E12    </td><td>S         </td><td style=\"text-align: right;\">     3</td><td style=\"text-align: right;\">   nan</td><td>New York  NY                   </td></tr>\n",
       "<tr><td style=\"text-align: right;\">       1</td><td style=\"text-align: right;\">         1</td><td>Andrews  Miss. Kornelia Theodosia              </td><td>female</td><td style=\"text-align: right;\">63     </td><td style=\"text-align: right;\">      1</td><td style=\"text-align: right;\">      0</td><td style=\"text-align: right;\">   13502</td><td style=\"text-align: right;\"> 77.9583</td><td>D7     </td><td>S         </td><td style=\"text-align: right;\">    10</td><td style=\"text-align: right;\">   nan</td><td>Hudson  NY                     </td></tr>\n",
       "<tr><td style=\"text-align: right;\">       1</td><td style=\"text-align: right;\">         0</td><td>Andrews  Mr. Thomas Jr                         </td><td>male  </td><td style=\"text-align: right;\">39     </td><td style=\"text-align: right;\">      0</td><td style=\"text-align: right;\">      0</td><td style=\"text-align: right;\">  112050</td><td style=\"text-align: right;\">  0     </td><td>A36    </td><td>S         </td><td style=\"text-align: right;\">   nan</td><td style=\"text-align: right;\">   nan</td><td>Belfast  NI                    </td></tr>\n",
       "<tr><td style=\"text-align: right;\">       1</td><td style=\"text-align: right;\">         1</td><td>Appleton  Mrs. Edward Dale (Charlotte Lamson)  </td><td>female</td><td style=\"text-align: right;\">53     </td><td style=\"text-align: right;\">      2</td><td style=\"text-align: right;\">      0</td><td style=\"text-align: right;\">   11769</td><td style=\"text-align: right;\"> 51.4792</td><td>C101   </td><td>S         </td><td style=\"text-align: right;\">   nan</td><td style=\"text-align: right;\">   nan</td><td>Bayside  Queens  NY            </td></tr>\n",
       "<tr><td style=\"text-align: right;\">       1</td><td style=\"text-align: right;\">         0</td><td>Artagaveytia  Mr. Ramon                        </td><td>male  </td><td style=\"text-align: right;\">71     </td><td style=\"text-align: right;\">      0</td><td style=\"text-align: right;\">      0</td><td style=\"text-align: right;\">     nan</td><td style=\"text-align: right;\"> 49.5042</td><td>       </td><td>C         </td><td style=\"text-align: right;\">   nan</td><td style=\"text-align: right;\">    22</td><td>Montevideo  Uruguay            </td></tr>\n",
       "</tbody>\n",
       "</table>"
      ]
     },
     "metadata": {},
     "output_type": "display_data"
    },
    {
     "name": "stdout",
     "output_type": "stream",
     "text": [
      "<bound method H2OFrame.tail of >\n"
     ]
    },
    {
     "data": {
      "text/html": [
       "<table>\n",
       "<thead>\n",
       "<tr><th style=\"text-align: right;\">  pclass</th><th style=\"text-align: right;\">  survived</th><th>name                                           </th><th>sex   </th><th style=\"text-align: right;\">    age</th><th style=\"text-align: right;\">  sibsp</th><th style=\"text-align: right;\">  parch</th><th style=\"text-align: right;\">  ticket</th><th style=\"text-align: right;\">    fare</th><th>cabin  </th><th>embarked  </th><th style=\"text-align: right;\">  boat</th><th style=\"text-align: right;\">  body</th><th>home.dest                      </th></tr>\n",
       "</thead>\n",
       "<tbody>\n",
       "<tr><td style=\"text-align: right;\">       1</td><td style=\"text-align: right;\">         1</td><td>Allen  Miss. Elisabeth Walton                  </td><td>female</td><td style=\"text-align: right;\">29     </td><td style=\"text-align: right;\">      0</td><td style=\"text-align: right;\">      0</td><td style=\"text-align: right;\">   24160</td><td style=\"text-align: right;\">211.338 </td><td>B5     </td><td>S         </td><td style=\"text-align: right;\">     2</td><td style=\"text-align: right;\">   nan</td><td>St Louis  MO                   </td></tr>\n",
       "<tr><td style=\"text-align: right;\">       1</td><td style=\"text-align: right;\">         1</td><td>Allison  Master. Hudson Trevor                 </td><td>male  </td><td style=\"text-align: right;\"> 0.9167</td><td style=\"text-align: right;\">      1</td><td style=\"text-align: right;\">      2</td><td style=\"text-align: right;\">  113781</td><td style=\"text-align: right;\">151.55  </td><td>C22 C26</td><td>S         </td><td style=\"text-align: right;\">    11</td><td style=\"text-align: right;\">   nan</td><td>Montreal  PQ / Chesterville  ON</td></tr>\n",
       "<tr><td style=\"text-align: right;\">       1</td><td style=\"text-align: right;\">         0</td><td>Allison  Miss. Helen Loraine                   </td><td>female</td><td style=\"text-align: right;\"> 2     </td><td style=\"text-align: right;\">      1</td><td style=\"text-align: right;\">      2</td><td style=\"text-align: right;\">  113781</td><td style=\"text-align: right;\">151.55  </td><td>C22 C26</td><td>S         </td><td style=\"text-align: right;\">   nan</td><td style=\"text-align: right;\">   nan</td><td>Montreal  PQ / Chesterville  ON</td></tr>\n",
       "<tr><td style=\"text-align: right;\">       1</td><td style=\"text-align: right;\">         0</td><td>Allison  Mr. Hudson Joshua Creighton           </td><td>male  </td><td style=\"text-align: right;\">30     </td><td style=\"text-align: right;\">      1</td><td style=\"text-align: right;\">      2</td><td style=\"text-align: right;\">  113781</td><td style=\"text-align: right;\">151.55  </td><td>C22 C26</td><td>S         </td><td style=\"text-align: right;\">   nan</td><td style=\"text-align: right;\">   135</td><td>Montreal  PQ / Chesterville  ON</td></tr>\n",
       "<tr><td style=\"text-align: right;\">       1</td><td style=\"text-align: right;\">         0</td><td>Allison  Mrs. Hudson J C (Bessie Waldo Daniels)</td><td>female</td><td style=\"text-align: right;\">25     </td><td style=\"text-align: right;\">      1</td><td style=\"text-align: right;\">      2</td><td style=\"text-align: right;\">  113781</td><td style=\"text-align: right;\">151.55  </td><td>C22 C26</td><td>S         </td><td style=\"text-align: right;\">   nan</td><td style=\"text-align: right;\">   nan</td><td>Montreal  PQ / Chesterville  ON</td></tr>\n",
       "<tr><td style=\"text-align: right;\">       1</td><td style=\"text-align: right;\">         1</td><td>Anderson  Mr. Harry                            </td><td>male  </td><td style=\"text-align: right;\">48     </td><td style=\"text-align: right;\">      0</td><td style=\"text-align: right;\">      0</td><td style=\"text-align: right;\">   19952</td><td style=\"text-align: right;\"> 26.55  </td><td>E12    </td><td>S         </td><td style=\"text-align: right;\">     3</td><td style=\"text-align: right;\">   nan</td><td>New York  NY                   </td></tr>\n",
       "<tr><td style=\"text-align: right;\">       1</td><td style=\"text-align: right;\">         1</td><td>Andrews  Miss. Kornelia Theodosia              </td><td>female</td><td style=\"text-align: right;\">63     </td><td style=\"text-align: right;\">      1</td><td style=\"text-align: right;\">      0</td><td style=\"text-align: right;\">   13502</td><td style=\"text-align: right;\"> 77.9583</td><td>D7     </td><td>S         </td><td style=\"text-align: right;\">    10</td><td style=\"text-align: right;\">   nan</td><td>Hudson  NY                     </td></tr>\n",
       "<tr><td style=\"text-align: right;\">       1</td><td style=\"text-align: right;\">         0</td><td>Andrews  Mr. Thomas Jr                         </td><td>male  </td><td style=\"text-align: right;\">39     </td><td style=\"text-align: right;\">      0</td><td style=\"text-align: right;\">      0</td><td style=\"text-align: right;\">  112050</td><td style=\"text-align: right;\">  0     </td><td>A36    </td><td>S         </td><td style=\"text-align: right;\">   nan</td><td style=\"text-align: right;\">   nan</td><td>Belfast  NI                    </td></tr>\n",
       "<tr><td style=\"text-align: right;\">       1</td><td style=\"text-align: right;\">         1</td><td>Appleton  Mrs. Edward Dale (Charlotte Lamson)  </td><td>female</td><td style=\"text-align: right;\">53     </td><td style=\"text-align: right;\">      2</td><td style=\"text-align: right;\">      0</td><td style=\"text-align: right;\">   11769</td><td style=\"text-align: right;\"> 51.4792</td><td>C101   </td><td>S         </td><td style=\"text-align: right;\">   nan</td><td style=\"text-align: right;\">   nan</td><td>Bayside  Queens  NY            </td></tr>\n",
       "<tr><td style=\"text-align: right;\">       1</td><td style=\"text-align: right;\">         0</td><td>Artagaveytia  Mr. Ramon                        </td><td>male  </td><td style=\"text-align: right;\">71     </td><td style=\"text-align: right;\">      0</td><td style=\"text-align: right;\">      0</td><td style=\"text-align: right;\">     nan</td><td style=\"text-align: right;\"> 49.5042</td><td>       </td><td>C         </td><td style=\"text-align: right;\">   nan</td><td style=\"text-align: right;\">    22</td><td>Montevideo  Uruguay            </td></tr>\n",
       "</tbody>\n",
       "</table>"
      ]
     },
     "metadata": {},
     "output_type": "display_data"
    },
    {
     "name": "stdout",
     "output_type": "stream",
     "text": [
      "<bound method H2OFrame.describe of >\n",
      "['pclass', 'sex', 'age', 'sibsp', 'parch', 'ticket', 'fare', 'cabin', 'embarked', 'boat', 'body', 'home.dest']\n"
     ]
    }
   ],
   "source": [
    "## 'path' can point to a local file, hdfs, s3, nfs, Hive, directories, etc.\n",
    "df = h2o.import_file(path = \"http://s3.amazonaws.com/h2o-public-test-data/smalldata/gbm_test/titanic.csv\")\n",
    "print(df.dim)\n",
    "print(df.head)\n",
    "print(df.tail)\n",
    "print(df.describe)\n",
    "\n",
    "## pick a response for the supervised problem\n",
    "response = \"survived\"\n",
    "\n",
    "## the response variable is an integer, we will turn it into a categorical/factor for binary classification\n",
    "df[response] = df[response].asfactor()           \n",
    "\n",
    "## use all other columns (except for the name & the response column (\"survived\")) as predictors\n",
    "predictors = df.columns\n",
    "del predictors[1:3]\n",
    "print(predictors)"
   ]
  },
  {
   "cell_type": "markdown",
   "metadata": {},
   "source": [
    "From now on, everything is generic and directly applies to most datasets. We assume that all feature engineering is done at this stage and focus on model tuning. For multi-class problems, you can use `h2o.logloss()` or `h2o.confusion_matrix()` instead of `h2o.auc()` and for regression problems, you can use `h2o.mean_residual_deviance()` or `h2o.mse()`."
   ]
  },
  {
   "cell_type": "markdown",
   "metadata": {},
   "source": [
    "## Split the data for Machine Learning\n",
    "We split the data into three pieces: 60% for training, 20% for validation, 20% for final testing. \n",
    "Here, we use random splitting, but this assumes i.i.d. data. If this is not the case (e.g., when events span across multiple rows or data has a time structure), you'll have to sample your data non-randomly."
   ]
  },
  {
   "cell_type": "code",
   "execution_count": 6,
   "metadata": {},
   "outputs": [],
   "source": [
    "train, valid, test = df.split_frame(\n",
    "    ratios=[0.6,0.2], \n",
    "    seed=1234, \n",
    "    destination_frames=['train.hex','valid.hex','test.hex']\n",
    ")"
   ]
  },
  {
   "cell_type": "markdown",
   "metadata": {},
   "source": [
    "## Establish baseline performance\n",
    "As the first step, we'll build some default models to see what accuracy we can expect. Let's use the [AUC metric](http://mlwiki.org/index.php/ROC_Analysis) for this demo, but you can use `h2o.logloss()` and `stopping_metric=\"logloss\"` as well. It ranges from 0.5 for random models to 1 for perfect models.\n",
    "\n",
    "\n",
    "The first model is a default GBM, trained on the 60% training split"
   ]
  },
  {
   "cell_type": "code",
   "execution_count": 7,
   "metadata": {},
   "outputs": [
    {
     "name": "stdout",
     "output_type": "stream",
     "text": [
      "gbm Model Build progress: |███████████████████████████████████████████████| 100%\n"
     ]
    }
   ],
   "source": [
    "#We only provide the required parameters, everything else is default\n",
    "gbm = H2OGradientBoostingEstimator()\n",
    "gbm.train(x=predictors, y=response, training_frame=train)"
   ]
  },
  {
   "cell_type": "code",
   "execution_count": 8,
   "metadata": {
    "scrolled": true
   },
   "outputs": [
    {
     "name": "stdout",
     "output_type": "stream",
     "text": [
      "0.950014088475627\n"
     ]
    }
   ],
   "source": [
    "## Get the AUC on the validation set\n",
    "perf = gbm.model_performance(valid)\n",
    "print(perf.auc())"
   ]
  },
  {
   "cell_type": "markdown",
   "metadata": {},
   "source": [
    "The AUC is over 94%, so this model is highly predictive!"
   ]
  },
  {
   "cell_type": "markdown",
   "metadata": {},
   "source": [
    "The second model is another default GBM, but trained on 80% of the data (here, we combine the training and validation splits to get more training data), and cross-validated using 4 folds.\n",
    "Note that cross-validation takes longer and is not usually done for really large datasets."
   ]
  },
  {
   "cell_type": "code",
   "execution_count": 9,
   "metadata": {},
   "outputs": [
    {
     "name": "stdout",
     "output_type": "stream",
     "text": [
      "gbm Model Build progress: |███████████████████████████████████████████████| 100%\n"
     ]
    }
   ],
   "source": [
    "## rbind() makes a copy here, so it's better to use split_frame with `ratios = c(0.8)` instead above\n",
    "cv_gbm = H2OGradientBoostingEstimator(nfolds = 4, seed = 0xDECAF)\n",
    "cv_gbm.train(x = predictors, y = response, training_frame = train.rbind(valid))"
   ]
  },
  {
   "cell_type": "markdown",
   "metadata": {},
   "source": [
    "We see that the cross-validated performance is similar to the validation set performance:"
   ]
  },
  {
   "cell_type": "code",
   "execution_count": 10,
   "metadata": {
    "scrolled": true
   },
   "outputs": [
    {
     "name": "stdout",
     "output_type": "stream",
     "text": [
      "0.9493705528188287\n"
     ]
    }
   ],
   "source": [
    "## Show a detailed summary of the cross validation metrics\n",
    "## This gives you an idea of the variance between the folds\n",
    "cv_summary = cv_gbm.cross_validation_metrics_summary().as_data_frame()\n",
    "#print(cv_summary) ## Full summary of all metrics\n",
    "#print(cv_summary.iloc[4]) ## get the row with just the AUCs\n",
    "\n",
    "## Get the cross-validated AUC by scoring the combined holdout predictions.\n",
    "## (Instead of taking the average of the metrics across the folds)\n",
    "perf_cv = cv_gbm.model_performance(xval=True)\n",
    "print(perf_cv.auc())"
   ]
  },
  {
   "cell_type": "markdown",
   "metadata": {},
   "source": [
    "Next, we train a GBM with \"I feel lucky\" parameters.\n",
    "We'll use early stopping to automatically tune the number of trees using the validation AUC. \n",
    "We'll use a lower learning rate (lower is always better, just takes more trees to converge).\n",
    "We'll also use stochastic sampling of rows and columns to (hopefully) improve generalization."
   ]
  },
  {
   "cell_type": "code",
   "execution_count": 11,
   "metadata": {},
   "outputs": [
    {
     "name": "stdout",
     "output_type": "stream",
     "text": [
      "gbm Model Build progress: |███████████████████████████████████████████████| 100%\n"
     ]
    }
   ],
   "source": [
    "gbm_lucky = H2OGradientBoostingEstimator(\n",
    "  ## more trees is better if the learning rate is small enough \n",
    "  ## here, use \"more than enough\" trees - we have early stopping\n",
    "  ntrees = 10000,                                                            \n",
    "\n",
    "  ## smaller learning rate is better (this is a good value for most datasets, but see below for annealing)\n",
    "  learn_rate = 0.01,                                                         \n",
    "\n",
    "  ## early stopping once the validation AUC doesn't improve by at least 0.01% for 5 consecutive scoring events\n",
    "  stopping_rounds = 5, stopping_tolerance = 1e-4, stopping_metric = \"AUC\", \n",
    "\n",
    "  ## sample 80% of rows per tree\n",
    "  sample_rate = 0.8,                                                       \n",
    "\n",
    "  ## sample 80% of columns per split\n",
    "  col_sample_rate = 0.8,                                                   \n",
    "\n",
    "  ## fix a random number generator seed for reproducibility\n",
    "  seed = 1234,                                                             \n",
    "\n",
    "  ## score every 10 trees to make early stopping reproducible (it depends on the scoring interval)\n",
    "  score_tree_interval = 10)\n",
    "\n",
    "gbm_lucky.train(x=predictors, y=response, training_frame=train, validation_frame=valid)"
   ]
  },
  {
   "cell_type": "markdown",
   "metadata": {},
   "source": [
    "This model doesn't seem to be better than the previous models:"
   ]
  },
  {
   "cell_type": "code",
   "execution_count": 12,
   "metadata": {},
   "outputs": [
    {
     "name": "stdout",
     "output_type": "stream",
     "text": [
      "0.9424908424908425\n"
     ]
    }
   ],
   "source": [
    "perf_lucky = gbm_lucky.model_performance(valid)\n",
    "print(perf_lucky.auc())"
   ]
  },
  {
   "cell_type": "markdown",
   "metadata": {},
   "source": [
    "For this small dataset, dropping 20% of observations per tree seems too aggressive in terms of adding regularization. For larger datasets, this is usually not a bad idea. But we'll let this parameter tune freshly below, so no worries."
   ]
  },
  {
   "cell_type": "markdown",
   "metadata": {
    "collapsed": true
   },
   "source": [
    "## Hyper-Parameter Search\n",
    "\n",
    "Next, we'll do real hyper-parameter optimization to see if we can beat the best AUC so far (around 94%).\n",
    "\n",
    "The key here is to start tuning some key parameters first (i.e., those that we expect to have the biggest impact on the results). From experience with gradient boosted trees across many datasets, we can state the following \"rules\":\n",
    "\n",
    "1. Build as many trees (`ntrees`) as it takes until the validation set error starts increasing.\n",
    "2. A lower learning rate (`learn_rate`) is generally better, but will require more trees. Using `learn_rate=0.02 `and `learn_rate_annealing=0.995` (reduction of learning rate with each additional tree) can help speed up convergence without sacrificing accuracy too much, and is great to hyper-parameter searches. For faster scans, use values of 0.05 and 0.99 instead.\n",
    "3. The optimum maximum allowed depth for the trees (`max_depth`) is data dependent, deeper trees take longer to train, especially at depths greater than 10.\n",
    "4. Row and column sampling (`sample_rate` and `col_sample_rate`) can improve generalization and lead to lower validation and test set errors. Good general values for large datasets are around 0.7 to 0.8 (sampling 70-80 percent of the data) for both parameters. Column sampling per tree (`col_sample_rate_per_tree`) can also be tuned. Note that it is multiplicative with `col_sample_rate`, so setting both parameters to 0.8 results in 64% of columns being considered at any given node to split.\n",
    "5. For highly imbalanced classification datasets (e.g., fewer buyers than non-buyers), stratified row sampling based on response class membership can help improve predictive accuracy.  It is configured with `sample_rate_per_class` (array of ratios, one per response class in lexicographic order).\n",
    "6. Most other options only have a small impact on the model performance, but are worth tuning with a Random hyper-parameter search nonetheless, if highest performance is critical.\n",
    "\n",
    "First we want to know what value of `max_depth` to use because it has a big impact on the model training time and optimal values depend strongly on the dataset.\n",
    "We'll do a quick Cartesian grid search to get a rough idea of good candidate `max_depth` values. Each model in the grid search will use early stopping to tune the number of trees using the validation set AUC, as before.\n",
    "We'll use learning rate annealing to speed up convergence without sacrificing too much accuracy."
   ]
  },
  {
   "cell_type": "code",
   "execution_count": 13,
   "metadata": {},
   "outputs": [
    {
     "name": "stdout",
     "output_type": "stream",
     "text": [
      "gbm Grid Build progress: |████████████████████████████████████████████████| 100%\n"
     ]
    }
   ],
   "source": [
    "## Depth 10 is usually plenty of depth for most datasets, but you never know\n",
    "hyper_params = {'max_depth' : [1,30,2]}\n",
    "#hyper_params = {max_depth = [4,6,8,12,16,20]} ##faster for larger datasets\n",
    "\n",
    "#Build initial GBM Model\n",
    "gbm_grid = H2OGradientBoostingEstimator(\n",
    "        ## more trees is better if the learning rate is small enough \n",
    "        ## here, use \"more than enough\" trees - we have early stopping\n",
    "        ntrees=10000,\n",
    "        ## smaller learning rate is better\n",
    "        ## since we have learning_rate_annealing, we can afford to start with a \n",
    "        #bigger learning rate\n",
    "        learn_rate=0.05,\n",
    "        ## learning rate annealing: learning_rate shrinks by 1% after every tree \n",
    "        ## (use 1.00 to disable, but then lower the learning_rate)\n",
    "        learn_rate_annealing = 0.99,\n",
    "        ## sample 80% of rows per tree\n",
    "        sample_rate = 0.8,\n",
    "        ## sample 80% of columns per split\n",
    "        col_sample_rate = 0.8,\n",
    "        ## fix a random number generator seed for reproducibility\n",
    "        seed = 1234,\n",
    "        ## score every 10 trees to make early stopping reproducible \n",
    "        #(it depends on the scoring interval)\n",
    "        score_tree_interval = 10, \n",
    "        ## early stopping once the validation AUC doesn't improve by at least 0.01% for \n",
    "        #5 consecutive scoring events\n",
    "        stopping_rounds = 5,\n",
    "        stopping_metric = \"AUC\",\n",
    "        stopping_tolerance = 1e-4)\n",
    "\n",
    "#Build grid search with previously made GBM and hyper parameters\n",
    "grid = H2OGridSearch(gbm_grid,hyper_params,\n",
    "                         grid_id = 'depth_grid',\n",
    "                         search_criteria = {'strategy': \"Cartesian\"})\n",
    "\n",
    "\n",
    "#Train grid search\n",
    "grid.train(x=predictors, \n",
    "           y=response,\n",
    "           training_frame = train,\n",
    "           validation_frame = valid)"
   ]
  },
  {
   "cell_type": "code",
   "execution_count": 14,
   "metadata": {},
   "outputs": [
    {
     "name": "stdout",
     "output_type": "stream",
     "text": [
      "Hyper-Parameter Search Summary: ordered by increasing logloss\n",
      "\n"
     ]
    },
    {
     "data": {
      "text/html": [
       "<div style=\"overflow:auto\"><table style=\"width:50%\"><tr><td><b></b></td>\n",
       "<td><b>max_depth</b></td>\n",
       "<td><b>model_ids</b></td>\n",
       "<td><b>logloss</b></td></tr>\n",
       "<tr><td></td>\n",
       "<td>30</td>\n",
       "<td>depth_grid_model_2</td>\n",
       "<td>0.2044660</td></tr>\n",
       "<tr><td></td>\n",
       "<td>2</td>\n",
       "<td>depth_grid_model_3</td>\n",
       "<td>0.2153090</td></tr>\n",
       "<tr><td></td>\n",
       "<td>1</td>\n",
       "<td>depth_grid_model_1</td>\n",
       "<td>0.2340116</td></tr></table></div>"
      ],
      "text/plain": [
       "    max_depth    model_ids           logloss\n",
       "--  -----------  ------------------  ---------\n",
       "    30           depth_grid_model_2  0.204466\n",
       "    2            depth_grid_model_3  0.215309\n",
       "    1            depth_grid_model_1  0.234012"
      ]
     },
     "metadata": {},
     "output_type": "display_data"
    },
    {
     "name": "stdout",
     "output_type": "stream",
     "text": [
      "\n",
      "\n"
     ]
    }
   ],
   "source": [
    "## by default, display the grid search results sorted by increasing logloss (since this is a classification task)\n",
    "print(grid)"
   ]
  },
  {
   "cell_type": "code",
   "execution_count": 15,
   "metadata": {},
   "outputs": [
    {
     "name": "stdout",
     "output_type": "stream",
     "text": [
      "Hyper-Parameter Search Summary: ordered by decreasing auc\n",
      "\n"
     ]
    },
    {
     "data": {
      "text/html": [
       "<div style=\"overflow:auto\"><table style=\"width:50%\"><tr><td><b></b></td>\n",
       "<td><b>max_depth</b></td>\n",
       "<td><b>model_ids</b></td>\n",
       "<td><b>auc</b></td></tr>\n",
       "<tr><td></td>\n",
       "<td>30</td>\n",
       "<td>depth_grid_model_2</td>\n",
       "<td>0.9505495</td></tr>\n",
       "<tr><td></td>\n",
       "<td>1</td>\n",
       "<td>depth_grid_model_1</td>\n",
       "<td>0.9462384</td></tr>\n",
       "<tr><td></td>\n",
       "<td>2</td>\n",
       "<td>depth_grid_model_3</td>\n",
       "<td>0.9437025</td></tr></table></div>"
      ],
      "text/plain": [
       "    max_depth    model_ids           auc\n",
       "--  -----------  ------------------  --------\n",
       "    30           depth_grid_model_2  0.950549\n",
       "    1            depth_grid_model_1  0.946238\n",
       "    2            depth_grid_model_3  0.943702"
      ]
     },
     "metadata": {},
     "output_type": "display_data"
    },
    {
     "name": "stdout",
     "output_type": "stream",
     "text": [
      "\n",
      "\n"
     ]
    }
   ],
   "source": [
    "## sort the grid models by decreasing AUC\n",
    "sorted_grid = grid.get_grid(sort_by='auc',decreasing=True)\n",
    "print(sorted_grid)"
   ]
  },
  {
   "cell_type": "markdown",
   "metadata": {},
   "source": [
    "It appears that `max_depth` values of 9 to 27 are best suited for this dataset, which is unusally deep!"
   ]
  },
  {
   "cell_type": "code",
   "execution_count": 17,
   "metadata": {},
   "outputs": [
    {
     "name": "stdout",
     "output_type": "stream",
     "text": [
      "MaxDepth 30\n",
      "MinDepth 1\n"
     ]
    }
   ],
   "source": [
    "max_depths = sorted_grid.sorted_metric_table()['max_depth'][0:5]\n",
    "new_max = int(max(max_depths, key=int))\n",
    "new_min = int(min(max_depths, key=int))\n",
    "\n",
    "print (\"MaxDepth\", new_max)\n",
    "print (\"MinDepth\", new_min)"
   ]
  },
  {
   "cell_type": "markdown",
   "metadata": {},
   "source": [
    "Now that we know a good range for max_depth, we can tune all other parameters in more detail. Since we don't know what combinations of hyper-parameters will result in the best model, we'll use random hyper-parameter search to \"let the machine get luckier than a best guess of any human\"."
   ]
  },
  {
   "cell_type": "code",
   "execution_count": 18,
   "metadata": {},
   "outputs": [],
   "source": [
    "# create hyperameter and search criteria lists (ranges are inclusive..exclusive))\n",
    "hyper_params_tune = {'max_depth' : list(range(new_min,new_max+1,1)),\n",
    "                'sample_rate': [x/100. for x in range(20,101)],\n",
    "                'col_sample_rate' : [x/100. for x in range(20,101)],\n",
    "                'col_sample_rate_per_tree': [x/100. for x in range(20,101)],\n",
    "                'col_sample_rate_change_per_level': [x/100. for x in range(90,111)],\n",
    "                'min_rows': [2**x for x in range(0,int(math.log(train.nrow,2)-1)+1)],\n",
    "                'nbins': [2**x for x in range(4,11)],\n",
    "                'nbins_cats': [2**x for x in range(4,13)],\n",
    "                'min_split_improvement': [0,1e-8,1e-6,1e-4],\n",
    "                'histogram_type': [\"UniformAdaptive\",\"QuantilesGlobal\",\"RoundRobin\"]}\n",
    "search_criteria_tune = {'strategy': \"RandomDiscrete\",\n",
    "                   'max_runtime_secs': 3600,  ## limit the runtime to 60 minutes\n",
    "                   'max_models': 100,  ## build no more than 100 models\n",
    "                   'seed' : 1234,\n",
    "                   'stopping_rounds' : 5,\n",
    "                   'stopping_metric' : \"AUC\",\n",
    "                   'stopping_tolerance': 1e-3\n",
    "                   }"
   ]
  },
  {
   "cell_type": "code",
   "execution_count": 20,
   "metadata": {},
   "outputs": [
    {
     "name": "stdout",
     "output_type": "stream",
     "text": [
      "gbm Grid Build progress: |████████████████████████████████████████████████| 100%\n",
      "Hyper-Parameter Search Summary: ordered by increasing logloss\n",
      "\n"
     ]
    },
    {
     "data": {
      "text/html": [
       "<div style=\"overflow:auto\"><table style=\"width:50%\"><tr><td><b></b></td>\n",
       "<td><b>col_sample_rate</b></td>\n",
       "<td><b>col_sample_rate_change_per_level</b></td>\n",
       "<td><b>col_sample_rate_per_tree</b></td>\n",
       "<td><b>histogram_type</b></td>\n",
       "<td><b>max_depth</b></td>\n",
       "<td><b>min_rows</b></td>\n",
       "<td><b>min_split_improvement</b></td>\n",
       "<td><b>nbins</b></td>\n",
       "<td><b>nbins_cats</b></td>\n",
       "<td><b>sample_rate</b></td>\n",
       "<td><b>model_ids</b></td>\n",
       "<td><b>logloss</b></td></tr>\n",
       "<tr><td></td>\n",
       "<td>0.35</td>\n",
       "<td>1.09</td>\n",
       "<td>0.83</td>\n",
       "<td>QuantilesGlobal</td>\n",
       "<td>16</td>\n",
       "<td>4.0</td>\n",
       "<td>1.0E-8</td>\n",
       "<td>64</td>\n",
       "<td>128</td>\n",
       "<td>0.69</td>\n",
       "<td>final_grid_model_39</td>\n",
       "<td>0.1764007</td></tr>\n",
       "<tr><td></td>\n",
       "<td>0.49</td>\n",
       "<td>1.04</td>\n",
       "<td>0.94</td>\n",
       "<td>QuantilesGlobal</td>\n",
       "<td>26</td>\n",
       "<td>2.0</td>\n",
       "<td>0.0</td>\n",
       "<td>32</td>\n",
       "<td>256</td>\n",
       "<td>0.86</td>\n",
       "<td>final_grid_model_69</td>\n",
       "<td>0.1765935</td></tr>\n",
       "<tr><td></td>\n",
       "<td>0.73</td>\n",
       "<td>0.9</td>\n",
       "<td>0.6</td>\n",
       "<td>QuantilesGlobal</td>\n",
       "<td>14</td>\n",
       "<td>1.0</td>\n",
       "<td>1.0E-4</td>\n",
       "<td>1024</td>\n",
       "<td>256</td>\n",
       "<td>0.29</td>\n",
       "<td>final_grid_model_46</td>\n",
       "<td>0.1844033</td></tr>\n",
       "<tr><td></td>\n",
       "<td>0.6</td>\n",
       "<td>1.0</td>\n",
       "<td>0.89</td>\n",
       "<td>UniformAdaptive</td>\n",
       "<td>27</td>\n",
       "<td>1.0</td>\n",
       "<td>0.0</td>\n",
       "<td>16</td>\n",
       "<td>128</td>\n",
       "<td>0.64</td>\n",
       "<td>final_grid_model_7</td>\n",
       "<td>0.1893993</td></tr>\n",
       "<tr><td></td>\n",
       "<td>0.75</td>\n",
       "<td>0.94</td>\n",
       "<td>0.6</td>\n",
       "<td>QuantilesGlobal</td>\n",
       "<td>12</td>\n",
       "<td>1.0</td>\n",
       "<td>1.0E-4</td>\n",
       "<td>16</td>\n",
       "<td>512</td>\n",
       "<td>0.5</td>\n",
       "<td>final_grid_model_12</td>\n",
       "<td>0.1910033</td></tr>\n",
       "<tr><td>---</td>\n",
       "<td>---</td>\n",
       "<td>---</td>\n",
       "<td>---</td>\n",
       "<td>---</td>\n",
       "<td>---</td>\n",
       "<td>---</td>\n",
       "<td>---</td>\n",
       "<td>---</td>\n",
       "<td>---</td>\n",
       "<td>---</td>\n",
       "<td>---</td>\n",
       "<td>---</td></tr>\n",
       "<tr><td></td>\n",
       "<td>0.5</td>\n",
       "<td>1.03</td>\n",
       "<td>0.45</td>\n",
       "<td>RoundRobin</td>\n",
       "<td>12</td>\n",
       "<td>256.0</td>\n",
       "<td>1.0E-8</td>\n",
       "<td>512</td>\n",
       "<td>16</td>\n",
       "<td>0.28</td>\n",
       "<td>final_grid_model_59</td>\n",
       "<td>0.5440442</td></tr>\n",
       "<tr><td></td>\n",
       "<td>0.96</td>\n",
       "<td>0.94</td>\n",
       "<td>0.62</td>\n",
       "<td>QuantilesGlobal</td>\n",
       "<td>7</td>\n",
       "<td>256.0</td>\n",
       "<td>1.0E-6</td>\n",
       "<td>64</td>\n",
       "<td>4096</td>\n",
       "<td>0.57</td>\n",
       "<td>final_grid_model_96</td>\n",
       "<td>0.5450335</td></tr>\n",
       "<tr><td></td>\n",
       "<td>0.61</td>\n",
       "<td>0.97</td>\n",
       "<td>0.36</td>\n",
       "<td>QuantilesGlobal</td>\n",
       "<td>28</td>\n",
       "<td>256.0</td>\n",
       "<td>1.0E-6</td>\n",
       "<td>128</td>\n",
       "<td>1024</td>\n",
       "<td>0.65</td>\n",
       "<td>final_grid_model_99</td>\n",
       "<td>0.5488193</td></tr>\n",
       "<tr><td></td>\n",
       "<td>0.87</td>\n",
       "<td>1.0</td>\n",
       "<td>0.2</td>\n",
       "<td>RoundRobin</td>\n",
       "<td>2</td>\n",
       "<td>256.0</td>\n",
       "<td>1.0E-6</td>\n",
       "<td>512</td>\n",
       "<td>1024</td>\n",
       "<td>0.97</td>\n",
       "<td>final_grid_model_52</td>\n",
       "<td>0.5501161</td></tr>\n",
       "<tr><td></td>\n",
       "<td>0.24</td>\n",
       "<td>1.08</td>\n",
       "<td>0.3</td>\n",
       "<td>UniformAdaptive</td>\n",
       "<td>7</td>\n",
       "<td>256.0</td>\n",
       "<td>1.0E-4</td>\n",
       "<td>32</td>\n",
       "<td>64</td>\n",
       "<td>0.97</td>\n",
       "<td>final_grid_model_45</td>\n",
       "<td>0.5827121</td></tr></table></div>"
      ],
      "text/plain": [
       "     col_sample_rate    col_sample_rate_change_per_level    col_sample_rate_per_tree    histogram_type    max_depth    min_rows    min_split_improvement    nbins    nbins_cats    sample_rate    model_ids            logloss\n",
       "---  -----------------  ----------------------------------  --------------------------  ----------------  -----------  ----------  -----------------------  -------  ------------  -------------  -------------------  -------------------\n",
       "     0.35               1.09                                0.83                        QuantilesGlobal   16           4.0         1.0E-8                   64       128           0.69           final_grid_model_39  0.17640070322388154\n",
       "     0.49               1.04                                0.94                        QuantilesGlobal   26           2.0         0.0                      32       256           0.86           final_grid_model_69  0.17659352508398013\n",
       "     0.73               0.9                                 0.6                         QuantilesGlobal   14           1.0         1.0E-4                   1024     256           0.29           final_grid_model_46  0.18440326517872127\n",
       "     0.6                1.0                                 0.89                        UniformAdaptive   27           1.0         0.0                      16       128           0.64           final_grid_model_7   0.18939925932538376\n",
       "     0.75               0.94                                0.6                         QuantilesGlobal   12           1.0         1.0E-4                   16       512           0.5            final_grid_model_12  0.1910033209358706\n",
       "---  ---                ---                                 ---                         ---               ---          ---         ---                      ---      ---           ---            ---                  ---\n",
       "     0.5                1.03                                0.45                        RoundRobin        12           256.0       1.0E-8                   512      16            0.28           final_grid_model_59  0.5440442492091072\n",
       "     0.96               0.94                                0.62                        QuantilesGlobal   7            256.0       1.0E-6                   64       4096          0.57           final_grid_model_96  0.5450334515467662\n",
       "     0.61               0.97                                0.36                        QuantilesGlobal   28           256.0       1.0E-6                   128      1024          0.65           final_grid_model_99  0.5488192692893163\n",
       "     0.87               1.0                                 0.2                         RoundRobin        2            256.0       1.0E-6                   512      1024          0.97           final_grid_model_52  0.5501161246099107\n",
       "     0.24               1.08                                0.3                         UniformAdaptive   7            256.0       1.0E-4                   32       64            0.97           final_grid_model_45  0.5827120934746953"
      ]
     },
     "metadata": {},
     "output_type": "display_data"
    },
    {
     "name": "stdout",
     "output_type": "stream",
     "text": [
      "\n",
      "\n"
     ]
    }
   ],
   "source": [
    "gbm_final_grid = H2OGradientBoostingEstimator(distribution='bernoulli',\n",
    "                    ## more trees is better if the learning rate is small enough \n",
    "                    ## here, use \"more than enough\" trees - we have early stopping\n",
    "                    ntrees=10000,\n",
    "                    ## smaller learning rate is better\n",
    "                    ## since we have learning_rate_annealing, we can afford to start with a \n",
    "                    #bigger learning rate\n",
    "                    learn_rate=0.05,\n",
    "                    ## learning rate annealing: learning_rate shrinks by 1% after every tree \n",
    "                    ## (use 1.00 to disable, but then lower the learning_rate)\n",
    "                    learn_rate_annealing = 0.99,\n",
    "                    ## score every 10 trees to make early stopping reproducible \n",
    "                    #(it depends on the scoring interval)\n",
    "                    score_tree_interval = 10,\n",
    "                    ## fix a random number generator seed for reproducibility\n",
    "                    seed = 1234,\n",
    "                    ## early stopping once the validation AUC doesn't improve by at least 0.01% for \n",
    "                    #5 consecutive scoring events\n",
    "                    stopping_rounds = 5,\n",
    "                    stopping_metric = \"AUC\",\n",
    "                    stopping_tolerance = 1e-4)\n",
    "            \n",
    "#Build grid search with previously made GBM and hyper parameters\n",
    "final_grid = H2OGridSearch(gbm_final_grid, hyper_params = hyper_params_tune,\n",
    "                                    grid_id = 'final_grid',\n",
    "                                    search_criteria = search_criteria_tune)\n",
    "#Train grid search\n",
    "final_grid.train(x=predictors, \n",
    "           y=response,\n",
    "           ## early stopping based on timeout (no model should take more than 1 hour - modify as needed)\n",
    "           max_runtime_secs = 3600, \n",
    "           training_frame = train,\n",
    "           validation_frame = valid)"
   ]
  },
  {
   "cell_type": "markdown",
   "metadata": {},
   "source": [
    "We can see that the best models have even better validation AUCs than our previous best models, so the random grid search was successful!"
   ]
  },
  {
   "cell_type": "code",
   "execution_count": 21,
   "metadata": {},
   "outputs": [
    {
     "name": "stdout",
     "output_type": "stream",
     "text": [
      "Hyper-Parameter Search Summary: ordered by decreasing auc\n",
      "\n"
     ]
    },
    {
     "data": {
      "text/html": [
       "<div style=\"overflow:auto\"><table style=\"width:50%\"><tr><td><b></b></td>\n",
       "<td><b>col_sample_rate</b></td>\n",
       "<td><b>col_sample_rate_change_per_level</b></td>\n",
       "<td><b>col_sample_rate_per_tree</b></td>\n",
       "<td><b>histogram_type</b></td>\n",
       "<td><b>max_depth</b></td>\n",
       "<td><b>min_rows</b></td>\n",
       "<td><b>min_split_improvement</b></td>\n",
       "<td><b>nbins</b></td>\n",
       "<td><b>nbins_cats</b></td>\n",
       "<td><b>sample_rate</b></td>\n",
       "<td><b>model_ids</b></td>\n",
       "<td><b>auc</b></td></tr>\n",
       "<tr><td></td>\n",
       "<td>0.49</td>\n",
       "<td>1.04</td>\n",
       "<td>0.94</td>\n",
       "<td>QuantilesGlobal</td>\n",
       "<td>26</td>\n",
       "<td>2.0</td>\n",
       "<td>0.0</td>\n",
       "<td>32</td>\n",
       "<td>256</td>\n",
       "<td>0.86</td>\n",
       "<td>final_grid_model_69</td>\n",
       "<td>0.9711186</td></tr>\n",
       "<tr><td></td>\n",
       "<td>0.4</td>\n",
       "<td>1.01</td>\n",
       "<td>0.55</td>\n",
       "<td>QuantilesGlobal</td>\n",
       "<td>27</td>\n",
       "<td>2.0</td>\n",
       "<td>0.0</td>\n",
       "<td>64</td>\n",
       "<td>32</td>\n",
       "<td>0.42</td>\n",
       "<td>final_grid_model_89</td>\n",
       "<td>0.9706678</td></tr>\n",
       "<tr><td></td>\n",
       "<td>0.35</td>\n",
       "<td>1.09</td>\n",
       "<td>0.83</td>\n",
       "<td>QuantilesGlobal</td>\n",
       "<td>16</td>\n",
       "<td>4.0</td>\n",
       "<td>1.0E-8</td>\n",
       "<td>64</td>\n",
       "<td>128</td>\n",
       "<td>0.69</td>\n",
       "<td>final_grid_model_39</td>\n",
       "<td>0.9706114</td></tr>\n",
       "<tr><td></td>\n",
       "<td>0.73</td>\n",
       "<td>0.9</td>\n",
       "<td>0.6</td>\n",
       "<td>QuantilesGlobal</td>\n",
       "<td>14</td>\n",
       "<td>1.0</td>\n",
       "<td>1.0E-4</td>\n",
       "<td>1024</td>\n",
       "<td>256</td>\n",
       "<td>0.29</td>\n",
       "<td>final_grid_model_46</td>\n",
       "<td>0.9693153</td></tr>\n",
       "<tr><td></td>\n",
       "<td>0.92</td>\n",
       "<td>0.93</td>\n",
       "<td>0.56</td>\n",
       "<td>QuantilesGlobal</td>\n",
       "<td>20</td>\n",
       "<td>4.0</td>\n",
       "<td>0.0</td>\n",
       "<td>128</td>\n",
       "<td>128</td>\n",
       "<td>0.93</td>\n",
       "<td>final_grid_model_97</td>\n",
       "<td>0.9672302</td></tr>\n",
       "<tr><td>---</td>\n",
       "<td>---</td>\n",
       "<td>---</td>\n",
       "<td>---</td>\n",
       "<td>---</td>\n",
       "<td>---</td>\n",
       "<td>---</td>\n",
       "<td>---</td>\n",
       "<td>---</td>\n",
       "<td>---</td>\n",
       "<td>---</td>\n",
       "<td>---</td>\n",
       "<td>---</td></tr>\n",
       "<tr><td></td>\n",
       "<td>0.5</td>\n",
       "<td>1.03</td>\n",
       "<td>0.45</td>\n",
       "<td>RoundRobin</td>\n",
       "<td>12</td>\n",
       "<td>256.0</td>\n",
       "<td>1.0E-8</td>\n",
       "<td>512</td>\n",
       "<td>16</td>\n",
       "<td>0.28</td>\n",
       "<td>final_grid_model_59</td>\n",
       "<td>0.7997464</td></tr>\n",
       "<tr><td></td>\n",
       "<td>0.87</td>\n",
       "<td>1.0</td>\n",
       "<td>0.2</td>\n",
       "<td>RoundRobin</td>\n",
       "<td>2</td>\n",
       "<td>256.0</td>\n",
       "<td>1.0E-6</td>\n",
       "<td>512</td>\n",
       "<td>1024</td>\n",
       "<td>0.97</td>\n",
       "<td>final_grid_model_52</td>\n",
       "<td>0.7965624</td></tr>\n",
       "<tr><td></td>\n",
       "<td>0.24</td>\n",
       "<td>1.08</td>\n",
       "<td>0.3</td>\n",
       "<td>UniformAdaptive</td>\n",
       "<td>7</td>\n",
       "<td>256.0</td>\n",
       "<td>1.0E-4</td>\n",
       "<td>32</td>\n",
       "<td>64</td>\n",
       "<td>0.97</td>\n",
       "<td>final_grid_model_45</td>\n",
       "<td>0.7854889</td></tr>\n",
       "<tr><td></td>\n",
       "<td>0.57</td>\n",
       "<td>1.1</td>\n",
       "<td>0.68</td>\n",
       "<td>RoundRobin</td>\n",
       "<td>11</td>\n",
       "<td>256.0</td>\n",
       "<td>0.0</td>\n",
       "<td>16</td>\n",
       "<td>4096</td>\n",
       "<td>0.58</td>\n",
       "<td>final_grid_model_9</td>\n",
       "<td>0.7836574</td></tr>\n",
       "<tr><td></td>\n",
       "<td>0.96</td>\n",
       "<td>0.94</td>\n",
       "<td>0.62</td>\n",
       "<td>QuantilesGlobal</td>\n",
       "<td>7</td>\n",
       "<td>256.0</td>\n",
       "<td>1.0E-6</td>\n",
       "<td>64</td>\n",
       "<td>4096</td>\n",
       "<td>0.57</td>\n",
       "<td>final_grid_model_96</td>\n",
       "<td>0.7608059</td></tr></table></div>"
      ],
      "text/plain": [
       "     col_sample_rate    col_sample_rate_change_per_level    col_sample_rate_per_tree    histogram_type    max_depth    min_rows    min_split_improvement    nbins    nbins_cats    sample_rate    model_ids            auc\n",
       "---  -----------------  ----------------------------------  --------------------------  ----------------  -----------  ----------  -----------------------  -------  ------------  -------------  -------------------  ------------------\n",
       "     0.49               1.04                                0.94                        QuantilesGlobal   26           2.0         0.0                      32       256           0.86           final_grid_model_69  0.9711186249647789\n",
       "     0.4                1.01                                0.55                        QuantilesGlobal   27           2.0         0.0                      64       32            0.42           final_grid_model_89  0.9706677937447168\n",
       "     0.35               1.09                                0.83                        QuantilesGlobal   16           4.0         1.0E-8                   64       128           0.69           final_grid_model_39  0.9706114398422091\n",
       "     0.73               0.9                                 0.6                         QuantilesGlobal   14           1.0         1.0E-4                   1024     256           0.29           final_grid_model_46  0.9693153000845308\n",
       "     0.92               0.93                                0.56                        QuantilesGlobal   20           4.0         0.0                      128      128           0.93           final_grid_model_97  0.9672302056917441\n",
       "---  ---                ---                                 ---                         ---               ---          ---         ---                      ---      ---           ---            ---                  ---\n",
       "     0.5                1.03                                0.45                        RoundRobin        12           256.0       1.0E-8                   512      16            0.28           final_grid_model_59  0.7997464074387151\n",
       "     0.87               1.0                                 0.2                         RoundRobin        2            256.0       1.0E-6                   512      1024          0.97           final_grid_model_52  0.7965624119470274\n",
       "     0.24               1.08                                0.3                         UniformAdaptive   7            256.0       1.0E-4                   32       64            0.97           final_grid_model_45  0.7854888701042547\n",
       "     0.57               1.1                                 0.68                        RoundRobin        11           256.0       0.0                      16       4096          0.58           final_grid_model_9   0.7836573682727528\n",
       "     0.96               0.94                                0.62                        QuantilesGlobal   7            256.0       1.0E-6                   64       4096          0.57           final_grid_model_96  0.7608058608058608"
      ]
     },
     "metadata": {},
     "output_type": "display_data"
    },
    {
     "name": "stdout",
     "output_type": "stream",
     "text": [
      "\n",
      "\n"
     ]
    }
   ],
   "source": [
    "## Sort the grid models by AUC\n",
    "sorted_final_grid = final_grid.get_grid(sort_by='auc',decreasing=True)"
   ]
  },
  {
   "cell_type": "markdown",
   "metadata": {},
   "source": [
    "You can also see the results of the grid search in [Flow](http://localhost:54321/):\n",
    "![alt text](./final_grid.png \"Final Grid Search Results in Flow\")"
   ]
  },
  {
   "cell_type": "markdown",
   "metadata": {},
   "source": [
    "## Model Inspection and Final Test Set Scoring\n",
    "\n",
    "Let's see how well the best model of the grid search (as judged by validation set AUC) does on the held out test set:"
   ]
  },
  {
   "cell_type": "code",
   "execution_count": 22,
   "metadata": {},
   "outputs": [
    {
     "name": "stdout",
     "output_type": "stream",
     "text": [
      "0.97892163340822\n"
     ]
    }
   ],
   "source": [
    "#Get the best model from the list (the model name listed at the top of the table)\n",
    "best_model = h2o.get_model(sorted_final_grid.sorted_metric_table()['model_ids'][0])\n",
    "performance_best_model = best_model.model_performance(test)\n",
    "print(performance_best_model.auc())"
   ]
  },
  {
   "cell_type": "markdown",
   "metadata": {},
   "source": [
    "Good news. It does as well on the test set as on the validation set, so it looks like our best GBM model generalizes well to the unseen test set:"
   ]
  },
  {
   "cell_type": "markdown",
   "metadata": {},
   "source": [
    "We can inspect the winning model's parameters:"
   ]
  },
  {
   "cell_type": "code",
   "execution_count": 27,
   "metadata": {
    "scrolled": true
   },
   "outputs": [
    {
     "data": {
      "text/plain": [
       "[\"model_id = {'__meta': {'schema_version': 3, 'schema_name': 'ModelKeyV3', 'schema_type': 'Key<Model>'}, 'name': 'final_grid_model_69', 'type': 'Key<Model>', 'URL': '/3/Models/final_grid_model_69'}\",\n",
       " \"training_frame = {'__meta': {'schema_version': 3, 'schema_name': 'FrameKeyV3', 'schema_type': 'Key<Frame>'}, 'name': 'train.hex', 'type': 'Key<Frame>', 'URL': '/3/Frames/train.hex'}\",\n",
       " \"validation_frame = {'__meta': {'schema_version': 3, 'schema_name': 'FrameKeyV3', 'schema_type': 'Key<Frame>'}, 'name': 'valid.hex', 'type': 'Key<Frame>', 'URL': '/3/Frames/valid.hex'}\",\n",
       " 'nfolds = 0',\n",
       " 'keep_cross_validation_models = True',\n",
       " 'keep_cross_validation_predictions = False',\n",
       " 'keep_cross_validation_fold_assignment = False',\n",
       " 'score_each_iteration = False',\n",
       " 'score_tree_interval = 10',\n",
       " 'fold_assignment = AUTO',\n",
       " 'fold_column = None',\n",
       " \"response_column = {'__meta': {'schema_version': 3, 'schema_name': 'ColSpecifierV3', 'schema_type': 'VecSpecifier'}, 'column_name': 'survived', 'is_member_of_frames': None}\",\n",
       " \"ignored_columns = ['name']\",\n",
       " 'ignore_const_cols = True',\n",
       " 'offset_column = None',\n",
       " 'weights_column = None',\n",
       " 'balance_classes = False',\n",
       " 'class_sampling_factors = None',\n",
       " 'max_after_balance_size = 5.0',\n",
       " 'max_confusion_matrix_size = 20',\n",
       " 'max_hit_ratio_k = 0',\n",
       " 'ntrees = 10000',\n",
       " 'max_depth = 26',\n",
       " 'min_rows = 2.0',\n",
       " 'nbins = 32',\n",
       " 'nbins_top_level = 1024',\n",
       " 'nbins_cats = 256',\n",
       " 'r2_stopping = 1.7976931348623157e+308',\n",
       " 'stopping_rounds = 5',\n",
       " 'stopping_metric = AUC',\n",
       " 'stopping_tolerance = 0.0001',\n",
       " 'max_runtime_secs = 3535.215',\n",
       " 'seed = 1234',\n",
       " 'build_tree_one_node = False',\n",
       " 'learn_rate = 0.05',\n",
       " 'learn_rate_annealing = 0.99',\n",
       " 'distribution = bernoulli',\n",
       " 'quantile_alpha = 0.5',\n",
       " 'tweedie_power = 1.5',\n",
       " 'huber_alpha = 0.9',\n",
       " 'checkpoint = None',\n",
       " 'sample_rate = 0.86',\n",
       " 'sample_rate_per_class = None',\n",
       " 'col_sample_rate = 0.49',\n",
       " 'col_sample_rate_change_per_level = 1.04',\n",
       " 'col_sample_rate_per_tree = 0.94',\n",
       " 'min_split_improvement = 0.0',\n",
       " 'histogram_type = QuantilesGlobal',\n",
       " 'max_abs_leafnode_pred = 1.7976931348623157e+308',\n",
       " 'pred_noise_bandwidth = 0.0',\n",
       " 'categorical_encoding = AUTO',\n",
       " 'calibrate_model = False',\n",
       " 'calibration_frame = None',\n",
       " 'custom_metric_func = None',\n",
       " 'export_checkpoints_dir = None',\n",
       " 'monotone_constraints = None',\n",
       " 'check_constant_response = True']"
      ]
     },
     "execution_count": 27,
     "metadata": {},
     "output_type": "execute_result"
    }
   ],
   "source": [
    "params_list = []\n",
    "for key, value in best_model.params.items():\n",
    "    params_list.append(str(key)+\" = \"+str(value['actual']))\n",
    "params_list"
   ]
  },
  {
   "cell_type": "markdown",
   "metadata": {},
   "source": [
    "Now we can confirm that these parameters are generally sound, by building a GBM model on the whole dataset (instead of the 60%) and using internal 5-fold cross-validation (re-using all other parameters including the seed):"
   ]
  },
  {
   "cell_type": "code",
   "execution_count": 31,
   "metadata": {},
   "outputs": [],
   "source": [
    "gbm = h2o.get_model(sorted_final_grid.sorted_metric_table()['model_ids'][0])\n",
    "#get the parameters from the Random grid search model and modify them slightly\n",
    "params = gbm.params "
   ]
  },
  {
   "cell_type": "code",
   "execution_count": 58,
   "metadata": {},
   "outputs": [
    {
     "data": {
      "text/html": [
       "<table>\n",
       "<thead>\n",
       "<tr><th style=\"text-align: right;\">  pclass</th><th style=\"text-align: right;\">  survived</th><th>name                                             </th><th>sex   </th><th style=\"text-align: right;\">    age</th><th style=\"text-align: right;\">  sibsp</th><th style=\"text-align: right;\">  parch</th><th style=\"text-align: right;\">  ticket</th><th style=\"text-align: right;\">    fare</th><th>cabin  </th><th>embarked  </th><th style=\"text-align: right;\">  boat</th><th style=\"text-align: right;\">  body</th><th>home.dest                      </th></tr>\n",
       "</thead>\n",
       "<tbody>\n",
       "<tr><td style=\"text-align: right;\">       1</td><td style=\"text-align: right;\">         1</td><td>Allison  Master. Hudson Trevor                   </td><td>male  </td><td style=\"text-align: right;\"> 0.9167</td><td style=\"text-align: right;\">      1</td><td style=\"text-align: right;\">      2</td><td style=\"text-align: right;\">  113781</td><td style=\"text-align: right;\">151.55  </td><td>C22 C26</td><td>S         </td><td style=\"text-align: right;\">    11</td><td style=\"text-align: right;\">   nan</td><td>Montreal  PQ / Chesterville  ON</td></tr>\n",
       "<tr><td style=\"text-align: right;\">       1</td><td style=\"text-align: right;\">         0</td><td>Allison  Mrs. Hudson J C (Bessie Waldo Daniels)  </td><td>female</td><td style=\"text-align: right;\">25     </td><td style=\"text-align: right;\">      1</td><td style=\"text-align: right;\">      2</td><td style=\"text-align: right;\">  113781</td><td style=\"text-align: right;\">151.55  </td><td>C22 C26</td><td>S         </td><td style=\"text-align: right;\">   nan</td><td style=\"text-align: right;\">   nan</td><td>Montreal  PQ / Chesterville  ON</td></tr>\n",
       "<tr><td style=\"text-align: right;\">       1</td><td style=\"text-align: right;\">         1</td><td>Anderson  Mr. Harry                              </td><td>male  </td><td style=\"text-align: right;\">48     </td><td style=\"text-align: right;\">      0</td><td style=\"text-align: right;\">      0</td><td style=\"text-align: right;\">   19952</td><td style=\"text-align: right;\"> 26.55  </td><td>E12    </td><td>S         </td><td style=\"text-align: right;\">     3</td><td style=\"text-align: right;\">   nan</td><td>New York  NY                   </td></tr>\n",
       "<tr><td style=\"text-align: right;\">       1</td><td style=\"text-align: right;\">         1</td><td>Andrews  Miss. Kornelia Theodosia                </td><td>female</td><td style=\"text-align: right;\">63     </td><td style=\"text-align: right;\">      1</td><td style=\"text-align: right;\">      0</td><td style=\"text-align: right;\">   13502</td><td style=\"text-align: right;\"> 77.9583</td><td>D7     </td><td>S         </td><td style=\"text-align: right;\">    10</td><td style=\"text-align: right;\">   nan</td><td>Hudson  NY                     </td></tr>\n",
       "<tr><td style=\"text-align: right;\">       1</td><td style=\"text-align: right;\">         0</td><td>Andrews  Mr. Thomas Jr                           </td><td>male  </td><td style=\"text-align: right;\">39     </td><td style=\"text-align: right;\">      0</td><td style=\"text-align: right;\">      0</td><td style=\"text-align: right;\">  112050</td><td style=\"text-align: right;\">  0     </td><td>A36    </td><td>S         </td><td style=\"text-align: right;\">   nan</td><td style=\"text-align: right;\">   nan</td><td>Belfast  NI                    </td></tr>\n",
       "<tr><td style=\"text-align: right;\">       1</td><td style=\"text-align: right;\">         1</td><td>Appleton  Mrs. Edward Dale (Charlotte Lamson)    </td><td>female</td><td style=\"text-align: right;\">53     </td><td style=\"text-align: right;\">      2</td><td style=\"text-align: right;\">      0</td><td style=\"text-align: right;\">   11769</td><td style=\"text-align: right;\"> 51.4792</td><td>C101   </td><td>S         </td><td style=\"text-align: right;\">   nan</td><td style=\"text-align: right;\">   nan</td><td>Bayside  Queens  NY            </td></tr>\n",
       "<tr><td style=\"text-align: right;\">       1</td><td style=\"text-align: right;\">         0</td><td>Astor  Col. John Jacob                           </td><td>male  </td><td style=\"text-align: right;\">47     </td><td style=\"text-align: right;\">      1</td><td style=\"text-align: right;\">      0</td><td style=\"text-align: right;\">     nan</td><td style=\"text-align: right;\">227.525 </td><td>C62 C64</td><td>C         </td><td style=\"text-align: right;\">   nan</td><td style=\"text-align: right;\">   124</td><td>New York  NY                   </td></tr>\n",
       "<tr><td style=\"text-align: right;\">       1</td><td style=\"text-align: right;\">         1</td><td>Astor  Mrs. John Jacob (Madeleine Talmadge Force)</td><td>female</td><td style=\"text-align: right;\">18     </td><td style=\"text-align: right;\">      1</td><td style=\"text-align: right;\">      0</td><td style=\"text-align: right;\">     nan</td><td style=\"text-align: right;\">227.525 </td><td>C62 C64</td><td>C         </td><td style=\"text-align: right;\">     4</td><td style=\"text-align: right;\">   nan</td><td>New York  NY                   </td></tr>\n",
       "<tr><td style=\"text-align: right;\">       1</td><td style=\"text-align: right;\">         1</td><td>Aubart  Mme. Leontine Pauline                    </td><td>female</td><td style=\"text-align: right;\">24     </td><td style=\"text-align: right;\">      0</td><td style=\"text-align: right;\">      0</td><td style=\"text-align: right;\">     nan</td><td style=\"text-align: right;\"> 69.3   </td><td>B35    </td><td>C         </td><td style=\"text-align: right;\">     9</td><td style=\"text-align: right;\">   nan</td><td>Paris  France                  </td></tr>\n",
       "<tr><td style=\"text-align: right;\">       1</td><td style=\"text-align: right;\">         1</td><td>Barber  Miss. Ellen Nellie                       </td><td>female</td><td style=\"text-align: right;\">26     </td><td style=\"text-align: right;\">      0</td><td style=\"text-align: right;\">      0</td><td style=\"text-align: right;\">   19877</td><td style=\"text-align: right;\"> 78.85  </td><td>       </td><td>S         </td><td style=\"text-align: right;\">     6</td><td style=\"text-align: right;\">   nan</td><td>                               </td></tr>\n",
       "</tbody>\n",
       "</table>"
      ]
     },
     "metadata": {},
     "output_type": "display_data"
    },
    {
     "data": {
      "text/plain": []
     },
     "execution_count": 58,
     "metadata": {},
     "output_type": "execute_result"
    }
   ],
   "source": [
    "h2o.get_frame(gbm.params['training_frame']['actual']['name'])"
   ]
  },
  {
   "cell_type": "code",
   "execution_count": 49,
   "metadata": {},
   "outputs": [
    {
     "data": {
      "text/plain": [
       "{'model_id': {'default': None,\n",
       "  'actual': {'__meta': {'schema_version': 3,\n",
       "    'schema_name': 'ModelKeyV3',\n",
       "    'schema_type': 'Key<Model>'},\n",
       "   'name': 'final_grid_model_69',\n",
       "   'type': 'Key<Model>',\n",
       "   'URL': '/3/Models/final_grid_model_69'}},\n",
       " 'training_frame': {'default': None,\n",
       "  'actual': {'__meta': {'schema_version': 3,\n",
       "    'schema_name': 'FrameKeyV3',\n",
       "    'schema_type': 'Key<Frame>'},\n",
       "   'name': 'train.hex',\n",
       "   'type': 'Key<Frame>',\n",
       "   'URL': '/3/Frames/train.hex'}},\n",
       " 'validation_frame': {'default': None,\n",
       "  'actual': {'__meta': {'schema_version': 3,\n",
       "    'schema_name': 'FrameKeyV3',\n",
       "    'schema_type': 'Key<Frame>'},\n",
       "   'name': 'valid.hex',\n",
       "   'type': 'Key<Frame>',\n",
       "   'URL': '/3/Frames/valid.hex'}},\n",
       " 'nfolds': {'default': 0, 'actual': 0},\n",
       " 'keep_cross_validation_models': {'default': True, 'actual': True},\n",
       " 'keep_cross_validation_predictions': {'default': False, 'actual': False},\n",
       " 'keep_cross_validation_fold_assignment': {'default': False, 'actual': False},\n",
       " 'score_each_iteration': {'default': False, 'actual': False},\n",
       " 'score_tree_interval': {'default': 0, 'actual': 10},\n",
       " 'fold_assignment': {'default': 'AUTO', 'actual': 'AUTO'},\n",
       " 'fold_column': {'default': None, 'actual': None},\n",
       " 'response_column': {'default': None,\n",
       "  'actual': {'__meta': {'schema_version': 3,\n",
       "    'schema_name': 'ColSpecifierV3',\n",
       "    'schema_type': 'VecSpecifier'},\n",
       "   'column_name': 'survived',\n",
       "   'is_member_of_frames': None}},\n",
       " 'ignored_columns': {'default': None, 'actual': ['name']},\n",
       " 'ignore_const_cols': {'default': True, 'actual': True},\n",
       " 'offset_column': {'default': None, 'actual': None},\n",
       " 'weights_column': {'default': None, 'actual': None},\n",
       " 'balance_classes': {'default': False, 'actual': False},\n",
       " 'class_sampling_factors': {'default': None, 'actual': None},\n",
       " 'max_after_balance_size': {'default': 5.0, 'actual': 5.0},\n",
       " 'max_confusion_matrix_size': {'default': 20, 'actual': 20},\n",
       " 'max_hit_ratio_k': {'default': 0, 'actual': 0},\n",
       " 'ntrees': {'default': 50, 'actual': 10000},\n",
       " 'max_depth': {'default': 5, 'actual': 26},\n",
       " 'min_rows': {'default': 10.0, 'actual': 2.0},\n",
       " 'nbins': {'default': 20, 'actual': 32},\n",
       " 'nbins_top_level': {'default': 1024, 'actual': 1024},\n",
       " 'nbins_cats': {'default': 1024, 'actual': 256},\n",
       " 'r2_stopping': {'default': 1.7976931348623157e+308,\n",
       "  'actual': 1.7976931348623157e+308},\n",
       " 'stopping_rounds': {'default': 0, 'actual': 5},\n",
       " 'stopping_metric': {'default': 'AUTO', 'actual': 'AUC'},\n",
       " 'stopping_tolerance': {'default': 0.001, 'actual': 0.0001},\n",
       " 'max_runtime_secs': {'default': 0.0, 'actual': 3535.215},\n",
       " 'seed': {'default': -1, 'actual': 1234},\n",
       " 'build_tree_one_node': {'default': False, 'actual': False},\n",
       " 'learn_rate': {'default': 0.1, 'actual': 0.05},\n",
       " 'learn_rate_annealing': {'default': 1.0, 'actual': 0.99},\n",
       " 'distribution': {'default': 'AUTO', 'actual': 'bernoulli'},\n",
       " 'quantile_alpha': {'default': 0.5, 'actual': 0.5},\n",
       " 'tweedie_power': {'default': 1.5, 'actual': 1.5},\n",
       " 'huber_alpha': {'default': 0.9, 'actual': 0.9},\n",
       " 'checkpoint': {'default': None, 'actual': None},\n",
       " 'sample_rate': {'default': 1.0, 'actual': 0.86},\n",
       " 'sample_rate_per_class': {'default': None, 'actual': None},\n",
       " 'col_sample_rate': {'default': 1.0, 'actual': 0.49},\n",
       " 'col_sample_rate_change_per_level': {'default': 1.0, 'actual': 1.04},\n",
       " 'col_sample_rate_per_tree': {'default': 1.0, 'actual': 0.94},\n",
       " 'min_split_improvement': {'default': 1e-05, 'actual': 0.0},\n",
       " 'histogram_type': {'default': 'AUTO', 'actual': 'QuantilesGlobal'},\n",
       " 'max_abs_leafnode_pred': {'default': 1.7976931348623157e+308,\n",
       "  'actual': 1.7976931348623157e+308},\n",
       " 'pred_noise_bandwidth': {'default': 0.0, 'actual': 0.0},\n",
       " 'categorical_encoding': {'default': 'AUTO', 'actual': 'AUTO'},\n",
       " 'calibrate_model': {'default': False, 'actual': False},\n",
       " 'calibration_frame': {'default': None, 'actual': None},\n",
       " 'custom_metric_func': {'default': None, 'actual': None},\n",
       " 'export_checkpoints_dir': {'default': None, 'actual': None},\n",
       " 'monotone_constraints': {'default': None, 'actual': None},\n",
       " 'check_constant_response': {'default': True, 'actual': True}}"
      ]
     },
     "execution_count": 49,
     "metadata": {},
     "output_type": "execute_result"
    }
   ],
   "source": [
    "gbm.params"
   ]
  },
  {
   "cell_type": "code",
   "execution_count": 33,
   "metadata": {},
   "outputs": [],
   "source": [
    "new_params = {\"nfolds\":5, \"model_id\":None}\n",
    "for key in new_params.keys():\n",
    "    params[key]['actual'] = new_params[key] "
   ]
  },
  {
   "cell_type": "code",
   "execution_count": 37,
   "metadata": {},
   "outputs": [],
   "source": [
    "gbm_best_2 = H2OGradientBoostingEstimator()"
   ]
  },
  {
   "cell_type": "code",
   "execution_count": 61,
   "metadata": {},
   "outputs": [
    {
     "data": {
      "text/plain": [
       "{'model_id': {'default': None,\n",
       "  'actual': {'__meta': {'schema_version': 3,\n",
       "    'schema_name': 'ModelKeyV3',\n",
       "    'schema_type': 'Key<Model>'},\n",
       "   'name': 'final_grid_model_69',\n",
       "   'type': 'Key<Model>',\n",
       "   'URL': '/3/Models/final_grid_model_69'}},\n",
       " 'training_frame': {'default': None,\n",
       "  'actual': {'__meta': {'schema_version': 3,\n",
       "    'schema_name': 'FrameKeyV3',\n",
       "    'schema_type': 'Key<Frame>'},\n",
       "   'name': 'train.hex',\n",
       "   'type': 'Key<Frame>',\n",
       "   'URL': '/3/Frames/train.hex'}},\n",
       " 'validation_frame': {'default': None,\n",
       "  'actual': {'__meta': {'schema_version': 3,\n",
       "    'schema_name': 'FrameKeyV3',\n",
       "    'schema_type': 'Key<Frame>'},\n",
       "   'name': 'valid.hex',\n",
       "   'type': 'Key<Frame>',\n",
       "   'URL': '/3/Frames/valid.hex'}},\n",
       " 'nfolds': {'default': 0, 'actual': 0},\n",
       " 'keep_cross_validation_models': {'default': True, 'actual': True},\n",
       " 'keep_cross_validation_predictions': {'default': False, 'actual': False},\n",
       " 'keep_cross_validation_fold_assignment': {'default': False, 'actual': False},\n",
       " 'score_each_iteration': {'default': False, 'actual': False},\n",
       " 'score_tree_interval': {'default': 0, 'actual': 10},\n",
       " 'fold_assignment': {'default': 'AUTO', 'actual': 'AUTO'},\n",
       " 'fold_column': {'default': None, 'actual': None},\n",
       " 'response_column': {'default': None,\n",
       "  'actual': {'__meta': {'schema_version': 3,\n",
       "    'schema_name': 'ColSpecifierV3',\n",
       "    'schema_type': 'VecSpecifier'},\n",
       "   'column_name': 'survived',\n",
       "   'is_member_of_frames': None}},\n",
       " 'ignored_columns': {'default': None, 'actual': ['name']},\n",
       " 'ignore_const_cols': {'default': True, 'actual': True},\n",
       " 'offset_column': {'default': None, 'actual': None},\n",
       " 'weights_column': {'default': None, 'actual': None},\n",
       " 'balance_classes': {'default': False, 'actual': False},\n",
       " 'class_sampling_factors': {'default': None, 'actual': None},\n",
       " 'max_after_balance_size': {'default': 5.0, 'actual': 5.0},\n",
       " 'max_confusion_matrix_size': {'default': 20, 'actual': 20},\n",
       " 'max_hit_ratio_k': {'default': 0, 'actual': 0},\n",
       " 'ntrees': {'default': 50, 'actual': 10000},\n",
       " 'max_depth': {'default': 5, 'actual': 26},\n",
       " 'min_rows': {'default': 10.0, 'actual': 2.0},\n",
       " 'nbins': {'default': 20, 'actual': 32},\n",
       " 'nbins_top_level': {'default': 1024, 'actual': 1024},\n",
       " 'nbins_cats': {'default': 1024, 'actual': 256},\n",
       " 'r2_stopping': {'default': 1.7976931348623157e+308,\n",
       "  'actual': 1.7976931348623157e+308},\n",
       " 'stopping_rounds': {'default': 0, 'actual': 5},\n",
       " 'stopping_metric': {'default': 'AUTO', 'actual': 'AUC'},\n",
       " 'stopping_tolerance': {'default': 0.001, 'actual': 0.0001},\n",
       " 'max_runtime_secs': {'default': 0.0, 'actual': 3535.215},\n",
       " 'seed': {'default': -1, 'actual': 1234},\n",
       " 'build_tree_one_node': {'default': False, 'actual': False},\n",
       " 'learn_rate': {'default': 0.1, 'actual': 0.05},\n",
       " 'learn_rate_annealing': {'default': 1.0, 'actual': 0.99},\n",
       " 'distribution': {'default': 'AUTO', 'actual': 'bernoulli'},\n",
       " 'quantile_alpha': {'default': 0.5, 'actual': 0.5},\n",
       " 'tweedie_power': {'default': 1.5, 'actual': 1.5},\n",
       " 'huber_alpha': {'default': 0.9, 'actual': 0.9},\n",
       " 'checkpoint': {'default': None, 'actual': None},\n",
       " 'sample_rate': {'default': 1.0, 'actual': 0.86},\n",
       " 'sample_rate_per_class': {'default': None, 'actual': None},\n",
       " 'col_sample_rate': {'default': 1.0, 'actual': 0.49},\n",
       " 'col_sample_rate_change_per_level': {'default': 1.0, 'actual': 1.04},\n",
       " 'col_sample_rate_per_tree': {'default': 1.0, 'actual': 0.94},\n",
       " 'min_split_improvement': {'default': 1e-05, 'actual': 0.0},\n",
       " 'histogram_type': {'default': 'AUTO', 'actual': 'QuantilesGlobal'},\n",
       " 'max_abs_leafnode_pred': {'default': 1.7976931348623157e+308,\n",
       "  'actual': 1.7976931348623157e+308},\n",
       " 'pred_noise_bandwidth': {'default': 0.0, 'actual': 0.0},\n",
       " 'categorical_encoding': {'default': 'AUTO', 'actual': 'AUTO'},\n",
       " 'calibrate_model': {'default': False, 'actual': False},\n",
       " 'calibration_frame': {'default': None, 'actual': None},\n",
       " 'custom_metric_func': {'default': None, 'actual': None},\n",
       " 'export_checkpoints_dir': {'default': None, 'actual': None},\n",
       " 'monotone_constraints': {'default': None, 'actual': None},\n",
       " 'check_constant_response': {'default': True, 'actual': True}}"
      ]
     },
     "execution_count": 61,
     "metadata": {},
     "output_type": "execute_result"
    }
   ],
   "source": [
    "gbm.params"
   ]
  },
  {
   "cell_type": "code",
   "execution_count": 42,
   "metadata": {},
   "outputs": [
    {
     "ename": "H2OTypeError",
     "evalue": "Argument `training_frame` should be an ?H2OFrame, got H2OResponse {'__meta': {'schema_version': 3, 'schema_name': 'FrameKeyV3', 'schema_type': 'Key<Frame>'}, 'name': 'train.hex', 'type': 'Key<Frame>', 'URL': '/3/Frames/train.hex'}",
     "output_type": "error",
     "traceback": [
      "\u001b[0;31m---------------------------------------------------------------------------\u001b[0m",
      "\u001b[0;31mH2OTypeError\u001b[0m                              Traceback (most recent call last)",
      "\u001b[0;32m<ipython-input-42-5cf0ff1aa45f>\u001b[0m in \u001b[0;36m<module>\u001b[0;34m\u001b[0m\n\u001b[0;32m----> 1\u001b[0;31m \u001b[0msetattr\u001b[0m\u001b[0;34m(\u001b[0m\u001b[0mgbm_best_2\u001b[0m\u001b[0;34m,\u001b[0m \u001b[0;34m\"training_frame\"\u001b[0m\u001b[0;34m,\u001b[0m \u001b[0mparams\u001b[0m\u001b[0;34m[\u001b[0m\u001b[0;34m\"training_frame\"\u001b[0m\u001b[0;34m]\u001b[0m\u001b[0;34m[\u001b[0m\u001b[0;34m'actual'\u001b[0m\u001b[0;34m]\u001b[0m\u001b[0;34m)\u001b[0m\u001b[0;34m\u001b[0m\u001b[0;34m\u001b[0m\u001b[0m\n\u001b[0m",
      "\u001b[0;32m/Library/Frameworks/Python.framework/Versions/3.7/lib/python3.7/site-packages/h2o/estimators/gbm.py\u001b[0m in \u001b[0;36mtraining_frame\u001b[0;34m(self, training_frame)\u001b[0m\n\u001b[1;32m     64\u001b[0m     \u001b[0;34m@\u001b[0m\u001b[0mtraining_frame\u001b[0m\u001b[0;34m.\u001b[0m\u001b[0msetter\u001b[0m\u001b[0;34m\u001b[0m\u001b[0;34m\u001b[0m\u001b[0m\n\u001b[1;32m     65\u001b[0m     \u001b[0;32mdef\u001b[0m \u001b[0mtraining_frame\u001b[0m\u001b[0;34m(\u001b[0m\u001b[0mself\u001b[0m\u001b[0;34m,\u001b[0m \u001b[0mtraining_frame\u001b[0m\u001b[0;34m)\u001b[0m\u001b[0;34m:\u001b[0m\u001b[0;34m\u001b[0m\u001b[0;34m\u001b[0m\u001b[0m\n\u001b[0;32m---> 66\u001b[0;31m         \u001b[0massert_is_type\u001b[0m\u001b[0;34m(\u001b[0m\u001b[0mtraining_frame\u001b[0m\u001b[0;34m,\u001b[0m \u001b[0;32mNone\u001b[0m\u001b[0;34m,\u001b[0m \u001b[0mH2OFrame\u001b[0m\u001b[0;34m)\u001b[0m\u001b[0;34m\u001b[0m\u001b[0;34m\u001b[0m\u001b[0m\n\u001b[0m\u001b[1;32m     67\u001b[0m         \u001b[0mself\u001b[0m\u001b[0;34m.\u001b[0m\u001b[0m_parms\u001b[0m\u001b[0;34m[\u001b[0m\u001b[0;34m\"training_frame\"\u001b[0m\u001b[0;34m]\u001b[0m \u001b[0;34m=\u001b[0m \u001b[0mtraining_frame\u001b[0m\u001b[0;34m\u001b[0m\u001b[0;34m\u001b[0m\u001b[0m\n\u001b[1;32m     68\u001b[0m \u001b[0;34m\u001b[0m\u001b[0m\n",
      "\u001b[0;32m/Library/Frameworks/Python.framework/Versions/3.7/lib/python3.7/site-packages/h2o/utils/typechecks.py\u001b[0m in \u001b[0;36massert_is_type\u001b[0;34m(var, *types, **kwargs)\u001b[0m\n\u001b[1;32m    455\u001b[0m     \u001b[0mvtn\u001b[0m \u001b[0;34m=\u001b[0m \u001b[0m_get_type_name\u001b[0m\u001b[0;34m(\u001b[0m\u001b[0mtype\u001b[0m\u001b[0;34m(\u001b[0m\u001b[0mvar\u001b[0m\u001b[0;34m)\u001b[0m\u001b[0;34m)\u001b[0m\u001b[0;34m\u001b[0m\u001b[0;34m\u001b[0m\u001b[0m\n\u001b[1;32m    456\u001b[0m     raise H2OTypeError(var_name=vname, var_value=var, var_type_name=vtn, exp_type_name=etn, message=message,\n\u001b[0;32m--> 457\u001b[0;31m                        skip_frames=skip_frames)\n\u001b[0m\u001b[1;32m    458\u001b[0m \u001b[0;34m\u001b[0m\u001b[0m\n\u001b[1;32m    459\u001b[0m \u001b[0;34m\u001b[0m\u001b[0m\n",
      "\u001b[0;31mH2OTypeError\u001b[0m: Argument `training_frame` should be an ?H2OFrame, got H2OResponse {'__meta': {'schema_version': 3, 'schema_name': 'FrameKeyV3', 'schema_type': 'Key<Frame>'}, 'name': 'train.hex', 'type': 'Key<Frame>', 'URL': '/3/Frames/train.hex'}"
     ]
    }
   ],
   "source": [
    "setattr(gbm_best_2, \"training_frame\", params[\"training_frame\"]['actual'])"
   ]
  },
  {
   "cell_type": "code",
   "execution_count": 64,
   "metadata": {},
   "outputs": [
    {
     "ename": "ValueError",
     "evalue": "WTF",
     "output_type": "error",
     "traceback": [
      "\u001b[0;31m---------------------------------------------------------------------------\u001b[0m",
      "\u001b[0;31mValueError\u001b[0m                                Traceback (most recent call last)",
      "\u001b[0;32m<ipython-input-64-81a76e3e9a55>\u001b[0m in \u001b[0;36m<module>\u001b[0;34m\u001b[0m\n\u001b[1;32m      8\u001b[0m             \u001b[0msetattr\u001b[0m\u001b[0;34m(\u001b[0m\u001b[0mgbm_best\u001b[0m\u001b[0;34m,\u001b[0m\u001b[0mkey\u001b[0m\u001b[0;34m,\u001b[0m\u001b[0mparams\u001b[0m\u001b[0;34m[\u001b[0m\u001b[0mkey\u001b[0m\u001b[0;34m]\u001b[0m\u001b[0;34m[\u001b[0m\u001b[0;34m'actual'\u001b[0m\u001b[0;34m]\u001b[0m\u001b[0;34m)\u001b[0m\u001b[0;34m\u001b[0m\u001b[0;34m\u001b[0m\u001b[0m\n\u001b[1;32m      9\u001b[0m     \u001b[0;32melse\u001b[0m\u001b[0;34m:\u001b[0m\u001b[0;34m\u001b[0m\u001b[0;34m\u001b[0m\u001b[0m\n\u001b[0;32m---> 10\u001b[0;31m         \u001b[0;32mraise\u001b[0m \u001b[0mValueError\u001b[0m\u001b[0;34m(\u001b[0m\u001b[0;34m\"WTF\"\u001b[0m\u001b[0;34m)\u001b[0m\u001b[0;34m\u001b[0m\u001b[0;34m\u001b[0m\u001b[0m\n\u001b[0m",
      "\u001b[0;31mValueError\u001b[0m: WTF"
     ]
    }
   ],
   "source": [
    "gbm_best = H2OGradientBoostingEstimator()\n",
    "for key in params.keys():\n",
    "    if key in ['training_frame', 'validation_frame']:\n",
    "        setattr(gbm_best,key,h2o.get_frame(params[key]['actual']['name']))\n",
    "    elif key in ['response_column']:\n",
    "        setattr(gbm_best,key,h2o.get_frame(params[key]['actual']['column_name']))\n",
    "    elif key in dir(gbm_best) and getattr(gbm_best,key) != params[key]['actual']:\n",
    "            setattr(gbm_best,key,params[key]['actual'])"
   ]
  },
  {
   "cell_type": "code",
   "execution_count": 20,
   "metadata": {},
   "outputs": [
    {
     "name": "stdout",
     "output_type": "stream",
     "text": [
      "\n",
      "gbm Model Build Progress: [##################################################] 100%\n"
     ]
    }
   ],
   "source": [
    "gbm_best.train(x=predictors, y=response, training_frame=df)"
   ]
  },
  {
   "cell_type": "code",
   "execution_count": 21,
   "metadata": {
    "scrolled": true
   },
   "outputs": [
    {
     "name": "stdout",
     "output_type": "stream",
     "text": [
      "\n",
      "Cross-Validation Metrics Summary: \n"
     ]
    },
    {
     "data": {
      "text/html": [
       "<div style=\"overflow:auto\"><table style=\"width:50%\"><tr><td><b></b></td>\n",
       "<td><b>mean</b></td>\n",
       "<td><b>sd</b></td>\n",
       "<td><b>cv_1_valid</b></td>\n",
       "<td><b>cv_2_valid</b></td>\n",
       "<td><b>cv_3_valid</b></td>\n",
       "<td><b>cv_4_valid</b></td>\n",
       "<td><b>cv_5_valid</b></td></tr>\n",
       "<tr><td>accuracy</td>\n",
       "<td>0.9443999</td>\n",
       "<td>0.0064340</td>\n",
       "<td>0.9400749</td>\n",
       "<td>0.9335793</td>\n",
       "<td>0.9379845</td>\n",
       "<td>0.9566929</td>\n",
       "<td>0.9536679</td></tr>\n",
       "<tr><td>auc</td>\n",
       "<td>0.9704713</td>\n",
       "<td>0.0070059</td>\n",
       "<td>0.9639977</td>\n",
       "<td>0.9584524</td>\n",
       "<td>0.9655612</td>\n",
       "<td>0.9839788</td>\n",
       "<td>0.9803662</td></tr>\n",
       "<tr><td>err</td>\n",
       "<td>0.0556001</td>\n",
       "<td>0.0064340</td>\n",
       "<td>0.0599251</td>\n",
       "<td>0.0664207</td>\n",
       "<td>0.0620155</td>\n",
       "<td>0.0433071</td>\n",
       "<td>0.0463320</td></tr>\n",
       "<tr><td>err_count</td>\n",
       "<td>14.6</td>\n",
       "<td>1.8761663</td>\n",
       "<td>16.0</td>\n",
       "<td>18.0</td>\n",
       "<td>16.0</td>\n",
       "<td>11.0</td>\n",
       "<td>12.0</td></tr>\n",
       "<tr><td>f0point5</td>\n",
       "<td>0.9483252</td>\n",
       "<td>0.0102195</td>\n",
       "<td>0.9469697</td>\n",
       "<td>0.9210526</td>\n",
       "<td>0.9562212</td>\n",
       "<td>0.9619687</td>\n",
       "<td>0.955414</td></tr>\n",
       "<tr><td>f1</td>\n",
       "<td>0.9237261</td>\n",
       "<td>0.0100577</td>\n",
       "<td>0.9259259</td>\n",
       "<td>0.9032258</td>\n",
       "<td>0.9120879</td>\n",
       "<td>0.9398907</td>\n",
       "<td>0.9375</td></tr>\n",
       "<tr><td>f2</td>\n",
       "<td>0.9005541</td>\n",
       "<td>0.0133487</td>\n",
       "<td>0.9057971</td>\n",
       "<td>0.886076</td>\n",
       "<td>0.8718488</td>\n",
       "<td>0.9188034</td>\n",
       "<td>0.9202454</td></tr>\n",
       "<tr><td>lift_top_group</td>\n",
       "<td>2.6258688</td>\n",
       "<td>0.0998947</td>\n",
       "<td>2.3839285</td>\n",
       "<td>2.8229167</td>\n",
       "<td>2.632653</td>\n",
       "<td>2.6736841</td>\n",
       "<td>2.6161616</td></tr>\n",
       "<tr><td>logloss</td>\n",
       "<td>0.1869302</td>\n",
       "<td>0.0142185</td>\n",
       "<td>0.2034029</td>\n",
       "<td>0.2098996</td>\n",
       "<td>0.1933566</td>\n",
       "<td>0.1559504</td>\n",
       "<td>0.1720417</td></tr>\n",
       "<tr><td>max_per_class_error</td>\n",
       "<td>0.11417</td>\n",
       "<td>0.0161180</td>\n",
       "<td>0.1071429</td>\n",
       "<td>0.125</td>\n",
       "<td>0.1530612</td>\n",
       "<td>0.0947368</td>\n",
       "<td>0.0909091</td></tr>\n",
       "<tr><td>mcc</td>\n",
       "<td>0.8823097</td>\n",
       "<td>0.0141451</td>\n",
       "<td>0.8774228</td>\n",
       "<td>0.8537732</td>\n",
       "<td>0.8707511</td>\n",
       "<td>0.9077432</td>\n",
       "<td>0.9018585</td></tr>\n",
       "<tr><td>mean_per_class_accuracy</td>\n",
       "<td>0.9331479</td>\n",
       "<td>0.0080393</td>\n",
       "<td>0.9335253</td>\n",
       "<td>0.9203572</td>\n",
       "<td>0.9203444</td>\n",
       "<td>0.9463423</td>\n",
       "<td>0.9451705</td></tr>\n",
       "<tr><td>mean_per_class_error</td>\n",
       "<td>0.0668521</td>\n",
       "<td>0.0080393</td>\n",
       "<td>0.0664747</td>\n",
       "<td>0.0796429</td>\n",
       "<td>0.0796556</td>\n",
       "<td>0.0536577</td>\n",
       "<td>0.0548295</td></tr>\n",
       "<tr><td>mse</td>\n",
       "<td>0.0501457</td>\n",
       "<td>0.0042764</td>\n",
       "<td>0.0544056</td>\n",
       "<td>0.0572033</td>\n",
       "<td>0.0529171</td>\n",
       "<td>0.0411026</td>\n",
       "<td>0.0451000</td></tr>\n",
       "<tr><td>precision</td>\n",
       "<td>0.9655963</td>\n",
       "<td>0.0130557</td>\n",
       "<td>0.9615384</td>\n",
       "<td>0.9333333</td>\n",
       "<td>0.9880952</td>\n",
       "<td>0.9772728</td>\n",
       "<td>0.9677419</td></tr>\n",
       "<tr><td>r2</td>\n",
       "<td>0.7870655</td>\n",
       "<td>0.0187190</td>\n",
       "<td>0.7765828</td>\n",
       "<td>0.7499365</td>\n",
       "<td>0.7753588</td>\n",
       "<td>0.8244438</td>\n",
       "<td>0.8090054</td></tr>\n",
       "<tr><td>recall</td>\n",
       "<td>0.88583</td>\n",
       "<td>0.0161180</td>\n",
       "<td>0.8928571</td>\n",
       "<td>0.875</td>\n",
       "<td>0.8469388</td>\n",
       "<td>0.9052632</td>\n",
       "<td>0.9090909</td></tr>\n",
       "<tr><td>specificity</td>\n",
       "<td>0.9804658</td>\n",
       "<td>0.0069456</td>\n",
       "<td>0.9741936</td>\n",
       "<td>0.9657143</td>\n",
       "<td>0.99375</td>\n",
       "<td>0.9874214</td>\n",
       "<td>0.98125</td></tr></table></div>"
      ],
      "text/plain": [
       "                         mean       sd          cv_1_valid    cv_2_valid    cv_3_valid    cv_4_valid    cv_5_valid\n",
       "-----------------------  ---------  ----------  ------------  ------------  ------------  ------------  ------------\n",
       "accuracy                 0.9444     0.00643399  0.940075      0.933579      0.937984      0.956693      0.953668\n",
       "auc                      0.970471   0.00700594  0.963998      0.958452      0.965561      0.983979      0.980366\n",
       "err                      0.0556001  0.00643399  0.0599251     0.0664207     0.0620155     0.0433071     0.046332\n",
       "err_count                14.6       1.87617     16            18            16            11            12\n",
       "f0point5                 0.948325   0.0102195   0.94697       0.921053      0.956221      0.961969      0.955414\n",
       "f1                       0.923726   0.0100577   0.925926      0.903226      0.912088      0.939891      0.9375\n",
       "f2                       0.900554   0.0133487   0.905797      0.886076      0.871849      0.918803      0.920245\n",
       "lift_top_group           2.62587    0.0998947   2.38393       2.82292       2.63265       2.67368       2.61616\n",
       "logloss                  0.18693    0.0142185   0.203403      0.2099        0.193357      0.15595       0.172042\n",
       "max_per_class_error      0.11417    0.016118    0.107143      0.125         0.153061      0.0947368     0.0909091\n",
       "mcc                      0.88231    0.0141451   0.877423      0.853773      0.870751      0.907743      0.901859\n",
       "mean_per_class_accuracy  0.933148   0.00803933  0.933525      0.920357      0.920344      0.946342      0.94517\n",
       "mean_per_class_error     0.0668521  0.00803933  0.0664747     0.0796429     0.0796556     0.0536577     0.0548295\n",
       "mse                      0.0501457  0.00427637  0.0544056     0.0572033     0.0529171     0.0411026     0.0451\n",
       "precision                0.965596   0.0130557   0.961538      0.933333      0.988095      0.977273      0.967742\n",
       "r2                       0.787065   0.018719    0.776583      0.749936      0.775359      0.824444      0.809005\n",
       "recall                   0.88583    0.016118    0.892857      0.875         0.846939      0.905263      0.909091\n",
       "specificity              0.980466   0.0069456   0.974194      0.965714      0.99375       0.987421      0.98125"
      ]
     },
     "metadata": {},
     "output_type": "display_data"
    },
    {
     "name": "stdout",
     "output_type": "stream",
     "text": [
      "\n"
     ]
    }
   ],
   "source": [
    "print gbm_best.cross_validation_metrics_summary()"
   ]
  },
  {
   "cell_type": "markdown",
   "metadata": {},
   "source": [
    "It looks like the winning model performs slightly better on the validation and test sets than during cross-validation on the training set as the mean AUC on the 5 folds is estimated to be only 97.04%, but with a fairly large standard deviation of 0.7%. For small datasets, such a large variance is not unusual. To get a better estimate of model performance, the Random hyper-parameter search could have used `nfolds = 5` (or 10, or similar) in combination with 80% of the data for training (i.e., not holding out a validation set, but only the final test set). However, this would take more time, as `nfolds+1` models will be built for every set of parameters.\n",
    "\n",
    "Instead, to save time, let's just scan through the top 5 models and cross-validate their parameters with `nfolds=5` on the entire dataset:"
   ]
  },
  {
   "cell_type": "code",
   "execution_count": 22,
   "metadata": {},
   "outputs": [
    {
     "name": "stdout",
     "output_type": "stream",
     "text": [
      "\n",
      "gbm Model Build Progress: [##################################################] 100%\n",
      "final_grid_model_45\n",
      "                       auc\n",
      "mean            0.97047126\n",
      "sd            0.0070059407\n",
      "cv_1_valid       0.9639977\n",
      "cv_2_valid       0.9584524\n",
      "cv_3_valid       0.9655612\n",
      "cv_4_valid       0.9839788\n",
      "cv_5_valid       0.9803662\n",
      "Name: 1, dtype: object\n",
      "\n",
      "gbm Model Build Progress: [##################################################] 100%\n",
      "final_grid_model_68\n",
      "                      auc\n",
      "mean            0.9719337\n",
      "sd            0.006935956\n",
      "cv_1_valid      0.9698157\n",
      "cv_2_valid     0.95497024\n",
      "cv_3_valid      0.9716199\n",
      "cv_4_valid     0.98106587\n",
      "cv_5_valid       0.982197\n",
      "Name: 1, dtype: object\n",
      "\n",
      "gbm Model Build Progress: [##################################################] 100%\n",
      "final_grid_model_96\n",
      "                      auc\n",
      "mean            0.9722442\n",
      "sd            0.005797062\n",
      "cv_1_valid      0.9639401\n",
      "cv_2_valid     0.96068454\n",
      "cv_3_valid       0.978125\n",
      "cv_4_valid       0.978484\n",
      "cv_5_valid      0.9799874\n",
      "Name: 1, dtype: object\n",
      "\n",
      "gbm Model Build Progress: [##################################################] 100%\n",
      "final_grid_model_0\n",
      "                      auc\n",
      "mean           0.96713257\n",
      "sd            0.008364663\n",
      "cv_1_valid     0.96059906\n",
      "cv_2_valid     0.94699407\n",
      "cv_3_valid     0.97302294\n",
      "cv_4_valid     0.97815293\n",
      "cv_5_valid     0.97689396\n",
      "Name: 1, dtype: object\n",
      "\n",
      "gbm Model Build Progress: [##################################################] 100%\n",
      "final_grid_model_38\n",
      "                      auc\n",
      "mean           0.97262114\n",
      "sd            0.005390482\n",
      "cv_1_valid     0.96797234\n",
      "cv_2_valid      0.9598512\n",
      "cv_3_valid      0.9776148\n",
      "cv_4_valid     0.98020524\n",
      "cv_5_valid      0.9774621\n",
      "Name: 1, dtype: object\n"
     ]
    }
   ],
   "source": [
    "for i in range(5): \n",
    "    gbm = h2o.get_model(sorted_final_grid.sorted_metric_table()['model_ids'][i])\n",
    "    #get the parameters from the Random grid search model and modify them slightly\n",
    "    params = gbm.params\n",
    "    new_params = {\"nfolds\":5, \"model_id\":None}\n",
    "    for key in new_params.keys():\n",
    "        params[key]['actual'] = new_params[key]\n",
    "    new_model = H2OGradientBoostingEstimator()\n",
    "    for key in params.keys():\n",
    "        if key in dir(new_model) and getattr(new_model,key) != params[key]['actual']:\n",
    "            setattr(new_model,key,params[key]['actual'])\n",
    "    new_model.train(x = predictors, y = response, training_frame = df)  \n",
    "    cv_summary = new_model.cross_validation_metrics_summary().as_data_frame()\n",
    "    print(gbm.model_id)\n",
    "    print(cv_summary.iloc[1]) ## AUC"
   ]
  },
  {
   "cell_type": "markdown",
   "metadata": {},
   "source": [
    "The avid reader might have noticed that we just implicitly did further parameter tuning using the \"final\" test set (which is part of the entire dataset `df`), which is not good practice - one is not supposed to use the \"final\" test set more than once. Hence, we're not going to pick a different \"best\" model, but we're just learning about the variance in AUCs. It turns out, for this tiny dataset, that the variance is rather large, which is not surprising.\n",
    "\n",
    "Keeping the same \"best\" model, we can make test set predictions as follows:"
   ]
  },
  {
   "cell_type": "code",
   "execution_count": 23,
   "metadata": {},
   "outputs": [
    {
     "name": "stdout",
     "output_type": "stream",
     "text": [
      "\n",
      "gbm prediction Progress: [##################################################] 100%\n"
     ]
    },
    {
     "data": {
      "text/html": [
       "<table>\n",
       "<tr><th style=\"text-align: right;\">  predict</th><th style=\"text-align: right;\">       p0</th><th style=\"text-align: right;\">       p1</th></tr>\n",
       "<tr><td style=\"text-align: right;\">        0</td><td style=\"text-align: right;\">0.948394 </td><td style=\"text-align: right;\">0.0516064</td></tr>\n",
       "<tr><td style=\"text-align: right;\">        0</td><td style=\"text-align: right;\">0.940819 </td><td style=\"text-align: right;\">0.0591814</td></tr>\n",
       "<tr><td style=\"text-align: right;\">        0</td><td style=\"text-align: right;\">0.924897 </td><td style=\"text-align: right;\">0.0751026</td></tr>\n",
       "<tr><td style=\"text-align: right;\">        1</td><td style=\"text-align: right;\">0.0156249</td><td style=\"text-align: right;\">0.984375 </td></tr>\n",
       "<tr><td style=\"text-align: right;\">        1</td><td style=\"text-align: right;\">0.0116196</td><td style=\"text-align: right;\">0.98838  </td></tr>\n",
       "<tr><td style=\"text-align: right;\">        0</td><td style=\"text-align: right;\">0.854808 </td><td style=\"text-align: right;\">0.145192 </td></tr>\n",
       "<tr><td style=\"text-align: right;\">        1</td><td style=\"text-align: right;\">0.0440646</td><td style=\"text-align: right;\">0.955935 </td></tr>\n",
       "<tr><td style=\"text-align: right;\">        1</td><td style=\"text-align: right;\">0.0115973</td><td style=\"text-align: right;\">0.988403 </td></tr>\n",
       "<tr><td style=\"text-align: right;\">        1</td><td style=\"text-align: right;\">0.0544365</td><td style=\"text-align: right;\">0.945563 </td></tr>\n",
       "<tr><td style=\"text-align: right;\">        0</td><td style=\"text-align: right;\">0.919649 </td><td style=\"text-align: right;\">0.0803507</td></tr>\n",
       "</table>"
      ]
     },
     "metadata": {},
     "output_type": "display_data"
    },
    {
     "data": {
      "text/plain": []
     },
     "execution_count": 23,
     "metadata": {},
     "output_type": "execute_result"
    }
   ],
   "source": [
    "preds = best_model.predict(test)\n",
    "preds.head()"
   ]
  },
  {
   "cell_type": "markdown",
   "metadata": {},
   "source": [
    "Note that the label (survived or not) is predicted as well (in the first predict column), and it uses the threshold with the highest F1 score (here: 0.528098) to make labels from the probabilities for survival (`p1`). The probability for death (`p0`) is given for convenience, as it is just `1-p1`."
   ]
  },
  {
   "cell_type": "code",
   "execution_count": 24,
   "metadata": {},
   "outputs": [
    {
     "name": "stdout",
     "output_type": "stream",
     "text": [
      "\n",
      "ModelMetricsBinomial: gbm\n",
      "** Reported on test data. **\n",
      "\n",
      "MSE: 0.0490254194251\n",
      "R^2: 0.792582001197\n",
      "LogLoss: 0.183618009053\n",
      "Mean Per-Class Error: 0.0666666666667\n",
      "AUC: 0.97235841082\n",
      "Gini: 0.94471682164\n",
      "\n",
      "Confusion Matrix (Act/Pred) for max f1 @ threshold = 0.492182327674: \n"
     ]
    },
    {
     "data": {
      "text/html": [
       "<div style=\"overflow:auto\"><table style=\"width:50%\"><tr><td><b></b></td>\n",
       "<td><b>0</b></td>\n",
       "<td><b>1</b></td>\n",
       "<td><b>Error</b></td>\n",
       "<td><b>Rate</b></td></tr>\n",
       "<tr><td>0</td>\n",
       "<td>169.0</td>\n",
       "<td>0.0</td>\n",
       "<td>0.0</td>\n",
       "<td> (0.0/169.0)</td></tr>\n",
       "<tr><td>1</td>\n",
       "<td>14.0</td>\n",
       "<td>91.0</td>\n",
       "<td>0.1333</td>\n",
       "<td> (14.0/105.0)</td></tr>\n",
       "<tr><td>Total</td>\n",
       "<td>183.0</td>\n",
       "<td>91.0</td>\n",
       "<td>0.0511</td>\n",
       "<td> (14.0/274.0)</td></tr></table></div>"
      ],
      "text/plain": [
       "       0    1    Error    Rate\n",
       "-----  ---  ---  -------  ------------\n",
       "0      169  0    0        (0.0/169.0)\n",
       "1      14   91   0.1333   (14.0/105.0)\n",
       "Total  183  91   0.0511   (14.0/274.0)"
      ]
     },
     "metadata": {},
     "output_type": "display_data"
    },
    {
     "name": "stdout",
     "output_type": "stream",
     "text": [
      "\n",
      "Maximum Metrics: Maximum metrics at their respective thresholds\n",
      "\n"
     ]
    },
    {
     "data": {
      "text/html": [
       "<div style=\"overflow:auto\"><table style=\"width:50%\"><tr><td><b>metric</b></td>\n",
       "<td><b>threshold</b></td>\n",
       "<td><b>value</b></td>\n",
       "<td><b>idx</b></td></tr>\n",
       "<tr><td>max f1</td>\n",
       "<td>0.4921823</td>\n",
       "<td>0.9285714</td>\n",
       "<td>90.0</td></tr>\n",
       "<tr><td>max f2</td>\n",
       "<td>0.1612587</td>\n",
       "<td>0.9074074</td>\n",
       "<td>119.0</td></tr>\n",
       "<tr><td>max f0point5</td>\n",
       "<td>0.4921823</td>\n",
       "<td>0.9701493</td>\n",
       "<td>90.0</td></tr>\n",
       "<tr><td>max accuracy</td>\n",
       "<td>0.4921823</td>\n",
       "<td>0.9489051</td>\n",
       "<td>90.0</td></tr>\n",
       "<tr><td>max precision</td>\n",
       "<td>0.9885634</td>\n",
       "<td>1.0</td>\n",
       "<td>0.0</td></tr>\n",
       "<tr><td>max recall</td>\n",
       "<td>0.0501451</td>\n",
       "<td>1.0</td>\n",
       "<td>199.0</td></tr>\n",
       "<tr><td>max specificity</td>\n",
       "<td>0.9885634</td>\n",
       "<td>1.0</td>\n",
       "<td>0.0</td></tr>\n",
       "<tr><td>max absolute_MCC</td>\n",
       "<td>0.4921823</td>\n",
       "<td>0.8946308</td>\n",
       "<td>90.0</td></tr>\n",
       "<tr><td>max min_per_class_accuracy</td>\n",
       "<td>0.2158661</td>\n",
       "<td>0.9053254</td>\n",
       "<td>111.0</td></tr>\n",
       "<tr><td>max mean_per_class_accuracy</td>\n",
       "<td>0.4921823</td>\n",
       "<td>0.9333333</td>\n",
       "<td>90.0</td></tr></table></div>"
      ],
      "text/plain": [
       "metric                       threshold    value     idx\n",
       "---------------------------  -----------  --------  -----\n",
       "max f1                       0.492182     0.928571  90\n",
       "max f2                       0.161259     0.907407  119\n",
       "max f0point5                 0.492182     0.970149  90\n",
       "max accuracy                 0.492182     0.948905  90\n",
       "max precision                0.988563     1         0\n",
       "max recall                   0.0501451    1         199\n",
       "max specificity              0.988563     1         0\n",
       "max absolute_MCC             0.492182     0.894631  90\n",
       "max min_per_class_accuracy   0.215866     0.905325  111\n",
       "max mean_per_class_accuracy  0.492182     0.933333  90"
      ]
     },
     "metadata": {},
     "output_type": "display_data"
    },
    {
     "name": "stdout",
     "output_type": "stream",
     "text": [
      "\n",
      "Gains/Lift Table: Avg response rate: 38.32 %\n",
      "\n"
     ]
    },
    {
     "data": {
      "text/html": [
       "<div style=\"overflow:auto\"><table style=\"width:50%\"><tr><td><b></b></td>\n",
       "<td><b>group</b></td>\n",
       "<td><b>cumulative_data_fraction</b></td>\n",
       "<td><b>lower_threshold</b></td>\n",
       "<td><b>lift</b></td>\n",
       "<td><b>cumulative_lift</b></td>\n",
       "<td><b>response_rate</b></td>\n",
       "<td><b>cumulative_response_rate</b></td>\n",
       "<td><b>capture_rate</b></td>\n",
       "<td><b>cumulative_capture_rate</b></td>\n",
       "<td><b>gain</b></td>\n",
       "<td><b>cumulative_gain</b></td></tr>\n",
       "<tr><td></td>\n",
       "<td>1</td>\n",
       "<td>0.0109489</td>\n",
       "<td>0.9878848</td>\n",
       "<td>2.6095238</td>\n",
       "<td>2.6095238</td>\n",
       "<td>1.0</td>\n",
       "<td>1.0</td>\n",
       "<td>0.0285714</td>\n",
       "<td>0.0285714</td>\n",
       "<td>160.9523810</td>\n",
       "<td>160.9523810</td></tr>\n",
       "<tr><td></td>\n",
       "<td>2</td>\n",
       "<td>0.0218978</td>\n",
       "<td>0.9871058</td>\n",
       "<td>2.6095238</td>\n",
       "<td>2.6095238</td>\n",
       "<td>1.0</td>\n",
       "<td>1.0</td>\n",
       "<td>0.0285714</td>\n",
       "<td>0.0571429</td>\n",
       "<td>160.9523810</td>\n",
       "<td>160.9523810</td></tr>\n",
       "<tr><td></td>\n",
       "<td>3</td>\n",
       "<td>0.0328467</td>\n",
       "<td>0.9866763</td>\n",
       "<td>2.6095238</td>\n",
       "<td>2.6095238</td>\n",
       "<td>1.0</td>\n",
       "<td>1.0</td>\n",
       "<td>0.0285714</td>\n",
       "<td>0.0857143</td>\n",
       "<td>160.9523810</td>\n",
       "<td>160.9523810</td></tr>\n",
       "<tr><td></td>\n",
       "<td>4</td>\n",
       "<td>0.0401460</td>\n",
       "<td>0.9858998</td>\n",
       "<td>2.6095238</td>\n",
       "<td>2.6095238</td>\n",
       "<td>1.0</td>\n",
       "<td>1.0</td>\n",
       "<td>0.0190476</td>\n",
       "<td>0.1047619</td>\n",
       "<td>160.9523810</td>\n",
       "<td>160.9523810</td></tr>\n",
       "<tr><td></td>\n",
       "<td>5</td>\n",
       "<td>0.0510949</td>\n",
       "<td>0.9856960</td>\n",
       "<td>2.6095238</td>\n",
       "<td>2.6095238</td>\n",
       "<td>1.0</td>\n",
       "<td>1.0</td>\n",
       "<td>0.0285714</td>\n",
       "<td>0.1333333</td>\n",
       "<td>160.9523810</td>\n",
       "<td>160.9523810</td></tr>\n",
       "<tr><td></td>\n",
       "<td>6</td>\n",
       "<td>0.1021898</td>\n",
       "<td>0.9798586</td>\n",
       "<td>2.6095238</td>\n",
       "<td>2.6095238</td>\n",
       "<td>1.0</td>\n",
       "<td>1.0</td>\n",
       "<td>0.1333333</td>\n",
       "<td>0.2666667</td>\n",
       "<td>160.9523810</td>\n",
       "<td>160.9523810</td></tr>\n",
       "<tr><td></td>\n",
       "<td>7</td>\n",
       "<td>0.1496350</td>\n",
       "<td>0.9731845</td>\n",
       "<td>2.6095238</td>\n",
       "<td>2.6095238</td>\n",
       "<td>1.0</td>\n",
       "<td>1.0</td>\n",
       "<td>0.1238095</td>\n",
       "<td>0.3904762</td>\n",
       "<td>160.9523810</td>\n",
       "<td>160.9523810</td></tr>\n",
       "<tr><td></td>\n",
       "<td>8</td>\n",
       "<td>0.2007299</td>\n",
       "<td>0.9548071</td>\n",
       "<td>2.6095238</td>\n",
       "<td>2.6095238</td>\n",
       "<td>1.0</td>\n",
       "<td>1.0</td>\n",
       "<td>0.1333333</td>\n",
       "<td>0.5238095</td>\n",
       "<td>160.9523810</td>\n",
       "<td>160.9523810</td></tr>\n",
       "<tr><td></td>\n",
       "<td>9</td>\n",
       "<td>0.2992701</td>\n",
       "<td>0.8924580</td>\n",
       "<td>2.6095238</td>\n",
       "<td>2.6095238</td>\n",
       "<td>1.0</td>\n",
       "<td>1.0</td>\n",
       "<td>0.2571429</td>\n",
       "<td>0.7809524</td>\n",
       "<td>160.9523810</td>\n",
       "<td>160.9523810</td></tr>\n",
       "<tr><td></td>\n",
       "<td>10</td>\n",
       "<td>0.4014599</td>\n",
       "<td>0.2327126</td>\n",
       "<td>1.2115646</td>\n",
       "<td>2.2536797</td>\n",
       "<td>0.4642857</td>\n",
       "<td>0.8636364</td>\n",
       "<td>0.1238095</td>\n",
       "<td>0.9047619</td>\n",
       "<td>21.1564626</td>\n",
       "<td>125.3679654</td></tr>\n",
       "<tr><td></td>\n",
       "<td>11</td>\n",
       "<td>0.5</td>\n",
       "<td>0.1163121</td>\n",
       "<td>0.4832451</td>\n",
       "<td>1.9047619</td>\n",
       "<td>0.1851852</td>\n",
       "<td>0.7299270</td>\n",
       "<td>0.0476190</td>\n",
       "<td>0.9523810</td>\n",
       "<td>-51.6754850</td>\n",
       "<td>90.4761905</td></tr>\n",
       "<tr><td></td>\n",
       "<td>12</td>\n",
       "<td>0.5985401</td>\n",
       "<td>0.0723806</td>\n",
       "<td>0.1932981</td>\n",
       "<td>1.6229965</td>\n",
       "<td>0.0740741</td>\n",
       "<td>0.6219512</td>\n",
       "<td>0.0190476</td>\n",
       "<td>0.9714286</td>\n",
       "<td>-80.6701940</td>\n",
       "<td>62.2996516</td></tr>\n",
       "<tr><td></td>\n",
       "<td>13</td>\n",
       "<td>0.7007299</td>\n",
       "<td>0.0526387</td>\n",
       "<td>0.1863946</td>\n",
       "<td>1.4134921</td>\n",
       "<td>0.0714286</td>\n",
       "<td>0.5416667</td>\n",
       "<td>0.0190476</td>\n",
       "<td>0.9904762</td>\n",
       "<td>-81.3605442</td>\n",
       "<td>41.3492063</td></tr>\n",
       "<tr><td></td>\n",
       "<td>14</td>\n",
       "<td>0.7992701</td>\n",
       "<td>0.0440208</td>\n",
       "<td>0.0966490</td>\n",
       "<td>1.2511416</td>\n",
       "<td>0.0370370</td>\n",
       "<td>0.4794521</td>\n",
       "<td>0.0095238</td>\n",
       "<td>1.0</td>\n",
       "<td>-90.3350970</td>\n",
       "<td>25.1141553</td></tr>\n",
       "<tr><td></td>\n",
       "<td>15</td>\n",
       "<td>0.8978102</td>\n",
       "<td>0.0369130</td>\n",
       "<td>0.0</td>\n",
       "<td>1.1138211</td>\n",
       "<td>0.0</td>\n",
       "<td>0.4268293</td>\n",
       "<td>0.0</td>\n",
       "<td>1.0</td>\n",
       "<td>-100.0</td>\n",
       "<td>11.3821138</td></tr>\n",
       "<tr><td></td>\n",
       "<td>16</td>\n",
       "<td>1.0</td>\n",
       "<td>0.0165575</td>\n",
       "<td>0.0</td>\n",
       "<td>1.0</td>\n",
       "<td>0.0</td>\n",
       "<td>0.3832117</td>\n",
       "<td>0.0</td>\n",
       "<td>1.0</td>\n",
       "<td>-100.0</td>\n",
       "<td>0.0</td></tr></table></div>"
      ],
      "text/plain": [
       "    group    cumulative_data_fraction    lower_threshold    lift      cumulative_lift    response_rate    cumulative_response_rate    capture_rate    cumulative_capture_rate    gain      cumulative_gain\n",
       "--  -------  --------------------------  -----------------  --------  -----------------  ---------------  --------------------------  --------------  -------------------------  --------  -----------------\n",
       "    1        0.0109489                   0.987885           2.60952   2.60952            1                1                           0.0285714       0.0285714                  160.952   160.952\n",
       "    2        0.0218978                   0.987106           2.60952   2.60952            1                1                           0.0285714       0.0571429                  160.952   160.952\n",
       "    3        0.0328467                   0.986676           2.60952   2.60952            1                1                           0.0285714       0.0857143                  160.952   160.952\n",
       "    4        0.040146                    0.9859             2.60952   2.60952            1                1                           0.0190476       0.104762                   160.952   160.952\n",
       "    5        0.0510949                   0.985696           2.60952   2.60952            1                1                           0.0285714       0.133333                   160.952   160.952\n",
       "    6        0.10219                     0.979859           2.60952   2.60952            1                1                           0.133333        0.266667                   160.952   160.952\n",
       "    7        0.149635                    0.973184           2.60952   2.60952            1                1                           0.12381         0.390476                   160.952   160.952\n",
       "    8        0.20073                     0.954807           2.60952   2.60952            1                1                           0.133333        0.52381                    160.952   160.952\n",
       "    9        0.29927                     0.892458           2.60952   2.60952            1                1                           0.257143        0.780952                   160.952   160.952\n",
       "    10       0.40146                     0.232713           1.21156   2.25368            0.464286         0.863636                    0.12381         0.904762                   21.1565   125.368\n",
       "    11       0.5                         0.116312           0.483245  1.90476            0.185185         0.729927                    0.047619        0.952381                   -51.6755  90.4762\n",
       "    12       0.59854                     0.0723806          0.193298  1.623              0.0740741        0.621951                    0.0190476       0.971429                   -80.6702  62.2997\n",
       "    13       0.70073                     0.0526387          0.186395  1.41349            0.0714286        0.541667                    0.0190476       0.990476                   -81.3605  41.3492\n",
       "    14       0.79927                     0.0440208          0.096649  1.25114            0.037037         0.479452                    0.00952381      1                          -90.3351  25.1142\n",
       "    15       0.89781                     0.036913           0         1.11382            0                0.426829                    0               1                          -100      11.3821\n",
       "    16       1                           0.0165575          0         1                  0                0.383212                    0               1                          -100      0"
      ]
     },
     "metadata": {},
     "output_type": "display_data"
    },
    {
     "name": "stdout",
     "output_type": "stream",
     "text": [
      "\n"
     ]
    },
    {
     "data": {
      "text/plain": []
     },
     "execution_count": 24,
     "metadata": {},
     "output_type": "execute_result"
    }
   ],
   "source": [
    "best_model.model_performance(valid)"
   ]
  },
  {
   "cell_type": "markdown",
   "metadata": {},
   "source": [
    "You can also see the \"best\" model in more detail in [Flow](http://localhost:54321/):\n",
    "![alt text](./best_gbm1.png \"Best GBM from Grid Search in Flow\")\n",
    "![alt text](./best_gbm2.png \"Best GBM from Grid Search in Flow\")"
   ]
  },
  {
   "cell_type": "markdown",
   "metadata": {},
   "source": [
    "The model and the predictions can be saved to file as follows:"
   ]
  },
  {
   "cell_type": "code",
   "execution_count": 25,
   "metadata": {
    "scrolled": true
   },
   "outputs": [],
   "source": [
    "# uncomment if you want to export the best model\n",
    "# h2o.save_model(best_model, \"/tmp/bestModel.csv\", force=True)\n",
    "# h2o.export_file(preds, \"/tmp/bestPreds.csv\", force=True)"
   ]
  },
  {
   "cell_type": "code",
   "execution_count": 27,
   "metadata": {},
   "outputs": [],
   "source": [
    "# print pojo to screen, or provide path to download location\n",
    "# h2o.download_pojo(best_model)"
   ]
  },
  {
   "cell_type": "markdown",
   "metadata": {},
   "source": [
    "The model can also be exported as a plain old Java object (POJO) for H2O-independent (standalone/Storm/Kafka/UDF) scoring in any Java environment."
   ]
  },
  {
   "cell_type": "markdown",
   "metadata": {
    "collapsed": true
   },
   "source": [
    "```\n",
    "/*\n",
    " Licensed under the Apache License, Version 2.0\n",
    "    http://www.apache.org/licenses/LICENSE-2.0.html\n",
    "\n",
    "  AUTOGENERATED BY H2O at 2016-07-17T18:38:50.337-07:00\n",
    "  3.8.3.3\n",
    "\n",
    "  Standalone prediction code with sample test data for GBMModel named final_grid_model_45\n",
    "\n",
    "  How to download, compile and execute:\n",
    "      mkdir tmpdir\n",
    "      cd tmpdir\n",
    "      curl http://127.0.0.1:54321/3/h2o-genmodel.jar > h2o-genmodel.jar\n",
    "      curl http://127.0.0.1:54321/3/Models.java/final_grid_model_45 > final_grid_model_45.java\n",
    "      javac -cp h2o-genmodel.jar -J-Xmx2g -J-XX:MaxPermSize=128m final_grid_model_45.java\n",
    "\n",
    "     (Note:  Try java argument -XX:+PrintCompilation to show runtime JIT compiler behavior.)\n",
    "*/\n",
    "import java.util.Map;\n",
    "import hex.genmodel.GenModel;\n",
    "import hex.genmodel.annotations.ModelPojo;\n",
    "\n",
    "...\n",
    "class final_grid_model_45_Tree_0_class_0 {\n",
    "  static final double score0(double[] data) {\n",
    "    double pred =      (Double.isNaN(data[1]) || !GenModel.bitSetContains(GRPSPLIT0, 0, data[1 /* sex */]) ? \n",
    "         (Double.isNaN(data[7]) || !GenModel.bitSetContains(GRPSPLIT1, 13, data[7 /* cabin */]) ? \n",
    "             (Double.isNaN(data[7]) || !GenModel.bitSetContains(GRPSPLIT2, 9, data[7 /* cabin */]) ? \n",
    "                 (Double.isNaN(data[7]) || !GenModel.bitSetContains(GRPSPLIT3, 9, data[7 /* cabin */]) ? \n",
    "                     (data[2 /* age */] <1.4174492f ? \n",
    "                        0.13087687f : \n",
    "                         (Double.isNaN(data[7]) || !GenModel.bitSetContains(GRPSPLIT4, 9, data[7 /* cabin */]) ? \n",
    "                             (Double.isNaN(data[3]) || data[3 /* sibsp */] <1.000313f ? \n",
    "                                 (data[6 /* fare */] <7.91251f ? \n",
    "                                     (Double.isNaN(data[5]) || data[5 /* ticket */] <368744.5f ? \n",
    "                                        -0.08224204f : \n",
    "                                         (Double.isNaN(data[2]) || data[2 /* age */] <13.0f ? \n",
    "                                            -0.028962314f : \n",
    "                                            -0.08224204f)) : \n",
    "                                     (Double.isNaN(data[7]) || !GenModel.bitSetContains(GRPSPLIT5, 9, data[7 /* cabin */]) ? \n",
    "                                         (data[6 /* fare */] <7.989957f ? \n",
    "                                             (Double.isNaN(data[3]) || data[3 /* sibsp */] <0.0017434144f ? \n",
    "                                                0.07759714f : \n",
    "                                                0.13087687f) : \n",
    "                                             (data[6 /* fare */] <12.546303f ? \n",
    "                                                -0.07371729f : \n",
    "                                                 (Double.isNaN(data[4]) || data[4 /* parch */] <1.0020853f ? \n",
    "                                                    -0.037374903f : \n",
    "                                                    -0.08224204f))) : \n",
    "                                        0.0f)) : \n",
    "                                -0.08224204f) : \n",
    "                            0.0f)) : \n",
    "                    0.0f) : \n",
    "                -0.08224204f) : \n",
    "            -0.08224204f) :  \n",
    "...\n",
    "```"
   ]
  },
  {
   "cell_type": "markdown",
   "metadata": {},
   "source": [
    "## Ensembling Techniques\n",
    "\n",
    "After learning above that the variance of the test set AUC of the top few models was rather large, we might be able to turn this into our advantage by using ensembling techniques. The simplest one is taking the average of the predictions (survival probabilities) of the top `k` grid search model predictions (here, we use `k=10`):"
   ]
  },
  {
   "cell_type": "code",
   "execution_count": 28,
   "metadata": {},
   "outputs": [
    {
     "name": "stdout",
     "output_type": "stream",
     "text": [
      "\n",
      "gbm prediction Progress: [##################################################] 100%\n",
      "\n",
      "gbm prediction Progress: [##################################################] 100%\n",
      "\n",
      "gbm prediction Progress: [##################################################] 100%\n",
      "\n",
      "gbm prediction Progress: [##################################################] 100%\n",
      "\n",
      "gbm prediction Progress: [##################################################] 100%\n",
      "\n",
      "gbm prediction Progress: [##################################################] 100%\n",
      "\n",
      "gbm prediction Progress: [##################################################] 100%\n",
      "\n",
      "gbm prediction Progress: [##################################################] 100%\n",
      "\n",
      "gbm prediction Progress: [##################################################] 100%\n",
      "\n",
      "gbm prediction Progress: [##################################################] 100%\n"
     ]
    }
   ],
   "source": [
    "prob = None\n",
    "k=10\n",
    "for i in range(0,k): \n",
    "    gbm = h2o.get_model(sorted_final_grid.sorted_metric_table()['model_ids'][i])\n",
    "    if (prob is None):\n",
    "        prob = gbm.predict(test)[\"p1\"]\n",
    "    else:\n",
    "        prob = prob + gbm.predict(test)[\"p1\"]\n",
    "prob = prob/k"
   ]
  },
  {
   "cell_type": "markdown",
   "metadata": {},
   "source": [
    "We now have a blended probability of survival for each person on the Titanic."
   ]
  },
  {
   "cell_type": "code",
   "execution_count": 29,
   "metadata": {},
   "outputs": [
    {
     "data": {
      "text/html": [
       "<table>\n",
       "<tr><th style=\"text-align: right;\">       p1</th></tr>\n",
       "<tr><td style=\"text-align: right;\">0.0596246</td></tr>\n",
       "<tr><td style=\"text-align: right;\">0.0511568</td></tr>\n",
       "<tr><td style=\"text-align: right;\">0.115645 </td></tr>\n",
       "<tr><td style=\"text-align: right;\">0.977491 </td></tr>\n",
       "<tr><td style=\"text-align: right;\">0.981366 </td></tr>\n",
       "<tr><td style=\"text-align: right;\">0.210353 </td></tr>\n",
       "<tr><td style=\"text-align: right;\">0.948326 </td></tr>\n",
       "<tr><td style=\"text-align: right;\">0.976989 </td></tr>\n",
       "<tr><td style=\"text-align: right;\">0.944669 </td></tr>\n",
       "<tr><td style=\"text-align: right;\">0.107771 </td></tr>\n",
       "</table>"
      ]
     },
     "metadata": {},
     "output_type": "display_data"
    },
    {
     "data": {
      "text/plain": []
     },
     "execution_count": 29,
     "metadata": {},
     "output_type": "execute_result"
    }
   ],
   "source": [
    "prob.head()"
   ]
  },
  {
   "cell_type": "markdown",
   "metadata": {},
   "source": [
    "We can bring those ensemble predictions to our Python session's memory space and use other Python packages."
   ]
  },
  {
   "cell_type": "code",
   "execution_count": 30,
   "metadata": {},
   "outputs": [
    {
     "data": {
      "text/plain": [
       "0.98202722347033167"
      ]
     },
     "execution_count": 30,
     "metadata": {},
     "output_type": "execute_result"
    }
   ],
   "source": [
    "from sklearn.metrics import roc_auc_score\n",
    "# convert prob and test[response] h2oframes to pandas' frames and then convert them each to numpy array\n",
    "np_array_prob = prob.as_data_frame().as_matrix()\n",
    "np_array_test = test[response].as_data_frame().as_matrix()\n",
    "probInPy = np_array_prob\n",
    "labeInPy = np_array_test\n",
    "# compare true scores (test[response]) to probability scores (prob)\n",
    "roc_auc_score(labeInPy, probInPy)"
   ]
  },
  {
   "cell_type": "markdown",
   "metadata": {},
   "source": [
    "This simple blended ensemble test set prediction has an even higher AUC than the best single model, but we need to do more validation studies, ideally using cross-validation. We leave this as an exercise for the reader - take the parameters of the top `10` models, retrain them with `nfolds=5` on the full dataset, set `keep_holdout_predictions=True` and sum up their predicted probabilities, then score that with sklearn's roc_auc_score as shown above.\n",
    "\n",
    "For more sophisticated ensembling approaches, such as stacking via a superlearner, we refer to the [H2O Ensemble](https://github.com/h2oai/h2o-3/tree/master/h2o-r/ensemble) github page."
   ]
  },
  {
   "cell_type": "markdown",
   "metadata": {},
   "source": [
    "## Summary\n",
    "We learned how to build H2O GBM models for a binary classification task on a small but realistic dataset with numerical and categorical variables, with the goal to maximize the AUC (ranges from 0.5 to 1). We first established a baseline with the default model, then carefully tuned the remaining hyper-parameters without \"too much\" human guess-work. We used both Cartesian and Random hyper-parameter searches to find good models. We were able to get the AUC on a holdout test set from the low 94% range with the default model to the mid 97% range after tuning, and to above 98% with some simple ensembling technique known as blending. We performed simple cross-validation variance analysis to learn that results were slightly \"lucky\" due to the specific train/valid/test set splits, and settled to expect 97% AUCs instead.\n",
    "\n",
    "Note that this script and the findings therein are directly transferrable to large datasets on distributed clusters including Spark/Hadoop environments.\n",
    "\n",
    "More information can be found here [http://www.h2o.ai/docs/](http://www.h2o.ai/docs/)."
   ]
  }
 ],
 "metadata": {
  "kernelspec": {
   "display_name": "Python 3",
   "language": "python",
   "name": "python3"
  },
  "language_info": {
   "codemirror_mode": {
    "name": "ipython",
    "version": 3
   },
   "file_extension": ".py",
   "mimetype": "text/x-python",
   "name": "python",
   "nbconvert_exporter": "python",
   "pygments_lexer": "ipython3",
   "version": "3.7.3"
  }
 },
 "nbformat": 4,
 "nbformat_minor": 1
}
